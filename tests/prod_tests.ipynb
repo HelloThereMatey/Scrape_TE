{
 "cells": [
  {
   "cell_type": "code",
   "execution_count": 34,
   "metadata": {},
   "outputs": [
    {
     "name": "stdout",
     "output_type": "stream",
     "text": [
      "The autoreload extension is already loaded. To reload it, use:\n",
      "  %reload_ext autoreload\n"
     ]
    }
   ],
   "source": [
    "%load_ext autoreload\n",
    "%autoreload 2"
   ]
  },
  {
   "cell_type": "code",
   "execution_count": 35,
   "metadata": {},
   "outputs": [],
   "source": [
    "import sys\n",
    "import os\n",
    "import pandas as pd\n",
    "from pprint import pprint\n",
    "wd = %pwd\n",
    "parent = os.path.dirname(wd)\n",
    "fdel = os.path.sep\n",
    "sys.path.append(parent+fdel+\"src\")\n",
    "import tedata as ted"
   ]
  },
  {
   "cell_type": "markdown",
   "metadata": {},
   "source": [
    "# tedata package\n",
    "Download data from Trading Economics. There are several ways to use this package. \n",
    "# Method #1: search for indicators and then download the data for a given search result.\n",
    "## Initialise new search_TE object. \n",
    "Object will use an existing webdriver if there are already more than two active in the namespace. This will save you some time and be more memory efficient."
   ]
  },
  {
   "cell_type": "code",
   "execution_count": 38,
   "metadata": {},
   "outputs": [
    {
     "name": "stderr",
     "output_type": "stream",
     "text": [
      "INFO - Loading home page at https://tradingeconomics.com/ ...\n",
      "INFO - Home page at https://tradingeconomics.com loaded successfully! Search box element found.\n"
     ]
    }
   ],
   "source": [
    "search = ted.search_TE(use_existing_driver=True)"
   ]
  },
  {
   "cell_type": "markdown",
   "metadata": {},
   "source": [
    "### Use the search_trading_economics method to use the search bar on the homepage to search."
   ]
  },
  {
   "cell_type": "code",
   "execution_count": 39,
   "metadata": {},
   "outputs": [
    {
     "name": "stderr",
     "output_type": "stream",
     "text": [
      "INFO - Clicking search box...\n",
      "INFO - Entering search term: ISM Manufacturing\n",
      "INFO - Submitting search...\n"
     ]
    },
    {
     "data": {
      "text/html": [
       "<div>\n",
       "<style scoped>\n",
       "    .dataframe tbody tr th:only-of-type {\n",
       "        vertical-align: middle;\n",
       "    }\n",
       "\n",
       "    .dataframe tbody tr th {\n",
       "        vertical-align: top;\n",
       "    }\n",
       "\n",
       "    .dataframe thead th {\n",
       "        text-align: right;\n",
       "    }\n",
       "</style>\n",
       "<table border=\"1\" class=\"dataframe\">\n",
       "  <thead>\n",
       "    <tr style=\"text-align: right;\">\n",
       "      <th></th>\n",
       "      <th>country</th>\n",
       "      <th>metric</th>\n",
       "      <th>url</th>\n",
       "    </tr>\n",
       "    <tr>\n",
       "      <th>result</th>\n",
       "      <th></th>\n",
       "      <th></th>\n",
       "      <th></th>\n",
       "    </tr>\n",
       "  </thead>\n",
       "  <tbody>\n",
       "    <tr>\n",
       "      <th>0</th>\n",
       "      <td>united states</td>\n",
       "      <td>business confidence</td>\n",
       "      <td>https://tradingeconomics.com/united-states/bus...</td>\n",
       "    </tr>\n",
       "    <tr>\n",
       "      <th>1</th>\n",
       "      <td>united states</td>\n",
       "      <td>ism manufacturing new orders</td>\n",
       "      <td>https://tradingeconomics.com/united-states/ism...</td>\n",
       "    </tr>\n",
       "    <tr>\n",
       "      <th>2</th>\n",
       "      <td>united states</td>\n",
       "      <td>ism manufacturing employment</td>\n",
       "      <td>https://tradingeconomics.com/united-states/ism...</td>\n",
       "    </tr>\n",
       "    <tr>\n",
       "      <th>3</th>\n",
       "      <td>united states</td>\n",
       "      <td>ism manufacturing prices</td>\n",
       "      <td>https://tradingeconomics.com/united-states/ism...</td>\n",
       "    </tr>\n",
       "    <tr>\n",
       "      <th>4</th>\n",
       "      <td>united states</td>\n",
       "      <td>ism manufacturing production</td>\n",
       "      <td>https://tradingeconomics.com/united-states/ism...</td>\n",
       "    </tr>\n",
       "    <tr>\n",
       "      <th>5</th>\n",
       "      <td>united states</td>\n",
       "      <td>ism non manufacturing prices</td>\n",
       "      <td>https://tradingeconomics.com/united-states/ism...</td>\n",
       "    </tr>\n",
       "    <tr>\n",
       "      <th>6</th>\n",
       "      <td>united states</td>\n",
       "      <td>ism manufacturing inventories</td>\n",
       "      <td>https://tradingeconomics.com/united-states/ism...</td>\n",
       "    </tr>\n",
       "    <tr>\n",
       "      <th>7</th>\n",
       "      <td>united states</td>\n",
       "      <td>ism manufacturing backlog of orders</td>\n",
       "      <td>https://tradingeconomics.com/united-states/ism...</td>\n",
       "    </tr>\n",
       "    <tr>\n",
       "      <th>8</th>\n",
       "      <td>united states</td>\n",
       "      <td>ism manufacturing supplier deliveries</td>\n",
       "      <td>https://tradingeconomics.com/united-states/ism...</td>\n",
       "    </tr>\n",
       "    <tr>\n",
       "      <th>9</th>\n",
       "      <td>united states</td>\n",
       "      <td>ism non manufacturing business activity</td>\n",
       "      <td>https://tradingeconomics.com/united-states/ism...</td>\n",
       "    </tr>\n",
       "    <tr>\n",
       "      <th>10</th>\n",
       "      <td>united states</td>\n",
       "      <td>ism non manufacturing employment</td>\n",
       "      <td>https://tradingeconomics.com/united-states/ism...</td>\n",
       "    </tr>\n",
       "    <tr>\n",
       "      <th>11</th>\n",
       "      <td>united states</td>\n",
       "      <td>ism non manufacturing new orders</td>\n",
       "      <td>https://tradingeconomics.com/united-states/ism...</td>\n",
       "    </tr>\n",
       "  </tbody>\n",
       "</table>\n",
       "</div>"
      ],
      "text/plain": [
       "              country                                   metric  \\\n",
       "result                                                           \n",
       "0       united states                      business confidence   \n",
       "1       united states             ism manufacturing new orders   \n",
       "2       united states             ism manufacturing employment   \n",
       "3       united states                 ism manufacturing prices   \n",
       "4       united states             ism manufacturing production   \n",
       "5       united states             ism non manufacturing prices   \n",
       "6       united states            ism manufacturing inventories   \n",
       "7       united states      ism manufacturing backlog of orders   \n",
       "8       united states    ism manufacturing supplier deliveries   \n",
       "9       united states  ism non manufacturing business activity   \n",
       "10      united states         ism non manufacturing employment   \n",
       "11      united states         ism non manufacturing new orders   \n",
       "\n",
       "                                                      url  \n",
       "result                                                     \n",
       "0       https://tradingeconomics.com/united-states/bus...  \n",
       "1       https://tradingeconomics.com/united-states/ism...  \n",
       "2       https://tradingeconomics.com/united-states/ism...  \n",
       "3       https://tradingeconomics.com/united-states/ism...  \n",
       "4       https://tradingeconomics.com/united-states/ism...  \n",
       "5       https://tradingeconomics.com/united-states/ism...  \n",
       "6       https://tradingeconomics.com/united-states/ism...  \n",
       "7       https://tradingeconomics.com/united-states/ism...  \n",
       "8       https://tradingeconomics.com/united-states/ism...  \n",
       "9       https://tradingeconomics.com/united-states/ism...  \n",
       "10      https://tradingeconomics.com/united-states/ism...  \n",
       "11      https://tradingeconomics.com/united-states/ism...  "
      ]
     },
     "execution_count": 39,
     "metadata": {},
     "output_type": "execute_result"
    }
   ],
   "source": [
    "search.search_trading_economics(\"ISM Manufacturing\")\n",
    "search.result_table"
   ]
  },
  {
   "cell_type": "code",
   "execution_count": 45,
   "metadata": {},
   "outputs": [
    {
     "data": {
      "text/plain": [
       "'https://tradingeconomics.com/united-states/ism-manufacturing-new-orders'"
      ]
     },
     "execution_count": 45,
     "metadata": {},
     "output_type": "execute_result"
    }
   ],
   "source": [
    "search.result_table.iloc[1].at[\"url\"]"
   ]
  },
  {
   "cell_type": "markdown",
   "metadata": {},
   "source": [
    "### Download the time-series for a particular indicator using a search result displayed in yur search results table."
   ]
  },
  {
   "cell_type": "code",
   "execution_count": 42,
   "metadata": {},
   "outputs": [
    {
     "name": "stdout",
     "output_type": "stream",
     "text": [
      "Attempting to scrape data for result  1 ,  united states ism manufacturing new orders\n",
      "Scraping data from: https://tradingeconomics.com/united-states/ism-manufacturing-new-orders\n"
     ]
    },
    {
     "name": "stderr",
     "output_type": "stream",
     "text": [
      "INFO - WebPage at https://tradingeconomics.com/united-states/ism-manufacturing-new-orders loaded successfully.\n",
      "INFO - Page at https://tradingeconomics.com/united-states/ism-manufacturing-new-orders loaded successfully.\n"
     ]
    },
    {
     "name": "stdout",
     "output_type": "stream",
     "text": [
      "No selected date span found.\n"
     ]
    },
    {
     "name": "stderr",
     "output_type": "stream",
     "text": [
      "INFO - Button clicked successfully: a.hawk-chartOptions-datePicker-cnt-btn:nth-child(5)\n",
      "INFO - Date span set to: MAX\n",
      "INFO - Y-axis values scraped successfully.\n",
      "INFO - Chart types dictionary created successfully: {'Column': '.barChart .dkLabels-label-btn', 'Spline': '.splineChart .dkLabels-label-btn', 'Areaspline': '.areasplineChart .dkLabels-label-btn', 'Stepline': '.stepLine .dkLabels-label-btn', 'Line': '.lineChart .dkLabels-label-btn', 'Area': '.areaChart .dkLabels-label-btn'}\n"
     ]
    },
    {
     "name": "stdout",
     "output_type": "stream",
     "text": [
      "Successfully scraped y-axis values from the chart:  \n",
      " pixheight\n",
      "39.5     19\n",
      "83.5     29\n",
      "135.5    41\n",
      "188.5    53\n",
      "240.5    65\n",
      "292.5    77\n",
      "335.5    87\n",
      "Name: ytick_label, dtype: int64\n"
     ]
    },
    {
     "name": "stderr",
     "output_type": "stream",
     "text": [
      "INFO - Button clicked successfully: #chart > div > div > div.hawk-header > div > div.pickChartTypes > div > button\n",
      "INFO - Button clicked successfully: .lineChart .dkLabels-label-btn\n",
      "INFO - Line chart type selected.\n",
      "INFO - Series path extraction method: Extracting series data from chart soup.\n",
      "INFO - Date span: MAX. best to use MAX date span. Chart type: lineChart, URL: https://tradingeconomics.com/united-states/ism-manufacturing-new-orders.\n",
      "INFO - Raw data series extracted successfully: 0.000000    228.345588\n",
      "0.762453    229.213235\n",
      "1.451120    226.176471\n",
      "2.213573    266.088235\n",
      "2.951431    290.382353\n",
      "Name: Extracted Series, dtype: float64\n"
     ]
    },
    {
     "name": "stdout",
     "output_type": "stream",
     "text": [
      "Successfully scraped raw pixel co-ordinate series from the path element in chart:  \n",
      " 0.000000      228.345588\n",
      "0.762453      229.213235\n",
      "1.451120      226.176471\n",
      "2.213573      266.088235\n",
      "2.951431      290.382353\n",
      "                 ...    \n",
      "669.999379    151.558824\n",
      "670.761832    158.066176\n",
      "671.499689    162.404412\n",
      "672.262142    176.720588\n",
      "673.000000    185.830882\n",
      "Name: Extracted Series, Length: 902, dtype: float64\n",
      "Using selenium and tooltip scraping to construct the date time index for the time-series, this'll take a bit...\n"
     ]
    },
    {
     "name": "stderr",
     "output_type": "stream",
     "text": [
      "INFO - Button clicked successfully: #chart > div > div > div.hawk-header > div > div.pickChartTypes > div > button\n",
      "INFO - Button clicked successfully: .lineChart .dkLabels-label-btn\n",
      "INFO - Line chart type selected.\n"
     ]
    },
    {
     "name": "stdout",
     "output_type": "stream",
     "text": [
      "No selected date span found.\n",
      "Getting chart dimensions and plot bakground element.\n",
      "Got chart dimensions and plot bakground element.\n",
      "Moved cursor to (144.0, 503.0)\n",
      "Moved cursor to (817.0, 503.0)\n"
     ]
    },
    {
     "name": "stderr",
     "output_type": "stream",
     "text": [
      "INFO - Start and end values scraped from tooltips: {'start_date': Timestamp('1950-01-01 00:00:00'), 'start_value': 62.3, 'end_date': Timestamp('2024-12-01 00:00:00'), 'end_value': 52.5}\n"
     ]
    },
    {
     "name": "stdout",
     "output_type": "stream",
     "text": [
      "Start and end dates scraped from tooltips:  {'start_date': Timestamp('1950-01-01 00:00:00'), 'start_value': 62.3, 'end_date': Timestamp('2024-12-01 00:00:00'), 'end_value': 52.5}\n"
     ]
    },
    {
     "name": "stderr",
     "output_type": "stream",
     "text": [
      "INFO - Button clicked successfully: a.hawk-chartOptions-datePicker-cnt-btn:nth-child(1)\n",
      "INFO - Date span set to: 1Y\n",
      "INFO - Button clicked successfully: #chart > div > div > div.hawk-header > div > div.pickChartTypes > div > button\n",
      "INFO - Button clicked successfully: .lineChart .dkLabels-label-btn\n",
      "INFO - Line chart type selected.\n"
     ]
    },
    {
     "name": "stdout",
     "output_type": "stream",
     "text": [
      "Viewport dimensions: 1366 x 683\n",
      "Chart position in viewport: x=144.0, y=355.0\n",
      "480.0\n"
     ]
    },
    {
     "name": "stderr",
     "output_type": "stream",
     "text": [
      "INFO - Date index created successfully.\n"
     ]
    },
    {
     "name": "stdout",
     "output_type": "stream",
     "text": [
      "Latest dates:  [Timestamp('2024-12-01 00:00:00'), Timestamp('2024-11-01 00:00:00'), Timestamp('2024-10-01 00:00:00'), Timestamp('2024-09-01 00:00:00'), Timestamp('2024-08-01 00:00:00'), Timestamp('2024-07-01 00:00:00'), Timestamp('2024-06-01 00:00:00'), Timestamp('2024-05-01 00:00:00'), Timestamp('2024-04-01 00:00:00'), Timestamp('2024-03-01 00:00:00')]\n",
      "MS\n"
     ]
    },
    {
     "name": "stderr",
     "output_type": "stream",
     "text": [
      "INFO - Successfully scaled series.\n"
     ]
    },
    {
     "name": "stdout",
     "output_type": "stream",
     "text": [
      "Successfully scraped time-series from chart at:  https://tradingeconomics.com/united-states/ism-manufacturing-new-orders  \n",
      " 1950-01-01    62.3\n",
      "1950-02-01     NaN\n",
      "1950-03-01    61.8\n",
      "1950-04-01    71.0\n",
      "1950-05-01    76.6\n",
      "              ... \n",
      "2024-08-01    44.6\n",
      "2024-09-01     NaN\n",
      "2024-10-01    47.1\n",
      "2024-11-01     NaN\n",
      "2024-12-01    52.5\n",
      "Freq: MS, Name: ism manufacturing new orders, Length: 900, dtype: float64 now getting some metadata...\n",
      "Series metadata:  {'units': 'points', 'original_source': 'Institute for Supply Management', 'title': 'United States ISM Manufacturing New Orders', 'indicator': 'ism manufacturing new orders', 'country': 'united states', 'length': 900, 'frequency': 'MS', 'source': 'Trading Economics', 'id': 'united-states/ism-manufacturing-new-orders', 'start_date': '1950-01-01', 'end_date': '2024-12-01', 'min_value': 24.200000000000998, 'max_value': 82.6000000000004}\n",
      "Check the metadata:  units                                                         points\n",
      "original_source                      Institute for Supply Management\n",
      "title                     United States ISM Manufacturing New Orders\n",
      "indicator                               ism manufacturing new orders\n",
      "country                                                united states\n",
      "length                                                           900\n",
      "frequency                                                         MS\n",
      "source                                             Trading Economics\n",
      "id                        united-states/ism-manufacturing-new-orders\n",
      "start_date                                                1950-01-01\n",
      "end_date                                                  2024-12-01\n",
      "min_value                                                       24.2\n",
      "max_value                                                       82.6\n",
      "description        The Manufacturing ISM Report On Business is ba...\n",
      "dtype: object \n",
      "Scraping complete! Happy pirating yo!\n",
      "Data scraped successfully from: https://tradingeconomics.com/united-states/ism-manufacturing-new-orders\n"
     ]
    },
    {
     "data": {
      "text/plain": [
       "<tedata.scraper.TE_Scraper at 0x141cf6450>"
      ]
     },
     "execution_count": 42,
     "metadata": {},
     "output_type": "execute_result"
    }
   ],
   "source": [
    "search.get_data(1)  ## Using result number 5 in result_table attribute."
   ]
  },
  {
   "cell_type": "markdown",
   "metadata": {},
   "source": [
    "### Plot your downloaded series using plotly to create an interactive chart with tooltips."
   ]
  },
  {
   "cell_type": "code",
   "execution_count": 43,
   "metadata": {},
   "outputs": [
    {
     "data": {
      "application/vnd.plotly.v1+json": {
       "config": {
        "plotlyServerURL": "https://plot.ly"
       },
       "data": [
        {
         "hovertemplate": "variable=ism manufacturing new orders<br>index=%{x}<br>value=%{y}<extra></extra>",
         "legendgroup": "ism manufacturing new orders",
         "line": {
          "color": "#636efa",
          "dash": "solid"
         },
         "marker": {
          "symbol": "circle"
         },
         "mode": "lines",
         "name": "ism manufacturing new orders",
         "orientation": "v",
         "showlegend": true,
         "type": "scatter",
         "x": [
          "1950-01-01T00:00:00",
          "1950-02-01T00:00:00",
          "1950-03-01T00:00:00",
          "1950-04-01T00:00:00",
          "1950-05-01T00:00:00",
          "1950-06-01T00:00:00",
          "1950-07-01T00:00:00",
          "1950-08-01T00:00:00",
          "1950-09-01T00:00:00",
          "1950-10-01T00:00:00",
          "1950-11-01T00:00:00",
          "1950-12-01T00:00:00",
          "1951-01-01T00:00:00",
          "1951-02-01T00:00:00",
          "1951-03-01T00:00:00",
          "1951-04-01T00:00:00",
          "1951-05-01T00:00:00",
          "1951-06-01T00:00:00",
          "1951-07-01T00:00:00",
          "1951-08-01T00:00:00",
          "1951-09-01T00:00:00",
          "1951-10-01T00:00:00",
          "1951-11-01T00:00:00",
          "1951-12-01T00:00:00",
          "1952-01-01T00:00:00",
          "1952-02-01T00:00:00",
          "1952-03-01T00:00:00",
          "1952-04-01T00:00:00",
          "1952-05-01T00:00:00",
          "1952-06-01T00:00:00",
          "1952-07-01T00:00:00",
          "1952-08-01T00:00:00",
          "1952-09-01T00:00:00",
          "1952-10-01T00:00:00",
          "1952-11-01T00:00:00",
          "1952-12-01T00:00:00",
          "1953-01-01T00:00:00",
          "1953-02-01T00:00:00",
          "1953-03-01T00:00:00",
          "1953-04-01T00:00:00",
          "1953-05-01T00:00:00",
          "1953-06-01T00:00:00",
          "1953-07-01T00:00:00",
          "1953-08-01T00:00:00",
          "1953-09-01T00:00:00",
          "1953-10-01T00:00:00",
          "1953-11-01T00:00:00",
          "1953-12-01T00:00:00",
          "1954-01-01T00:00:00",
          "1954-02-01T00:00:00",
          "1954-03-01T00:00:00",
          "1954-04-01T00:00:00",
          "1954-05-01T00:00:00",
          "1954-06-01T00:00:00",
          "1954-07-01T00:00:00",
          "1954-08-01T00:00:00",
          "1954-09-01T00:00:00",
          "1954-10-01T00:00:00",
          "1954-11-01T00:00:00",
          "1954-12-01T00:00:00",
          "1955-01-01T00:00:00",
          "1955-02-01T00:00:00",
          "1955-03-01T00:00:00",
          "1955-04-01T00:00:00",
          "1955-05-01T00:00:00",
          "1955-06-01T00:00:00",
          "1955-07-01T00:00:00",
          "1955-08-01T00:00:00",
          "1955-09-01T00:00:00",
          "1955-10-01T00:00:00",
          "1955-11-01T00:00:00",
          "1955-12-01T00:00:00",
          "1956-01-01T00:00:00",
          "1956-02-01T00:00:00",
          "1956-03-01T00:00:00",
          "1956-04-01T00:00:00",
          "1956-05-01T00:00:00",
          "1956-06-01T00:00:00",
          "1956-07-01T00:00:00",
          "1956-08-01T00:00:00",
          "1956-09-01T00:00:00",
          "1956-10-01T00:00:00",
          "1956-11-01T00:00:00",
          "1956-12-01T00:00:00",
          "1957-01-01T00:00:00",
          "1957-02-01T00:00:00",
          "1957-03-01T00:00:00",
          "1957-04-01T00:00:00",
          "1957-05-01T00:00:00",
          "1957-06-01T00:00:00",
          "1957-07-01T00:00:00",
          "1957-08-01T00:00:00",
          "1957-09-01T00:00:00",
          "1957-10-01T00:00:00",
          "1957-11-01T00:00:00",
          "1957-12-01T00:00:00",
          "1958-01-01T00:00:00",
          "1958-02-01T00:00:00",
          "1958-03-01T00:00:00",
          "1958-04-01T00:00:00",
          "1958-05-01T00:00:00",
          "1958-06-01T00:00:00",
          "1958-07-01T00:00:00",
          "1958-08-01T00:00:00",
          "1958-09-01T00:00:00",
          "1958-10-01T00:00:00",
          "1958-11-01T00:00:00",
          "1958-12-01T00:00:00",
          "1959-01-01T00:00:00",
          "1959-02-01T00:00:00",
          "1959-03-01T00:00:00",
          "1959-04-01T00:00:00",
          "1959-05-01T00:00:00",
          "1959-06-01T00:00:00",
          "1959-07-01T00:00:00",
          "1959-08-01T00:00:00",
          "1959-09-01T00:00:00",
          "1959-10-01T00:00:00",
          "1959-11-01T00:00:00",
          "1959-12-01T00:00:00",
          "1960-01-01T00:00:00",
          "1960-02-01T00:00:00",
          "1960-03-01T00:00:00",
          "1960-04-01T00:00:00",
          "1960-05-01T00:00:00",
          "1960-06-01T00:00:00",
          "1960-07-01T00:00:00",
          "1960-08-01T00:00:00",
          "1960-09-01T00:00:00",
          "1960-10-01T00:00:00",
          "1960-11-01T00:00:00",
          "1960-12-01T00:00:00",
          "1961-01-01T00:00:00",
          "1961-02-01T00:00:00",
          "1961-03-01T00:00:00",
          "1961-04-01T00:00:00",
          "1961-05-01T00:00:00",
          "1961-06-01T00:00:00",
          "1961-07-01T00:00:00",
          "1961-08-01T00:00:00",
          "1961-09-01T00:00:00",
          "1961-10-01T00:00:00",
          "1961-11-01T00:00:00",
          "1961-12-01T00:00:00",
          "1962-01-01T00:00:00",
          "1962-02-01T00:00:00",
          "1962-03-01T00:00:00",
          "1962-04-01T00:00:00",
          "1962-05-01T00:00:00",
          "1962-06-01T00:00:00",
          "1962-07-01T00:00:00",
          "1962-08-01T00:00:00",
          "1962-09-01T00:00:00",
          "1962-10-01T00:00:00",
          "1962-11-01T00:00:00",
          "1962-12-01T00:00:00",
          "1963-01-01T00:00:00",
          "1963-02-01T00:00:00",
          "1963-03-01T00:00:00",
          "1963-04-01T00:00:00",
          "1963-05-01T00:00:00",
          "1963-06-01T00:00:00",
          "1963-07-01T00:00:00",
          "1963-08-01T00:00:00",
          "1963-09-01T00:00:00",
          "1963-10-01T00:00:00",
          "1963-11-01T00:00:00",
          "1963-12-01T00:00:00",
          "1964-01-01T00:00:00",
          "1964-02-01T00:00:00",
          "1964-03-01T00:00:00",
          "1964-04-01T00:00:00",
          "1964-05-01T00:00:00",
          "1964-06-01T00:00:00",
          "1964-07-01T00:00:00",
          "1964-08-01T00:00:00",
          "1964-09-01T00:00:00",
          "1964-10-01T00:00:00",
          "1964-11-01T00:00:00",
          "1964-12-01T00:00:00",
          "1965-01-01T00:00:00",
          "1965-02-01T00:00:00",
          "1965-03-01T00:00:00",
          "1965-04-01T00:00:00",
          "1965-05-01T00:00:00",
          "1965-06-01T00:00:00",
          "1965-07-01T00:00:00",
          "1965-08-01T00:00:00",
          "1965-09-01T00:00:00",
          "1965-10-01T00:00:00",
          "1965-11-01T00:00:00",
          "1965-12-01T00:00:00",
          "1966-01-01T00:00:00",
          "1966-02-01T00:00:00",
          "1966-03-01T00:00:00",
          "1966-04-01T00:00:00",
          "1966-05-01T00:00:00",
          "1966-06-01T00:00:00",
          "1966-07-01T00:00:00",
          "1966-08-01T00:00:00",
          "1966-09-01T00:00:00",
          "1966-10-01T00:00:00",
          "1966-11-01T00:00:00",
          "1966-12-01T00:00:00",
          "1967-01-01T00:00:00",
          "1967-02-01T00:00:00",
          "1967-03-01T00:00:00",
          "1967-04-01T00:00:00",
          "1967-05-01T00:00:00",
          "1967-06-01T00:00:00",
          "1967-07-01T00:00:00",
          "1967-08-01T00:00:00",
          "1967-09-01T00:00:00",
          "1967-10-01T00:00:00",
          "1967-11-01T00:00:00",
          "1967-12-01T00:00:00",
          "1968-01-01T00:00:00",
          "1968-02-01T00:00:00",
          "1968-03-01T00:00:00",
          "1968-04-01T00:00:00",
          "1968-05-01T00:00:00",
          "1968-06-01T00:00:00",
          "1968-07-01T00:00:00",
          "1968-08-01T00:00:00",
          "1968-09-01T00:00:00",
          "1968-10-01T00:00:00",
          "1968-11-01T00:00:00",
          "1968-12-01T00:00:00",
          "1969-01-01T00:00:00",
          "1969-02-01T00:00:00",
          "1969-03-01T00:00:00",
          "1969-04-01T00:00:00",
          "1969-05-01T00:00:00",
          "1969-06-01T00:00:00",
          "1969-07-01T00:00:00",
          "1969-08-01T00:00:00",
          "1969-09-01T00:00:00",
          "1969-10-01T00:00:00",
          "1969-11-01T00:00:00",
          "1969-12-01T00:00:00",
          "1970-01-01T00:00:00",
          "1970-02-01T00:00:00",
          "1970-03-01T00:00:00",
          "1970-04-01T00:00:00",
          "1970-05-01T00:00:00",
          "1970-06-01T00:00:00",
          "1970-07-01T00:00:00",
          "1970-08-01T00:00:00",
          "1970-09-01T00:00:00",
          "1970-10-01T00:00:00",
          "1970-11-01T00:00:00",
          "1970-12-01T00:00:00",
          "1971-01-01T00:00:00",
          "1971-02-01T00:00:00",
          "1971-03-01T00:00:00",
          "1971-04-01T00:00:00",
          "1971-05-01T00:00:00",
          "1971-06-01T00:00:00",
          "1971-07-01T00:00:00",
          "1971-08-01T00:00:00",
          "1971-09-01T00:00:00",
          "1971-10-01T00:00:00",
          "1971-11-01T00:00:00",
          "1971-12-01T00:00:00",
          "1972-01-01T00:00:00",
          "1972-02-01T00:00:00",
          "1972-03-01T00:00:00",
          "1972-04-01T00:00:00",
          "1972-05-01T00:00:00",
          "1972-06-01T00:00:00",
          "1972-07-01T00:00:00",
          "1972-08-01T00:00:00",
          "1972-09-01T00:00:00",
          "1972-10-01T00:00:00",
          "1972-11-01T00:00:00",
          "1972-12-01T00:00:00",
          "1973-01-01T00:00:00",
          "1973-02-01T00:00:00",
          "1973-03-01T00:00:00",
          "1973-04-01T00:00:00",
          "1973-05-01T00:00:00",
          "1973-06-01T00:00:00",
          "1973-07-01T00:00:00",
          "1973-08-01T00:00:00",
          "1973-09-01T00:00:00",
          "1973-10-01T00:00:00",
          "1973-11-01T00:00:00",
          "1973-12-01T00:00:00",
          "1974-01-01T00:00:00",
          "1974-02-01T00:00:00",
          "1974-03-01T00:00:00",
          "1974-04-01T00:00:00",
          "1974-05-01T00:00:00",
          "1974-06-01T00:00:00",
          "1974-07-01T00:00:00",
          "1974-08-01T00:00:00",
          "1974-09-01T00:00:00",
          "1974-10-01T00:00:00",
          "1974-11-01T00:00:00",
          "1974-12-01T00:00:00",
          "1975-01-01T00:00:00",
          "1975-02-01T00:00:00",
          "1975-03-01T00:00:00",
          "1975-04-01T00:00:00",
          "1975-05-01T00:00:00",
          "1975-06-01T00:00:00",
          "1975-07-01T00:00:00",
          "1975-08-01T00:00:00",
          "1975-09-01T00:00:00",
          "1975-10-01T00:00:00",
          "1975-11-01T00:00:00",
          "1975-12-01T00:00:00",
          "1976-01-01T00:00:00",
          "1976-02-01T00:00:00",
          "1976-03-01T00:00:00",
          "1976-04-01T00:00:00",
          "1976-05-01T00:00:00",
          "1976-06-01T00:00:00",
          "1976-07-01T00:00:00",
          "1976-08-01T00:00:00",
          "1976-09-01T00:00:00",
          "1976-10-01T00:00:00",
          "1976-11-01T00:00:00",
          "1976-12-01T00:00:00",
          "1977-01-01T00:00:00",
          "1977-02-01T00:00:00",
          "1977-03-01T00:00:00",
          "1977-04-01T00:00:00",
          "1977-05-01T00:00:00",
          "1977-06-01T00:00:00",
          "1977-07-01T00:00:00",
          "1977-08-01T00:00:00",
          "1977-09-01T00:00:00",
          "1977-10-01T00:00:00",
          "1977-11-01T00:00:00",
          "1977-12-01T00:00:00",
          "1978-01-01T00:00:00",
          "1978-02-01T00:00:00",
          "1978-03-01T00:00:00",
          "1978-04-01T00:00:00",
          "1978-05-01T00:00:00",
          "1978-06-01T00:00:00",
          "1978-07-01T00:00:00",
          "1978-08-01T00:00:00",
          "1978-09-01T00:00:00",
          "1978-10-01T00:00:00",
          "1978-11-01T00:00:00",
          "1978-12-01T00:00:00",
          "1979-01-01T00:00:00",
          "1979-02-01T00:00:00",
          "1979-03-01T00:00:00",
          "1979-04-01T00:00:00",
          "1979-05-01T00:00:00",
          "1979-06-01T00:00:00",
          "1979-07-01T00:00:00",
          "1979-08-01T00:00:00",
          "1979-09-01T00:00:00",
          "1979-10-01T00:00:00",
          "1979-11-01T00:00:00",
          "1979-12-01T00:00:00",
          "1980-01-01T00:00:00",
          "1980-02-01T00:00:00",
          "1980-03-01T00:00:00",
          "1980-04-01T00:00:00",
          "1980-05-01T00:00:00",
          "1980-06-01T00:00:00",
          "1980-07-01T00:00:00",
          "1980-08-01T00:00:00",
          "1980-09-01T00:00:00",
          "1980-10-01T00:00:00",
          "1980-11-01T00:00:00",
          "1980-12-01T00:00:00",
          "1981-01-01T00:00:00",
          "1981-02-01T00:00:00",
          "1981-03-01T00:00:00",
          "1981-04-01T00:00:00",
          "1981-05-01T00:00:00",
          "1981-06-01T00:00:00",
          "1981-07-01T00:00:00",
          "1981-08-01T00:00:00",
          "1981-09-01T00:00:00",
          "1981-10-01T00:00:00",
          "1981-11-01T00:00:00",
          "1981-12-01T00:00:00",
          "1982-01-01T00:00:00",
          "1982-02-01T00:00:00",
          "1982-03-01T00:00:00",
          "1982-04-01T00:00:00",
          "1982-05-01T00:00:00",
          "1982-06-01T00:00:00",
          "1982-07-01T00:00:00",
          "1982-08-01T00:00:00",
          "1982-09-01T00:00:00",
          "1982-10-01T00:00:00",
          "1982-11-01T00:00:00",
          "1982-12-01T00:00:00",
          "1983-01-01T00:00:00",
          "1983-02-01T00:00:00",
          "1983-03-01T00:00:00",
          "1983-04-01T00:00:00",
          "1983-05-01T00:00:00",
          "1983-06-01T00:00:00",
          "1983-07-01T00:00:00",
          "1983-08-01T00:00:00",
          "1983-09-01T00:00:00",
          "1983-10-01T00:00:00",
          "1983-11-01T00:00:00",
          "1983-12-01T00:00:00",
          "1984-01-01T00:00:00",
          "1984-02-01T00:00:00",
          "1984-03-01T00:00:00",
          "1984-04-01T00:00:00",
          "1984-05-01T00:00:00",
          "1984-06-01T00:00:00",
          "1984-07-01T00:00:00",
          "1984-08-01T00:00:00",
          "1984-09-01T00:00:00",
          "1984-10-01T00:00:00",
          "1984-11-01T00:00:00",
          "1984-12-01T00:00:00",
          "1985-01-01T00:00:00",
          "1985-02-01T00:00:00",
          "1985-03-01T00:00:00",
          "1985-04-01T00:00:00",
          "1985-05-01T00:00:00",
          "1985-06-01T00:00:00",
          "1985-07-01T00:00:00",
          "1985-08-01T00:00:00",
          "1985-09-01T00:00:00",
          "1985-10-01T00:00:00",
          "1985-11-01T00:00:00",
          "1985-12-01T00:00:00",
          "1986-01-01T00:00:00",
          "1986-02-01T00:00:00",
          "1986-03-01T00:00:00",
          "1986-04-01T00:00:00",
          "1986-05-01T00:00:00",
          "1986-06-01T00:00:00",
          "1986-07-01T00:00:00",
          "1986-08-01T00:00:00",
          "1986-09-01T00:00:00",
          "1986-10-01T00:00:00",
          "1986-11-01T00:00:00",
          "1986-12-01T00:00:00",
          "1987-01-01T00:00:00",
          "1987-02-01T00:00:00",
          "1987-03-01T00:00:00",
          "1987-04-01T00:00:00",
          "1987-05-01T00:00:00",
          "1987-06-01T00:00:00",
          "1987-07-01T00:00:00",
          "1987-08-01T00:00:00",
          "1987-09-01T00:00:00",
          "1987-10-01T00:00:00",
          "1987-11-01T00:00:00",
          "1987-12-01T00:00:00",
          "1988-01-01T00:00:00",
          "1988-02-01T00:00:00",
          "1988-03-01T00:00:00",
          "1988-04-01T00:00:00",
          "1988-05-01T00:00:00",
          "1988-06-01T00:00:00",
          "1988-07-01T00:00:00",
          "1988-08-01T00:00:00",
          "1988-09-01T00:00:00",
          "1988-10-01T00:00:00",
          "1988-11-01T00:00:00",
          "1988-12-01T00:00:00",
          "1989-01-01T00:00:00",
          "1989-02-01T00:00:00",
          "1989-03-01T00:00:00",
          "1989-04-01T00:00:00",
          "1989-05-01T00:00:00",
          "1989-06-01T00:00:00",
          "1989-07-01T00:00:00",
          "1989-08-01T00:00:00",
          "1989-09-01T00:00:00",
          "1989-10-01T00:00:00",
          "1989-11-01T00:00:00",
          "1989-12-01T00:00:00",
          "1990-01-01T00:00:00",
          "1990-02-01T00:00:00",
          "1990-03-01T00:00:00",
          "1990-04-01T00:00:00",
          "1990-05-01T00:00:00",
          "1990-06-01T00:00:00",
          "1990-07-01T00:00:00",
          "1990-08-01T00:00:00",
          "1990-09-01T00:00:00",
          "1990-10-01T00:00:00",
          "1990-11-01T00:00:00",
          "1990-12-01T00:00:00",
          "1991-01-01T00:00:00",
          "1991-02-01T00:00:00",
          "1991-03-01T00:00:00",
          "1991-04-01T00:00:00",
          "1991-05-01T00:00:00",
          "1991-06-01T00:00:00",
          "1991-07-01T00:00:00",
          "1991-08-01T00:00:00",
          "1991-09-01T00:00:00",
          "1991-10-01T00:00:00",
          "1991-11-01T00:00:00",
          "1991-12-01T00:00:00",
          "1992-01-01T00:00:00",
          "1992-02-01T00:00:00",
          "1992-03-01T00:00:00",
          "1992-04-01T00:00:00",
          "1992-05-01T00:00:00",
          "1992-06-01T00:00:00",
          "1992-07-01T00:00:00",
          "1992-08-01T00:00:00",
          "1992-09-01T00:00:00",
          "1992-10-01T00:00:00",
          "1992-11-01T00:00:00",
          "1992-12-01T00:00:00",
          "1993-01-01T00:00:00",
          "1993-02-01T00:00:00",
          "1993-03-01T00:00:00",
          "1993-04-01T00:00:00",
          "1993-05-01T00:00:00",
          "1993-06-01T00:00:00",
          "1993-07-01T00:00:00",
          "1993-08-01T00:00:00",
          "1993-09-01T00:00:00",
          "1993-10-01T00:00:00",
          "1993-11-01T00:00:00",
          "1993-12-01T00:00:00",
          "1994-01-01T00:00:00",
          "1994-02-01T00:00:00",
          "1994-03-01T00:00:00",
          "1994-04-01T00:00:00",
          "1994-05-01T00:00:00",
          "1994-06-01T00:00:00",
          "1994-07-01T00:00:00",
          "1994-08-01T00:00:00",
          "1994-09-01T00:00:00",
          "1994-10-01T00:00:00",
          "1994-11-01T00:00:00",
          "1994-12-01T00:00:00",
          "1995-01-01T00:00:00",
          "1995-02-01T00:00:00",
          "1995-03-01T00:00:00",
          "1995-04-01T00:00:00",
          "1995-05-01T00:00:00",
          "1995-06-01T00:00:00",
          "1995-07-01T00:00:00",
          "1995-08-01T00:00:00",
          "1995-09-01T00:00:00",
          "1995-10-01T00:00:00",
          "1995-11-01T00:00:00",
          "1995-12-01T00:00:00",
          "1996-01-01T00:00:00",
          "1996-02-01T00:00:00",
          "1996-03-01T00:00:00",
          "1996-04-01T00:00:00",
          "1996-05-01T00:00:00",
          "1996-06-01T00:00:00",
          "1996-07-01T00:00:00",
          "1996-08-01T00:00:00",
          "1996-09-01T00:00:00",
          "1996-10-01T00:00:00",
          "1996-11-01T00:00:00",
          "1996-12-01T00:00:00",
          "1997-01-01T00:00:00",
          "1997-02-01T00:00:00",
          "1997-03-01T00:00:00",
          "1997-04-01T00:00:00",
          "1997-05-01T00:00:00",
          "1997-06-01T00:00:00",
          "1997-07-01T00:00:00",
          "1997-08-01T00:00:00",
          "1997-09-01T00:00:00",
          "1997-10-01T00:00:00",
          "1997-11-01T00:00:00",
          "1997-12-01T00:00:00",
          "1998-01-01T00:00:00",
          "1998-02-01T00:00:00",
          "1998-03-01T00:00:00",
          "1998-04-01T00:00:00",
          "1998-05-01T00:00:00",
          "1998-06-01T00:00:00",
          "1998-07-01T00:00:00",
          "1998-08-01T00:00:00",
          "1998-09-01T00:00:00",
          "1998-10-01T00:00:00",
          "1998-11-01T00:00:00",
          "1998-12-01T00:00:00",
          "1999-01-01T00:00:00",
          "1999-02-01T00:00:00",
          "1999-03-01T00:00:00",
          "1999-04-01T00:00:00",
          "1999-05-01T00:00:00",
          "1999-06-01T00:00:00",
          "1999-07-01T00:00:00",
          "1999-08-01T00:00:00",
          "1999-09-01T00:00:00",
          "1999-10-01T00:00:00",
          "1999-11-01T00:00:00",
          "1999-12-01T00:00:00",
          "2000-01-01T00:00:00",
          "2000-02-01T00:00:00",
          "2000-03-01T00:00:00",
          "2000-04-01T00:00:00",
          "2000-05-01T00:00:00",
          "2000-06-01T00:00:00",
          "2000-07-01T00:00:00",
          "2000-08-01T00:00:00",
          "2000-09-01T00:00:00",
          "2000-10-01T00:00:00",
          "2000-11-01T00:00:00",
          "2000-12-01T00:00:00",
          "2001-01-01T00:00:00",
          "2001-02-01T00:00:00",
          "2001-03-01T00:00:00",
          "2001-04-01T00:00:00",
          "2001-05-01T00:00:00",
          "2001-06-01T00:00:00",
          "2001-07-01T00:00:00",
          "2001-08-01T00:00:00",
          "2001-09-01T00:00:00",
          "2001-10-01T00:00:00",
          "2001-11-01T00:00:00",
          "2001-12-01T00:00:00",
          "2002-01-01T00:00:00",
          "2002-02-01T00:00:00",
          "2002-03-01T00:00:00",
          "2002-04-01T00:00:00",
          "2002-05-01T00:00:00",
          "2002-06-01T00:00:00",
          "2002-07-01T00:00:00",
          "2002-08-01T00:00:00",
          "2002-09-01T00:00:00",
          "2002-10-01T00:00:00",
          "2002-11-01T00:00:00",
          "2002-12-01T00:00:00",
          "2003-01-01T00:00:00",
          "2003-02-01T00:00:00",
          "2003-03-01T00:00:00",
          "2003-04-01T00:00:00",
          "2003-05-01T00:00:00",
          "2003-06-01T00:00:00",
          "2003-07-01T00:00:00",
          "2003-08-01T00:00:00",
          "2003-09-01T00:00:00",
          "2003-10-01T00:00:00",
          "2003-11-01T00:00:00",
          "2003-12-01T00:00:00",
          "2004-01-01T00:00:00",
          "2004-02-01T00:00:00",
          "2004-03-01T00:00:00",
          "2004-04-01T00:00:00",
          "2004-05-01T00:00:00",
          "2004-06-01T00:00:00",
          "2004-07-01T00:00:00",
          "2004-08-01T00:00:00",
          "2004-09-01T00:00:00",
          "2004-10-01T00:00:00",
          "2004-11-01T00:00:00",
          "2004-12-01T00:00:00",
          "2005-01-01T00:00:00",
          "2005-02-01T00:00:00",
          "2005-03-01T00:00:00",
          "2005-04-01T00:00:00",
          "2005-05-01T00:00:00",
          "2005-06-01T00:00:00",
          "2005-07-01T00:00:00",
          "2005-08-01T00:00:00",
          "2005-09-01T00:00:00",
          "2005-10-01T00:00:00",
          "2005-11-01T00:00:00",
          "2005-12-01T00:00:00",
          "2006-01-01T00:00:00",
          "2006-02-01T00:00:00",
          "2006-03-01T00:00:00",
          "2006-04-01T00:00:00",
          "2006-05-01T00:00:00",
          "2006-06-01T00:00:00",
          "2006-07-01T00:00:00",
          "2006-08-01T00:00:00",
          "2006-09-01T00:00:00",
          "2006-10-01T00:00:00",
          "2006-11-01T00:00:00",
          "2006-12-01T00:00:00",
          "2007-01-01T00:00:00",
          "2007-02-01T00:00:00",
          "2007-03-01T00:00:00",
          "2007-04-01T00:00:00",
          "2007-05-01T00:00:00",
          "2007-06-01T00:00:00",
          "2007-07-01T00:00:00",
          "2007-08-01T00:00:00",
          "2007-09-01T00:00:00",
          "2007-10-01T00:00:00",
          "2007-11-01T00:00:00",
          "2007-12-01T00:00:00",
          "2008-01-01T00:00:00",
          "2008-02-01T00:00:00",
          "2008-03-01T00:00:00",
          "2008-04-01T00:00:00",
          "2008-05-01T00:00:00",
          "2008-06-01T00:00:00",
          "2008-07-01T00:00:00",
          "2008-08-01T00:00:00",
          "2008-09-01T00:00:00",
          "2008-10-01T00:00:00",
          "2008-11-01T00:00:00",
          "2008-12-01T00:00:00",
          "2009-01-01T00:00:00",
          "2009-02-01T00:00:00",
          "2009-03-01T00:00:00",
          "2009-04-01T00:00:00",
          "2009-05-01T00:00:00",
          "2009-06-01T00:00:00",
          "2009-07-01T00:00:00",
          "2009-08-01T00:00:00",
          "2009-09-01T00:00:00",
          "2009-10-01T00:00:00",
          "2009-11-01T00:00:00",
          "2009-12-01T00:00:00",
          "2010-01-01T00:00:00",
          "2010-02-01T00:00:00",
          "2010-03-01T00:00:00",
          "2010-04-01T00:00:00",
          "2010-05-01T00:00:00",
          "2010-06-01T00:00:00",
          "2010-07-01T00:00:00",
          "2010-08-01T00:00:00",
          "2010-09-01T00:00:00",
          "2010-10-01T00:00:00",
          "2010-11-01T00:00:00",
          "2010-12-01T00:00:00",
          "2011-01-01T00:00:00",
          "2011-02-01T00:00:00",
          "2011-03-01T00:00:00",
          "2011-04-01T00:00:00",
          "2011-05-01T00:00:00",
          "2011-06-01T00:00:00",
          "2011-07-01T00:00:00",
          "2011-08-01T00:00:00",
          "2011-09-01T00:00:00",
          "2011-10-01T00:00:00",
          "2011-11-01T00:00:00",
          "2011-12-01T00:00:00",
          "2012-01-01T00:00:00",
          "2012-02-01T00:00:00",
          "2012-03-01T00:00:00",
          "2012-04-01T00:00:00",
          "2012-05-01T00:00:00",
          "2012-06-01T00:00:00",
          "2012-07-01T00:00:00",
          "2012-08-01T00:00:00",
          "2012-09-01T00:00:00",
          "2012-10-01T00:00:00",
          "2012-11-01T00:00:00",
          "2012-12-01T00:00:00",
          "2013-01-01T00:00:00",
          "2013-02-01T00:00:00",
          "2013-03-01T00:00:00",
          "2013-04-01T00:00:00",
          "2013-05-01T00:00:00",
          "2013-06-01T00:00:00",
          "2013-07-01T00:00:00",
          "2013-08-01T00:00:00",
          "2013-09-01T00:00:00",
          "2013-10-01T00:00:00",
          "2013-11-01T00:00:00",
          "2013-12-01T00:00:00",
          "2014-01-01T00:00:00",
          "2014-02-01T00:00:00",
          "2014-03-01T00:00:00",
          "2014-04-01T00:00:00",
          "2014-05-01T00:00:00",
          "2014-06-01T00:00:00",
          "2014-07-01T00:00:00",
          "2014-08-01T00:00:00",
          "2014-09-01T00:00:00",
          "2014-10-01T00:00:00",
          "2014-11-01T00:00:00",
          "2014-12-01T00:00:00",
          "2015-01-01T00:00:00",
          "2015-02-01T00:00:00",
          "2015-03-01T00:00:00",
          "2015-04-01T00:00:00",
          "2015-05-01T00:00:00",
          "2015-06-01T00:00:00",
          "2015-07-01T00:00:00",
          "2015-08-01T00:00:00",
          "2015-09-01T00:00:00",
          "2015-10-01T00:00:00",
          "2015-11-01T00:00:00",
          "2015-12-01T00:00:00",
          "2016-01-01T00:00:00",
          "2016-02-01T00:00:00",
          "2016-03-01T00:00:00",
          "2016-04-01T00:00:00",
          "2016-05-01T00:00:00",
          "2016-06-01T00:00:00",
          "2016-07-01T00:00:00",
          "2016-08-01T00:00:00",
          "2016-09-01T00:00:00",
          "2016-10-01T00:00:00",
          "2016-11-01T00:00:00",
          "2016-12-01T00:00:00",
          "2017-01-01T00:00:00",
          "2017-02-01T00:00:00",
          "2017-03-01T00:00:00",
          "2017-04-01T00:00:00",
          "2017-05-01T00:00:00",
          "2017-06-01T00:00:00",
          "2017-07-01T00:00:00",
          "2017-08-01T00:00:00",
          "2017-09-01T00:00:00",
          "2017-10-01T00:00:00",
          "2017-11-01T00:00:00",
          "2017-12-01T00:00:00",
          "2018-01-01T00:00:00",
          "2018-02-01T00:00:00",
          "2018-03-01T00:00:00",
          "2018-04-01T00:00:00",
          "2018-05-01T00:00:00",
          "2018-06-01T00:00:00",
          "2018-07-01T00:00:00",
          "2018-08-01T00:00:00",
          "2018-09-01T00:00:00",
          "2018-10-01T00:00:00",
          "2018-11-01T00:00:00",
          "2018-12-01T00:00:00",
          "2019-01-01T00:00:00",
          "2019-02-01T00:00:00",
          "2019-03-01T00:00:00",
          "2019-04-01T00:00:00",
          "2019-05-01T00:00:00",
          "2019-06-01T00:00:00",
          "2019-07-01T00:00:00",
          "2019-08-01T00:00:00",
          "2019-09-01T00:00:00",
          "2019-10-01T00:00:00",
          "2019-11-01T00:00:00",
          "2019-12-01T00:00:00",
          "2020-01-01T00:00:00",
          "2020-02-01T00:00:00",
          "2020-03-01T00:00:00",
          "2020-04-01T00:00:00",
          "2020-05-01T00:00:00",
          "2020-06-01T00:00:00",
          "2020-07-01T00:00:00",
          "2020-08-01T00:00:00",
          "2020-09-01T00:00:00",
          "2020-10-01T00:00:00",
          "2020-11-01T00:00:00",
          "2020-12-01T00:00:00",
          "2021-01-01T00:00:00",
          "2021-02-01T00:00:00",
          "2021-03-01T00:00:00",
          "2021-04-01T00:00:00",
          "2021-05-01T00:00:00",
          "2021-06-01T00:00:00",
          "2021-07-01T00:00:00",
          "2021-08-01T00:00:00",
          "2021-09-01T00:00:00",
          "2021-10-01T00:00:00",
          "2021-11-01T00:00:00",
          "2021-12-01T00:00:00",
          "2022-01-01T00:00:00",
          "2022-02-01T00:00:00",
          "2022-03-01T00:00:00",
          "2022-04-01T00:00:00",
          "2022-05-01T00:00:00",
          "2022-06-01T00:00:00",
          "2022-07-01T00:00:00",
          "2022-08-01T00:00:00",
          "2022-09-01T00:00:00",
          "2022-10-01T00:00:00",
          "2022-11-01T00:00:00",
          "2022-12-01T00:00:00",
          "2023-01-01T00:00:00",
          "2023-02-01T00:00:00",
          "2023-03-01T00:00:00",
          "2023-04-01T00:00:00",
          "2023-05-01T00:00:00",
          "2023-06-01T00:00:00",
          "2023-07-01T00:00:00",
          "2023-08-01T00:00:00",
          "2023-09-01T00:00:00",
          "2023-10-01T00:00:00",
          "2023-11-01T00:00:00",
          "2023-12-01T00:00:00",
          "2024-01-01T00:00:00",
          "2024-02-01T00:00:00",
          "2024-03-01T00:00:00",
          "2024-04-01T00:00:00",
          "2024-05-01T00:00:00",
          "2024-06-01T00:00:00",
          "2024-07-01T00:00:00",
          "2024-08-01T00:00:00",
          "2024-09-01T00:00:00",
          "2024-10-01T00:00:00",
          "2024-11-01T00:00:00",
          "2024-12-01T00:00:00"
         ],
         "xaxis": "x",
         "y": [
          62.3,
          null,
          61.80000000000203,
          71.00000000000149,
          76.60000000000176,
          82.6000000000004,
          80.30000000000054,
          77.10000000000204,
          null,
          49.00000000000108,
          null,
          67.70000000000108,
          70.00000000000095,
          null,
          61.000000000000675,
          42.30000000000068,
          45.2000000000004,
          39.100000000001,
          38.20000000000099,
          38.500000000000924,
          51.70000000000162,
          49.29999999999986,
          45.3,
          46.80000000000081,
          42.30000000000068,
          43.70000000000189,
          35.800000000000836,
          43.90000000000108,
          46.300000000000544,
          69.40000000000107,
          58.50000000000163,
          60.30000000000122,
          59.900000000000546,
          58.8000000000004,
          60.40000000000081,
          64.59999999999987,
          56.00000000000027,
          47.200000000001495,
          52.000000000000405,
          49.29999999999986,
          48.300000000001624,
          44.19999999999986,
          42.100000000001494,
          39.900000000000986,
          38.000000000000895,
          40.900000000000844,
          37.50000000000084,
          42.900000000000546,
          50.3000000000004,
          54.70000000000095,
          58.40000000000203,
          60.20000000000162,
          64.59999999999987,
          63.80000000000081,
          56.600000000000136,
          62.2000000000004,
          66.70000000000054,
          66.00000000000108,
          73.60000000000014,
          66.80000000000014,
          73.90000000000121,
          71.50000000000176,
          70.9000000000019,
          72.90000000000067,
          60.900000000001086,
          67.10000000000122,
          70.40000000000163,
          63.70000000000122,
          66.29999999999987,
          61.500000000000945,
          66.60000000000095,
          61.80000000000203,
          56.20000000000176,
          57.3000000000019,
          55.900000000000674,
          53.000000000000945,
          48.90000000000149,
          44.400000000001356,
          54.30000000000027,
          60.500000000000405,
          55.6000000000019,
          57.00000000000082,
          52.80000000000176,
          57.600000000000676,
          52.500000000000675,
          51.10000000000176,
          49.20000000000027,
          46.10000000000135,
          49.80000000000014,
          47.599999999999866,
          48.8000000000019,
          53.8,
          46.400000000000134,
          47.200000000001495,
          42.80000000000095,
          35.20000000000097,
          47.300000000001084,
          45.3,
          47.200000000001495,
          56.70000000000203,
          60.80000000000149,
          66.50000000000135,
          65.20000000000203,
          67.00000000000162,
          67.90000000000028,
          68.50000000000014,
          64.70000000000176,
          69.0000000000004,
          70.50000000000122,
          70.20000000000013,
          66.90000000000202,
          69.90000000000136,
          64.2000000000015,
          61.30000000000176,
          54.399999999999864,
          43.70000000000189,
          50.00000000000163,
          51.10000000000176,
          62.80000000000027,
          65.40000000000121,
          52.500000000000675,
          52.2000000000019,
          52.000000000000405,
          45.80000000000027,
          49.20000000000027,
          45.70000000000067,
          55.6000000000019,
          50.5000000000019,
          50.10000000000122,
          48.200000000002035,
          47.50000000000027,
          47.200000000001495,
          48.699999999999996,
          55.20000000000122,
          67.70000000000108,
          64.80000000000135,
          64,
          64.50000000000027,
          62.899999999999864,
          69.50000000000067,
          68.30000000000095,
          65.10000000000014,
          73.40000000000094,
          59.40000000000027,
          61.80000000000203,
          60.100000000002034,
          57.3000000000019,
          53.60000000000082,
          52.500000000000675,
          53.20000000000014,
          52.900000000001356,
          53.000000000000945,
          53.60000000000082,
          57.79999999999986,
          59.70000000000135,
          60.900000000001086,
          60.40000000000081,
          57.50000000000109,
          60.599999999999994,
          66.90000000000202,
          61.900000000001626,
          60.100000000002034,
          62.00000000000122,
          59.80000000000095,
          64,
          63.70000000000122,
          58.60000000000122,
          61.30000000000176,
          61.80000000000203,
          61.70000000000014,
          63.60000000000163,
          59.900000000000546,
          64.70000000000176,
          69.90000000000136,
          67.99999999999986,
          63.300000000000544,
          58.9,
          60.7000000000019,
          64.40000000000067,
          62.3,
          63.20000000000095,
          68.70000000000164,
          59.80000000000095,
          60.20000000000162,
          57.40000000000149,
          56.600000000000136,
          56.00000000000027,
          63.60000000000163,
          62.00000000000122,
          61.900000000001626,
          62.899999999999864,
          66.50000000000135,
          66.10000000000068,
          64.30000000000109,
          64.30000000000109,
          52.69999999999986,
          55.900000000000674,
          56.300000000001354,
          53.30000000000203,
          55.20000000000122,
          51.60000000000203,
          46.80000000000081,
          48.8000000000019,
          46.20000000000095,
          45.10000000000082,
          45.3,
          46.400000000000134,
          47.599999999999866,
          51.80000000000122,
          53.7000000000004,
          55.400000000000404,
          62.00000000000122,
          55.80000000000108,
          57.00000000000082,
          59.40000000000027,
          60.100000000002034,
          56.600000000000136,
          55.700000000001495,
          64.50000000000027,
          56.20000000000176,
          54.30000000000027,
          54.50000000000176,
          53.8,
          55.400000000000404,
          58.50000000000163,
          61.30000000000176,
          56.70000000000203,
          54.399999999999864,
          57.90000000000176,
          59.30000000000067,
          54.399999999999864,
          57.600000000000676,
          52.69999999999986,
          49.80000000000014,
          51.500000000000135,
          50.4,
          51.900000000000816,
          50.600000000001494,
          48.00000000000054,
          45.80000000000027,
          45.80000000000027,
          45.2000000000004,
          45.70000000000067,
          45.3,
          53.20000000000014,
          52.500000000000675,
          51.80000000000122,
          44.19999999999986,
          44.70000000000014,
          43.30000000000122,
          51.20000000000135,
          55.400000000000404,
          62.80000000000027,
          56.20000000000176,
          59.60000000000176,
          57.00000000000082,
          57.90000000000176,
          57.79999999999986,
          58.40000000000203,
          61.000000000000675,
          61.400000000001356,
          55.400000000000404,
          63.50000000000203,
          64.80000000000135,
          66.00000000000108,
          64.59999999999987,
          63.000000000001755,
          66.90000000000202,
          62.10000000000081,
          64.70000000000176,
          65.10000000000014,
          69.30000000000149,
          70.8,
          73.00000000000026,
          71.90000000000013,
          73.80000000000163,
          69.0000000000004,
          68.80000000000123,
          65.9000000000015,
          63.50000000000203,
          61.000000000000675,
          49.20000000000027,
          59.100000000001494,
          60.000000000000135,
          65.40000000000121,
          65.20000000000203,
          59.0000000000019,
          55.700000000001495,
          56.00000000000027,
          58.00000000000135,
          56.400000000000944,
          51.60000000000203,
          51.900000000000816,
          52.60000000000027,
          50.20000000000081,
          41.200000000001,
          36.500000000000995,
          33.10000000000099,
          27.900000000000936,
          32.80000000000105,
          40.000000000001044,
          37.00000000000102,
          42.60000000000176,
          47.200000000001495,
          54.900000000000134,
          58.40000000000203,
          60.30000000000122,
          60.40000000000081,
          64.2000000000015,
          62.2000000000004,
          63.10000000000135,
          63.80000000000081,
          68.70000000000164,
          61.60000000000054,
          65.20000000000203,
          62.3,
          60.599999999999994,
          58.00000000000135,
          57.70000000000027,
          55.300000000000814,
          57.00000000000082,
          55.700000000001495,
          58.9,
          57.199999999999996,
          56.800000000001624,
          63.50000000000203,
          60.30000000000122,
          64.50000000000027,
          58.100000000000946,
          58.9,
          58.8000000000004,
          57.00000000000082,
          57.100000000000406,
          59.20000000000109,
          60.7000000000019,
          60.599999999999994,
          56.20000000000176,
          56.600000000000136,
          60.20000000000162,
          63.900000000000404,
          63.60000000000163,
          64.70000000000176,
          61.30000000000176,
          61.30000000000176,
          58.8000000000004,
          61.900000000001626,
          59.900000000000546,
          57.3000000000019,
          58.60000000000122,
          56.70000000000203,
          55.10000000000163,
          52.099999999999994,
          49.40000000000176,
          49.80000000000014,
          46.900000000000404,
          48.699999999999996,
          47.300000000001084,
          46.50000000000203,
          44.30000000000176,
          47.1000000000019,
          51.60000000000203,
          43.80000000000149,
          32.00000000000085,
          25.60000000000084,
          24.200000000000998,
          36.100000000001,
          54.10000000000108,
          53.900000000001896,
          63.70000000000122,
          65.30000000000163,
          51.20000000000135,
          48.699999999999996,
          51.10000000000176,
          50.20000000000081,
          53.10000000000054,
          55.700000000001495,
          50.999999999999865,
          47.599999999999866,
          47.200000000001495,
          42.20000000000108,
          40.20000000000092,
          32.80000000000105,
          39.100000000001,
          39.900000000000986,
          38.600000000000975,
          40.40000000000103,
          40.900000000000844,
          38.100000000000946,
          42.00000000000097,
          40.700000000000955,
          40.10000000000087,
          40.40000000000103,
          41.90000000000092,
          41.500000000000945,
          46.00000000000176,
          50.3000000000004,
          60.599999999999994,
          60.80000000000149,
          59.40000000000027,
          61.80000000000203,
          62.3,
          70.30000000000204,
          68.10000000000176,
          66.90000000000202,
          69.50000000000067,
          69.20000000000189,
          74.79999999999986,
          63.70000000000122,
          64.90000000000094,
          60.900000000001086,
          63.20000000000095,
          59.20000000000109,
          60.500000000000405,
          54.10000000000108,
          54.00000000000149,
          47.200000000001495,
          52.900000000001356,
          52.000000000000405,
          52.80000000000176,
          51.80000000000122,
          51.80000000000122,
          49.100000000000676,
          51.30000000000095,
          49.50000000000135,
          50.70000000000108,
          52.500000000000675,
          51.80000000000122,
          54.60000000000135,
          53.400000000001626,
          57.199999999999996,
          54.800000000000544,
          56.70000000000203,
          57.100000000000406,
          54.50000000000176,
          54.399999999999864,
          61.10000000000027,
          55.300000000000814,
          51.20000000000135,
          58.40000000000203,
          57.3000000000019,
          54.50000000000176,
          57.00000000000082,
          55.400000000000404,
          59.80000000000095,
          55.400000000000404,
          null,
          59.80000000000095,
          63.400000000000134,
          61.19999999999986,
          64,
          62.70000000000068,
          62.10000000000081,
          65.30000000000163,
          59.30000000000067,
          61.500000000000945,
          60.30000000000122,
          57.90000000000176,
          null,
          57.600000000000676,
          57.70000000000027,
          63.60000000000163,
          null,
          59.20000000000109,
          57.199999999999996,
          58.40000000000203,
          59.0000000000019,
          57.3000000000019,
          57.3000000000019,
          52.000000000000405,
          null,
          53.10000000000054,
          45.60000000000109,
          45.80000000000027,
          45.2000000000004,
          46.00000000000176,
          49.29999999999986,
          49.29999999999986,
          50.4,
          49.100000000000676,
          52.500000000000675,
          52.30000000000149,
          53.7000000000004,
          51.70000000000162,
          52.000000000000405,
          46.70000000000122,
          45.50000000000149,
          44.900000000001626,
          43.10000000000203,
          40.40000000000103,
          38.500000000000924,
          38.100000000000946,
          39.20000000000084,
          42.40000000000027,
          46.10000000000135,
          48.90000000000149,
          58.40000000000203,
          55.6000000000019,
          60.100000000002034,
          60.7000000000019,
          58.00000000000135,
          53.50000000000122,
          49.50000000000135,
          49.600000000000946,
          58.30000000000014,
          63.300000000000544,
          59.100000000001494,
          60.900000000001086,
          59.80000000000095,
          59.499999999999865,
          58.8000000000004,
          51.10000000000176,
          53.8,
          58.8000000000004,
          61.000000000000675,
          63.000000000001755,
          59.70000000000135,
          58.100000000000946,
          53.000000000000945,
          55.20000000000122,
          51.60000000000203,
          53.8,
          55.300000000000814,
          52.60000000000027,
          58.9,
          60.40000000000081,
          62.400000000001896,
          63.50000000000203,
          62.2000000000004,
          62.80000000000027,
          62.70000000000068,
          61.60000000000054,
          65.00000000000054,
          64.2000000000015,
          63.000000000001755,
          62.70000000000068,
          63.000000000001755,
          61.500000000000945,
          58.9,
          59.70000000000135,
          56.600000000000136,
          51.900000000000816,
          52.2000000000019,
          44.000000000000675,
          43.5000000000004,
          52.69999999999986,
          46.50000000000203,
          49.40000000000176,
          47.50000000000027,
          48.600000000000406,
          45.899999999999864,
          44.100000000000264,
          46.10000000000135,
          49.100000000000676,
          52.30000000000149,
          51.70000000000162,
          59.40000000000027,
          51.900000000000816,
          54.60000000000135,
          54.60000000000135,
          52.900000000001356,
          56.90000000000122,
          61.70000000000014,
          57.00000000000082,
          57.600000000000676,
          58.60000000000122,
          56.600000000000136,
          62.3,
          59.40000000000027,
          61.30000000000176,
          60.30000000000122,
          55.400000000000404,
          60.900000000001086,
          57.40000000000149,
          57.199999999999996,
          57.100000000000406,
          54.60000000000135,
          54.900000000000134,
          55.300000000000814,
          51.500000000000135,
          50.20000000000081,
          51.80000000000122,
          50.90000000000027,
          49.40000000000176,
          48.00000000000054,
          48.300000000001624,
          49.70000000000054,
          52.40000000000108,
          55.00000000000203,
          55.900000000000674,
          54.00000000000149,
          57.79999999999986,
          59.40000000000027,
          54.60000000000135,
          57.50000000000109,
          63.50000000000203,
          61.30000000000176,
          63.10000000000135,
          60.30000000000122,
          60.40000000000081,
          58.700000000000806,
          56.20000000000176,
          55.400000000000404,
          51.500000000000135,
          50.00000000000163,
          52.000000000000405,
          50.00000000000163,
          48.90000000000149,
          48.40000000000122,
          49.100000000000676,
          42.100000000001494,
          38.40000000000087,
          39.900000000000986,
          41.500000000000945,
          45.50000000000149,
          44.900000000001626,
          47.800000000001354,
          49.20000000000027,
          54.30000000000027,
          51.30000000000095,
          38.9000000000009,
          49.100000000000676,
          51.400000000000546,
          55.20000000000122,
          60.7000000000019,
          63.80000000000081,
          59.900000000000546,
          61.80000000000203,
          61.19999999999986,
          51.900000000000816,
          50.600000000001494,
          52.900000000001356,
          52.099999999999994,
          49.90000000000203,
          58.700000000000806,
          58.20000000000054,
          51.900000000000816,
          47.200000000001495,
          47.200000000001495,
          53.400000000001626,
          53.60000000000082,
          56.800000000001624,
          61.10000000000027,
          60.80000000000149,
          64.40000000000067,
          69.1,
          71.30000000000027,
          70.60000000000082,
          66.50000000000135,
          64.59999999999987,
          67.10000000000122,
          64.50000000000027,
          60.900000000001086,
          62.80000000000027,
          62.10000000000081,
          57.70000000000027,
          58.40000000000203,
          60.100000000002034,
          66.29999999999987,
          57.90000000000176,
          55.900000000000674,
          57.70000000000027,
          53.400000000001626,
          51.80000000000122,
          55.700000000001495,
          57.199999999999996,
          57.79999999999986,
          60.900000000001086,
          61.400000000001356,
          61.19999999999986,
          60.100000000002034,
          58.9,
          61.000000000000675,
          57.00000000000082,
          55.700000000001495,
          54.900000000000134,
          55.00000000000203,
          55.80000000000108,
          55.300000000000814,
          54.800000000000544,
          54.10000000000108,
          50.80000000000068,
          51.400000000000546,
          55.5,
          59.100000000001494,
          56.00000000000027,
          57.100000000000406,
          57.00000000000082,
          58.40000000000203,
          57.50000000000109,
          56.099999999999866,
          59.40000000000027,
          55.80000000000108,
          53.10000000000054,
          49.90000000000203,
          49.50000000000135,
          50.5000000000019,
          49.20000000000027,
          46.20000000000095,
          47.900000000000944,
          49.50000000000135,
          48.40000000000122,
          48.600000000000406,
          45.10000000000082,
          32.00000000000085,
          34.50000000000105,
          25.900000000001,
          32.500000000000895,
          32.700000000001,
          41.30000000000105,
          46.00000000000176,
          50.999999999999865,
          49.00000000000108,
          56.600000000000136,
          64.1000000000019,
          64.70000000000176,
          57.70000000000027,
          64.2000000000015,
          63.80000000000081,
          59.900000000000546,
          57.70000000000027,
          60.100000000002034,
          64,
          61.30000000000176,
          58.60000000000122,
          54.70000000000095,
          54.00000000000149,
          51.900000000000816,
          57.79999999999986,
          58.30000000000014,
          59.60000000000176,
          64.50000000000027,
          64.2000000000015,
          61.30000000000176,
          61.10000000000027,
          54.60000000000135,
          54.60000000000135,
          56.90000000000122,
          52.900000000001356,
          51.80000000000122,
          52.000000000000405,
          54.900000000000134,
          55.400000000000404,
          60.000000000000135,
          58.30000000000014,
          57.00000000000082,
          59.20000000000109,
          58.20000000000054,
          47.300000000001084,
          47.800000000001354,
          45.10000000000082,
          52.2000000000019,
          51.80000000000122,
          47.900000000000944,
          48.300000000001624,
          54.900000000000134,
          58.9,
          52.30000000000149,
          53.000000000000945,
          52.099999999999994,
          52.000000000000405,
          56.400000000000944,
          58.00000000000135,
          60.20000000000162,
          57.40000000000149,
          59.499999999999865,
          63.900000000000404,
          54.60000000000135,
          58.60000000000122,
          58.8000000000004,
          57.3000000000019,
          57.90000000000176,
          56.800000000001624,
          57.40000000000149,
          60.100000000002034,
          58.9,
          59.80000000000095,
          61.60000000000054,
          58.20000000000054,
          54.70000000000095,
          54.30000000000027,
          53.10000000000054,
          53.7000000000004,
          52.80000000000176,
          53.8,
          52.60000000000027,
          51.20000000000135,
          50.20000000000081,
          51.70000000000162,
          50.600000000001494,
          49.50000000000135,
          49.600000000000946,
          52.40000000000108,
          55.400000000000404,
          54.800000000000544,
          55.400000000000404,
          56.90000000000122,
          55.300000000000814,
          50.90000000000027,
          53.400000000001626,
          54.30000000000027,
          55.400000000000404,
          58.60000000000122,
          60.000000000000135,
          64.1000000000019,
          62.00000000000122,
          57.40000000000149,
          61.60000000000054,
          60.30000000000122,
          61.60000000000054,
          60.900000000001086,
          64.2000000000015,
          64,
          64,
          65.7,
          66.20000000000027,
          64.1000000000019,
          61.70000000000014,
          63.20000000000095,
          63.20000000000095,
          63.50000000000203,
          59.80000000000095,
          63.60000000000163,
          61.900000000001626,
          59.30000000000067,
          60.7000000000019,
          52.40000000000108,
          56.70000000000203,
          54.900000000000134,
          56.50000000000054,
          53.50000000000122,
          52.500000000000675,
          50.70000000000108,
          51.20000000000135,
          46.300000000000544,
          48.699999999999996,
          48.50000000000081,
          47,
          47.50000000000027,
          51.80000000000122,
          49.50000000000135,
          43.20000000000162,
          27.300000000000843,
          31.900000000001025,
          56.70000000000203,
          60.900000000001086,
          66.20000000000027,
          60.900000000001086,
          66.90000000000202,
          65.7,
          67.5000000000019,
          61.10000000000027,
          64.80000000000135,
          67.99999999999986,
          64.30000000000109,
          67.00000000000162,
          66.00000000000108,
          64.90000000000094,
          66.70000000000054,
          66.70000000000054,
          59.80000000000095,
          61.500000000000945,
          61.000000000000675,
          57.90000000000176,
          61.70000000000014,
          53.8,
          53.50000000000122,
          55.10000000000163,
          55.10000000000163,
          49.20000000000027,
          48.00000000000054,
          51.30000000000095,
          47.1000000000019,
          49.20000000000027,
          47.200000000001495,
          45.10000000000082,
          42.499999999999865,
          47,
          44.30000000000176,
          45.70000000000067,
          42.60000000000176,
          42.60000000000176,
          45.60000000000109,
          47.300000000001084,
          46.80000000000081,
          49.20000000000027,
          45.50000000000149,
          47.800000000001354,
          47,
          52.500000000000675,
          49.20000000000027,
          51.400000000000546,
          49.100000000000676,
          45.400000000001896,
          49.29999999999986,
          47.400000000000674,
          44.60000000000054,
          null,
          47.1000000000019,
          null,
          52.500000000000675
         ],
         "yaxis": "y"
        }
       ],
       "layout": {
        "annotations": [
         {
          "align": "left",
          "bgcolor": "rgba(255, 255, 255, 0.8)",
          "bordercolor": "black",
          "borderwidth": 1,
          "font": {
           "size": 10
          },
          "showarrow": false,
          "text": "Source: Trading Economics<br>Original Source: Institute for Supply Management<br>Frequency: MS",
          "x": 0,
          "xanchor": "left",
          "xref": "paper",
          "y": -0.23,
          "yanchor": "bottom",
          "yref": "paper"
         }
        ],
        "legend": {
         "orientation": "h",
         "title": {
          "text": ""
         },
         "tracegroupgap": 0,
         "x": 0.5,
         "xanchor": "center",
         "y": -0.2,
         "yanchor": "bottom"
        },
        "margin": {
         "t": 60
        },
        "template": {
         "data": {
          "bar": [
           {
            "error_x": {
             "color": "#2a3f5f"
            },
            "error_y": {
             "color": "#2a3f5f"
            },
            "marker": {
             "line": {
              "color": "#E5ECF6",
              "width": 0.5
             },
             "pattern": {
              "fillmode": "overlay",
              "size": 10,
              "solidity": 0.2
             }
            },
            "type": "bar"
           }
          ],
          "barpolar": [
           {
            "marker": {
             "line": {
              "color": "#E5ECF6",
              "width": 0.5
             },
             "pattern": {
              "fillmode": "overlay",
              "size": 10,
              "solidity": 0.2
             }
            },
            "type": "barpolar"
           }
          ],
          "carpet": [
           {
            "aaxis": {
             "endlinecolor": "#2a3f5f",
             "gridcolor": "white",
             "linecolor": "white",
             "minorgridcolor": "white",
             "startlinecolor": "#2a3f5f"
            },
            "baxis": {
             "endlinecolor": "#2a3f5f",
             "gridcolor": "white",
             "linecolor": "white",
             "minorgridcolor": "white",
             "startlinecolor": "#2a3f5f"
            },
            "type": "carpet"
           }
          ],
          "choropleth": [
           {
            "colorbar": {
             "outlinewidth": 0,
             "ticks": ""
            },
            "type": "choropleth"
           }
          ],
          "contour": [
           {
            "colorbar": {
             "outlinewidth": 0,
             "ticks": ""
            },
            "colorscale": [
             [
              0,
              "#0d0887"
             ],
             [
              0.1111111111111111,
              "#46039f"
             ],
             [
              0.2222222222222222,
              "#7201a8"
             ],
             [
              0.3333333333333333,
              "#9c179e"
             ],
             [
              0.4444444444444444,
              "#bd3786"
             ],
             [
              0.5555555555555556,
              "#d8576b"
             ],
             [
              0.6666666666666666,
              "#ed7953"
             ],
             [
              0.7777777777777778,
              "#fb9f3a"
             ],
             [
              0.8888888888888888,
              "#fdca26"
             ],
             [
              1,
              "#f0f921"
             ]
            ],
            "type": "contour"
           }
          ],
          "contourcarpet": [
           {
            "colorbar": {
             "outlinewidth": 0,
             "ticks": ""
            },
            "type": "contourcarpet"
           }
          ],
          "heatmap": [
           {
            "colorbar": {
             "outlinewidth": 0,
             "ticks": ""
            },
            "colorscale": [
             [
              0,
              "#0d0887"
             ],
             [
              0.1111111111111111,
              "#46039f"
             ],
             [
              0.2222222222222222,
              "#7201a8"
             ],
             [
              0.3333333333333333,
              "#9c179e"
             ],
             [
              0.4444444444444444,
              "#bd3786"
             ],
             [
              0.5555555555555556,
              "#d8576b"
             ],
             [
              0.6666666666666666,
              "#ed7953"
             ],
             [
              0.7777777777777778,
              "#fb9f3a"
             ],
             [
              0.8888888888888888,
              "#fdca26"
             ],
             [
              1,
              "#f0f921"
             ]
            ],
            "type": "heatmap"
           }
          ],
          "heatmapgl": [
           {
            "colorbar": {
             "outlinewidth": 0,
             "ticks": ""
            },
            "colorscale": [
             [
              0,
              "#0d0887"
             ],
             [
              0.1111111111111111,
              "#46039f"
             ],
             [
              0.2222222222222222,
              "#7201a8"
             ],
             [
              0.3333333333333333,
              "#9c179e"
             ],
             [
              0.4444444444444444,
              "#bd3786"
             ],
             [
              0.5555555555555556,
              "#d8576b"
             ],
             [
              0.6666666666666666,
              "#ed7953"
             ],
             [
              0.7777777777777778,
              "#fb9f3a"
             ],
             [
              0.8888888888888888,
              "#fdca26"
             ],
             [
              1,
              "#f0f921"
             ]
            ],
            "type": "heatmapgl"
           }
          ],
          "histogram": [
           {
            "marker": {
             "pattern": {
              "fillmode": "overlay",
              "size": 10,
              "solidity": 0.2
             }
            },
            "type": "histogram"
           }
          ],
          "histogram2d": [
           {
            "colorbar": {
             "outlinewidth": 0,
             "ticks": ""
            },
            "colorscale": [
             [
              0,
              "#0d0887"
             ],
             [
              0.1111111111111111,
              "#46039f"
             ],
             [
              0.2222222222222222,
              "#7201a8"
             ],
             [
              0.3333333333333333,
              "#9c179e"
             ],
             [
              0.4444444444444444,
              "#bd3786"
             ],
             [
              0.5555555555555556,
              "#d8576b"
             ],
             [
              0.6666666666666666,
              "#ed7953"
             ],
             [
              0.7777777777777778,
              "#fb9f3a"
             ],
             [
              0.8888888888888888,
              "#fdca26"
             ],
             [
              1,
              "#f0f921"
             ]
            ],
            "type": "histogram2d"
           }
          ],
          "histogram2dcontour": [
           {
            "colorbar": {
             "outlinewidth": 0,
             "ticks": ""
            },
            "colorscale": [
             [
              0,
              "#0d0887"
             ],
             [
              0.1111111111111111,
              "#46039f"
             ],
             [
              0.2222222222222222,
              "#7201a8"
             ],
             [
              0.3333333333333333,
              "#9c179e"
             ],
             [
              0.4444444444444444,
              "#bd3786"
             ],
             [
              0.5555555555555556,
              "#d8576b"
             ],
             [
              0.6666666666666666,
              "#ed7953"
             ],
             [
              0.7777777777777778,
              "#fb9f3a"
             ],
             [
              0.8888888888888888,
              "#fdca26"
             ],
             [
              1,
              "#f0f921"
             ]
            ],
            "type": "histogram2dcontour"
           }
          ],
          "mesh3d": [
           {
            "colorbar": {
             "outlinewidth": 0,
             "ticks": ""
            },
            "type": "mesh3d"
           }
          ],
          "parcoords": [
           {
            "line": {
             "colorbar": {
              "outlinewidth": 0,
              "ticks": ""
             }
            },
            "type": "parcoords"
           }
          ],
          "pie": [
           {
            "automargin": true,
            "type": "pie"
           }
          ],
          "scatter": [
           {
            "fillpattern": {
             "fillmode": "overlay",
             "size": 10,
             "solidity": 0.2
            },
            "type": "scatter"
           }
          ],
          "scatter3d": [
           {
            "line": {
             "colorbar": {
              "outlinewidth": 0,
              "ticks": ""
             }
            },
            "marker": {
             "colorbar": {
              "outlinewidth": 0,
              "ticks": ""
             }
            },
            "type": "scatter3d"
           }
          ],
          "scattercarpet": [
           {
            "marker": {
             "colorbar": {
              "outlinewidth": 0,
              "ticks": ""
             }
            },
            "type": "scattercarpet"
           }
          ],
          "scattergeo": [
           {
            "marker": {
             "colorbar": {
              "outlinewidth": 0,
              "ticks": ""
             }
            },
            "type": "scattergeo"
           }
          ],
          "scattergl": [
           {
            "marker": {
             "colorbar": {
              "outlinewidth": 0,
              "ticks": ""
             }
            },
            "type": "scattergl"
           }
          ],
          "scattermapbox": [
           {
            "marker": {
             "colorbar": {
              "outlinewidth": 0,
              "ticks": ""
             }
            },
            "type": "scattermapbox"
           }
          ],
          "scatterpolar": [
           {
            "marker": {
             "colorbar": {
              "outlinewidth": 0,
              "ticks": ""
             }
            },
            "type": "scatterpolar"
           }
          ],
          "scatterpolargl": [
           {
            "marker": {
             "colorbar": {
              "outlinewidth": 0,
              "ticks": ""
             }
            },
            "type": "scatterpolargl"
           }
          ],
          "scatterternary": [
           {
            "marker": {
             "colorbar": {
              "outlinewidth": 0,
              "ticks": ""
             }
            },
            "type": "scatterternary"
           }
          ],
          "surface": [
           {
            "colorbar": {
             "outlinewidth": 0,
             "ticks": ""
            },
            "colorscale": [
             [
              0,
              "#0d0887"
             ],
             [
              0.1111111111111111,
              "#46039f"
             ],
             [
              0.2222222222222222,
              "#7201a8"
             ],
             [
              0.3333333333333333,
              "#9c179e"
             ],
             [
              0.4444444444444444,
              "#bd3786"
             ],
             [
              0.5555555555555556,
              "#d8576b"
             ],
             [
              0.6666666666666666,
              "#ed7953"
             ],
             [
              0.7777777777777778,
              "#fb9f3a"
             ],
             [
              0.8888888888888888,
              "#fdca26"
             ],
             [
              1,
              "#f0f921"
             ]
            ],
            "type": "surface"
           }
          ],
          "table": [
           {
            "cells": {
             "fill": {
              "color": "#EBF0F8"
             },
             "line": {
              "color": "white"
             }
            },
            "header": {
             "fill": {
              "color": "#C8D4E3"
             },
             "line": {
              "color": "white"
             }
            },
            "type": "table"
           }
          ]
         },
         "layout": {
          "annotationdefaults": {
           "arrowcolor": "#2a3f5f",
           "arrowhead": 0,
           "arrowwidth": 1
          },
          "autotypenumbers": "strict",
          "coloraxis": {
           "colorbar": {
            "outlinewidth": 0,
            "ticks": ""
           }
          },
          "colorscale": {
           "diverging": [
            [
             0,
             "#8e0152"
            ],
            [
             0.1,
             "#c51b7d"
            ],
            [
             0.2,
             "#de77ae"
            ],
            [
             0.3,
             "#f1b6da"
            ],
            [
             0.4,
             "#fde0ef"
            ],
            [
             0.5,
             "#f7f7f7"
            ],
            [
             0.6,
             "#e6f5d0"
            ],
            [
             0.7,
             "#b8e186"
            ],
            [
             0.8,
             "#7fbc41"
            ],
            [
             0.9,
             "#4d9221"
            ],
            [
             1,
             "#276419"
            ]
           ],
           "sequential": [
            [
             0,
             "#0d0887"
            ],
            [
             0.1111111111111111,
             "#46039f"
            ],
            [
             0.2222222222222222,
             "#7201a8"
            ],
            [
             0.3333333333333333,
             "#9c179e"
            ],
            [
             0.4444444444444444,
             "#bd3786"
            ],
            [
             0.5555555555555556,
             "#d8576b"
            ],
            [
             0.6666666666666666,
             "#ed7953"
            ],
            [
             0.7777777777777778,
             "#fb9f3a"
            ],
            [
             0.8888888888888888,
             "#fdca26"
            ],
            [
             1,
             "#f0f921"
            ]
           ],
           "sequentialminus": [
            [
             0,
             "#0d0887"
            ],
            [
             0.1111111111111111,
             "#46039f"
            ],
            [
             0.2222222222222222,
             "#7201a8"
            ],
            [
             0.3333333333333333,
             "#9c179e"
            ],
            [
             0.4444444444444444,
             "#bd3786"
            ],
            [
             0.5555555555555556,
             "#d8576b"
            ],
            [
             0.6666666666666666,
             "#ed7953"
            ],
            [
             0.7777777777777778,
             "#fb9f3a"
            ],
            [
             0.8888888888888888,
             "#fdca26"
            ],
            [
             1,
             "#f0f921"
            ]
           ]
          },
          "colorway": [
           "#636efa",
           "#EF553B",
           "#00cc96",
           "#ab63fa",
           "#FFA15A",
           "#19d3f3",
           "#FF6692",
           "#B6E880",
           "#FF97FF",
           "#FECB52"
          ],
          "font": {
           "color": "#2a3f5f"
          },
          "geo": {
           "bgcolor": "white",
           "lakecolor": "white",
           "landcolor": "#E5ECF6",
           "showlakes": true,
           "showland": true,
           "subunitcolor": "white"
          },
          "hoverlabel": {
           "align": "left"
          },
          "hovermode": "closest",
          "mapbox": {
           "style": "light"
          },
          "paper_bgcolor": "white",
          "plot_bgcolor": "#E5ECF6",
          "polar": {
           "angularaxis": {
            "gridcolor": "white",
            "linecolor": "white",
            "ticks": ""
           },
           "bgcolor": "#E5ECF6",
           "radialaxis": {
            "gridcolor": "white",
            "linecolor": "white",
            "ticks": ""
           }
          },
          "scene": {
           "xaxis": {
            "backgroundcolor": "#E5ECF6",
            "gridcolor": "white",
            "gridwidth": 2,
            "linecolor": "white",
            "showbackground": true,
            "ticks": "",
            "zerolinecolor": "white"
           },
           "yaxis": {
            "backgroundcolor": "#E5ECF6",
            "gridcolor": "white",
            "gridwidth": 2,
            "linecolor": "white",
            "showbackground": true,
            "ticks": "",
            "zerolinecolor": "white"
           },
           "zaxis": {
            "backgroundcolor": "#E5ECF6",
            "gridcolor": "white",
            "gridwidth": 2,
            "linecolor": "white",
            "showbackground": true,
            "ticks": "",
            "zerolinecolor": "white"
           }
          },
          "shapedefaults": {
           "line": {
            "color": "#2a3f5f"
           }
          },
          "ternary": {
           "aaxis": {
            "gridcolor": "white",
            "linecolor": "white",
            "ticks": ""
           },
           "baxis": {
            "gridcolor": "white",
            "linecolor": "white",
            "ticks": ""
           },
           "bgcolor": "#E5ECF6",
           "caxis": {
            "gridcolor": "white",
            "linecolor": "white",
            "ticks": ""
           }
          },
          "title": {
           "x": 0.05
          },
          "xaxis": {
           "automargin": true,
           "gridcolor": "white",
           "linecolor": "white",
           "ticks": "",
           "title": {
            "standoff": 15
           },
           "zerolinecolor": "white",
           "zerolinewidth": 2
          },
          "yaxis": {
           "automargin": true,
           "gridcolor": "white",
           "linecolor": "white",
           "ticks": "",
           "title": {
            "standoff": 15
           },
           "zerolinecolor": "white",
           "zerolinewidth": 2
          }
         }
        },
        "title": {
         "text": "United states: United states ism manufacturing new orders"
        },
        "xaxis": {
         "anchor": "y",
         "domain": [
          0,
          1
         ],
         "title": {
          "text": ""
         }
        },
        "yaxis": {
         "anchor": "x",
         "domain": [
          0,
          1
         ],
         "title": {
          "text": "Points"
         }
        }
       }
      }
     },
     "metadata": {},
     "output_type": "display_data"
    }
   ],
   "source": [
    "scraped = search.scraped_data\n",
    "scraped.plot_series(ann_box_pos=(0, -0.23))"
   ]
  },
  {
   "cell_type": "code",
   "execution_count": 44,
   "metadata": {},
   "outputs": [
    {
     "data": {
      "text/plain": [
       "1950-01-01    62.3\n",
       "1950-02-01     NaN\n",
       "1950-03-01    61.8\n",
       "1950-04-01    71.0\n",
       "1950-05-01    76.6\n",
       "              ... \n",
       "2024-08-01    44.6\n",
       "2024-09-01     NaN\n",
       "2024-10-01    47.1\n",
       "2024-11-01     NaN\n",
       "2024-12-01    52.5\n",
       "Freq: MS, Name: ism manufacturing new orders, Length: 900, dtype: float64"
      ]
     },
     "execution_count": 44,
     "metadata": {},
     "output_type": "execute_result"
    }
   ],
   "source": [
    "scraped.series"
   ]
  },
  {
   "cell_type": "code",
   "execution_count": 7,
   "metadata": {},
   "outputs": [
    {
     "name": "stderr",
     "output_type": "stream",
     "text": [
      "INFO - Plot saved as plot\n"
     ]
    }
   ],
   "source": [
    "scraped.save_plot(format=\"png\")  #Export static plot as png if you wish. Use format=\"html\" for interactive plot export."
   ]
  },
  {
   "cell_type": "code",
   "execution_count": null,
   "metadata": {},
   "outputs": [
    {
     "data": {
      "text/plain": [
       "{'units': 'points',\n",
       " 'original_source': 'Institute for Supply Management',\n",
       " 'title': 'United States ISM Manufacturing New Orders',\n",
       " 'indicator': 'ism manufacturing new orders',\n",
       " 'country': 'united states',\n",
       " 'length': 900,\n",
       " 'frequency': 'MS',\n",
       " 'source': 'Trading Economics',\n",
       " 'id': 'united-states/ism-manufacturing-new-orders',\n",
       " 'start_date': '1950-01-01',\n",
       " 'end_date': '2024-12-01',\n",
       " 'min_value': 24.200000000000998,\n",
       " 'max_value': 82.6000000000004,\n",
       " 'description': \"The Manufacturing ISM Report On Business is based on data compiled from purchasing and supply executives nationwide. Survey responses reflect the change, if any, in the current month compared to the previous month. For each of the indicators measured (New Orders, Backlog of Orders, New Export Orders, Imports, Production, Supplier Deliveries, Inventories, Customers' Inventories, Employment and Prices), the report shows the percentage reporting each response, the net difference between the number of responses in the positive economic direction and the negative economic direction, and the diffusion index. A PMI reading above 50 percent indicates that the manufacturing economy is generally expanding; below 50 percent indicates that it is generally declining.\"}"
      ]
     },
     "execution_count": 8,
     "metadata": {},
     "output_type": "execute_result"
    }
   ],
   "source": [
    "scraped.metadata"
   ]
  },
  {
   "cell_type": "markdown",
   "metadata": {},
   "source": [
    "# Method #2: Download data for a given Indicator + Country combination or a given URL with a single line."
   ]
  },
  {
   "cell_type": "code",
   "execution_count": 53,
   "metadata": {},
   "outputs": [
    {
     "name": "stderr",
     "output_type": "stream",
     "text": [
      "INFO - WebPage at https://tradingeconomics.com/united-states/ism-manufacturing-new-orders loaded successfully.\n",
      "INFO - Page at https://tradingeconomics.com/united-states/ism-manufacturing-new-orders loaded successfully.\n"
     ]
    },
    {
     "name": "stdout",
     "output_type": "stream",
     "text": [
      "No selected date span found.\n"
     ]
    },
    {
     "name": "stderr",
     "output_type": "stream",
     "text": [
      "INFO - Button clicked successfully: a.hawk-chartOptions-datePicker-cnt-btn:nth-child(5)\n",
      "INFO - Date span set to: MAX\n",
      "INFO - Y-axis values scraped successfully.\n",
      "INFO - Chart types dictionary created successfully: {'Column': '.barChart .dkLabels-label-btn', 'Spline': '.splineChart .dkLabels-label-btn', 'Areaspline': '.areasplineChart .dkLabels-label-btn', 'Stepline': '.stepLine .dkLabels-label-btn', 'Line': '.lineChart .dkLabels-label-btn', 'Area': '.areaChart .dkLabels-label-btn'}\n"
     ]
    },
    {
     "name": "stdout",
     "output_type": "stream",
     "text": [
      "Successfully scraped y-axis values from the chart:  \n",
      " pixheight\n",
      "39.5     19\n",
      "83.5     29\n",
      "135.5    41\n",
      "188.5    53\n",
      "240.5    65\n",
      "292.5    77\n",
      "335.5    87\n",
      "Name: ytick_label, dtype: int64\n"
     ]
    },
    {
     "name": "stderr",
     "output_type": "stream",
     "text": [
      "INFO - Button clicked successfully: #chart > div > div > div.hawk-header > div > div.pickChartTypes > div > button\n",
      "INFO - Button clicked successfully: .lineChart .dkLabels-label-btn\n",
      "INFO - Line chart type selected.\n",
      "INFO - Series path extraction method: Extracting series data from chart soup.\n",
      "INFO - Date span: MAX. best to use MAX date span. Chart type: lineChart, URL: https://tradingeconomics.com/united-states/ism-manufacturing-new-orders.\n",
      "INFO - Raw data series extracted successfully: 0.000000    228.345588\n",
      "0.762453    229.213235\n",
      "1.451120    226.176471\n",
      "2.213573    266.088235\n",
      "2.951431    290.382353\n",
      "Name: Extracted Series, dtype: float64\n"
     ]
    },
    {
     "name": "stdout",
     "output_type": "stream",
     "text": [
      "Successfully scraped raw pixel co-ordinate series from the path element in chart:  \n",
      " 0.000000      228.345588\n",
      "0.762453      229.213235\n",
      "1.451120      226.176471\n",
      "2.213573      266.088235\n",
      "2.951431      290.382353\n",
      "                 ...    \n",
      "669.999379    151.558824\n",
      "670.761832    158.066176\n",
      "671.499689    162.404412\n",
      "672.262142    176.720588\n",
      "673.000000    185.830882\n",
      "Name: Extracted Series, Length: 902, dtype: float64\n",
      "Using selenium and tooltip scraping to construct the date time index for the time-series, this'll take a bit...\n"
     ]
    },
    {
     "name": "stderr",
     "output_type": "stream",
     "text": [
      "INFO - Button clicked successfully: #chart > div > div > div.hawk-header > div > div.pickChartTypes > div > button\n",
      "INFO - Button clicked successfully: .lineChart .dkLabels-label-btn\n",
      "INFO - Line chart type selected.\n"
     ]
    },
    {
     "name": "stdout",
     "output_type": "stream",
     "text": [
      "No selected date span found.\n",
      "Getting chart dimensions and plot bakground element.\n",
      "Got chart dimensions and plot bakground element.\n",
      "Moved cursor to (144.0, 503.0)\n",
      "Moved cursor to (817.0, 503.0)\n"
     ]
    },
    {
     "name": "stderr",
     "output_type": "stream",
     "text": [
      "INFO - Start and end values scraped from tooltips: {'start_date': Timestamp('1950-01-01 00:00:00'), 'start_value': 62.3, 'end_date': Timestamp('2024-12-01 00:00:00'), 'end_value': 52.5}\n"
     ]
    },
    {
     "name": "stdout",
     "output_type": "stream",
     "text": [
      "Start and end dates scraped from tooltips:  {'start_date': Timestamp('1950-01-01 00:00:00'), 'start_value': 62.3, 'end_date': Timestamp('2024-12-01 00:00:00'), 'end_value': 52.5}\n"
     ]
    },
    {
     "name": "stderr",
     "output_type": "stream",
     "text": [
      "INFO - Button clicked successfully: a.hawk-chartOptions-datePicker-cnt-btn:nth-child(1)\n",
      "INFO - Date span set to: 1Y\n",
      "INFO - Button clicked successfully: #chart > div > div > div.hawk-header > div > div.pickChartTypes > div > button\n",
      "INFO - Button clicked successfully: .lineChart .dkLabels-label-btn\n",
      "INFO - Line chart type selected.\n"
     ]
    },
    {
     "name": "stdout",
     "output_type": "stream",
     "text": [
      "Viewport dimensions: 1366 x 683\n",
      "Chart position in viewport: x=144.0, y=355.0\n",
      "480.0\n"
     ]
    },
    {
     "name": "stderr",
     "output_type": "stream",
     "text": [
      "INFO - Date index created successfully.\n"
     ]
    },
    {
     "name": "stdout",
     "output_type": "stream",
     "text": [
      "Latest dates:  [Timestamp('2024-12-01 00:00:00'), Timestamp('2024-11-01 00:00:00'), Timestamp('2024-10-01 00:00:00'), Timestamp('2024-09-01 00:00:00'), Timestamp('2024-08-01 00:00:00'), Timestamp('2024-07-01 00:00:00'), Timestamp('2024-06-01 00:00:00'), Timestamp('2024-05-01 00:00:00'), Timestamp('2024-04-01 00:00:00'), Timestamp('2024-03-01 00:00:00')]\n",
      "MS\n"
     ]
    },
    {
     "name": "stderr",
     "output_type": "stream",
     "text": [
      "INFO - scale_series method: Start value, end value: 62.3, 52.5, 228.34558823529, 185.83088235294, 228.34558823529, 185.83088235294\n",
      "INFO - Start value, end value: 62.3, 52.5, pix0, pix1: 228.34558823529, 185.83088235294, data units per chart pixel from start & end points: 0.23050847457628706, unit_per_pix calculated from the y axis ticks: 0.2297589422424877, inverse of that: 4.352387725325613, unit_per_pix from axis limits and self.y_axis (probably best way): 0.2305084745762712\n",
      "INFO - Successfully scaled series.\n"
     ]
    },
    {
     "name": "stdout",
     "output_type": "stream",
     "text": [
      "Successfully scraped time-series from chart at:  https://tradingeconomics.com/united-states/ism-manufacturing-new-orders  \n",
      " 1950-01-01    62.3\n",
      "1950-02-01     NaN\n",
      "1950-03-01    61.8\n",
      "1950-04-01    71.0\n",
      "1950-05-01    76.6\n",
      "              ... \n",
      "2024-08-01    44.6\n",
      "2024-09-01     NaN\n",
      "2024-10-01    47.1\n",
      "2024-11-01     NaN\n",
      "2024-12-01    52.5\n",
      "Freq: MS, Name: ism manufacturing new orders, Length: 900, dtype: float64 now getting some metadata...\n",
      "Series metadata:  {'units': 'points', 'original_source': 'Institute for Supply Management', 'title': 'United States ISM Manufacturing New Orders', 'indicator': 'ism manufacturing new orders', 'country': 'united states', 'length': 900, 'frequency': 'MS', 'source': 'Trading Economics', 'id': 'united-states/ism-manufacturing-new-orders', 'start_date': '1950-01-01', 'end_date': '2024-12-01', 'min_value': 24.200000000000998, 'max_value': 82.6000000000004}\n",
      "Check the metadata:  units                                                         points\n",
      "original_source                      Institute for Supply Management\n",
      "title                     United States ISM Manufacturing New Orders\n",
      "indicator                               ism manufacturing new orders\n",
      "country                                                united states\n",
      "length                                                           900\n",
      "frequency                                                         MS\n",
      "source                                             Trading Economics\n",
      "id                        united-states/ism-manufacturing-new-orders\n",
      "start_date                                                1950-01-01\n",
      "end_date                                                  2024-12-01\n",
      "min_value                                                       24.2\n",
      "max_value                                                       82.6\n",
      "description        The Manufacturing ISM Report On Business is ba...\n",
      "dtype: object \n",
      "Scraping complete! Happy pirating yo!\n"
     ]
    }
   ],
   "source": [
    "scraped = ted.scrape_chart(id = \"ism-manufacturing-new-orders\")"
   ]
  },
  {
   "cell_type": "code",
   "execution_count": 54,
   "metadata": {},
   "outputs": [
    {
     "data": {
      "text/plain": [
       "0.000000      228.345588\n",
       "0.762453      229.213235\n",
       "1.451120      226.176471\n",
       "2.213573      266.088235\n",
       "2.951431      290.382353\n",
       "                 ...    \n",
       "669.999379    151.558824\n",
       "670.761832    158.066176\n",
       "671.499689    162.404412\n",
       "672.262142    176.720588\n",
       "673.000000    185.830882\n",
       "Name: Extracted Series, Length: 902, dtype: float64"
      ]
     },
     "execution_count": 54,
     "metadata": {},
     "output_type": "execute_result"
    }
   ],
   "source": [
    "scraped.trace_path_series"
   ]
  },
  {
   "cell_type": "code",
   "execution_count": 57,
   "metadata": {},
   "outputs": [
    {
     "data": {
      "application/vnd.plotly.v1+json": {
       "config": {
        "plotlyServerURL": "https://plot.ly"
       },
       "data": [
        {
         "hovertemplate": "variable=Extracted Series<br>index=%{x}<br>value=%{y}<extra></extra>",
         "legendgroup": "Extracted Series",
         "line": {
          "color": "#636efa",
          "dash": "solid"
         },
         "marker": {
          "symbol": "circle"
         },
         "mode": "lines",
         "name": "Extracted Series",
         "orientation": "v",
         "showlegend": true,
         "type": "scatter",
         "x": [
          0,
          0.76245294741074,
          1.4511201257172,
          2.2135730731279,
          2.9514307641706,
          3.7138837115813,
          4.451741402624,
          5.2141943500347,
          5.9766472974455,
          6.7145049884881,
          7.4769579358988,
          8.2148156269415,
          8.9772685743522,
          9.739721521763,
          10.428388700069,
          11.19084164748,
          11.928699338523,
          12.691152285934,
          13.429009976976,
          14.191462924387,
          14.953915871798,
          15.69177356284,
          16.454226510251,
          17.192084201294,
          17.954537148704,
          18.716990096115,
          19.43025253079,
          20.1927054782,
          20.930563169243,
          21.693016116654,
          22.430873807697,
          23.193326755107,
          23.955779702518,
          24.693637393561,
          25.456090340971,
          26.193948032014,
          26.956400979425,
          27.718853926836,
          28.407521105142,
          29.169974052553,
          29.907831743595,
          30.670284691006,
          31.408142382049,
          32.170595329459,
          32.93304827687,
          33.670905967913,
          34.433358915324,
          35.171216606366,
          35.933669553777,
          36.696122501188,
          37.384789679494,
          38.147242626905,
          38.885100317948,
          39.647553265358,
          40.385410956401,
          41.147863903812,
          41.910316851222,
          42.648174542265,
          43.410627489676,
          44.148485180718,
          44.910938128129,
          45.67339107554,
          46.362058253846,
          47.124511201257,
          47.8623688923,
          48.624821839711,
          49.362679530753,
          50.125132478164,
          50.887585425575,
          51.625443116617,
          52.387896064028,
          53.125753755071,
          53.888206702481,
          54.650659649892,
          55.363922084567,
          56.126375031977,
          56.86423272302,
          57.626685670431,
          58.364543361474,
          59.126996308884,
          59.889449256295,
          60.627306947338,
          61.389759894748,
          62.127617585791,
          62.890070533202,
          63.652523480613,
          64.341190658919,
          65.10364360633,
          65.841501297372,
          66.603954244783,
          67.341811935826,
          68.104264883236,
          68.866717830647,
          69.60457552169,
          70.367028469101,
          71.104886160143,
          71.867339107554,
          72.629792054965,
          73.318459233271,
          74.080912180682,
          74.818769871725,
          75.581222819135,
          76.319080510178,
          77.081533457589,
          77.843986404999,
          78.581844096042,
          79.344297043453,
          80.082154734495,
          80.844607681906,
          81.607060629317,
          82.295727807623,
          83.058180755034,
          83.796038446077,
          84.558491393488,
          85.29634908453,
          86.058802031941,
          86.821254979352,
          87.559112670394,
          88.321565617805,
          89.059423308848,
          89.821876256258,
          90.584329203669,
          91.297591638344,
          92.060044585754,
          92.797902276797,
          93.560355224208,
          94.298212915251,
          95.060665862661,
          95.823118810072,
          96.560976501115,
          97.323429448525,
          98.061287139568,
          98.823740086979,
          99.58619303439,
          100.2748602127,
          101.03731316011,
          101.77517085115,
          102.53762379856,
          103.2754814896,
          104.03793443701,
          104.80038738442,
          105.53824507547,
          106.30069802288,
          107.03855571392,
          107.80100866133,
          108.56346160874,
          109.25212878705,
          110.01458173446,
          110.7524394255,
          111.51489237291,
          112.25275006395,
          113.01520301137,
          113.77765595878,
          114.51551364982,
          115.27796659723,
          116.01582428827,
          116.77827723568,
          117.54073018309,
          118.2293973614,
          118.99185030881,
          119.72970799985,
          120.49216094726,
          121.23001863831,
          121.99247158572,
          122.75492453313,
          123.49278222417,
          124.25523517158,
          124.99309286262,
          125.75554581004,
          126.51799875745,
          127.23126119212,
          127.99371413953,
          128.73157183057,
          129.49402477798,
          130.23188246903,
          130.99433541644,
          131.75678836385,
          132.49464605489,
          133.2570990023,
          133.99495669335,
          134.75740964076,
          135.51986258817,
          136.20852976647,
          136.97098271388,
          137.70884040493,
          138.47129335234,
          139.20915104338,
          139.97160399079,
          140.7340569382,
          141.47191462924,
          142.23436757665,
          142.9722252677,
          143.73467821511,
          144.49713116252,
          145.18579834083,
          145.94825128824,
          146.68610897928,
          147.44856192669,
          148.18641961773,
          148.94887256514,
          149.71132551255,
          150.4491832036,
          151.21163615101,
          151.94949384205,
          152.71194678946,
          153.47439973687,
          154.16306691518,
          154.92551986259,
          155.66337755363,
          156.42583050104,
          157.16368819208,
          157.92614113949,
          158.68859408691,
          159.42645177795,
          160.18890472536,
          160.9267624164,
          161.68921536381,
          162.45166831122,
          163.1649307459,
          163.92738369331,
          164.66524138435,
          165.42769433176,
          166.1655520228,
          166.92800497022,
          167.69045791763,
          168.42831560867,
          169.19076855608,
          169.92862624712,
          170.69107919453,
          171.45353214194,
          172.14219932025,
          172.90465226766,
          173.6425099587,
          174.40496290611,
          175.14282059716,
          175.90527354457,
          176.66772649198,
          177.40558418302,
          178.16803713043,
          178.90589482147,
          179.66834776889,
          180.4308007163,
          181.1194678946,
          181.88192084201,
          182.61977853306,
          183.38223148047,
          184.12008917151,
          184.88254211892,
          185.64499506633,
          186.38285275737,
          187.14530570478,
          187.88316339583,
          188.64561634324,
          189.40806929065,
          190.09673646895,
          190.85918941637,
          191.59704710741,
          192.35950005482,
          193.09735774586,
          193.85981069327,
          194.62226364068,
          195.36012133173,
          196.12257427914,
          196.86043197018,
          197.62288491759,
          198.385337865,
          199.09860029967,
          199.86105324709,
          200.59891093813,
          201.36136388554,
          202.09922157658,
          202.86167452399,
          203.6241274714,
          204.36198516245,
          205.12443810986,
          205.8622958009,
          206.62474874831,
          207.38720169572,
          208.07586887403,
          208.83832182144,
          209.57617951248,
          210.33863245989,
          211.07649015093,
          211.83894309834,
          212.60139604576,
          213.3392537368,
          214.10170668421,
          214.83956437525,
          215.60201732266,
          216.36447027007,
          217.05313744838,
          217.81559039579,
          218.55344808683,
          219.31590103424,
          220.05375872529,
          220.8162116727,
          221.57866462011,
          222.31652231115,
          223.07897525856,
          223.8168329496,
          224.57928589701,
          225.34173884442,
          226.03040602273,
          226.79285897014,
          227.53071666118,
          228.2931696086,
          229.03102729964,
          229.79348024705,
          230.55593319446,
          231.2937908855,
          232.05624383291,
          232.79410152396,
          233.55655447137,
          234.31900741878,
          235.03226985345,
          235.79472280086,
          236.53258049191,
          237.29503343932,
          238.03289113036,
          238.79534407777,
          239.55779702518,
          240.29565471622,
          241.05810766363,
          241.79596535468,
          242.55841830209,
          243.3208712495,
          244.0095384278,
          244.77199137521,
          245.50984906626,
          246.27230201367,
          247.01015970471,
          247.77261265212,
          248.53506559953,
          249.27292329057,
          250.03537623799,
          250.77323392903,
          251.53568687644,
          252.29813982385,
          252.98680700216,
          253.74925994957,
          254.48711764061,
          255.24957058802,
          255.98742827906,
          256.74988122647,
          257.51233417388,
          258.25019186493,
          259.01264481234,
          259.75050250338,
          260.51295545079,
          261.2754083982,
          261.96407557651,
          262.72652852392,
          263.46438621496,
          264.22683916237,
          264.96469685342,
          265.72714980083,
          266.48960274824,
          267.22746043928,
          267.98991338669,
          268.72777107773,
          269.49022402514,
          270.25267697255,
          270.96593940723,
          271.72839235464,
          272.46625004568,
          273.22870299309,
          273.96656068414,
          274.72901363155,
          275.49146657896,
          276.22932427,
          276.99177721741,
          277.72963490845,
          278.49208785586,
          279.25454080327,
          279.94320798158,
          280.70566092899,
          281.44351862003,
          282.20597156745,
          282.94382925849,
          283.7062822059,
          284.46873515331,
          285.20659284435,
          285.96904579176,
          286.70690348281,
          287.46935643022,
          288.23180937763,
          288.92047655593,
          289.68292950334,
          290.42078719439,
          291.1832401418,
          291.92109783284,
          292.68355078025,
          293.44600372766,
          294.1838614187,
          294.94631436611,
          295.68417205716,
          296.44662500457,
          297.20907795198,
          297.89774513029,
          298.6601980777,
          299.39805576874,
          300.16050871615,
          300.89836640719,
          301.6608193546,
          302.42327230201,
          303.16112999306,
          303.92358294047,
          304.66144063151,
          305.42389357892,
          306.18634652633,
          306.89960896101,
          307.66206190842,
          308.39991959946,
          309.16237254687,
          309.90023023791,
          310.66268318532,
          311.42513613273,
          312.16299382378,
          312.92544677119,
          313.66330446223,
          314.42575740964,
          315.18821035705,
          315.87687753536,
          316.63933048277,
          317.37718817381,
          318.13964112122,
          318.87749881226,
          319.63995175968,
          320.40240470709,
          321.14026239813,
          321.90271534554,
          322.64057303658,
          323.40302598399,
          324.1654789314,
          324.85414610971,
          325.61659905712,
          326.35445674816,
          327.11690969557,
          327.85476738662,
          328.61722033403,
          329.37967328144,
          330.11753097248,
          330.87998391989,
          331.61784161093,
          332.38029455835,
          333.14274750576,
          333.83141468406,
          334.59386763147,
          335.33172532252,
          336.09417826993,
          336.83203596097,
          337.59448890838,
          338.35694185579,
          339.09479954683,
          339.85725249424,
          340.59511018529,
          341.3575631327,
          342.12001608011,
          342.83327851478,
          343.59573146219,
          344.33358915324,
          345.09604210065,
          345.83389979169,
          346.5963527391,
          347.35880568651,
          348.09666337755,
          348.85911632496,
          349.59697401601,
          350.35942696342,
          351.12187991083,
          351.81054708914,
          352.57300003655,
          353.31085772759,
          354.073310675,
          354.81116836604,
          355.57362131345,
          356.33607426086,
          357.07393195191,
          357.83638489932,
          358.57424259036,
          359.33669553777,
          360.09914848518,
          360.78781566349,
          361.5502686109,
          362.28812630194,
          363.05057924935,
          363.78843694039,
          364.5508898878,
          365.31334283522,
          366.05120052626,
          366.81365347367,
          367.55151116471,
          368.31396411212,
          369.07641705953,
          369.76508423784,
          370.52753718525,
          371.26539487629,
          372.0278478237,
          372.76570551475,
          373.52815846216,
          374.29061140957,
          375.02846910061,
          375.79092204802,
          376.52877973906,
          377.29123268647,
          378.05368563389,
          378.76694806856,
          379.52940101597,
          380.26725870701,
          381.02971165442,
          381.76756934547,
          382.53002229288,
          383.29247524029,
          384.03033293133,
          384.79278587874,
          385.53064356978,
          386.29309651719,
          387.05554946461,
          387.74421664291,
          388.50666959032,
          389.24452728137,
          390.00698022878,
          390.74483791982,
          391.50729086723,
          392.26974381464,
          393.00760150568,
          393.77005445309,
          394.50791214414,
          395.27036509155,
          396.03281803896,
          396.72148521726,
          397.48393816467,
          398.22179585572,
          398.98424880313,
          399.72210649417,
          400.48455944158,
          401.24701238899,
          401.98487008004,
          402.74732302745,
          403.48518071849,
          404.2476336659,
          405.01008661331,
          405.69875379162,
          406.46120673903,
          407.19906443007,
          407.96151737748,
          408.69937506852,
          409.46182801593,
          410.22428096334,
          410.96213865439,
          411.7245916018,
          412.46244929284,
          413.22490224025,
          413.98735518766,
          414.70061762234,
          415.46307056975,
          416.20092826079,
          416.9633812082,
          417.70123889924,
          418.46369184665,
          419.22614479407,
          419.96400248511,
          420.72645543252,
          421.46431312356,
          422.22676607097,
          422.98921901838,
          423.67788619669,
          424.4403391441,
          425.17819683514,
          425.94064978255,
          426.6785074736,
          427.44096042101,
          428.20341336842,
          428.94127105946,
          429.70372400687,
          430.44158169791,
          431.20403464532,
          431.96648759273,
          432.65515477104,
          433.41760771845,
          434.15546540949,
          434.91791835691,
          435.65577604795,
          436.41822899536,
          437.18068194277,
          437.91853963381,
          438.68099258122,
          439.41885027227,
          440.18130321968,
          440.94375616709,
          441.63242334539,
          442.3948762928,
          443.13273398385,
          443.89518693126,
          444.6330446223,
          445.39549756971,
          446.15795051712,
          446.89580820816,
          447.65826115558,
          448.39611884662,
          449.15857179403,
          449.92102474144,
          450.63428717611,
          451.39674012352,
          452.13459781457,
          452.89705076198,
          453.63490845302,
          454.39736140043,
          455.15981434784,
          455.89767203888,
          456.6601249863,
          457.39798267734,
          458.16043562475,
          458.92288857216,
          459.61155575047,
          460.37400869788,
          461.11186638892,
          461.87431933633,
          462.61217702737,
          463.37462997478,
          464.13708292219,
          464.87494061324,
          465.63739356065,
          466.37525125169,
          467.1377041991,
          467.90015714651,
          468.58882432482,
          469.35127727223,
          470.08913496327,
          470.85158791068,
          471.58944560173,
          472.35189854914,
          473.11435149655,
          473.85220918759,
          474.614662135,
          475.35251982604,
          476.11497277345,
          476.87742572086,
          477.56609289917,
          478.32854584658,
          479.06640353762,
          479.82885648503,
          480.56671417608,
          481.32916712349,
          482.0916200709,
          482.82947776194,
          483.59193070935,
          484.32978840039,
          485.09224134781,
          485.85469429522,
          486.56795672989,
          487.3304096773,
          488.06826736834,
          488.83072031575,
          489.5685780068,
          490.33103095421,
          491.09348390162,
          491.83134159266,
          492.59379454007,
          493.33165223112,
          494.09410517853,
          494.85655812594,
          495.54522530424,
          496.30767825165,
          497.0455359427,
          497.80798889011,
          498.54584658115,
          499.30829952856,
          500.07075247597,
          500.80861016701,
          501.57106311442,
          502.30892080547,
          503.07137375288,
          503.83382670029,
          504.5224938786,
          505.28494682601,
          506.02280451705,
          506.78525746446,
          507.5231151555,
          508.28556810291,
          509.04802105032,
          509.78587874137,
          510.54833168878,
          511.28618937982,
          512.04864232723,
          512.81109527464,
          513.49976245295,
          514.26221540036,
          515.0000730914,
          515.76252603881,
          516.50038372985,
          517.26283667726,
          518.02528962468,
          518.76314731572,
          519.52560026313,
          520.26345795417,
          521.02591090158,
          521.78836384899,
          522.50162628367,
          523.26407923108,
          524.00193692212,
          524.76438986953,
          525.50224756057,
          526.26470050799,
          527.0271534554,
          527.76501114644,
          528.52746409385,
          529.26532178489,
          530.0277747323,
          530.79022767971,
          531.47889485802,
          532.24134780543,
          532.97920549647,
          533.74165844388,
          534.47951613493,
          535.24196908234,
          536.00442202975,
          536.74227972079,
          537.5047326682,
          538.24259035924,
          539.00504330666,
          539.76749625407,
          540.45616343237,
          541.21861637978,
          541.95647407083,
          542.71892701824,
          543.45678470928,
          544.21923765669,
          544.9816906041,
          545.71954829514,
          546.48200124255,
          547.2198589336,
          547.98231188101,
          548.74476482842,
          549.43343200672,
          550.19588495414,
          550.93374264518,
          551.69619559259,
          552.43405328363,
          553.19650623104,
          553.95895917845,
          554.6968168695,
          555.45926981691,
          556.19712750795,
          556.95958045536,
          557.72203340277,
          558.43529583744,
          559.19774878486,
          559.9356064759,
          560.69805942331,
          561.43591711435,
          562.19837006176,
          562.96082300917,
          563.69868070022,
          564.46113364763,
          565.19899133867,
          565.96144428608,
          566.72389723349,
          567.4125644118,
          568.17501735921,
          568.91287505025,
          569.67532799766,
          570.4131856887,
          571.17563863611,
          571.93809158353,
          572.67594927457,
          573.43840222198,
          574.17625991302,
          574.93871286043,
          575.70116580784,
          576.38983298615,
          577.15228593356,
          577.8901436246,
          578.65259657201,
          579.39045426306,
          580.15290721047,
          580.91536015788,
          581.65321784892,
          582.41567079633,
          583.15352848737,
          583.91598143478,
          584.67843438219,
          585.3671015605,
          586.12955450791,
          586.86741219895,
          587.62986514637,
          588.36772283741,
          589.13017578482,
          589.89262873223,
          590.63048642327,
          591.39293937068,
          592.13079706173,
          592.89325000914,
          593.65570295655,
          594.36896539122,
          595.13141833863,
          595.86927602968,
          596.63172897709,
          597.36958666813,
          598.13203961554,
          598.89449256295,
          599.63235025399,
          600.3948032014,
          601.13266089245,
          601.89511383986,
          602.65756678727,
          603.34623396557,
          604.10868691298,
          604.84654460403,
          605.60899755144,
          606.34685524248,
          607.10930818989,
          607.8717611373,
          608.60961882834,
          609.37207177576,
          610.1099294668,
          610.87238241421,
          611.63483536162,
          612.32350253993,
          613.08595548734,
          613.82381317838,
          614.58626612579,
          615.32412381683,
          616.08657676424,
          616.84902971165,
          617.5868874027,
          618.34934035011,
          619.08719804115,
          619.84965098856,
          620.61210393597,
          621.30077111428,
          622.06322406169,
          622.80108175273,
          623.56353470014,
          624.30139239119,
          625.0638453386,
          625.82629828601,
          626.56415597705,
          627.32660892446,
          628.0644666155,
          628.82691956291,
          629.58937251032,
          630.302634945,
          631.06508789241,
          631.80294558345,
          632.56539853086,
          633.30325622191,
          634.06570916932,
          634.82816211673,
          635.56601980777,
          636.32847275518,
          637.06633044622,
          637.82878339363,
          638.59123634104,
          639.27990351935,
          640.04235646676,
          640.7802141578,
          641.54266710522,
          642.28052479626,
          643.04297774367,
          643.80543069108,
          644.54328838212,
          645.30574132953,
          646.04359902058,
          646.80605196799,
          647.5685049154,
          648.2571720937,
          649.01962504111,
          649.75748273216,
          649.75748273216,
          650.51993567957,
          651.25779337061,
          652.02024631802,
          652.78269926543,
          653.52055695647,
          654.28300990388,
          655.02086759493,
          655.78332054234,
          656.54577348975,
          657.23444066806,
          657.99689361547,
          658.73475130651,
          658.73475130651,
          659.49720425392,
          660.23506194496,
          660.99751489237,
          661.75996783978,
          662.49782553083,
          663.26027847824,
          663.99813616928,
          664.76058911669,
          665.5230420641,
          666.23630449878,
          666.99875744619,
          667.73661513723,
          668.49906808464,
          669.23692577568,
          669.99937872309,
          670.7618316705,
          671.49968936155,
          672.26214230896,
          673
         ],
         "xaxis": "x",
         "y": [
          228.34558823529,
          229.21323529412,
          226.17647058824,
          266.08823529412,
          290.38235294118,
          316.41176470588,
          306.43382352941,
          292.55147058824,
          246.13235294118,
          170.64705882353,
          206.22058823529,
          251.77205882353,
          252.63970588235,
          261.75,
          222.70588235294,
          141.58088235294,
          154.16176470588,
          127.69852941176495,
          123.79411764705901,
          125.095588235294,
          167.17647058824,
          182.36029411765,
          171.94852941176,
          154.59558823529,
          161.10294117646998,
          141.58088235294,
          147.65441176471,
          113.38235294117601,
          148.52205882353,
          158.93382352941,
          259.14705882352996,
          211.86029411765,
          219.66911764706,
          217.93382352941,
          213.16176470588,
          220.10294117646998,
          238.32352941176,
          201.01470588235,
          162.83823529412,
          183.66176470588,
          171.94852941176,
          167.61029411765,
          149.82352941176,
          140.71323529412,
          131.169117647059,
          122.92647058823505,
          135.507352941176,
          120.75735294117601,
          144.18382352941,
          176.28676470588,
          195.375,
          211.42647058824,
          219.23529411765,
          238.32352941176,
          234.85294117646998,
          203.61764705882,
          227.91176470588,
          247.43382352941,
          244.39705882353002,
          277.36764705882,
          247.86764705882,
          278.66911764706,
          268.25735294118,
          265.65441176471,
          274.33088235293997,
          222.27205882353002,
          249.16911764706,
          263.48529411765,
          234.41911764706,
          245.69852941176,
          224.875,
          247,
          226.17647058824,
          201.88235294118,
          206.65441176471,
          200.58088235294,
          188,
          170.21323529412,
          150.69117647059,
          193.63970588235,
          220.53676470588,
          199.27941176471,
          205.35294117647,
          187.13235294118,
          207.95588235294,
          185.83088235294,
          179.75735294118,
          171.51470588235,
          158.06617647059,
          174.11764705882,
          164.57352941176,
          169.77941176471,
          191.47058823529,
          159.36764705882,
          162.83823529412,
          143.75,
          110.779411764706,
          163.27205882353002,
          154.59558823529,
          162.83823529412,
          204.05147058824,
          221.83823529412,
          246.56617647059,
          240.92647058824,
          248.73529411765,
          252.63970588235,
          255.24264705882,
          238.75735294118,
          257.41176470588,
          263.91911764706003,
          262.61764705882,
          248.30147058824,
          261.31617647059,
          236.58823529412,
          224.00735294118,
          194.07352941176,
          147.65441176471,
          174.98529411765,
          179.75735294118,
          230.51470588235,
          241.79411764706,
          185.83088235294,
          184.52941176471,
          183.66176470588,
          156.76470588235,
          171.51470588235,
          156.33088235294,
          199.27941176471,
          177.15441176471,
          175.41911764706,
          167.17647058824,
          164.13970588235,
          162.83823529412,
          169.34558823529,
          197.54411764706,
          251.77205882353,
          239.19117647059,
          235.72058823529,
          237.88970588235,
          230.94852941176,
          259.58088235293997,
          254.375,
          240.49264705882,
          276.5,
          215.76470588235,
          226.17647058824,
          218.80147058824,
          206.65441176471,
          190.60294117647,
          185.83088235294,
          188.86764705882,
          187.56617647059,
          188,
          190.60294117647,
          208.82352941176,
          217.06617647059,
          222.27205882353002,
          220.10294117646998,
          207.52205882353002,
          220.97058823529,
          248.30147058824,
          226.61029411765,
          218.80147058824,
          227.04411764706,
          217.5,
          235.72058823529,
          234.41911764706,
          212.29411764706,
          224.00735294118,
          226.17647058824,
          225.74264705882,
          233.98529411765,
          217.93382352941,
          238.75735294118,
          261.31617647059,
          253.07352941176,
          232.68382352941,
          213.59558823529,
          221.40441176471,
          237.45588235294,
          228.34558823529,
          232.25,
          256.11029411765,
          217.5,
          219.23529411765,
          207.08823529412,
          203.61764705882,
          201.01470588235,
          233.98529411765,
          227.04411764706,
          226.61029411765,
          230.94852941176,
          246.56617647059,
          244.83088235294,
          237.02205882353002,
          237.02205882353002,
          186.69852941176,
          200.58088235294,
          202.31617647059,
          189.30147058824,
          197.54411764706,
          181.92647058824,
          161.10294117646998,
          169.77941176471,
          158.5,
          153.72794117647,
          154.59558823529,
          159.36764705882,
          164.57352941176,
          182.79411764706,
          191.03676470588,
          198.41176470588,
          227.04411764706,
          200.14705882353,
          205.35294117647,
          215.76470588235,
          218.80147058824,
          203.61764705882,
          199.71323529412,
          237.88970588235,
          201.88235294118,
          193.63970588235,
          194.50735294118,
          191.47058823529,
          198.41176470588,
          211.86029411765,
          224.00735294118,
          204.05147058824,
          194.07352941176,
          209.25735294118,
          215.33088235294,
          194.07352941176,
          207.95588235294,
          186.69852941176,
          174.11764705882,
          181.49264705882,
          176.72058823529,
          183.22794117647,
          177.58823529412,
          166.30882352941,
          156.76470588235,
          156.76470588235,
          154.16176470588,
          156.33088235294,
          154.59558823529,
          188.86764705882,
          185.83088235294,
          182.79411764706,
          149.82352941176,
          151.99264705882,
          145.91911764706,
          180.19117647059,
          198.41176470588,
          230.51470588235,
          201.88235294118,
          216.63235294118,
          205.35294117647,
          209.25735294118,
          208.82352941176,
          211.42647058824,
          222.70588235294,
          224.44117647059,
          198.41176470588,
          233.55147058824,
          239.19117647059,
          244.39705882353002,
          238.32352941176,
          231.38235294118,
          248.30147058824,
          227.47794117646998,
          238.75735294118,
          240.49264705882,
          258.71323529412,
          265.22058823529,
          274.76470588235,
          269.99264705882,
          278.23529411765,
          257.41176470588,
          256.54411764706003,
          243.96323529412,
          233.55147058824,
          222.70588235294,
          171.51470588235,
          214.46323529412,
          218.36764705882,
          241.79411764706,
          240.92647058824,
          214.02941176471,
          199.71323529412,
          201.01470588235,
          209.69117647059,
          202.75,
          181.92647058824,
          183.22794117647,
          186.26470588235,
          175.85294117647,
          136.808823529412,
          116.41911764705901,
          101.66911764705901,
          79.11029411764702,
          100.36764705882399,
          131.602941176471,
          118.588235294118,
          142.88235294118,
          162.83823529412,
          196.24264705882,
          211.42647058824,
          219.66911764706,
          220.10294117646998,
          236.58823529412,
          227.91176470588,
          231.81617647059,
          234.85294117646998,
          256.11029411765,
          225.30882352941,
          240.92647058824,
          228.34558823529,
          220.97058823529,
          209.69117647059,
          208.38970588235,
          197.97794117647,
          205.35294117647,
          199.71323529412,
          213.59558823529,
          206.22058823529,
          204.48529411765,
          233.55147058824,
          219.66911764706,
          237.88970588235,
          210.125,
          213.59558823529,
          213.16176470588,
          205.35294117647,
          205.78676470588,
          214.89705882353002,
          221.40441176471,
          220.97058823529,
          201.88235294118,
          203.61764705882,
          219.23529411765,
          235.28676470588,
          233.98529411765,
          238.75735294118,
          224.00735294118,
          224.00735294118,
          213.16176470588,
          226.61029411765,
          217.93382352941,
          206.65441176471,
          212.29411764706,
          204.05147058824,
          197.11029411765,
          184.09558823529,
          172.38235294118,
          174.11764705882,
          161.53676470588,
          169.34558823529,
          163.27205882353002,
          159.80147058824,
          150.25735294118,
          162.40441176471,
          181.92647058824,
          148.08823529412,
          96.897058823529,
          69.13235294117601,
          63.058823529411995,
          114.683823529412,
          192.77205882353,
          191.90441176471,
          234.41911764706,
          241.36029411765,
          180.19117647059,
          169.34558823529,
          179.75735294118,
          175.85294117647,
          188.43382352941,
          199.71323529412,
          179.32352941176,
          164.57352941176,
          162.83823529412,
          141.14705882353,
          132.470588235294,
          100.36764705882399,
          127.69852941176495,
          131.169117647059,
          125.529411764706,
          133.338235294118,
          135.507352941176,
          123.36029411764704,
          140.279411764706,
          134.63970588235296,
          132.036764705882,
          133.338235294118,
          139.845588235294,
          138.11029411764704,
          157.63235294118,
          176.28676470588,
          220.97058823529,
          221.83823529412,
          215.76470588235,
          226.17647058824,
          228.34558823529,
          263.05147058824,
          253.50735294118,
          248.30147058824,
          259.58088235293997,
          258.27941176471,
          282.57352941176,
          234.41911764706,
          239.625,
          222.27205882353002,
          232.25,
          214.89705882353002,
          220.53676470588,
          192.77205882353,
          192.33823529412,
          162.83823529412,
          187.56617647059,
          183.66176470588,
          187.13235294118,
          182.79411764706,
          182.79411764706,
          171.08088235294,
          180.625,
          172.81617647059,
          178.02205882353,
          185.83088235294,
          182.79411764706,
          194.94117647059,
          189.73529411765,
          206.22058823529,
          195.80882352941,
          204.05147058824,
          205.78676470588,
          194.50735294118,
          194.07352941176,
          223.13970588235,
          197.97794117647,
          180.19117647059,
          211.42647058824,
          206.65441176471,
          194.50735294118,
          205.35294117647,
          198.41176470588,
          217.5,
          198.41176470588,
          225.30882352941,
          217.5,
          233.11764705882,
          223.57352941176,
          235.72058823529,
          230.08088235294,
          227.47794117646998,
          241.36029411765,
          215.33088235294,
          224.875,
          219.66911764706,
          205.35294117647,
          209.25735294118,
          207.95588235294,
          208.38970588235,
          233.98529411765,
          220.97058823529,
          214.89705882353002,
          212.29411764706,
          206.22058823529,
          211.42647058824,
          214.02941176471,
          206.65441176471,
          206.65441176471,
          183.66176470588,
          188.43382352941,
          178.02205882353,
          155.89705882353002,
          156.76470588235,
          154.16176470588,
          157.63235294118,
          171.94852941176,
          171.94852941176,
          176.72058823529,
          171.08088235294,
          185.83088235294,
          184.96323529412,
          191.03676470588,
          182.36029411765,
          183.66176470588,
          160.66911764706,
          155.46323529412,
          152.86029411765,
          145.05147058824,
          133.338235294118,
          125.095588235294,
          123.36029411764704,
          128.132352941176,
          142.01470588235,
          158.06617647059,
          170.21323529412,
          211.42647058824,
          199.27941176471,
          218.80147058824,
          221.40441176471,
          209.69117647059,
          190.16911764706,
          172.81617647059,
          173.25,
          210.99264705882,
          232.68382352941,
          214.46323529412,
          222.27205882353002,
          217.5,
          216.19852941176,
          213.16176470588,
          179.75735294118,
          191.47058823529,
          213.16176470588,
          222.70588235294,
          231.38235294118,
          217.06617647059,
          210.125,
          188,
          197.54411764706,
          181.92647058824,
          191.47058823529,
          197.97794117647,
          186.26470588235,
          213.59558823529,
          220.10294117646998,
          228.77941176471,
          233.55147058824,
          227.91176470588,
          230.51470588235,
          230.08088235294,
          225.30882352941,
          240.05882352941,
          236.58823529412,
          231.38235294118,
          230.08088235294,
          231.38235294118,
          224.875,
          213.59558823529,
          217.06617647059,
          203.61764705882,
          183.22794117647,
          184.52941176471,
          148.95588235294,
          146.78676470588,
          186.69852941176,
          159.80147058824,
          172.38235294118,
          164.13970588235,
          168.91176470588,
          157.19852941176,
          149.38970588235,
          158.06617647059,
          171.08088235294,
          184.96323529412,
          182.36029411765,
          215.76470588235,
          183.22794117647,
          194.94117647059,
          194.94117647059,
          187.56617647059,
          204.91911764706,
          225.74264705882,
          205.35294117647,
          207.95588235294,
          212.29411764706,
          203.61764705882,
          228.34558823529,
          215.76470588235,
          224.00735294118,
          219.66911764706,
          198.41176470588,
          222.27205882353002,
          207.08823529412,
          206.22058823529,
          205.78676470588,
          194.94117647059,
          196.24264705882,
          197.97794117647,
          181.49264705882,
          175.85294117647,
          182.79411764706,
          178.88970588235,
          172.38235294118,
          166.30882352941,
          167.61029411765,
          173.68382352941,
          185.39705882353,
          196.67647058824,
          200.58088235294,
          192.33823529412,
          208.82352941176,
          215.76470588235,
          194.94117647059,
          207.52205882353002,
          233.55147058824,
          224.00735294118,
          231.81617647059,
          219.66911764706,
          220.10294117646998,
          212.72794117646998,
          201.88235294118,
          198.41176470588,
          181.49264705882,
          174.98529411765,
          183.66176470588,
          174.98529411765,
          170.21323529412,
          168.04411764706,
          171.08088235294,
          140.71323529412,
          124.661764705882,
          131.169117647059,
          138.11029411764704,
          155.46323529412,
          152.86029411765,
          165.44117647059,
          171.51470588235,
          193.63970588235,
          180.625,
          126.83088235294099,
          171.08088235294,
          181.05882352941,
          197.54411764706,
          221.40441176471,
          234.85294117646998,
          217.93382352941,
          226.17647058824,
          223.57352941176,
          183.22794117647,
          177.58823529412,
          187.56617647059,
          184.09558823529,
          174.55147058824,
          212.72794117646998,
          210.55882352941,
          183.22794117647,
          162.83823529412,
          162.83823529412,
          189.73529411765,
          190.60294117647,
          204.48529411765,
          223.13970588235,
          221.83823529412,
          237.45588235294,
          257.84558823529,
          267.38970588235,
          264.35294117647004,
          246.56617647059,
          238.32352941176,
          249.16911764706,
          237.88970588235,
          222.27205882353002,
          230.51470588235,
          227.47794117646998,
          208.38970588235,
          211.42647058824,
          218.80147058824,
          245.69852941176,
          209.25735294118,
          200.58088235294,
          208.38970588235,
          189.73529411765,
          182.79411764706,
          199.71323529412,
          206.22058823529,
          208.82352941176,
          222.27205882353002,
          224.44117647059,
          223.57352941176,
          218.80147058824,
          213.59558823529,
          222.70588235294,
          205.35294117647,
          199.71323529412,
          196.24264705882,
          196.67647058824,
          200.14705882353,
          197.97794117647,
          195.80882352941,
          192.77205882353,
          178.45588235294,
          181.05882352941,
          198.84558823529,
          214.46323529412,
          201.01470588235,
          205.78676470588,
          205.35294117647,
          211.42647058824,
          207.52205882353002,
          201.44852941176,
          215.76470588235,
          200.14705882353,
          188.43382352941,
          174.55147058824,
          172.81617647059,
          177.15441176471,
          171.51470588235,
          158.5,
          165.875,
          172.81617647059,
          168.04411764706,
          168.91176470588,
          153.72794117647,
          96.897058823529,
          107.74264705882399,
          70.433823529412,
          99.066176470588,
          99.933823529412,
          137.242647058824,
          157.63235294118,
          179.32352941176,
          170.64705882353,
          203.61764705882,
          236.15441176471,
          238.75735294118,
          208.38970588235,
          236.58823529412,
          234.85294117646998,
          217.93382352941,
          208.38970588235,
          218.80147058824,
          235.72058823529,
          224.00735294118,
          212.29411764706,
          195.375,
          192.33823529412,
          183.22794117647,
          208.82352941176,
          210.99264705882,
          216.63235294118,
          237.88970588235,
          236.58823529412,
          224.00735294118,
          223.13970588235,
          194.94117647059,
          194.94117647059,
          204.91911764706,
          187.56617647059,
          182.79411764706,
          183.66176470588,
          196.24264705882,
          198.41176470588,
          218.36764705882,
          210.99264705882,
          205.35294117647,
          214.89705882353002,
          210.55882352941,
          163.27205882353002,
          165.44117647059,
          153.72794117647,
          184.52941176471,
          182.79411764706,
          165.875,
          167.61029411765,
          196.24264705882,
          213.59558823529,
          184.96323529412,
          188,
          184.09558823529,
          183.66176470588,
          202.75,
          209.69117647059,
          219.23529411765,
          207.08823529412,
          216.19852941176,
          235.28676470588,
          194.94117647059,
          212.29411764706,
          213.16176470588,
          206.65441176471,
          209.25735294118,
          204.48529411765,
          207.08823529412,
          218.80147058824,
          213.59558823529,
          217.5,
          225.30882352941,
          210.55882352941,
          195.375,
          193.63970588235,
          188.43382352941,
          191.03676470588,
          187.13235294118,
          191.47058823529,
          186.26470588235,
          180.19117647059,
          175.85294117647,
          182.36029411765,
          177.58823529412,
          172.81617647059,
          173.25,
          185.39705882353,
          198.41176470588,
          195.80882352941,
          198.41176470588,
          204.91911764706,
          197.97794117647,
          178.88970588235,
          189.73529411765,
          193.63970588235,
          198.41176470588,
          212.29411764706,
          218.36764705882,
          236.15441176471,
          227.04411764706,
          207.08823529412,
          225.30882352941,
          219.66911764706,
          225.30882352941,
          222.27205882353002,
          236.58823529412,
          235.72058823529,
          235.72058823529,
          243.09558823529,
          245.26470588235,
          236.15441176471,
          225.74264705882,
          232.25,
          232.25,
          233.55147058824,
          217.5,
          233.98529411765,
          226.61029411765,
          215.33088235294,
          221.40441176471,
          185.39705882353,
          204.05147058824,
          196.24264705882,
          203.18382352941,
          190.16911764706,
          185.83088235294,
          178.02205882353,
          180.19117647059,
          158.93382352941,
          169.34558823529,
          168.47794117646998,
          161.97058823529,
          164.13970588235,
          182.79411764706,
          172.81617647059,
          145.48529411765,
          76.50735294117601,
          96.463235294118,
          204.05147058824,
          222.27205882353002,
          245.26470588235,
          222.27205882353002,
          248.30147058824,
          243.09558823529,
          250.90441176471,
          223.13970588235,
          239.19117647059,
          253.07352941176,
          237.02205882353002,
          248.73529411765,
          244.39705882353002,
          239.625,
          247.43382352941,
          247.43382352941,
          217.5,
          224.875,
          222.70588235294,
          209.25735294118,
          225.74264705882,
          191.47058823529,
          190.16911764706,
          197.11029411765,
          197.11029411765,
          171.51470588235,
          166.30882352941,
          180.625,
          162.40441176471,
          171.51470588235,
          162.83823529412,
          153.72794117647,
          142.44852941176,
          161.97058823529,
          150.25735294118,
          156.33088235294,
          142.88235294118,
          142.88235294118,
          155.89705882353002,
          163.27205882353002,
          161.10294117646998,
          171.51470588235,
          155.46323529412,
          165.44117647059,
          161.97058823529,
          185.83088235294,
          171.51470588235,
          181.05882352941,
          171.08088235294,
          155.02941176471,
          171.94852941176,
          163.70588235294,
          151.55882352941,
          158.06617647059,
          162.40441176471,
          176.72058823529,
          185.83088235294
         ],
         "yaxis": "y"
        }
       ],
       "layout": {
        "annotations": [
         {
          "align": "left",
          "bgcolor": "rgba(255, 255, 255, 0.8)",
          "bordercolor": "black",
          "borderwidth": 1,
          "font": {
           "size": 10
          },
          "showarrow": false,
          "text": "Source: Trading Economics<br>Original Source: Institute for Supply Management<br>Frequency: MS",
          "x": 0,
          "xanchor": "left",
          "xref": "paper",
          "y": -0.23,
          "yanchor": "bottom",
          "yref": "paper"
         }
        ],
        "legend": {
         "orientation": "h",
         "title": {
          "text": ""
         },
         "tracegroupgap": 0,
         "x": 0.5,
         "xanchor": "center",
         "y": -0.2,
         "yanchor": "bottom"
        },
        "margin": {
         "t": 60
        },
        "template": {
         "data": {
          "bar": [
           {
            "error_x": {
             "color": "#2a3f5f"
            },
            "error_y": {
             "color": "#2a3f5f"
            },
            "marker": {
             "line": {
              "color": "#E5ECF6",
              "width": 0.5
             },
             "pattern": {
              "fillmode": "overlay",
              "size": 10,
              "solidity": 0.2
             }
            },
            "type": "bar"
           }
          ],
          "barpolar": [
           {
            "marker": {
             "line": {
              "color": "#E5ECF6",
              "width": 0.5
             },
             "pattern": {
              "fillmode": "overlay",
              "size": 10,
              "solidity": 0.2
             }
            },
            "type": "barpolar"
           }
          ],
          "carpet": [
           {
            "aaxis": {
             "endlinecolor": "#2a3f5f",
             "gridcolor": "white",
             "linecolor": "white",
             "minorgridcolor": "white",
             "startlinecolor": "#2a3f5f"
            },
            "baxis": {
             "endlinecolor": "#2a3f5f",
             "gridcolor": "white",
             "linecolor": "white",
             "minorgridcolor": "white",
             "startlinecolor": "#2a3f5f"
            },
            "type": "carpet"
           }
          ],
          "choropleth": [
           {
            "colorbar": {
             "outlinewidth": 0,
             "ticks": ""
            },
            "type": "choropleth"
           }
          ],
          "contour": [
           {
            "colorbar": {
             "outlinewidth": 0,
             "ticks": ""
            },
            "colorscale": [
             [
              0,
              "#0d0887"
             ],
             [
              0.1111111111111111,
              "#46039f"
             ],
             [
              0.2222222222222222,
              "#7201a8"
             ],
             [
              0.3333333333333333,
              "#9c179e"
             ],
             [
              0.4444444444444444,
              "#bd3786"
             ],
             [
              0.5555555555555556,
              "#d8576b"
             ],
             [
              0.6666666666666666,
              "#ed7953"
             ],
             [
              0.7777777777777778,
              "#fb9f3a"
             ],
             [
              0.8888888888888888,
              "#fdca26"
             ],
             [
              1,
              "#f0f921"
             ]
            ],
            "type": "contour"
           }
          ],
          "contourcarpet": [
           {
            "colorbar": {
             "outlinewidth": 0,
             "ticks": ""
            },
            "type": "contourcarpet"
           }
          ],
          "heatmap": [
           {
            "colorbar": {
             "outlinewidth": 0,
             "ticks": ""
            },
            "colorscale": [
             [
              0,
              "#0d0887"
             ],
             [
              0.1111111111111111,
              "#46039f"
             ],
             [
              0.2222222222222222,
              "#7201a8"
             ],
             [
              0.3333333333333333,
              "#9c179e"
             ],
             [
              0.4444444444444444,
              "#bd3786"
             ],
             [
              0.5555555555555556,
              "#d8576b"
             ],
             [
              0.6666666666666666,
              "#ed7953"
             ],
             [
              0.7777777777777778,
              "#fb9f3a"
             ],
             [
              0.8888888888888888,
              "#fdca26"
             ],
             [
              1,
              "#f0f921"
             ]
            ],
            "type": "heatmap"
           }
          ],
          "heatmapgl": [
           {
            "colorbar": {
             "outlinewidth": 0,
             "ticks": ""
            },
            "colorscale": [
             [
              0,
              "#0d0887"
             ],
             [
              0.1111111111111111,
              "#46039f"
             ],
             [
              0.2222222222222222,
              "#7201a8"
             ],
             [
              0.3333333333333333,
              "#9c179e"
             ],
             [
              0.4444444444444444,
              "#bd3786"
             ],
             [
              0.5555555555555556,
              "#d8576b"
             ],
             [
              0.6666666666666666,
              "#ed7953"
             ],
             [
              0.7777777777777778,
              "#fb9f3a"
             ],
             [
              0.8888888888888888,
              "#fdca26"
             ],
             [
              1,
              "#f0f921"
             ]
            ],
            "type": "heatmapgl"
           }
          ],
          "histogram": [
           {
            "marker": {
             "pattern": {
              "fillmode": "overlay",
              "size": 10,
              "solidity": 0.2
             }
            },
            "type": "histogram"
           }
          ],
          "histogram2d": [
           {
            "colorbar": {
             "outlinewidth": 0,
             "ticks": ""
            },
            "colorscale": [
             [
              0,
              "#0d0887"
             ],
             [
              0.1111111111111111,
              "#46039f"
             ],
             [
              0.2222222222222222,
              "#7201a8"
             ],
             [
              0.3333333333333333,
              "#9c179e"
             ],
             [
              0.4444444444444444,
              "#bd3786"
             ],
             [
              0.5555555555555556,
              "#d8576b"
             ],
             [
              0.6666666666666666,
              "#ed7953"
             ],
             [
              0.7777777777777778,
              "#fb9f3a"
             ],
             [
              0.8888888888888888,
              "#fdca26"
             ],
             [
              1,
              "#f0f921"
             ]
            ],
            "type": "histogram2d"
           }
          ],
          "histogram2dcontour": [
           {
            "colorbar": {
             "outlinewidth": 0,
             "ticks": ""
            },
            "colorscale": [
             [
              0,
              "#0d0887"
             ],
             [
              0.1111111111111111,
              "#46039f"
             ],
             [
              0.2222222222222222,
              "#7201a8"
             ],
             [
              0.3333333333333333,
              "#9c179e"
             ],
             [
              0.4444444444444444,
              "#bd3786"
             ],
             [
              0.5555555555555556,
              "#d8576b"
             ],
             [
              0.6666666666666666,
              "#ed7953"
             ],
             [
              0.7777777777777778,
              "#fb9f3a"
             ],
             [
              0.8888888888888888,
              "#fdca26"
             ],
             [
              1,
              "#f0f921"
             ]
            ],
            "type": "histogram2dcontour"
           }
          ],
          "mesh3d": [
           {
            "colorbar": {
             "outlinewidth": 0,
             "ticks": ""
            },
            "type": "mesh3d"
           }
          ],
          "parcoords": [
           {
            "line": {
             "colorbar": {
              "outlinewidth": 0,
              "ticks": ""
             }
            },
            "type": "parcoords"
           }
          ],
          "pie": [
           {
            "automargin": true,
            "type": "pie"
           }
          ],
          "scatter": [
           {
            "fillpattern": {
             "fillmode": "overlay",
             "size": 10,
             "solidity": 0.2
            },
            "type": "scatter"
           }
          ],
          "scatter3d": [
           {
            "line": {
             "colorbar": {
              "outlinewidth": 0,
              "ticks": ""
             }
            },
            "marker": {
             "colorbar": {
              "outlinewidth": 0,
              "ticks": ""
             }
            },
            "type": "scatter3d"
           }
          ],
          "scattercarpet": [
           {
            "marker": {
             "colorbar": {
              "outlinewidth": 0,
              "ticks": ""
             }
            },
            "type": "scattercarpet"
           }
          ],
          "scattergeo": [
           {
            "marker": {
             "colorbar": {
              "outlinewidth": 0,
              "ticks": ""
             }
            },
            "type": "scattergeo"
           }
          ],
          "scattergl": [
           {
            "marker": {
             "colorbar": {
              "outlinewidth": 0,
              "ticks": ""
             }
            },
            "type": "scattergl"
           }
          ],
          "scattermapbox": [
           {
            "marker": {
             "colorbar": {
              "outlinewidth": 0,
              "ticks": ""
             }
            },
            "type": "scattermapbox"
           }
          ],
          "scatterpolar": [
           {
            "marker": {
             "colorbar": {
              "outlinewidth": 0,
              "ticks": ""
             }
            },
            "type": "scatterpolar"
           }
          ],
          "scatterpolargl": [
           {
            "marker": {
             "colorbar": {
              "outlinewidth": 0,
              "ticks": ""
             }
            },
            "type": "scatterpolargl"
           }
          ],
          "scatterternary": [
           {
            "marker": {
             "colorbar": {
              "outlinewidth": 0,
              "ticks": ""
             }
            },
            "type": "scatterternary"
           }
          ],
          "surface": [
           {
            "colorbar": {
             "outlinewidth": 0,
             "ticks": ""
            },
            "colorscale": [
             [
              0,
              "#0d0887"
             ],
             [
              0.1111111111111111,
              "#46039f"
             ],
             [
              0.2222222222222222,
              "#7201a8"
             ],
             [
              0.3333333333333333,
              "#9c179e"
             ],
             [
              0.4444444444444444,
              "#bd3786"
             ],
             [
              0.5555555555555556,
              "#d8576b"
             ],
             [
              0.6666666666666666,
              "#ed7953"
             ],
             [
              0.7777777777777778,
              "#fb9f3a"
             ],
             [
              0.8888888888888888,
              "#fdca26"
             ],
             [
              1,
              "#f0f921"
             ]
            ],
            "type": "surface"
           }
          ],
          "table": [
           {
            "cells": {
             "fill": {
              "color": "#EBF0F8"
             },
             "line": {
              "color": "white"
             }
            },
            "header": {
             "fill": {
              "color": "#C8D4E3"
             },
             "line": {
              "color": "white"
             }
            },
            "type": "table"
           }
          ]
         },
         "layout": {
          "annotationdefaults": {
           "arrowcolor": "#2a3f5f",
           "arrowhead": 0,
           "arrowwidth": 1
          },
          "autotypenumbers": "strict",
          "coloraxis": {
           "colorbar": {
            "outlinewidth": 0,
            "ticks": ""
           }
          },
          "colorscale": {
           "diverging": [
            [
             0,
             "#8e0152"
            ],
            [
             0.1,
             "#c51b7d"
            ],
            [
             0.2,
             "#de77ae"
            ],
            [
             0.3,
             "#f1b6da"
            ],
            [
             0.4,
             "#fde0ef"
            ],
            [
             0.5,
             "#f7f7f7"
            ],
            [
             0.6,
             "#e6f5d0"
            ],
            [
             0.7,
             "#b8e186"
            ],
            [
             0.8,
             "#7fbc41"
            ],
            [
             0.9,
             "#4d9221"
            ],
            [
             1,
             "#276419"
            ]
           ],
           "sequential": [
            [
             0,
             "#0d0887"
            ],
            [
             0.1111111111111111,
             "#46039f"
            ],
            [
             0.2222222222222222,
             "#7201a8"
            ],
            [
             0.3333333333333333,
             "#9c179e"
            ],
            [
             0.4444444444444444,
             "#bd3786"
            ],
            [
             0.5555555555555556,
             "#d8576b"
            ],
            [
             0.6666666666666666,
             "#ed7953"
            ],
            [
             0.7777777777777778,
             "#fb9f3a"
            ],
            [
             0.8888888888888888,
             "#fdca26"
            ],
            [
             1,
             "#f0f921"
            ]
           ],
           "sequentialminus": [
            [
             0,
             "#0d0887"
            ],
            [
             0.1111111111111111,
             "#46039f"
            ],
            [
             0.2222222222222222,
             "#7201a8"
            ],
            [
             0.3333333333333333,
             "#9c179e"
            ],
            [
             0.4444444444444444,
             "#bd3786"
            ],
            [
             0.5555555555555556,
             "#d8576b"
            ],
            [
             0.6666666666666666,
             "#ed7953"
            ],
            [
             0.7777777777777778,
             "#fb9f3a"
            ],
            [
             0.8888888888888888,
             "#fdca26"
            ],
            [
             1,
             "#f0f921"
            ]
           ]
          },
          "colorway": [
           "#636efa",
           "#EF553B",
           "#00cc96",
           "#ab63fa",
           "#FFA15A",
           "#19d3f3",
           "#FF6692",
           "#B6E880",
           "#FF97FF",
           "#FECB52"
          ],
          "font": {
           "color": "#2a3f5f"
          },
          "geo": {
           "bgcolor": "white",
           "lakecolor": "white",
           "landcolor": "#E5ECF6",
           "showlakes": true,
           "showland": true,
           "subunitcolor": "white"
          },
          "hoverlabel": {
           "align": "left"
          },
          "hovermode": "closest",
          "mapbox": {
           "style": "light"
          },
          "paper_bgcolor": "white",
          "plot_bgcolor": "#E5ECF6",
          "polar": {
           "angularaxis": {
            "gridcolor": "white",
            "linecolor": "white",
            "ticks": ""
           },
           "bgcolor": "#E5ECF6",
           "radialaxis": {
            "gridcolor": "white",
            "linecolor": "white",
            "ticks": ""
           }
          },
          "scene": {
           "xaxis": {
            "backgroundcolor": "#E5ECF6",
            "gridcolor": "white",
            "gridwidth": 2,
            "linecolor": "white",
            "showbackground": true,
            "ticks": "",
            "zerolinecolor": "white"
           },
           "yaxis": {
            "backgroundcolor": "#E5ECF6",
            "gridcolor": "white",
            "gridwidth": 2,
            "linecolor": "white",
            "showbackground": true,
            "ticks": "",
            "zerolinecolor": "white"
           },
           "zaxis": {
            "backgroundcolor": "#E5ECF6",
            "gridcolor": "white",
            "gridwidth": 2,
            "linecolor": "white",
            "showbackground": true,
            "ticks": "",
            "zerolinecolor": "white"
           }
          },
          "shapedefaults": {
           "line": {
            "color": "#2a3f5f"
           }
          },
          "ternary": {
           "aaxis": {
            "gridcolor": "white",
            "linecolor": "white",
            "ticks": ""
           },
           "baxis": {
            "gridcolor": "white",
            "linecolor": "white",
            "ticks": ""
           },
           "bgcolor": "#E5ECF6",
           "caxis": {
            "gridcolor": "white",
            "linecolor": "white",
            "ticks": ""
           }
          },
          "title": {
           "x": 0.05
          },
          "xaxis": {
           "automargin": true,
           "gridcolor": "white",
           "linecolor": "white",
           "ticks": "",
           "title": {
            "standoff": 15
           },
           "zerolinecolor": "white",
           "zerolinewidth": 2
          },
          "yaxis": {
           "automargin": true,
           "gridcolor": "white",
           "linecolor": "white",
           "ticks": "",
           "title": {
            "standoff": 15
           },
           "zerolinecolor": "white",
           "zerolinewidth": 2
          }
         }
        },
        "title": {
         "text": "United states: United states ism manufacturing new orders"
        },
        "xaxis": {
         "anchor": "y",
         "domain": [
          0,
          1
         ],
         "title": {
          "text": ""
         }
        },
        "yaxis": {
         "anchor": "x",
         "domain": [
          0,
          1
         ],
         "title": {
          "text": "Points"
         }
        }
       }
      }
     },
     "metadata": {},
     "output_type": "display_data"
    }
   ],
   "source": [
    "scraped.plot_series(series = scraped.trace_path_series)"
   ]
  },
  {
   "cell_type": "code",
   "execution_count": 87,
   "metadata": {},
   "outputs": [
    {
     "name": "stderr",
     "output_type": "stream",
     "text": [
      "INFO - Button clicked successfully: a.hawk-chartOptions-datePicker-cnt-btn:nth-child(5)\n",
      "INFO - Date span set to: MAX\n",
      "INFO - Series path extraction method: Extracting series data from chart soup.\n",
      "INFO - Date span: MAX. best to use MAX date span. Chart type: lineChart, URL: https://tradingeconomics.com/united-states/ism-manufacturing-new-orders.\n",
      "INFO - Raw data series extracted successfully: 0.000000    228.345588\n",
      "0.762453    229.213235\n",
      "1.451120    226.176471\n",
      "2.213573    266.088235\n",
      "2.951431    290.382353\n",
      "Name: Extracted Series, dtype: float64\n"
     ]
    },
    {
     "data": {
      "text/plain": [
       "0.000000      228.345588\n",
       "0.762453      229.213235\n",
       "1.451120      226.176471\n",
       "2.213573      266.088235\n",
       "2.951431      290.382353\n",
       "                 ...    \n",
       "669.999379    151.558824\n",
       "670.761832    158.066176\n",
       "671.499689    162.404412\n",
       "672.262142    176.720588\n",
       "673.000000    185.830882\n",
       "Name: Extracted Series, Length: 902, dtype: float64"
      ]
     },
     "execution_count": 87,
     "metadata": {},
     "output_type": "execute_result"
    }
   ],
   "source": [
    "scraped.series_from_chart_soup(invert_the_series=True, return_series=True)"
   ]
  },
  {
   "cell_type": "code",
   "execution_count": 59,
   "metadata": {},
   "outputs": [
    {
     "name": "stderr",
     "output_type": "stream",
     "text": [
      "INFO - scale_series method: Start value, end value: 62.3, 52.5, 228.34558823529, 185.83088235294, 228.34558823529, 185.83088235294\n",
      "INFO - Start value, end value: 62.3, 52.5, pix0, pix1: 228.34558823529, 185.83088235294, data units per chart pixel from start & end points: 0.23050847457628706, unit_per_pix calculated from the y axis ticks: 0.2297589422424877, inverse of that: 4.352387725325613, unit_per_pix from axis limits and self.y_axis (probably best way): 0.2305084745762712\n"
     ]
    },
    {
     "data": {
      "text/plain": [
       "0.000000      62.3\n",
       "0.762453      62.5\n",
       "1.451120      61.8\n",
       "2.213573      71.0\n",
       "2.951431      76.6\n",
       "              ... \n",
       "669.999379    44.6\n",
       "670.761832    46.1\n",
       "671.499689    47.1\n",
       "672.262142    50.4\n",
       "673.000000    52.5\n",
       "Name: Extracted Series, Length: 902, dtype: float64"
      ]
     },
     "execution_count": 59,
     "metadata": {},
     "output_type": "execute_result"
    }
   ],
   "source": [
    "scraped.scale_series()"
   ]
  },
  {
   "cell_type": "code",
   "execution_count": 60,
   "metadata": {},
   "outputs": [
    {
     "data": {
      "text/plain": [
       "0.000000      62.3\n",
       "0.762453      62.5\n",
       "1.451120      61.8\n",
       "2.213573      71.0\n",
       "2.951431      76.6\n",
       "              ... \n",
       "669.999379    44.6\n",
       "670.761832    46.1\n",
       "671.499689    47.1\n",
       "672.262142    50.4\n",
       "673.000000    52.5\n",
       "Name: Extracted Series, Length: 902, dtype: float64"
      ]
     },
     "execution_count": 60,
     "metadata": {},
     "output_type": "execute_result"
    }
   ],
   "source": [
    "scraped.series = scraped.trace_path_series"
   ]
  },
  {
   "cell_type": "code",
   "execution_count": 192,
   "metadata": {},
   "outputs": [
    {
     "data": {
      "application/vnd.plotly.v1+json": {
       "config": {
        "plotlyServerURL": "https://plot.ly"
       },
       "data": [
        {
         "hovertemplate": "variable=Extracted Series<br>index=%{x}<br>value=%{y}<extra></extra>",
         "legendgroup": "Extracted Series",
         "line": {
          "color": "#636efa",
          "dash": "solid"
         },
         "marker": {
          "symbol": "circle"
         },
         "mode": "lines",
         "name": "Extracted Series",
         "orientation": "v",
         "showlegend": true,
         "type": "scatter",
         "x": [
          0,
          0.76245294741074,
          1.4511201257172,
          2.2135730731279,
          2.9514307641706,
          3.7138837115813,
          4.451741402624,
          5.2141943500347,
          5.9766472974455,
          6.7145049884881,
          7.4769579358988,
          8.2148156269415,
          8.9772685743522,
          9.739721521763,
          10.428388700069,
          11.19084164748,
          11.928699338523,
          12.691152285934,
          13.429009976976,
          14.191462924387,
          14.953915871798,
          15.69177356284,
          16.454226510251,
          17.192084201294,
          17.954537148704,
          18.716990096115,
          19.43025253079,
          20.1927054782,
          20.930563169243,
          21.693016116654,
          22.430873807697,
          23.193326755107,
          23.955779702518,
          24.693637393561,
          25.456090340971,
          26.193948032014,
          26.956400979425,
          27.718853926836,
          28.407521105142,
          29.169974052553,
          29.907831743595,
          30.670284691006,
          31.408142382049,
          32.170595329459,
          32.93304827687,
          33.670905967913,
          34.433358915324,
          35.171216606366,
          35.933669553777,
          36.696122501188,
          37.384789679494,
          38.147242626905,
          38.885100317948,
          39.647553265358,
          40.385410956401,
          41.147863903812,
          41.910316851222,
          42.648174542265,
          43.410627489676,
          44.148485180718,
          44.910938128129,
          45.67339107554,
          46.362058253846,
          47.124511201257,
          47.8623688923,
          48.624821839711,
          49.362679530753,
          50.125132478164,
          50.887585425575,
          51.625443116617,
          52.387896064028,
          53.125753755071,
          53.888206702481,
          54.650659649892,
          55.363922084567,
          56.126375031977,
          56.86423272302,
          57.626685670431,
          58.364543361474,
          59.126996308884,
          59.889449256295,
          60.627306947338,
          61.389759894748,
          62.127617585791,
          62.890070533202,
          63.652523480613,
          64.341190658919,
          65.10364360633,
          65.841501297372,
          66.603954244783,
          67.341811935826,
          68.104264883236,
          68.866717830647,
          69.60457552169,
          70.367028469101,
          71.104886160143,
          71.867339107554,
          72.629792054965,
          73.318459233271,
          74.080912180682,
          74.818769871725,
          75.581222819135,
          76.319080510178,
          77.081533457589,
          77.843986404999,
          78.581844096042,
          79.344297043453,
          80.082154734495,
          80.844607681906,
          81.607060629317,
          82.295727807623,
          83.058180755034,
          83.796038446077,
          84.558491393488,
          85.29634908453,
          86.058802031941,
          86.821254979352,
          87.559112670394,
          88.321565617805,
          89.059423308848,
          89.821876256258,
          90.584329203669,
          91.297591638344,
          92.060044585754,
          92.797902276797,
          93.560355224208,
          94.298212915251,
          95.060665862661,
          95.823118810072,
          96.560976501115,
          97.323429448525,
          98.061287139568,
          98.823740086979,
          99.58619303439,
          100.2748602127,
          101.03731316011,
          101.77517085115,
          102.53762379856,
          103.2754814896,
          104.03793443701,
          104.80038738442,
          105.53824507547,
          106.30069802288,
          107.03855571392,
          107.80100866133,
          108.56346160874,
          109.25212878705,
          110.01458173446,
          110.7524394255,
          111.51489237291,
          112.25275006395,
          113.01520301137,
          113.77765595878,
          114.51551364982,
          115.27796659723,
          116.01582428827,
          116.77827723568,
          117.54073018309,
          118.2293973614,
          118.99185030881,
          119.72970799985,
          120.49216094726,
          121.23001863831,
          121.99247158572,
          122.75492453313,
          123.49278222417,
          124.25523517158,
          124.99309286262,
          125.75554581004,
          126.51799875745,
          127.23126119212,
          127.99371413953,
          128.73157183057,
          129.49402477798,
          130.23188246903,
          130.99433541644,
          131.75678836385,
          132.49464605489,
          133.2570990023,
          133.99495669335,
          134.75740964076,
          135.51986258817,
          136.20852976647,
          136.97098271388,
          137.70884040493,
          138.47129335234,
          139.20915104338,
          139.97160399079,
          140.7340569382,
          141.47191462924,
          142.23436757665,
          142.9722252677,
          143.73467821511,
          144.49713116252,
          145.18579834083,
          145.94825128824,
          146.68610897928,
          147.44856192669,
          148.18641961773,
          148.94887256514,
          149.71132551255,
          150.4491832036,
          151.21163615101,
          151.94949384205,
          152.71194678946,
          153.47439973687,
          154.16306691518,
          154.92551986259,
          155.66337755363,
          156.42583050104,
          157.16368819208,
          157.92614113949,
          158.68859408691,
          159.42645177795,
          160.18890472536,
          160.9267624164,
          161.68921536381,
          162.45166831122,
          163.1649307459,
          163.92738369331,
          164.66524138435,
          165.42769433176,
          166.1655520228,
          166.92800497022,
          167.69045791763,
          168.42831560867,
          169.19076855608,
          169.92862624712,
          170.69107919453,
          171.45353214194,
          172.14219932025,
          172.90465226766,
          173.6425099587,
          174.40496290611,
          175.14282059716,
          175.90527354457,
          176.66772649198,
          177.40558418302,
          178.16803713043,
          178.90589482147,
          179.66834776889,
          180.4308007163,
          181.1194678946,
          181.88192084201,
          182.61977853306,
          183.38223148047,
          184.12008917151,
          184.88254211892,
          185.64499506633,
          186.38285275737,
          187.14530570478,
          187.88316339583,
          188.64561634324,
          189.40806929065,
          190.09673646895,
          190.85918941637,
          191.59704710741,
          192.35950005482,
          193.09735774586,
          193.85981069327,
          194.62226364068,
          195.36012133173,
          196.12257427914,
          196.86043197018,
          197.62288491759,
          198.385337865,
          199.09860029967,
          199.86105324709,
          200.59891093813,
          201.36136388554,
          202.09922157658,
          202.86167452399,
          203.6241274714,
          204.36198516245,
          205.12443810986,
          205.8622958009,
          206.62474874831,
          207.38720169572,
          208.07586887403,
          208.83832182144,
          209.57617951248,
          210.33863245989,
          211.07649015093,
          211.83894309834,
          212.60139604576,
          213.3392537368,
          214.10170668421,
          214.83956437525,
          215.60201732266,
          216.36447027007,
          217.05313744838,
          217.81559039579,
          218.55344808683,
          219.31590103424,
          220.05375872529,
          220.8162116727,
          221.57866462011,
          222.31652231115,
          223.07897525856,
          223.8168329496,
          224.57928589701,
          225.34173884442,
          226.03040602273,
          226.79285897014,
          227.53071666118,
          228.2931696086,
          229.03102729964,
          229.79348024705,
          230.55593319446,
          231.2937908855,
          232.05624383291,
          232.79410152396,
          233.55655447137,
          234.31900741878,
          235.03226985345,
          235.79472280086,
          236.53258049191,
          237.29503343932,
          238.03289113036,
          238.79534407777,
          239.55779702518,
          240.29565471622,
          241.05810766363,
          241.79596535468,
          242.55841830209,
          243.3208712495,
          244.0095384278,
          244.77199137521,
          245.50984906626,
          246.27230201367,
          247.01015970471,
          247.77261265212,
          248.53506559953,
          249.27292329057,
          250.03537623799,
          250.77323392903,
          251.53568687644,
          252.29813982385,
          252.98680700216,
          253.74925994957,
          254.48711764061,
          255.24957058802,
          255.98742827906,
          256.74988122647,
          257.51233417388,
          258.25019186493,
          259.01264481234,
          259.75050250338,
          260.51295545079,
          261.2754083982,
          261.96407557651,
          262.72652852392,
          263.46438621496,
          264.22683916237,
          264.96469685342,
          265.72714980083,
          266.48960274824,
          267.22746043928,
          267.98991338669,
          268.72777107773,
          269.49022402514,
          270.25267697255,
          270.96593940723,
          271.72839235464,
          272.46625004568,
          273.22870299309,
          273.96656068414,
          274.72901363155,
          275.49146657896,
          276.22932427,
          276.99177721741,
          277.72963490845,
          278.49208785586,
          279.25454080327,
          279.94320798158,
          280.70566092899,
          281.44351862003,
          282.20597156745,
          282.94382925849,
          283.7062822059,
          284.46873515331,
          285.20659284435,
          285.96904579176,
          286.70690348281,
          287.46935643022,
          288.23180937763,
          288.92047655593,
          289.68292950334,
          290.42078719439,
          291.1832401418,
          291.92109783284,
          292.68355078025,
          293.44600372766,
          294.1838614187,
          294.94631436611,
          295.68417205716,
          296.44662500457,
          297.20907795198,
          297.89774513029,
          298.6601980777,
          299.39805576874,
          300.16050871615,
          300.89836640719,
          301.6608193546,
          302.42327230201,
          303.16112999306,
          303.92358294047,
          304.66144063151,
          305.42389357892,
          306.18634652633,
          306.89960896101,
          307.66206190842,
          308.39991959946,
          309.16237254687,
          309.90023023791,
          310.66268318532,
          311.42513613273,
          312.16299382378,
          312.92544677119,
          313.66330446223,
          314.42575740964,
          315.18821035705,
          315.87687753536,
          316.63933048277,
          317.37718817381,
          318.13964112122,
          318.87749881226,
          319.63995175968,
          320.40240470709,
          321.14026239813,
          321.90271534554,
          322.64057303658,
          323.40302598399,
          324.1654789314,
          324.85414610971,
          325.61659905712,
          326.35445674816,
          327.11690969557,
          327.85476738662,
          328.61722033403,
          329.37967328144,
          330.11753097248,
          330.87998391989,
          331.61784161093,
          332.38029455835,
          333.14274750576,
          333.83141468406,
          334.59386763147,
          335.33172532252,
          336.09417826993,
          336.83203596097,
          337.59448890838,
          338.35694185579,
          339.09479954683,
          339.85725249424,
          340.59511018529,
          341.3575631327,
          342.12001608011,
          342.83327851478,
          343.59573146219,
          344.33358915324,
          345.09604210065,
          345.83389979169,
          346.5963527391,
          347.35880568651,
          348.09666337755,
          348.85911632496,
          349.59697401601,
          350.35942696342,
          351.12187991083,
          351.81054708914,
          352.57300003655,
          353.31085772759,
          354.073310675,
          354.81116836604,
          355.57362131345,
          356.33607426086,
          357.07393195191,
          357.83638489932,
          358.57424259036,
          359.33669553777,
          360.09914848518,
          360.78781566349,
          361.5502686109,
          362.28812630194,
          363.05057924935,
          363.78843694039,
          364.5508898878,
          365.31334283522,
          366.05120052626,
          366.81365347367,
          367.55151116471,
          368.31396411212,
          369.07641705953,
          369.76508423784,
          370.52753718525,
          371.26539487629,
          372.0278478237,
          372.76570551475,
          373.52815846216,
          374.29061140957,
          375.02846910061,
          375.79092204802,
          376.52877973906,
          377.29123268647,
          378.05368563389,
          378.76694806856,
          379.52940101597,
          380.26725870701,
          381.02971165442,
          381.76756934547,
          382.53002229288,
          383.29247524029,
          384.03033293133,
          384.79278587874,
          385.53064356978,
          386.29309651719,
          387.05554946461,
          387.74421664291,
          388.50666959032,
          389.24452728137,
          390.00698022878,
          390.74483791982,
          391.50729086723,
          392.26974381464,
          393.00760150568,
          393.77005445309,
          394.50791214414,
          395.27036509155,
          396.03281803896,
          396.72148521726,
          397.48393816467,
          398.22179585572,
          398.98424880313,
          399.72210649417,
          400.48455944158,
          401.24701238899,
          401.98487008004,
          402.74732302745,
          403.48518071849,
          404.2476336659,
          405.01008661331,
          405.69875379162,
          406.46120673903,
          407.19906443007,
          407.96151737748,
          408.69937506852,
          409.46182801593,
          410.22428096334,
          410.96213865439,
          411.7245916018,
          412.46244929284,
          413.22490224025,
          413.98735518766,
          414.70061762234,
          415.46307056975,
          416.20092826079,
          416.9633812082,
          417.70123889924,
          418.46369184665,
          419.22614479407,
          419.96400248511,
          420.72645543252,
          421.46431312356,
          422.22676607097,
          422.98921901838,
          423.67788619669,
          424.4403391441,
          425.17819683514,
          425.94064978255,
          426.6785074736,
          427.44096042101,
          428.20341336842,
          428.94127105946,
          429.70372400687,
          430.44158169791,
          431.20403464532,
          431.96648759273,
          432.65515477104,
          433.41760771845,
          434.15546540949,
          434.91791835691,
          435.65577604795,
          436.41822899536,
          437.18068194277,
          437.91853963381,
          438.68099258122,
          439.41885027227,
          440.18130321968,
          440.94375616709,
          441.63242334539,
          442.3948762928,
          443.13273398385,
          443.89518693126,
          444.6330446223,
          445.39549756971,
          446.15795051712,
          446.89580820816,
          447.65826115558,
          448.39611884662,
          449.15857179403,
          449.92102474144,
          450.63428717611,
          451.39674012352,
          452.13459781457,
          452.89705076198,
          453.63490845302,
          454.39736140043,
          455.15981434784,
          455.89767203888,
          456.6601249863,
          457.39798267734,
          458.16043562475,
          458.92288857216,
          459.61155575047,
          460.37400869788,
          461.11186638892,
          461.87431933633,
          462.61217702737,
          463.37462997478,
          464.13708292219,
          464.87494061324,
          465.63739356065,
          466.37525125169,
          467.1377041991,
          467.90015714651,
          468.58882432482,
          469.35127727223,
          470.08913496327,
          470.85158791068,
          471.58944560173,
          472.35189854914,
          473.11435149655,
          473.85220918759,
          474.614662135,
          475.35251982604,
          476.11497277345,
          476.87742572086,
          477.56609289917,
          478.32854584658,
          479.06640353762,
          479.82885648503,
          480.56671417608,
          481.32916712349,
          482.0916200709,
          482.82947776194,
          483.59193070935,
          484.32978840039,
          485.09224134781,
          485.85469429522,
          486.56795672989,
          487.3304096773,
          488.06826736834,
          488.83072031575,
          489.5685780068,
          490.33103095421,
          491.09348390162,
          491.83134159266,
          492.59379454007,
          493.33165223112,
          494.09410517853,
          494.85655812594,
          495.54522530424,
          496.30767825165,
          497.0455359427,
          497.80798889011,
          498.54584658115,
          499.30829952856,
          500.07075247597,
          500.80861016701,
          501.57106311442,
          502.30892080547,
          503.07137375288,
          503.83382670029,
          504.5224938786,
          505.28494682601,
          506.02280451705,
          506.78525746446,
          507.5231151555,
          508.28556810291,
          509.04802105032,
          509.78587874137,
          510.54833168878,
          511.28618937982,
          512.04864232723,
          512.81109527464,
          513.49976245295,
          514.26221540036,
          515.0000730914,
          515.76252603881,
          516.50038372985,
          517.26283667726,
          518.02528962468,
          518.76314731572,
          519.52560026313,
          520.26345795417,
          521.02591090158,
          521.78836384899,
          522.50162628367,
          523.26407923108,
          524.00193692212,
          524.76438986953,
          525.50224756057,
          526.26470050799,
          527.0271534554,
          527.76501114644,
          528.52746409385,
          529.26532178489,
          530.0277747323,
          530.79022767971,
          531.47889485802,
          532.24134780543,
          532.97920549647,
          533.74165844388,
          534.47951613493,
          535.24196908234,
          536.00442202975,
          536.74227972079,
          537.5047326682,
          538.24259035924,
          539.00504330666,
          539.76749625407,
          540.45616343237,
          541.21861637978,
          541.95647407083,
          542.71892701824,
          543.45678470928,
          544.21923765669,
          544.9816906041,
          545.71954829514,
          546.48200124255,
          547.2198589336,
          547.98231188101,
          548.74476482842,
          549.43343200672,
          550.19588495414,
          550.93374264518,
          551.69619559259,
          552.43405328363,
          553.19650623104,
          553.95895917845,
          554.6968168695,
          555.45926981691,
          556.19712750795,
          556.95958045536,
          557.72203340277,
          558.43529583744,
          559.19774878486,
          559.9356064759,
          560.69805942331,
          561.43591711435,
          562.19837006176,
          562.96082300917,
          563.69868070022,
          564.46113364763,
          565.19899133867,
          565.96144428608,
          566.72389723349,
          567.4125644118,
          568.17501735921,
          568.91287505025,
          569.67532799766,
          570.4131856887,
          571.17563863611,
          571.93809158353,
          572.67594927457,
          573.43840222198,
          574.17625991302,
          574.93871286043,
          575.70116580784,
          576.38983298615,
          577.15228593356,
          577.8901436246,
          578.65259657201,
          579.39045426306,
          580.15290721047,
          580.91536015788,
          581.65321784892,
          582.41567079633,
          583.15352848737,
          583.91598143478,
          584.67843438219,
          585.3671015605,
          586.12955450791,
          586.86741219895,
          587.62986514637,
          588.36772283741,
          589.13017578482,
          589.89262873223,
          590.63048642327,
          591.39293937068,
          592.13079706173,
          592.89325000914,
          593.65570295655,
          594.36896539122,
          595.13141833863,
          595.86927602968,
          596.63172897709,
          597.36958666813,
          598.13203961554,
          598.89449256295,
          599.63235025399,
          600.3948032014,
          601.13266089245,
          601.89511383986,
          602.65756678727,
          603.34623396557,
          604.10868691298,
          604.84654460403,
          605.60899755144,
          606.34685524248,
          607.10930818989,
          607.8717611373,
          608.60961882834,
          609.37207177576,
          610.1099294668,
          610.87238241421,
          611.63483536162,
          612.32350253993,
          613.08595548734,
          613.82381317838,
          614.58626612579,
          615.32412381683,
          616.08657676424,
          616.84902971165,
          617.5868874027,
          618.34934035011,
          619.08719804115,
          619.84965098856,
          620.61210393597,
          621.30077111428,
          622.06322406169,
          622.80108175273,
          623.56353470014,
          624.30139239119,
          625.0638453386,
          625.82629828601,
          626.56415597705,
          627.32660892446,
          628.0644666155,
          628.82691956291,
          629.58937251032,
          630.302634945,
          631.06508789241,
          631.80294558345,
          632.56539853086,
          633.30325622191,
          634.06570916932,
          634.82816211673,
          635.56601980777,
          636.32847275518,
          637.06633044622,
          637.82878339363,
          638.59123634104,
          639.27990351935,
          640.04235646676,
          640.7802141578,
          641.54266710522,
          642.28052479626,
          643.04297774367,
          643.80543069108,
          644.54328838212,
          645.30574132953,
          646.04359902058,
          646.80605196799,
          647.5685049154,
          648.2571720937,
          649.01962504111,
          649.75748273216,
          649.75748273216,
          650.51993567957,
          651.25779337061,
          652.02024631802,
          652.78269926543,
          653.52055695647,
          654.28300990388,
          655.02086759493,
          655.78332054234,
          656.54577348975,
          657.23444066806,
          657.99689361547,
          658.73475130651,
          658.73475130651,
          659.49720425392,
          660.23506194496,
          660.99751489237,
          661.75996783978,
          662.49782553083,
          663.26027847824,
          663.99813616928,
          664.76058911669,
          665.5230420641,
          666.23630449878,
          666.99875744619,
          667.73661513723,
          668.49906808464,
          669.23692577568,
          669.99937872309,
          670.7618316705,
          671.49968936155,
          672.26214230896,
          673
         ],
         "xaxis": "x",
         "y": [
          228.34558823529,
          229.21323529412,
          226.17647058824,
          266.08823529412,
          290.38235294118,
          316.41176470588,
          306.43382352941,
          292.55147058824,
          246.13235294118,
          170.64705882353,
          206.22058823529,
          251.77205882353,
          252.63970588235,
          261.75,
          222.70588235294,
          141.58088235294,
          154.16176470588,
          127.69852941176495,
          123.79411764705901,
          125.095588235294,
          167.17647058824,
          182.36029411765,
          171.94852941176,
          154.59558823529,
          161.10294117646998,
          141.58088235294,
          147.65441176471,
          113.38235294117601,
          148.52205882353,
          158.93382352941,
          259.14705882352996,
          211.86029411765,
          219.66911764706,
          217.93382352941,
          213.16176470588,
          220.10294117646998,
          238.32352941176,
          201.01470588235,
          162.83823529412,
          183.66176470588,
          171.94852941176,
          167.61029411765,
          149.82352941176,
          140.71323529412,
          131.169117647059,
          122.92647058823505,
          135.507352941176,
          120.75735294117601,
          144.18382352941,
          176.28676470588,
          195.375,
          211.42647058824,
          219.23529411765,
          238.32352941176,
          234.85294117646998,
          203.61764705882,
          227.91176470588,
          247.43382352941,
          244.39705882353002,
          277.36764705882,
          247.86764705882,
          278.66911764706,
          268.25735294118,
          265.65441176471,
          274.33088235293997,
          222.27205882353002,
          249.16911764706,
          263.48529411765,
          234.41911764706,
          245.69852941176,
          224.875,
          247,
          226.17647058824,
          201.88235294118,
          206.65441176471,
          200.58088235294,
          188,
          170.21323529412,
          150.69117647059,
          193.63970588235,
          220.53676470588,
          199.27941176471,
          205.35294117647,
          187.13235294118,
          207.95588235294,
          185.83088235294,
          179.75735294118,
          171.51470588235,
          158.06617647059,
          174.11764705882,
          164.57352941176,
          169.77941176471,
          191.47058823529,
          159.36764705882,
          162.83823529412,
          143.75,
          110.779411764706,
          163.27205882353002,
          154.59558823529,
          162.83823529412,
          204.05147058824,
          221.83823529412,
          246.56617647059,
          240.92647058824,
          248.73529411765,
          252.63970588235,
          255.24264705882,
          238.75735294118,
          257.41176470588,
          263.91911764706003,
          262.61764705882,
          248.30147058824,
          261.31617647059,
          236.58823529412,
          224.00735294118,
          194.07352941176,
          147.65441176471,
          174.98529411765,
          179.75735294118,
          230.51470588235,
          241.79411764706,
          185.83088235294,
          184.52941176471,
          183.66176470588,
          156.76470588235,
          171.51470588235,
          156.33088235294,
          199.27941176471,
          177.15441176471,
          175.41911764706,
          167.17647058824,
          164.13970588235,
          162.83823529412,
          169.34558823529,
          197.54411764706,
          251.77205882353,
          239.19117647059,
          235.72058823529,
          237.88970588235,
          230.94852941176,
          259.58088235293997,
          254.375,
          240.49264705882,
          276.5,
          215.76470588235,
          226.17647058824,
          218.80147058824,
          206.65441176471,
          190.60294117647,
          185.83088235294,
          188.86764705882,
          187.56617647059,
          188,
          190.60294117647,
          208.82352941176,
          217.06617647059,
          222.27205882353002,
          220.10294117646998,
          207.52205882353002,
          220.97058823529,
          248.30147058824,
          226.61029411765,
          218.80147058824,
          227.04411764706,
          217.5,
          235.72058823529,
          234.41911764706,
          212.29411764706,
          224.00735294118,
          226.17647058824,
          225.74264705882,
          233.98529411765,
          217.93382352941,
          238.75735294118,
          261.31617647059,
          253.07352941176,
          232.68382352941,
          213.59558823529,
          221.40441176471,
          237.45588235294,
          228.34558823529,
          232.25,
          256.11029411765,
          217.5,
          219.23529411765,
          207.08823529412,
          203.61764705882,
          201.01470588235,
          233.98529411765,
          227.04411764706,
          226.61029411765,
          230.94852941176,
          246.56617647059,
          244.83088235294,
          237.02205882353002,
          237.02205882353002,
          186.69852941176,
          200.58088235294,
          202.31617647059,
          189.30147058824,
          197.54411764706,
          181.92647058824,
          161.10294117646998,
          169.77941176471,
          158.5,
          153.72794117647,
          154.59558823529,
          159.36764705882,
          164.57352941176,
          182.79411764706,
          191.03676470588,
          198.41176470588,
          227.04411764706,
          200.14705882353,
          205.35294117647,
          215.76470588235,
          218.80147058824,
          203.61764705882,
          199.71323529412,
          237.88970588235,
          201.88235294118,
          193.63970588235,
          194.50735294118,
          191.47058823529,
          198.41176470588,
          211.86029411765,
          224.00735294118,
          204.05147058824,
          194.07352941176,
          209.25735294118,
          215.33088235294,
          194.07352941176,
          207.95588235294,
          186.69852941176,
          174.11764705882,
          181.49264705882,
          176.72058823529,
          183.22794117647,
          177.58823529412,
          166.30882352941,
          156.76470588235,
          156.76470588235,
          154.16176470588,
          156.33088235294,
          154.59558823529,
          188.86764705882,
          185.83088235294,
          182.79411764706,
          149.82352941176,
          151.99264705882,
          145.91911764706,
          180.19117647059,
          198.41176470588,
          230.51470588235,
          201.88235294118,
          216.63235294118,
          205.35294117647,
          209.25735294118,
          208.82352941176,
          211.42647058824,
          222.70588235294,
          224.44117647059,
          198.41176470588,
          233.55147058824,
          239.19117647059,
          244.39705882353002,
          238.32352941176,
          231.38235294118,
          248.30147058824,
          227.47794117646998,
          238.75735294118,
          240.49264705882,
          258.71323529412,
          265.22058823529,
          274.76470588235,
          269.99264705882,
          278.23529411765,
          257.41176470588,
          256.54411764706003,
          243.96323529412,
          233.55147058824,
          222.70588235294,
          171.51470588235,
          214.46323529412,
          218.36764705882,
          241.79411764706,
          240.92647058824,
          214.02941176471,
          199.71323529412,
          201.01470588235,
          209.69117647059,
          202.75,
          181.92647058824,
          183.22794117647,
          186.26470588235,
          175.85294117647,
          136.808823529412,
          116.41911764705901,
          101.66911764705901,
          79.11029411764702,
          100.36764705882399,
          131.602941176471,
          118.588235294118,
          142.88235294118,
          162.83823529412,
          196.24264705882,
          211.42647058824,
          219.66911764706,
          220.10294117646998,
          236.58823529412,
          227.91176470588,
          231.81617647059,
          234.85294117646998,
          256.11029411765,
          225.30882352941,
          240.92647058824,
          228.34558823529,
          220.97058823529,
          209.69117647059,
          208.38970588235,
          197.97794117647,
          205.35294117647,
          199.71323529412,
          213.59558823529,
          206.22058823529,
          204.48529411765,
          233.55147058824,
          219.66911764706,
          237.88970588235,
          210.125,
          213.59558823529,
          213.16176470588,
          205.35294117647,
          205.78676470588,
          214.89705882353002,
          221.40441176471,
          220.97058823529,
          201.88235294118,
          203.61764705882,
          219.23529411765,
          235.28676470588,
          233.98529411765,
          238.75735294118,
          224.00735294118,
          224.00735294118,
          213.16176470588,
          226.61029411765,
          217.93382352941,
          206.65441176471,
          212.29411764706,
          204.05147058824,
          197.11029411765,
          184.09558823529,
          172.38235294118,
          174.11764705882,
          161.53676470588,
          169.34558823529,
          163.27205882353002,
          159.80147058824,
          150.25735294118,
          162.40441176471,
          181.92647058824,
          148.08823529412,
          96.897058823529,
          69.13235294117601,
          63.058823529411995,
          114.683823529412,
          192.77205882353,
          191.90441176471,
          234.41911764706,
          241.36029411765,
          180.19117647059,
          169.34558823529,
          179.75735294118,
          175.85294117647,
          188.43382352941,
          199.71323529412,
          179.32352941176,
          164.57352941176,
          162.83823529412,
          141.14705882353,
          132.470588235294,
          100.36764705882399,
          127.69852941176495,
          131.169117647059,
          125.529411764706,
          133.338235294118,
          135.507352941176,
          123.36029411764704,
          140.279411764706,
          134.63970588235296,
          132.036764705882,
          133.338235294118,
          139.845588235294,
          138.11029411764704,
          157.63235294118,
          176.28676470588,
          220.97058823529,
          221.83823529412,
          215.76470588235,
          226.17647058824,
          228.34558823529,
          263.05147058824,
          253.50735294118,
          248.30147058824,
          259.58088235293997,
          258.27941176471,
          282.57352941176,
          234.41911764706,
          239.625,
          222.27205882353002,
          232.25,
          214.89705882353002,
          220.53676470588,
          192.77205882353,
          192.33823529412,
          162.83823529412,
          187.56617647059,
          183.66176470588,
          187.13235294118,
          182.79411764706,
          182.79411764706,
          171.08088235294,
          180.625,
          172.81617647059,
          178.02205882353,
          185.83088235294,
          182.79411764706,
          194.94117647059,
          189.73529411765,
          206.22058823529,
          195.80882352941,
          204.05147058824,
          205.78676470588,
          194.50735294118,
          194.07352941176,
          223.13970588235,
          197.97794117647,
          180.19117647059,
          211.42647058824,
          206.65441176471,
          194.50735294118,
          205.35294117647,
          198.41176470588,
          217.5,
          198.41176470588,
          225.30882352941,
          217.5,
          233.11764705882,
          223.57352941176,
          235.72058823529,
          230.08088235294,
          227.47794117646998,
          241.36029411765,
          215.33088235294,
          224.875,
          219.66911764706,
          205.35294117647,
          209.25735294118,
          207.95588235294,
          208.38970588235,
          233.98529411765,
          220.97058823529,
          214.89705882353002,
          212.29411764706,
          206.22058823529,
          211.42647058824,
          214.02941176471,
          206.65441176471,
          206.65441176471,
          183.66176470588,
          188.43382352941,
          178.02205882353,
          155.89705882353002,
          156.76470588235,
          154.16176470588,
          157.63235294118,
          171.94852941176,
          171.94852941176,
          176.72058823529,
          171.08088235294,
          185.83088235294,
          184.96323529412,
          191.03676470588,
          182.36029411765,
          183.66176470588,
          160.66911764706,
          155.46323529412,
          152.86029411765,
          145.05147058824,
          133.338235294118,
          125.095588235294,
          123.36029411764704,
          128.132352941176,
          142.01470588235,
          158.06617647059,
          170.21323529412,
          211.42647058824,
          199.27941176471,
          218.80147058824,
          221.40441176471,
          209.69117647059,
          190.16911764706,
          172.81617647059,
          173.25,
          210.99264705882,
          232.68382352941,
          214.46323529412,
          222.27205882353002,
          217.5,
          216.19852941176,
          213.16176470588,
          179.75735294118,
          191.47058823529,
          213.16176470588,
          222.70588235294,
          231.38235294118,
          217.06617647059,
          210.125,
          188,
          197.54411764706,
          181.92647058824,
          191.47058823529,
          197.97794117647,
          186.26470588235,
          213.59558823529,
          220.10294117646998,
          228.77941176471,
          233.55147058824,
          227.91176470588,
          230.51470588235,
          230.08088235294,
          225.30882352941,
          240.05882352941,
          236.58823529412,
          231.38235294118,
          230.08088235294,
          231.38235294118,
          224.875,
          213.59558823529,
          217.06617647059,
          203.61764705882,
          183.22794117647,
          184.52941176471,
          148.95588235294,
          146.78676470588,
          186.69852941176,
          159.80147058824,
          172.38235294118,
          164.13970588235,
          168.91176470588,
          157.19852941176,
          149.38970588235,
          158.06617647059,
          171.08088235294,
          184.96323529412,
          182.36029411765,
          215.76470588235,
          183.22794117647,
          194.94117647059,
          194.94117647059,
          187.56617647059,
          204.91911764706,
          225.74264705882,
          205.35294117647,
          207.95588235294,
          212.29411764706,
          203.61764705882,
          228.34558823529,
          215.76470588235,
          224.00735294118,
          219.66911764706,
          198.41176470588,
          222.27205882353002,
          207.08823529412,
          206.22058823529,
          205.78676470588,
          194.94117647059,
          196.24264705882,
          197.97794117647,
          181.49264705882,
          175.85294117647,
          182.79411764706,
          178.88970588235,
          172.38235294118,
          166.30882352941,
          167.61029411765,
          173.68382352941,
          185.39705882353,
          196.67647058824,
          200.58088235294,
          192.33823529412,
          208.82352941176,
          215.76470588235,
          194.94117647059,
          207.52205882353002,
          233.55147058824,
          224.00735294118,
          231.81617647059,
          219.66911764706,
          220.10294117646998,
          212.72794117646998,
          201.88235294118,
          198.41176470588,
          181.49264705882,
          174.98529411765,
          183.66176470588,
          174.98529411765,
          170.21323529412,
          168.04411764706,
          171.08088235294,
          140.71323529412,
          124.661764705882,
          131.169117647059,
          138.11029411764704,
          155.46323529412,
          152.86029411765,
          165.44117647059,
          171.51470588235,
          193.63970588235,
          180.625,
          126.83088235294099,
          171.08088235294,
          181.05882352941,
          197.54411764706,
          221.40441176471,
          234.85294117646998,
          217.93382352941,
          226.17647058824,
          223.57352941176,
          183.22794117647,
          177.58823529412,
          187.56617647059,
          184.09558823529,
          174.55147058824,
          212.72794117646998,
          210.55882352941,
          183.22794117647,
          162.83823529412,
          162.83823529412,
          189.73529411765,
          190.60294117647,
          204.48529411765,
          223.13970588235,
          221.83823529412,
          237.45588235294,
          257.84558823529,
          267.38970588235,
          264.35294117647004,
          246.56617647059,
          238.32352941176,
          249.16911764706,
          237.88970588235,
          222.27205882353002,
          230.51470588235,
          227.47794117646998,
          208.38970588235,
          211.42647058824,
          218.80147058824,
          245.69852941176,
          209.25735294118,
          200.58088235294,
          208.38970588235,
          189.73529411765,
          182.79411764706,
          199.71323529412,
          206.22058823529,
          208.82352941176,
          222.27205882353002,
          224.44117647059,
          223.57352941176,
          218.80147058824,
          213.59558823529,
          222.70588235294,
          205.35294117647,
          199.71323529412,
          196.24264705882,
          196.67647058824,
          200.14705882353,
          197.97794117647,
          195.80882352941,
          192.77205882353,
          178.45588235294,
          181.05882352941,
          198.84558823529,
          214.46323529412,
          201.01470588235,
          205.78676470588,
          205.35294117647,
          211.42647058824,
          207.52205882353002,
          201.44852941176,
          215.76470588235,
          200.14705882353,
          188.43382352941,
          174.55147058824,
          172.81617647059,
          177.15441176471,
          171.51470588235,
          158.5,
          165.875,
          172.81617647059,
          168.04411764706,
          168.91176470588,
          153.72794117647,
          96.897058823529,
          107.74264705882399,
          70.433823529412,
          99.066176470588,
          99.933823529412,
          137.242647058824,
          157.63235294118,
          179.32352941176,
          170.64705882353,
          203.61764705882,
          236.15441176471,
          238.75735294118,
          208.38970588235,
          236.58823529412,
          234.85294117646998,
          217.93382352941,
          208.38970588235,
          218.80147058824,
          235.72058823529,
          224.00735294118,
          212.29411764706,
          195.375,
          192.33823529412,
          183.22794117647,
          208.82352941176,
          210.99264705882,
          216.63235294118,
          237.88970588235,
          236.58823529412,
          224.00735294118,
          223.13970588235,
          194.94117647059,
          194.94117647059,
          204.91911764706,
          187.56617647059,
          182.79411764706,
          183.66176470588,
          196.24264705882,
          198.41176470588,
          218.36764705882,
          210.99264705882,
          205.35294117647,
          214.89705882353002,
          210.55882352941,
          163.27205882353002,
          165.44117647059,
          153.72794117647,
          184.52941176471,
          182.79411764706,
          165.875,
          167.61029411765,
          196.24264705882,
          213.59558823529,
          184.96323529412,
          188,
          184.09558823529,
          183.66176470588,
          202.75,
          209.69117647059,
          219.23529411765,
          207.08823529412,
          216.19852941176,
          235.28676470588,
          194.94117647059,
          212.29411764706,
          213.16176470588,
          206.65441176471,
          209.25735294118,
          204.48529411765,
          207.08823529412,
          218.80147058824,
          213.59558823529,
          217.5,
          225.30882352941,
          210.55882352941,
          195.375,
          193.63970588235,
          188.43382352941,
          191.03676470588,
          187.13235294118,
          191.47058823529,
          186.26470588235,
          180.19117647059,
          175.85294117647,
          182.36029411765,
          177.58823529412,
          172.81617647059,
          173.25,
          185.39705882353,
          198.41176470588,
          195.80882352941,
          198.41176470588,
          204.91911764706,
          197.97794117647,
          178.88970588235,
          189.73529411765,
          193.63970588235,
          198.41176470588,
          212.29411764706,
          218.36764705882,
          236.15441176471,
          227.04411764706,
          207.08823529412,
          225.30882352941,
          219.66911764706,
          225.30882352941,
          222.27205882353002,
          236.58823529412,
          235.72058823529,
          235.72058823529,
          243.09558823529,
          245.26470588235,
          236.15441176471,
          225.74264705882,
          232.25,
          232.25,
          233.55147058824,
          217.5,
          233.98529411765,
          226.61029411765,
          215.33088235294,
          221.40441176471,
          185.39705882353,
          204.05147058824,
          196.24264705882,
          203.18382352941,
          190.16911764706,
          185.83088235294,
          178.02205882353,
          180.19117647059,
          158.93382352941,
          169.34558823529,
          168.47794117646998,
          161.97058823529,
          164.13970588235,
          182.79411764706,
          172.81617647059,
          145.48529411765,
          76.50735294117601,
          96.463235294118,
          204.05147058824,
          222.27205882353002,
          245.26470588235,
          222.27205882353002,
          248.30147058824,
          243.09558823529,
          250.90441176471,
          223.13970588235,
          239.19117647059,
          253.07352941176,
          237.02205882353002,
          248.73529411765,
          244.39705882353002,
          239.625,
          247.43382352941,
          247.43382352941,
          217.5,
          224.875,
          222.70588235294,
          209.25735294118,
          225.74264705882,
          191.47058823529,
          190.16911764706,
          197.11029411765,
          197.11029411765,
          171.51470588235,
          166.30882352941,
          180.625,
          162.40441176471,
          171.51470588235,
          162.83823529412,
          153.72794117647,
          142.44852941176,
          161.97058823529,
          150.25735294118,
          156.33088235294,
          142.88235294118,
          142.88235294118,
          155.89705882353002,
          163.27205882353002,
          161.10294117646998,
          171.51470588235,
          155.46323529412,
          165.44117647059,
          161.97058823529,
          185.83088235294,
          171.51470588235,
          181.05882352941,
          171.08088235294,
          155.02941176471,
          171.94852941176,
          163.70588235294,
          151.55882352941,
          158.06617647059,
          162.40441176471,
          176.72058823529,
          185.83088235294
         ],
         "yaxis": "y"
        }
       ],
       "layout": {
        "annotations": [
         {
          "align": "left",
          "bgcolor": "rgba(255, 255, 255, 0.8)",
          "bordercolor": "black",
          "borderwidth": 1,
          "font": {
           "size": 10
          },
          "showarrow": false,
          "text": "Source: Trading Economics<br>Original Source: Institute for Supply Management<br>Frequency: MS",
          "x": 0,
          "xanchor": "left",
          "xref": "paper",
          "y": -0.23,
          "yanchor": "bottom",
          "yref": "paper"
         }
        ],
        "legend": {
         "orientation": "h",
         "title": {
          "text": ""
         },
         "tracegroupgap": 0,
         "x": 0.5,
         "xanchor": "center",
         "y": -0.2,
         "yanchor": "bottom"
        },
        "margin": {
         "t": 60
        },
        "template": {
         "data": {
          "bar": [
           {
            "error_x": {
             "color": "#2a3f5f"
            },
            "error_y": {
             "color": "#2a3f5f"
            },
            "marker": {
             "line": {
              "color": "#E5ECF6",
              "width": 0.5
             },
             "pattern": {
              "fillmode": "overlay",
              "size": 10,
              "solidity": 0.2
             }
            },
            "type": "bar"
           }
          ],
          "barpolar": [
           {
            "marker": {
             "line": {
              "color": "#E5ECF6",
              "width": 0.5
             },
             "pattern": {
              "fillmode": "overlay",
              "size": 10,
              "solidity": 0.2
             }
            },
            "type": "barpolar"
           }
          ],
          "carpet": [
           {
            "aaxis": {
             "endlinecolor": "#2a3f5f",
             "gridcolor": "white",
             "linecolor": "white",
             "minorgridcolor": "white",
             "startlinecolor": "#2a3f5f"
            },
            "baxis": {
             "endlinecolor": "#2a3f5f",
             "gridcolor": "white",
             "linecolor": "white",
             "minorgridcolor": "white",
             "startlinecolor": "#2a3f5f"
            },
            "type": "carpet"
           }
          ],
          "choropleth": [
           {
            "colorbar": {
             "outlinewidth": 0,
             "ticks": ""
            },
            "type": "choropleth"
           }
          ],
          "contour": [
           {
            "colorbar": {
             "outlinewidth": 0,
             "ticks": ""
            },
            "colorscale": [
             [
              0,
              "#0d0887"
             ],
             [
              0.1111111111111111,
              "#46039f"
             ],
             [
              0.2222222222222222,
              "#7201a8"
             ],
             [
              0.3333333333333333,
              "#9c179e"
             ],
             [
              0.4444444444444444,
              "#bd3786"
             ],
             [
              0.5555555555555556,
              "#d8576b"
             ],
             [
              0.6666666666666666,
              "#ed7953"
             ],
             [
              0.7777777777777778,
              "#fb9f3a"
             ],
             [
              0.8888888888888888,
              "#fdca26"
             ],
             [
              1,
              "#f0f921"
             ]
            ],
            "type": "contour"
           }
          ],
          "contourcarpet": [
           {
            "colorbar": {
             "outlinewidth": 0,
             "ticks": ""
            },
            "type": "contourcarpet"
           }
          ],
          "heatmap": [
           {
            "colorbar": {
             "outlinewidth": 0,
             "ticks": ""
            },
            "colorscale": [
             [
              0,
              "#0d0887"
             ],
             [
              0.1111111111111111,
              "#46039f"
             ],
             [
              0.2222222222222222,
              "#7201a8"
             ],
             [
              0.3333333333333333,
              "#9c179e"
             ],
             [
              0.4444444444444444,
              "#bd3786"
             ],
             [
              0.5555555555555556,
              "#d8576b"
             ],
             [
              0.6666666666666666,
              "#ed7953"
             ],
             [
              0.7777777777777778,
              "#fb9f3a"
             ],
             [
              0.8888888888888888,
              "#fdca26"
             ],
             [
              1,
              "#f0f921"
             ]
            ],
            "type": "heatmap"
           }
          ],
          "heatmapgl": [
           {
            "colorbar": {
             "outlinewidth": 0,
             "ticks": ""
            },
            "colorscale": [
             [
              0,
              "#0d0887"
             ],
             [
              0.1111111111111111,
              "#46039f"
             ],
             [
              0.2222222222222222,
              "#7201a8"
             ],
             [
              0.3333333333333333,
              "#9c179e"
             ],
             [
              0.4444444444444444,
              "#bd3786"
             ],
             [
              0.5555555555555556,
              "#d8576b"
             ],
             [
              0.6666666666666666,
              "#ed7953"
             ],
             [
              0.7777777777777778,
              "#fb9f3a"
             ],
             [
              0.8888888888888888,
              "#fdca26"
             ],
             [
              1,
              "#f0f921"
             ]
            ],
            "type": "heatmapgl"
           }
          ],
          "histogram": [
           {
            "marker": {
             "pattern": {
              "fillmode": "overlay",
              "size": 10,
              "solidity": 0.2
             }
            },
            "type": "histogram"
           }
          ],
          "histogram2d": [
           {
            "colorbar": {
             "outlinewidth": 0,
             "ticks": ""
            },
            "colorscale": [
             [
              0,
              "#0d0887"
             ],
             [
              0.1111111111111111,
              "#46039f"
             ],
             [
              0.2222222222222222,
              "#7201a8"
             ],
             [
              0.3333333333333333,
              "#9c179e"
             ],
             [
              0.4444444444444444,
              "#bd3786"
             ],
             [
              0.5555555555555556,
              "#d8576b"
             ],
             [
              0.6666666666666666,
              "#ed7953"
             ],
             [
              0.7777777777777778,
              "#fb9f3a"
             ],
             [
              0.8888888888888888,
              "#fdca26"
             ],
             [
              1,
              "#f0f921"
             ]
            ],
            "type": "histogram2d"
           }
          ],
          "histogram2dcontour": [
           {
            "colorbar": {
             "outlinewidth": 0,
             "ticks": ""
            },
            "colorscale": [
             [
              0,
              "#0d0887"
             ],
             [
              0.1111111111111111,
              "#46039f"
             ],
             [
              0.2222222222222222,
              "#7201a8"
             ],
             [
              0.3333333333333333,
              "#9c179e"
             ],
             [
              0.4444444444444444,
              "#bd3786"
             ],
             [
              0.5555555555555556,
              "#d8576b"
             ],
             [
              0.6666666666666666,
              "#ed7953"
             ],
             [
              0.7777777777777778,
              "#fb9f3a"
             ],
             [
              0.8888888888888888,
              "#fdca26"
             ],
             [
              1,
              "#f0f921"
             ]
            ],
            "type": "histogram2dcontour"
           }
          ],
          "mesh3d": [
           {
            "colorbar": {
             "outlinewidth": 0,
             "ticks": ""
            },
            "type": "mesh3d"
           }
          ],
          "parcoords": [
           {
            "line": {
             "colorbar": {
              "outlinewidth": 0,
              "ticks": ""
             }
            },
            "type": "parcoords"
           }
          ],
          "pie": [
           {
            "automargin": true,
            "type": "pie"
           }
          ],
          "scatter": [
           {
            "fillpattern": {
             "fillmode": "overlay",
             "size": 10,
             "solidity": 0.2
            },
            "type": "scatter"
           }
          ],
          "scatter3d": [
           {
            "line": {
             "colorbar": {
              "outlinewidth": 0,
              "ticks": ""
             }
            },
            "marker": {
             "colorbar": {
              "outlinewidth": 0,
              "ticks": ""
             }
            },
            "type": "scatter3d"
           }
          ],
          "scattercarpet": [
           {
            "marker": {
             "colorbar": {
              "outlinewidth": 0,
              "ticks": ""
             }
            },
            "type": "scattercarpet"
           }
          ],
          "scattergeo": [
           {
            "marker": {
             "colorbar": {
              "outlinewidth": 0,
              "ticks": ""
             }
            },
            "type": "scattergeo"
           }
          ],
          "scattergl": [
           {
            "marker": {
             "colorbar": {
              "outlinewidth": 0,
              "ticks": ""
             }
            },
            "type": "scattergl"
           }
          ],
          "scattermapbox": [
           {
            "marker": {
             "colorbar": {
              "outlinewidth": 0,
              "ticks": ""
             }
            },
            "type": "scattermapbox"
           }
          ],
          "scatterpolar": [
           {
            "marker": {
             "colorbar": {
              "outlinewidth": 0,
              "ticks": ""
             }
            },
            "type": "scatterpolar"
           }
          ],
          "scatterpolargl": [
           {
            "marker": {
             "colorbar": {
              "outlinewidth": 0,
              "ticks": ""
             }
            },
            "type": "scatterpolargl"
           }
          ],
          "scatterternary": [
           {
            "marker": {
             "colorbar": {
              "outlinewidth": 0,
              "ticks": ""
             }
            },
            "type": "scatterternary"
           }
          ],
          "surface": [
           {
            "colorbar": {
             "outlinewidth": 0,
             "ticks": ""
            },
            "colorscale": [
             [
              0,
              "#0d0887"
             ],
             [
              0.1111111111111111,
              "#46039f"
             ],
             [
              0.2222222222222222,
              "#7201a8"
             ],
             [
              0.3333333333333333,
              "#9c179e"
             ],
             [
              0.4444444444444444,
              "#bd3786"
             ],
             [
              0.5555555555555556,
              "#d8576b"
             ],
             [
              0.6666666666666666,
              "#ed7953"
             ],
             [
              0.7777777777777778,
              "#fb9f3a"
             ],
             [
              0.8888888888888888,
              "#fdca26"
             ],
             [
              1,
              "#f0f921"
             ]
            ],
            "type": "surface"
           }
          ],
          "table": [
           {
            "cells": {
             "fill": {
              "color": "#EBF0F8"
             },
             "line": {
              "color": "white"
             }
            },
            "header": {
             "fill": {
              "color": "#C8D4E3"
             },
             "line": {
              "color": "white"
             }
            },
            "type": "table"
           }
          ]
         },
         "layout": {
          "annotationdefaults": {
           "arrowcolor": "#2a3f5f",
           "arrowhead": 0,
           "arrowwidth": 1
          },
          "autotypenumbers": "strict",
          "coloraxis": {
           "colorbar": {
            "outlinewidth": 0,
            "ticks": ""
           }
          },
          "colorscale": {
           "diverging": [
            [
             0,
             "#8e0152"
            ],
            [
             0.1,
             "#c51b7d"
            ],
            [
             0.2,
             "#de77ae"
            ],
            [
             0.3,
             "#f1b6da"
            ],
            [
             0.4,
             "#fde0ef"
            ],
            [
             0.5,
             "#f7f7f7"
            ],
            [
             0.6,
             "#e6f5d0"
            ],
            [
             0.7,
             "#b8e186"
            ],
            [
             0.8,
             "#7fbc41"
            ],
            [
             0.9,
             "#4d9221"
            ],
            [
             1,
             "#276419"
            ]
           ],
           "sequential": [
            [
             0,
             "#0d0887"
            ],
            [
             0.1111111111111111,
             "#46039f"
            ],
            [
             0.2222222222222222,
             "#7201a8"
            ],
            [
             0.3333333333333333,
             "#9c179e"
            ],
            [
             0.4444444444444444,
             "#bd3786"
            ],
            [
             0.5555555555555556,
             "#d8576b"
            ],
            [
             0.6666666666666666,
             "#ed7953"
            ],
            [
             0.7777777777777778,
             "#fb9f3a"
            ],
            [
             0.8888888888888888,
             "#fdca26"
            ],
            [
             1,
             "#f0f921"
            ]
           ],
           "sequentialminus": [
            [
             0,
             "#0d0887"
            ],
            [
             0.1111111111111111,
             "#46039f"
            ],
            [
             0.2222222222222222,
             "#7201a8"
            ],
            [
             0.3333333333333333,
             "#9c179e"
            ],
            [
             0.4444444444444444,
             "#bd3786"
            ],
            [
             0.5555555555555556,
             "#d8576b"
            ],
            [
             0.6666666666666666,
             "#ed7953"
            ],
            [
             0.7777777777777778,
             "#fb9f3a"
            ],
            [
             0.8888888888888888,
             "#fdca26"
            ],
            [
             1,
             "#f0f921"
            ]
           ]
          },
          "colorway": [
           "#636efa",
           "#EF553B",
           "#00cc96",
           "#ab63fa",
           "#FFA15A",
           "#19d3f3",
           "#FF6692",
           "#B6E880",
           "#FF97FF",
           "#FECB52"
          ],
          "font": {
           "color": "#2a3f5f"
          },
          "geo": {
           "bgcolor": "white",
           "lakecolor": "white",
           "landcolor": "#E5ECF6",
           "showlakes": true,
           "showland": true,
           "subunitcolor": "white"
          },
          "hoverlabel": {
           "align": "left"
          },
          "hovermode": "closest",
          "mapbox": {
           "style": "light"
          },
          "paper_bgcolor": "white",
          "plot_bgcolor": "#E5ECF6",
          "polar": {
           "angularaxis": {
            "gridcolor": "white",
            "linecolor": "white",
            "ticks": ""
           },
           "bgcolor": "#E5ECF6",
           "radialaxis": {
            "gridcolor": "white",
            "linecolor": "white",
            "ticks": ""
           }
          },
          "scene": {
           "xaxis": {
            "backgroundcolor": "#E5ECF6",
            "gridcolor": "white",
            "gridwidth": 2,
            "linecolor": "white",
            "showbackground": true,
            "ticks": "",
            "zerolinecolor": "white"
           },
           "yaxis": {
            "backgroundcolor": "#E5ECF6",
            "gridcolor": "white",
            "gridwidth": 2,
            "linecolor": "white",
            "showbackground": true,
            "ticks": "",
            "zerolinecolor": "white"
           },
           "zaxis": {
            "backgroundcolor": "#E5ECF6",
            "gridcolor": "white",
            "gridwidth": 2,
            "linecolor": "white",
            "showbackground": true,
            "ticks": "",
            "zerolinecolor": "white"
           }
          },
          "shapedefaults": {
           "line": {
            "color": "#2a3f5f"
           }
          },
          "ternary": {
           "aaxis": {
            "gridcolor": "white",
            "linecolor": "white",
            "ticks": ""
           },
           "baxis": {
            "gridcolor": "white",
            "linecolor": "white",
            "ticks": ""
           },
           "bgcolor": "#E5ECF6",
           "caxis": {
            "gridcolor": "white",
            "linecolor": "white",
            "ticks": ""
           }
          },
          "title": {
           "x": 0.05
          },
          "xaxis": {
           "automargin": true,
           "gridcolor": "white",
           "linecolor": "white",
           "ticks": "",
           "title": {
            "standoff": 15
           },
           "zerolinecolor": "white",
           "zerolinewidth": 2
          },
          "yaxis": {
           "automargin": true,
           "gridcolor": "white",
           "linecolor": "white",
           "ticks": "",
           "title": {
            "standoff": 15
           },
           "zerolinecolor": "white",
           "zerolinewidth": 2
          }
         }
        },
        "title": {
         "text": "United states: United states ism manufacturing new orders"
        },
        "xaxis": {
         "anchor": "y",
         "domain": [
          0,
          1
         ],
         "title": {
          "text": ""
         }
        },
        "yaxis": {
         "anchor": "x",
         "domain": [
          0,
          1
         ],
         "title": {
          "text": "Points"
         }
        }
       }
      }
     },
     "metadata": {},
     "output_type": "display_data"
    }
   ],
   "source": [
    "scraped.plot_series()"
   ]
  },
  {
   "cell_type": "code",
   "execution_count": 65,
   "metadata": {},
   "outputs": [
    {
     "name": "stdout",
     "output_type": "stream",
     "text": [
      "Start:  62.3 On:  0.0 End:  52.500000000000675 On:  673.0 Max:  82.6000000000004 Min:  24.200000000000998\n"
     ]
    }
   ],
   "source": [
    "print(\"Start: \", scraped.series.iloc[0], \"On: \", scraped.series.index[0], \"End: \", scraped.series.iloc[-1], \"On: \", scraped.series.index[-1], \"Max: \", scraped.series.max(), \"Min: \", scraped.series.min())"
   ]
  },
  {
   "cell_type": "code",
   "execution_count": 85,
   "metadata": {},
   "outputs": [
    {
     "name": "stderr",
     "output_type": "stream",
     "text": [
      "INFO - Start and end values scraped from tooltips: {'start_date': Timestamp('1950-01-01 00:00:00'), 'start_value': 62.3, 'end_date': Timestamp('2024-12-01 00:00:00'), 'end_value': 52.5}\n"
     ]
    },
    {
     "name": "stdout",
     "output_type": "stream",
     "text": [
      "Using selenium and tooltip scraping to construct the date time index for the time-series, this'll take a bit...\n"
     ]
    },
    {
     "name": "stderr",
     "output_type": "stream",
     "text": [
      "INFO - Button clicked successfully: #chart > div > div > div.hawk-header > div > div.pickChartTypes > div > button\n",
      "INFO - Button clicked successfully: .lineChart .dkLabels-label-btn\n",
      "INFO - Line chart type selected.\n"
     ]
    },
    {
     "name": "stdout",
     "output_type": "stream",
     "text": [
      "Viewport dimensions: 1366 x 683\n",
      "Chart position in viewport: x=144.0, y=355.0\n",
      "480.0\n"
     ]
    },
    {
     "name": "stderr",
     "output_type": "stream",
     "text": [
      "INFO - Date index created successfully.\n"
     ]
    },
    {
     "name": "stdout",
     "output_type": "stream",
     "text": [
      "Latest dates:  [Timestamp('2024-12-01 00:00:00'), Timestamp('2024-11-01 00:00:00'), Timestamp('2024-10-01 00:00:00'), Timestamp('2024-09-01 00:00:00'), Timestamp('2024-08-01 00:00:00'), Timestamp('2024-07-01 00:00:00'), Timestamp('2024-06-01 00:00:00'), Timestamp('2024-05-01 00:00:00'), Timestamp('2024-04-01 00:00:00'), Timestamp('2024-03-01 00:00:00')]\n",
      "Frequency of time-series:  MS\n"
     ]
    }
   ],
   "source": [
    "scraped.make_x_index(force_rerun_freqdet=True)"
   ]
  },
  {
   "cell_type": "code",
   "execution_count": 86,
   "metadata": {},
   "outputs": [
    {
     "data": {
      "text/plain": [
       "1950-01-01 00:00:00.000000000    62.3\n",
       "1950-01-31 10:29:29.966629588     NaN\n",
       "1950-03-02 20:58:59.933259177    61.8\n",
       "1950-04-02 07:28:29.899888766    71.0\n",
       "1950-05-02 17:57:59.866518354    76.6\n",
       "                                 ... \n",
       "2024-08-01 06:02:00.133481472    44.6\n",
       "2024-08-31 16:31:30.100111360     NaN\n",
       "2024-10-01 03:01:00.066740736    47.1\n",
       "2024-10-31 13:30:30.033370624     NaN\n",
       "2024-12-01 00:00:00.000000000    52.5\n",
       "Name: ism manufacturing new orders, Length: 900, dtype: float64"
      ]
     },
     "execution_count": 86,
     "metadata": {},
     "output_type": "execute_result"
    }
   ],
   "source": [
    "scraped.trace_path_series"
   ]
  },
  {
   "cell_type": "code",
   "execution_count": 83,
   "metadata": {},
   "outputs": [
    {
     "data": {
      "text/plain": [
       "1950-01-01    62.3\n",
       "1950-02-01     NaN\n",
       "1950-03-01    61.8\n",
       "1950-04-01    71.0\n",
       "1950-05-01    76.6\n",
       "              ... \n",
       "2024-08-01    44.6\n",
       "2024-09-01     NaN\n",
       "2024-10-01    47.1\n",
       "2024-11-01     NaN\n",
       "2024-12-01    52.5\n",
       "Freq: MS, Name: ism manufacturing new orders, Length: 900, dtype: float64"
      ]
     },
     "execution_count": 83,
     "metadata": {},
     "output_type": "execute_result"
    }
   ],
   "source": [
    "scraped.series"
   ]
  },
  {
   "cell_type": "markdown",
   "metadata": {},
   "source": [
    "# Method #3: Debug method - manually run through the steps."
   ]
  },
  {
   "cell_type": "code",
   "execution_count": 198,
   "metadata": {},
   "outputs": [
    {
     "name": "stderr",
     "output_type": "stream",
     "text": [
      "INFO - New firefox webdriver created.\n"
     ]
    }
   ],
   "source": [
    "scr = ted.TE_Scraper(use_existing_driver = False, headless = False)  ## Initialize a new TE_scraper object."
   ]
  },
  {
   "cell_type": "code",
   "execution_count": 200,
   "metadata": {},
   "outputs": [
    {
     "name": "stderr",
     "output_type": "stream",
     "text": [
      "INFO - WebPage at https://tradingeconomics.com/united-states/ism-manufacturing-new-orders loaded successfully.\n"
     ]
    },
    {
     "data": {
      "text/plain": [
       "True"
      ]
     },
     "execution_count": 200,
     "metadata": {},
     "output_type": "execute_result"
    }
   ],
   "source": [
    "scr.load_page(\"https://tradingeconomics.com/united-states/ism-manufacturing-new-orders\")"
   ]
  },
  {
   "cell_type": "code",
   "execution_count": 201,
   "metadata": {},
   "outputs": [
    {
     "name": "stdout",
     "output_type": "stream",
     "text": [
      "Using selenium and tooltip scraping to construct the date time index for the time-series, this'll take a bit...\n",
      "Date span element:  <a class=\"hawk-chartOptions-datePicker-cnt-btn\" data-span=\"31536000000\" data-span_str=\"1Y\" href=\"#\">1Y</a>\n",
      "No selected date span found.\n"
     ]
    },
    {
     "name": "stderr",
     "output_type": "stream",
     "text": [
      "INFO - Button clicked successfully: a.hawk-chartOptions-datePicker-cnt-btn:nth-child(5)\n",
      "INFO - Date span set to: MAX\n",
      "INFO - Chart types dictionary created successfully: {'Column': '.barChart .dkLabels-label-btn', 'Spline': '.splineChart .dkLabels-label-btn', 'Areaspline': '.areasplineChart .dkLabels-label-btn', 'Stepline': '.stepLine .dkLabels-label-btn', 'Line': '.lineChart .dkLabels-label-btn', 'Area': '.areaChart .dkLabels-label-btn'}\n",
      "INFO - Button clicked successfully: #chart > div > div > div.hawk-header > div > div.pickChartTypes > div > button\n",
      "INFO - Button clicked successfully: .lineChart .dkLabels-label-btn\n",
      "INFO - Chart type set to: Line\n",
      "INFO - Chart types dictionary created successfully: {'Column': '.barChart .dkLabels-label-btn', 'Spline': '.splineChart .dkLabels-label-btn', 'Areaspline': '.areasplineChart .dkLabels-label-btn', 'Stepline': '.stepLine .dkLabels-label-btn', 'Line': '.lineChart .dkLabels-label-btn', 'Area': '.areaChart .dkLabels-label-btn'}\n",
      "INFO - Button clicked successfully: #chart > div > div > div.hawk-header > div > div.pickChartTypes > div > button\n",
      "INFO - Button clicked successfully: .lineChart .dkLabels-label-btn\n",
      "INFO - Line chart type selected.\n"
     ]
    },
    {
     "name": "stdout",
     "output_type": "stream",
     "text": [
      "Date span element:  <a class=\"hawk-chartOptions-datePicker-cnt-btn\" data-span=\"31536000000\" data-span_str=\"1Y\" href=\"#\">1Y</a>\n",
      "No selected date span found.\n",
      "Getting chart dimensions and plot background element.\n",
      "Got chart dimensions and plot background element.\n",
      "Moved cursor to (101.0, 503.0)\n",
      "Moved cursor to (776.0, 503.0)\n"
     ]
    },
    {
     "name": "stderr",
     "output_type": "stream",
     "text": [
      "INFO - Start and end values scraped from tooltips: {'start_date': Timestamp('1950-01-01 00:00:00'), 'start_value': 62.3, 'end_date': Timestamp('2025-01-01 00:00:00'), 'end_value': 55.1}\n"
     ]
    },
    {
     "name": "stdout",
     "output_type": "stream",
     "text": [
      "Start and end dates scraped from tooltips:  {'start_date': Timestamp('1950-01-01 00:00:00'), 'start_value': 62.3, 'end_date': Timestamp('2025-01-01 00:00:00'), 'end_value': 55.1}\n"
     ]
    },
    {
     "name": "stderr",
     "output_type": "stream",
     "text": [
      "INFO - Button clicked successfully: a.hawk-chartOptions-datePicker-cnt-btn:nth-child(1)\n",
      "INFO - Date span set to: 1Y\n",
      "INFO - Button clicked successfully: #chart > div > div > div.hawk-header > div > div.pickChartTypes > div > button\n",
      "INFO - Button clicked successfully: .lineChart .dkLabels-label-btn\n",
      "INFO - Line chart type selected.\n"
     ]
    },
    {
     "name": "stdout",
     "output_type": "stream",
     "text": [
      "Viewport dimensions: 1280 x 837\n",
      "Chart position in viewport: x=101.0, y=355.0\n",
      "439.0\n"
     ]
    },
    {
     "name": "stderr",
     "output_type": "stream",
     "text": [
      "INFO - No series found, using frequency and start and end dates to create a datetime x-index.\n",
      "INFO - DateTimeIndex created successfully for the time-series.\n"
     ]
    },
    {
     "name": "stdout",
     "output_type": "stream",
     "text": [
      "Latest dates:  [Timestamp('2025-01-01 00:00:00'), Timestamp('2024-12-01 00:00:00'), Timestamp('2024-11-01 00:00:00'), Timestamp('2024-10-01 00:00:00'), Timestamp('2024-09-01 00:00:00'), Timestamp('2024-08-01 00:00:00'), Timestamp('2024-07-01 00:00:00'), Timestamp('2024-06-01 00:00:00'), Timestamp('2024-05-01 00:00:00'), Timestamp('2024-04-01 00:00:00')]\n",
      "Frequency of time-series:  MS\n",
      "Number of scrapes required to get full series: 3\n"
     ]
    },
    {
     "data": {
      "text/plain": [
       "3"
      ]
     },
     "execution_count": 201,
     "metadata": {},
     "output_type": "execute_result"
    }
   ],
   "source": [
    "scr.assess_num_scrapes_reqd() ## Assess number of scrapes required to get the data. If there are many datapoints, the series will be scraped in chunks."
   ]
  },
  {
   "cell_type": "code",
   "execution_count": 207,
   "metadata": {},
   "outputs": [
    {
     "name": "stderr",
     "output_type": "stream",
     "text": [
      "INFO - Series path extraction method: Extracting series data from chart soup.\n",
      "INFO - Date span: MAX. Chart type: lineChart, URL: https://tradingeconomics.com/united-states/ism-manufacturing-new-orders.\n",
      "INFO - Raw data series extracted successfully: 0.000000    228.345588\n",
      "0.763853    229.213235\n",
      "1.453786    226.176471\n",
      "2.217639    266.088235\n",
      "2.956852    290.382353\n",
      "Name: Extracted Series, dtype: float64\n"
     ]
    },
    {
     "data": {
      "text/plain": [
       "0.000000      228.345588\n",
       "0.763853      229.213235\n",
       "1.453786      226.176471\n",
       "2.217639      266.088235\n",
       "2.956852      290.382353\n",
       "                 ...    \n",
       "671.993867    158.066176\n",
       "672.733080    165.875000\n",
       "673.496934    176.286765\n",
       "674.236147    184.095588\n",
       "675.000000    197.110294\n",
       "Name: Extracted Series, Length: 903, dtype: float64"
      ]
     },
     "execution_count": 207,
     "metadata": {},
     "output_type": "execute_result"
    }
   ],
   "source": [
    "scr.get_full_series(force_single_scrape=True) ## Get the full series from the path element of the data trace on the svg chart.\n",
    "scr.series"
   ]
  },
  {
   "cell_type": "code",
   "execution_count": 208,
   "metadata": {},
   "outputs": [
    {
     "data": {
      "text/plain": [
       "0.000000      228.345588\n",
       "0.763853      229.213235\n",
       "1.453786      226.176471\n",
       "2.217639      266.088235\n",
       "2.956852      290.382353\n",
       "                 ...    \n",
       "671.993867    158.066176\n",
       "672.733080    165.875000\n",
       "673.496934    176.286765\n",
       "674.236147    184.095588\n",
       "675.000000    197.110294\n",
       "Name: Extracted Series, Length: 903, dtype: float64"
      ]
     },
     "execution_count": 208,
     "metadata": {},
     "output_type": "execute_result"
    }
   ],
   "source": [
    "scr.series"
   ]
  },
  {
   "cell_type": "code",
   "execution_count": 185,
   "metadata": {},
   "outputs": [
    {
     "name": "stderr",
     "output_type": "stream",
     "text": [
      "INFO - Button clicked successfully: a.hawk-chartOptions-datePicker-cnt-btn:nth-child(5)\n",
      "INFO - Date span set to: MAX\n",
      "INFO - Y-axis values scraped successfully.\n"
     ]
    },
    {
     "data": {
      "text/plain": [
       "pixheight\n",
       "39.5     19.0\n",
       "83.5     29.0\n",
       "135.5    41.0\n",
       "188.5    53.0\n",
       "240.5    65.0\n",
       "292.5    77.0\n",
       "335.5    87.0\n",
       "Name: ytick_label, dtype: float64"
      ]
     },
     "execution_count": 185,
     "metadata": {},
     "output_type": "execute_result"
    }
   ],
   "source": [
    "scr.set_date_span(\"MAX\")  #Set the chart date span to maximum.\n",
    "scr.get_y_axis(set_global_y_axis=True)   ## Get the y-axis tick positions (pixel co-ordinates) and values, will set the global y-axis attribute since date_span is set to MAX."
   ]
  },
  {
   "cell_type": "code",
   "execution_count": 209,
   "metadata": {},
   "outputs": [
    {
     "name": "stderr",
     "output_type": "stream",
     "text": [
      "INFO - DateTimeIndex applied to series, series resampled at the frequency: MS. series attribute updated.\n"
     ]
    },
    {
     "name": "stdout",
     "output_type": "stream",
     "text": [
      "temp_index:  DatetimeIndex([          '1950-01-01 00:00:00',\n",
      "               '1950-01-31 08:53:12.904656319',\n",
      "               '1950-03-02 17:46:25.809312639',\n",
      "               '1950-04-02 02:39:38.713968958',\n",
      "               '1950-05-02 11:32:51.618625278',\n",
      "               '1950-06-01 20:26:04.523281598',\n",
      "               '1950-07-02 05:19:17.427937916',\n",
      "               '1950-08-01 14:12:30.332594236',\n",
      "               '1950-08-31 23:05:43.237250556',\n",
      "               '1950-10-01 07:58:56.141906876',\n",
      "               ...\n",
      "               '2024-04-02 16:01:03.858093568',\n",
      "               '2024-05-03 00:54:16.762749440',\n",
      "               '2024-06-02 09:47:29.667405824',\n",
      "               '2024-07-02 18:40:42.572062208',\n",
      "               '2024-08-02 03:33:55.476718592',\n",
      "               '2024-09-01 12:27:08.381374976',\n",
      "               '2024-10-01 21:20:21.286031360',\n",
      "               '2024-11-01 06:13:34.190687744',\n",
      "               '2024-12-01 15:06:47.095343616',\n",
      "                         '2025-01-01 00:00:00'],\n",
      "              dtype='datetime64[ns]', length=903, freq=None) len series:  903 len x_index:  901\n"
     ]
    }
   ],
   "source": [
    "scr.apply_x_index()  ## Apply the x-axis index to the series."
   ]
  },
  {
   "cell_type": "code",
   "execution_count": 232,
   "metadata": {},
   "outputs": [
    {
     "data": {
      "text/plain": [
       "DatetimeIndex(['1950-01-01', '1950-02-01', '1950-03-01', '1950-04-01',\n",
       "               '1950-05-01', '1950-06-01', '1950-07-01', '1950-08-01',\n",
       "               '1950-09-01', '1950-10-01',\n",
       "               ...\n",
       "               '2024-04-01', '2024-05-01', '2024-06-01', '2024-07-01',\n",
       "               '2024-08-01', '2024-09-01', '2024-10-01', '2024-11-01',\n",
       "               '2024-12-01', '2025-01-01'],\n",
       "              dtype='datetime64[ns]', length=901, freq='MS')"
      ]
     },
     "execution_count": 232,
     "metadata": {},
     "output_type": "execute_result"
    }
   ],
   "source": [
    "scr.x_index"
   ]
  },
  {
   "cell_type": "code",
   "execution_count": 233,
   "metadata": {},
   "outputs": [],
   "source": [
    "rounded_idx = ted.utils.round_to_month_start(scr.trace_path_series.index)"
   ]
  },
  {
   "cell_type": "code",
   "execution_count": 210,
   "metadata": {},
   "outputs": [
    {
     "data": {
      "text/plain": [
       "1950-01-01    228.345588\n",
       "1950-02-01           NaN\n",
       "1950-03-01    226.176471\n",
       "1950-04-01    266.088235\n",
       "1950-05-01    290.382353\n",
       "                 ...    \n",
       "2024-09-01    158.066176\n",
       "2024-10-01    165.875000\n",
       "2024-11-01    176.286765\n",
       "2024-12-01    184.095588\n",
       "2025-01-01    197.110294\n",
       "Freq: MS, Name: ism manufacturing new orders, Length: 901, dtype: float64"
      ]
     },
     "execution_count": 210,
     "metadata": {},
     "output_type": "execute_result"
    }
   ],
   "source": [
    "scr.series"
   ]
  },
  {
   "cell_type": "code",
   "execution_count": 235,
   "metadata": {},
   "outputs": [],
   "source": [
    "scr.series = pd.Series(scr.series.to_list(), index = rounded_idx, name = scr.series.name)"
   ]
  },
  {
   "cell_type": "code",
   "execution_count": 236,
   "metadata": {},
   "outputs": [
    {
     "data": {
      "application/vnd.plotly.v1+json": {
       "config": {
        "plotlyServerURL": "https://plot.ly"
       },
       "data": [
        {
         "hovertemplate": "variable=ism manufacturing new orders<br>index=%{x}<br>value=%{y}<extra></extra>",
         "legendgroup": "ism manufacturing new orders",
         "line": {
          "color": "#636efa",
          "dash": "solid"
         },
         "marker": {
          "symbol": "circle"
         },
         "mode": "lines",
         "name": "ism manufacturing new orders",
         "orientation": "v",
         "showlegend": true,
         "type": "scatter",
         "x": [
          "1950-01-01T00:00:00",
          "1950-02-01T00:00:00",
          "1950-03-01T00:00:00",
          "1950-04-01T00:00:00",
          "1950-05-01T00:00:00",
          "1950-06-01T00:00:00",
          "1950-07-01T00:00:00",
          "1950-08-01T00:00:00",
          "1950-09-01T00:00:00",
          "1950-10-01T00:00:00",
          "1950-11-01T00:00:00",
          "1950-12-01T00:00:00",
          "1951-01-01T00:00:00",
          "1951-02-01T00:00:00",
          "1951-03-01T00:00:00",
          "1951-04-01T00:00:00",
          "1951-05-01T00:00:00",
          "1951-06-01T00:00:00",
          "1951-07-01T00:00:00",
          "1951-08-01T00:00:00",
          "1951-09-01T00:00:00",
          "1951-10-01T00:00:00",
          "1951-11-01T00:00:00",
          "1951-12-01T00:00:00",
          "1952-01-01T00:00:00",
          "1952-02-01T00:00:00",
          "1952-03-01T00:00:00",
          "1952-04-01T00:00:00",
          "1952-05-01T00:00:00",
          "1952-06-01T00:00:00",
          "1952-07-01T00:00:00",
          "1952-08-01T00:00:00",
          "1952-09-01T00:00:00",
          "1952-10-01T00:00:00",
          "1952-11-01T00:00:00",
          "1952-12-01T00:00:00",
          "1953-01-01T00:00:00",
          "1953-02-01T00:00:00",
          "1953-03-01T00:00:00",
          "1953-04-01T00:00:00",
          "1953-05-01T00:00:00",
          "1953-06-01T00:00:00",
          "1953-07-01T00:00:00",
          "1953-08-01T00:00:00",
          "1953-09-01T00:00:00",
          "1953-10-01T00:00:00",
          "1953-11-01T00:00:00",
          "1953-12-01T00:00:00",
          "1954-01-01T00:00:00",
          "1954-02-01T00:00:00",
          "1954-03-01T00:00:00",
          "1954-04-01T00:00:00",
          "1954-05-01T00:00:00",
          "1954-06-01T00:00:00",
          "1954-07-01T00:00:00",
          "1954-08-01T00:00:00",
          "1954-09-01T00:00:00",
          "1954-10-01T00:00:00",
          "1954-11-01T00:00:00",
          "1954-12-01T00:00:00",
          "1955-01-01T00:00:00",
          "1955-02-01T00:00:00",
          "1955-03-01T00:00:00",
          "1955-04-01T00:00:00",
          "1955-05-01T00:00:00",
          "1955-06-01T00:00:00",
          "1955-07-01T00:00:00",
          "1955-08-01T00:00:00",
          "1955-09-01T00:00:00",
          "1955-10-01T00:00:00",
          "1955-11-01T00:00:00",
          "1955-12-01T00:00:00",
          "1956-01-01T00:00:00",
          "1956-02-01T00:00:00",
          "1956-03-01T00:00:00",
          "1956-04-01T00:00:00",
          "1956-05-01T00:00:00",
          "1956-06-01T00:00:00",
          "1956-07-01T00:00:00",
          "1956-08-01T00:00:00",
          "1956-09-01T00:00:00",
          "1956-10-01T00:00:00",
          "1956-11-01T00:00:00",
          "1956-12-01T00:00:00",
          "1957-01-01T00:00:00",
          "1957-02-01T00:00:00",
          "1957-03-01T00:00:00",
          "1957-04-01T00:00:00",
          "1957-05-01T00:00:00",
          "1957-06-01T00:00:00",
          "1957-07-01T00:00:00",
          "1957-08-01T00:00:00",
          "1957-09-01T00:00:00",
          "1957-10-01T00:00:00",
          "1957-11-01T00:00:00",
          "1957-12-01T00:00:00",
          "1958-01-01T00:00:00",
          "1958-02-01T00:00:00",
          "1958-03-01T00:00:00",
          "1958-04-01T00:00:00",
          "1958-05-01T00:00:00",
          "1958-06-01T00:00:00",
          "1958-07-01T00:00:00",
          "1958-08-01T00:00:00",
          "1958-09-01T00:00:00",
          "1958-10-01T00:00:00",
          "1958-11-01T00:00:00",
          "1958-12-01T00:00:00",
          "1959-01-01T00:00:00",
          "1959-02-01T00:00:00",
          "1959-03-01T00:00:00",
          "1959-04-01T00:00:00",
          "1959-05-01T00:00:00",
          "1959-06-01T00:00:00",
          "1959-07-01T00:00:00",
          "1959-08-01T00:00:00",
          "1959-09-01T00:00:00",
          "1959-10-01T00:00:00",
          "1959-11-01T00:00:00",
          "1959-12-01T00:00:00",
          "1960-01-01T00:00:00",
          "1960-02-01T00:00:00",
          "1960-03-01T00:00:00",
          "1960-04-01T00:00:00",
          "1960-05-01T00:00:00",
          "1960-06-01T00:00:00",
          "1960-07-01T00:00:00",
          "1960-08-01T00:00:00",
          "1960-09-01T00:00:00",
          "1960-10-01T00:00:00",
          "1960-11-01T00:00:00",
          "1960-12-01T00:00:00",
          "1961-01-01T00:00:00",
          "1961-02-01T00:00:00",
          "1961-03-01T00:00:00",
          "1961-04-01T00:00:00",
          "1961-05-01T00:00:00",
          "1961-06-01T00:00:00",
          "1961-07-01T00:00:00",
          "1961-08-01T00:00:00",
          "1961-09-01T00:00:00",
          "1961-10-01T00:00:00",
          "1961-11-01T00:00:00",
          "1961-12-01T00:00:00",
          "1962-01-01T00:00:00",
          "1962-02-01T00:00:00",
          "1962-03-01T00:00:00",
          "1962-04-01T00:00:00",
          "1962-05-01T00:00:00",
          "1962-06-01T00:00:00",
          "1962-07-01T00:00:00",
          "1962-08-01T00:00:00",
          "1962-09-01T00:00:00",
          "1962-10-01T00:00:00",
          "1962-11-01T00:00:00",
          "1962-12-01T00:00:00",
          "1963-01-01T00:00:00",
          "1963-02-01T00:00:00",
          "1963-03-01T00:00:00",
          "1963-04-01T00:00:00",
          "1963-05-01T00:00:00",
          "1963-06-01T00:00:00",
          "1963-07-01T00:00:00",
          "1963-08-01T00:00:00",
          "1963-09-01T00:00:00",
          "1963-10-01T00:00:00",
          "1963-11-01T00:00:00",
          "1963-12-01T00:00:00",
          "1964-01-01T00:00:00",
          "1964-02-01T00:00:00",
          "1964-03-01T00:00:00",
          "1964-04-01T00:00:00",
          "1964-05-01T00:00:00",
          "1964-06-01T00:00:00",
          "1964-07-01T00:00:00",
          "1964-08-01T00:00:00",
          "1964-09-01T00:00:00",
          "1964-10-01T00:00:00",
          "1964-11-01T00:00:00",
          "1964-12-01T00:00:00",
          "1965-01-01T00:00:00",
          "1965-02-01T00:00:00",
          "1965-03-01T00:00:00",
          "1965-04-01T00:00:00",
          "1965-05-01T00:00:00",
          "1965-06-01T00:00:00",
          "1965-07-01T00:00:00",
          "1965-08-01T00:00:00",
          "1965-09-01T00:00:00",
          "1965-10-01T00:00:00",
          "1965-11-01T00:00:00",
          "1965-12-01T00:00:00",
          "1966-01-01T00:00:00",
          "1966-02-01T00:00:00",
          "1966-03-01T00:00:00",
          "1966-04-01T00:00:00",
          "1966-05-01T00:00:00",
          "1966-06-01T00:00:00",
          "1966-07-01T00:00:00",
          "1966-08-01T00:00:00",
          "1966-09-01T00:00:00",
          "1966-10-01T00:00:00",
          "1966-11-01T00:00:00",
          "1966-12-01T00:00:00",
          "1967-01-01T00:00:00",
          "1967-02-01T00:00:00",
          "1967-03-01T00:00:00",
          "1967-04-01T00:00:00",
          "1967-05-01T00:00:00",
          "1967-06-01T00:00:00",
          "1967-07-01T00:00:00",
          "1967-08-01T00:00:00",
          "1967-09-01T00:00:00",
          "1967-10-01T00:00:00",
          "1967-11-01T00:00:00",
          "1967-12-01T00:00:00",
          "1968-01-01T00:00:00",
          "1968-02-01T00:00:00",
          "1968-03-01T00:00:00",
          "1968-04-01T00:00:00",
          "1968-05-01T00:00:00",
          "1968-06-01T00:00:00",
          "1968-07-01T00:00:00",
          "1968-08-01T00:00:00",
          "1968-09-01T00:00:00",
          "1968-10-01T00:00:00",
          "1968-11-01T00:00:00",
          "1968-12-01T00:00:00",
          "1969-01-01T00:00:00",
          "1969-01-01T00:00:00",
          "1969-02-01T00:00:00",
          "1969-04-01T00:00:00",
          "1969-05-01T00:00:00",
          "1969-06-01T00:00:00",
          "1969-07-01T00:00:00",
          "1969-08-01T00:00:00",
          "1969-09-01T00:00:00",
          "1969-09-01T00:00:00",
          "1969-11-01T00:00:00",
          "1969-11-01T00:00:00",
          "1969-12-01T00:00:00",
          "1970-01-01T00:00:00",
          "1970-02-01T00:00:00",
          "1970-04-01T00:00:00",
          "1970-05-01T00:00:00",
          "1970-06-01T00:00:00",
          "1970-07-01T00:00:00",
          "1970-08-01T00:00:00",
          "1970-08-01T00:00:00",
          "1970-09-01T00:00:00",
          "1970-10-01T00:00:00",
          "1970-11-01T00:00:00",
          "1970-12-01T00:00:00",
          "1971-01-01T00:00:00",
          "1971-02-01T00:00:00",
          "1971-04-01T00:00:00",
          "1971-04-01T00:00:00",
          "1971-06-01T00:00:00",
          "1971-06-01T00:00:00",
          "1971-07-01T00:00:00",
          "1971-08-01T00:00:00",
          "1971-09-01T00:00:00",
          "1971-10-01T00:00:00",
          "1971-11-01T00:00:00",
          "1971-12-01T00:00:00",
          "1972-01-01T00:00:00",
          "1972-02-01T00:00:00",
          "1972-03-01T00:00:00",
          "1972-04-01T00:00:00",
          "1972-05-01T00:00:00",
          "1972-06-01T00:00:00",
          "1972-07-01T00:00:00",
          "1972-08-01T00:00:00",
          "1972-09-01T00:00:00",
          "1972-10-01T00:00:00",
          "1972-11-01T00:00:00",
          "1972-12-01T00:00:00",
          "1973-01-01T00:00:00",
          "1973-02-01T00:00:00",
          "1973-03-01T00:00:00",
          "1973-04-01T00:00:00",
          "1973-05-01T00:00:00",
          "1973-06-01T00:00:00",
          "1973-07-01T00:00:00",
          "1973-08-01T00:00:00",
          "1973-09-01T00:00:00",
          "1973-10-01T00:00:00",
          "1973-11-01T00:00:00",
          "1973-12-01T00:00:00",
          "1974-01-01T00:00:00",
          "1974-02-01T00:00:00",
          "1974-03-01T00:00:00",
          "1974-04-01T00:00:00",
          "1974-05-01T00:00:00",
          "1974-06-01T00:00:00",
          "1974-07-01T00:00:00",
          "1974-08-01T00:00:00",
          "1974-09-01T00:00:00",
          "1974-10-01T00:00:00",
          "1974-11-01T00:00:00",
          "1974-12-01T00:00:00",
          "1975-01-01T00:00:00",
          "1975-02-01T00:00:00",
          "1975-03-01T00:00:00",
          "1975-04-01T00:00:00",
          "1975-05-01T00:00:00",
          "1975-06-01T00:00:00",
          "1975-07-01T00:00:00",
          "1975-08-01T00:00:00",
          "1975-09-01T00:00:00",
          "1975-10-01T00:00:00",
          "1975-11-01T00:00:00",
          "1975-12-01T00:00:00",
          "1976-01-01T00:00:00",
          "1976-02-01T00:00:00",
          "1976-03-01T00:00:00",
          "1976-04-01T00:00:00",
          "1976-05-01T00:00:00",
          "1976-06-01T00:00:00",
          "1976-07-01T00:00:00",
          "1976-08-01T00:00:00",
          "1976-09-01T00:00:00",
          "1976-10-01T00:00:00",
          "1976-11-01T00:00:00",
          "1976-12-01T00:00:00",
          "1977-01-01T00:00:00",
          "1977-02-01T00:00:00",
          "1977-03-01T00:00:00",
          "1977-04-01T00:00:00",
          "1977-05-01T00:00:00",
          "1977-06-01T00:00:00",
          "1977-07-01T00:00:00",
          "1977-08-01T00:00:00",
          "1977-09-01T00:00:00",
          "1977-10-01T00:00:00",
          "1977-11-01T00:00:00",
          "1977-12-01T00:00:00",
          "1978-01-01T00:00:00",
          "1978-02-01T00:00:00",
          "1978-03-01T00:00:00",
          "1978-04-01T00:00:00",
          "1978-05-01T00:00:00",
          "1978-06-01T00:00:00",
          "1978-07-01T00:00:00",
          "1978-08-01T00:00:00",
          "1978-09-01T00:00:00",
          "1978-10-01T00:00:00",
          "1978-11-01T00:00:00",
          "1978-12-01T00:00:00",
          "1979-01-01T00:00:00",
          "1979-02-01T00:00:00",
          "1979-03-01T00:00:00",
          "1979-04-01T00:00:00",
          "1979-05-01T00:00:00",
          "1979-06-01T00:00:00",
          "1979-07-01T00:00:00",
          "1979-08-01T00:00:00",
          "1979-09-01T00:00:00",
          "1979-10-01T00:00:00",
          "1979-11-01T00:00:00",
          "1979-12-01T00:00:00",
          "1980-01-01T00:00:00",
          "1980-02-01T00:00:00",
          "1980-03-01T00:00:00",
          "1980-04-01T00:00:00",
          "1980-05-01T00:00:00",
          "1980-06-01T00:00:00",
          "1980-07-01T00:00:00",
          "1980-08-01T00:00:00",
          "1980-09-01T00:00:00",
          "1980-10-01T00:00:00",
          "1980-11-01T00:00:00",
          "1980-12-01T00:00:00",
          "1981-01-01T00:00:00",
          "1981-02-01T00:00:00",
          "1981-03-01T00:00:00",
          "1981-04-01T00:00:00",
          "1981-05-01T00:00:00",
          "1981-06-01T00:00:00",
          "1981-07-01T00:00:00",
          "1981-08-01T00:00:00",
          "1981-09-01T00:00:00",
          "1981-10-01T00:00:00",
          "1981-11-01T00:00:00",
          "1981-12-01T00:00:00",
          "1982-01-01T00:00:00",
          "1982-02-01T00:00:00",
          "1982-03-01T00:00:00",
          "1982-04-01T00:00:00",
          "1982-05-01T00:00:00",
          "1982-06-01T00:00:00",
          "1982-07-01T00:00:00",
          "1982-08-01T00:00:00",
          "1982-09-01T00:00:00",
          "1982-10-01T00:00:00",
          "1982-11-01T00:00:00",
          "1982-12-01T00:00:00",
          "1983-01-01T00:00:00",
          "1983-02-01T00:00:00",
          "1983-03-01T00:00:00",
          "1983-04-01T00:00:00",
          "1983-05-01T00:00:00",
          "1983-06-01T00:00:00",
          "1983-07-01T00:00:00",
          "1983-08-01T00:00:00",
          "1983-09-01T00:00:00",
          "1983-10-01T00:00:00",
          "1983-11-01T00:00:00",
          "1983-12-01T00:00:00",
          "1984-01-01T00:00:00",
          "1984-02-01T00:00:00",
          "1984-03-01T00:00:00",
          "1984-04-01T00:00:00",
          "1984-05-01T00:00:00",
          "1984-06-01T00:00:00",
          "1984-07-01T00:00:00",
          "1984-08-01T00:00:00",
          "1984-09-01T00:00:00",
          "1984-10-01T00:00:00",
          "1984-11-01T00:00:00",
          "1984-12-01T00:00:00",
          "1985-01-01T00:00:00",
          "1985-02-01T00:00:00",
          "1985-03-01T00:00:00",
          "1985-04-01T00:00:00",
          "1985-05-01T00:00:00",
          "1985-06-01T00:00:00",
          "1985-07-01T00:00:00",
          "1985-08-01T00:00:00",
          "1985-09-01T00:00:00",
          "1985-10-01T00:00:00",
          "1985-11-01T00:00:00",
          "1985-12-01T00:00:00",
          "1986-01-01T00:00:00",
          "1986-02-01T00:00:00",
          "1986-03-01T00:00:00",
          "1986-04-01T00:00:00",
          "1986-05-01T00:00:00",
          "1986-06-01T00:00:00",
          "1986-07-01T00:00:00",
          "1986-08-01T00:00:00",
          "1986-09-01T00:00:00",
          "1986-10-01T00:00:00",
          "1986-11-01T00:00:00",
          "1986-12-01T00:00:00",
          "1987-01-01T00:00:00",
          "1987-02-01T00:00:00",
          "1987-03-01T00:00:00",
          "1987-04-01T00:00:00",
          "1987-05-01T00:00:00",
          "1987-06-01T00:00:00",
          "1987-07-01T00:00:00",
          "1987-08-01T00:00:00",
          "1987-09-01T00:00:00",
          "1987-10-01T00:00:00",
          "1987-11-01T00:00:00",
          "1987-12-01T00:00:00",
          "1988-01-01T00:00:00",
          "1988-02-01T00:00:00",
          "1988-03-01T00:00:00",
          "1988-04-01T00:00:00",
          "1988-05-01T00:00:00",
          "1988-06-01T00:00:00",
          "1988-07-01T00:00:00",
          "1988-08-01T00:00:00",
          "1988-09-01T00:00:00",
          "1988-10-01T00:00:00",
          "1988-11-01T00:00:00",
          "1988-12-01T00:00:00",
          "1989-01-01T00:00:00",
          "1989-02-01T00:00:00",
          "1989-03-01T00:00:00",
          "1989-04-01T00:00:00",
          "1989-05-01T00:00:00",
          "1989-06-01T00:00:00",
          "1989-07-01T00:00:00",
          "1989-08-01T00:00:00",
          "1989-09-01T00:00:00",
          "1989-10-01T00:00:00",
          "1989-11-01T00:00:00",
          "1989-12-01T00:00:00",
          "1990-01-01T00:00:00",
          "1990-02-01T00:00:00",
          "1990-03-01T00:00:00",
          "1990-04-01T00:00:00",
          "1990-05-01T00:00:00",
          "1990-06-01T00:00:00",
          "1990-07-01T00:00:00",
          "1990-08-01T00:00:00",
          "1990-09-01T00:00:00",
          "1990-10-01T00:00:00",
          "1990-11-01T00:00:00",
          "1990-12-01T00:00:00",
          "1991-01-01T00:00:00",
          "1991-02-01T00:00:00",
          "1991-03-01T00:00:00",
          "1991-04-01T00:00:00",
          "1991-05-01T00:00:00",
          "1991-06-01T00:00:00",
          "1991-07-01T00:00:00",
          "1991-08-01T00:00:00",
          "1991-09-01T00:00:00",
          "1991-10-01T00:00:00",
          "1991-11-01T00:00:00",
          "1991-12-01T00:00:00",
          "1992-01-01T00:00:00",
          "1992-02-01T00:00:00",
          "1992-03-01T00:00:00",
          "1992-04-01T00:00:00",
          "1992-05-01T00:00:00",
          "1992-06-01T00:00:00",
          "1992-07-01T00:00:00",
          "1992-08-01T00:00:00",
          "1992-09-01T00:00:00",
          "1992-10-01T00:00:00",
          "1992-11-01T00:00:00",
          "1992-12-01T00:00:00",
          "1993-01-01T00:00:00",
          "1993-02-01T00:00:00",
          "1993-03-01T00:00:00",
          "1993-04-01T00:00:00",
          "1993-05-01T00:00:00",
          "1993-06-01T00:00:00",
          "1993-07-01T00:00:00",
          "1993-08-01T00:00:00",
          "1993-09-01T00:00:00",
          "1993-10-01T00:00:00",
          "1993-11-01T00:00:00",
          "1993-12-01T00:00:00",
          "1994-01-01T00:00:00",
          "1994-02-01T00:00:00",
          "1994-03-01T00:00:00",
          "1994-04-01T00:00:00",
          "1994-05-01T00:00:00",
          "1994-06-01T00:00:00",
          "1994-07-01T00:00:00",
          "1994-08-01T00:00:00",
          "1994-09-01T00:00:00",
          "1994-10-01T00:00:00",
          "1994-11-01T00:00:00",
          "1994-12-01T00:00:00",
          "1995-01-01T00:00:00",
          "1995-02-01T00:00:00",
          "1995-03-01T00:00:00",
          "1995-04-01T00:00:00",
          "1995-05-01T00:00:00",
          "1995-06-01T00:00:00",
          "1995-07-01T00:00:00",
          "1995-08-01T00:00:00",
          "1995-09-01T00:00:00",
          "1995-10-01T00:00:00",
          "1995-11-01T00:00:00",
          "1995-12-01T00:00:00",
          "1996-01-01T00:00:00",
          "1996-02-01T00:00:00",
          "1996-03-01T00:00:00",
          "1996-04-01T00:00:00",
          "1996-05-01T00:00:00",
          "1996-06-01T00:00:00",
          "1996-07-01T00:00:00",
          "1996-08-01T00:00:00",
          "1996-09-01T00:00:00",
          "1996-10-01T00:00:00",
          "1996-11-01T00:00:00",
          "1996-12-01T00:00:00",
          "1997-01-01T00:00:00",
          "1997-02-01T00:00:00",
          "1997-03-01T00:00:00",
          "1997-04-01T00:00:00",
          "1997-05-01T00:00:00",
          "1997-06-01T00:00:00",
          "1997-07-01T00:00:00",
          "1997-08-01T00:00:00",
          "1997-09-01T00:00:00",
          "1997-10-01T00:00:00",
          "1997-11-01T00:00:00",
          "1997-12-01T00:00:00",
          "1998-01-01T00:00:00",
          "1998-02-01T00:00:00",
          "1998-03-01T00:00:00",
          "1998-04-01T00:00:00",
          "1998-05-01T00:00:00",
          "1998-06-01T00:00:00",
          "1998-07-01T00:00:00",
          "1998-08-01T00:00:00",
          "1998-09-01T00:00:00",
          "1998-10-01T00:00:00",
          "1998-11-01T00:00:00",
          "1998-12-01T00:00:00",
          "1999-01-01T00:00:00",
          "1999-02-01T00:00:00",
          "1999-03-01T00:00:00",
          "1999-04-01T00:00:00",
          "1999-05-01T00:00:00",
          "1999-06-01T00:00:00",
          "1999-07-01T00:00:00",
          "1999-08-01T00:00:00",
          "1999-09-01T00:00:00",
          "1999-10-01T00:00:00",
          "1999-11-01T00:00:00",
          "1999-12-01T00:00:00",
          "2000-01-01T00:00:00",
          "2000-02-01T00:00:00",
          "2000-03-01T00:00:00",
          "2000-04-01T00:00:00",
          "2000-05-01T00:00:00",
          "2000-06-01T00:00:00",
          "2000-07-01T00:00:00",
          "2000-08-01T00:00:00",
          "2000-09-01T00:00:00",
          "2000-10-01T00:00:00",
          "2000-11-01T00:00:00",
          "2000-12-01T00:00:00",
          "2001-01-01T00:00:00",
          "2001-02-01T00:00:00",
          "2001-03-01T00:00:00",
          "2001-04-01T00:00:00",
          "2001-05-01T00:00:00",
          "2001-06-01T00:00:00",
          "2001-07-01T00:00:00",
          "2001-08-01T00:00:00",
          "2001-09-01T00:00:00",
          "2001-10-01T00:00:00",
          "2001-11-01T00:00:00",
          "2001-12-01T00:00:00",
          "2002-01-01T00:00:00",
          "2002-02-01T00:00:00",
          "2002-03-01T00:00:00",
          "2002-04-01T00:00:00",
          "2002-05-01T00:00:00",
          "2002-06-01T00:00:00",
          "2002-07-01T00:00:00",
          "2002-08-01T00:00:00",
          "2002-09-01T00:00:00",
          "2002-10-01T00:00:00",
          "2002-11-01T00:00:00",
          "2002-12-01T00:00:00",
          "2003-01-01T00:00:00",
          "2003-02-01T00:00:00",
          "2003-03-01T00:00:00",
          "2003-04-01T00:00:00",
          "2003-05-01T00:00:00",
          "2003-06-01T00:00:00",
          "2003-07-01T00:00:00",
          "2003-08-01T00:00:00",
          "2003-09-01T00:00:00",
          "2003-10-01T00:00:00",
          "2003-11-01T00:00:00",
          "2003-12-01T00:00:00",
          "2004-01-01T00:00:00",
          "2004-02-01T00:00:00",
          "2004-03-01T00:00:00",
          "2004-04-01T00:00:00",
          "2004-05-01T00:00:00",
          "2004-06-01T00:00:00",
          "2004-07-01T00:00:00",
          "2004-08-01T00:00:00",
          "2004-09-01T00:00:00",
          "2004-10-01T00:00:00",
          "2004-11-01T00:00:00",
          "2004-12-01T00:00:00",
          "2005-01-01T00:00:00",
          "2005-02-01T00:00:00",
          "2005-03-01T00:00:00",
          "2005-04-01T00:00:00",
          "2005-05-01T00:00:00",
          "2005-06-01T00:00:00",
          "2005-07-01T00:00:00",
          "2005-08-01T00:00:00",
          "2005-09-01T00:00:00",
          "2005-10-01T00:00:00",
          "2005-11-01T00:00:00",
          "2005-12-01T00:00:00",
          "2006-01-01T00:00:00",
          "2006-02-01T00:00:00",
          "2006-02-01T00:00:00",
          "2006-04-01T00:00:00",
          "2006-05-01T00:00:00",
          "2006-06-01T00:00:00",
          "2006-07-01T00:00:00",
          "2006-08-01T00:00:00",
          "2006-09-01T00:00:00",
          "2006-10-01T00:00:00",
          "2006-11-01T00:00:00",
          "2006-12-01T00:00:00",
          "2007-01-01T00:00:00",
          "2007-02-01T00:00:00",
          "2007-02-01T00:00:00",
          "2007-04-01T00:00:00",
          "2007-05-01T00:00:00",
          "2007-06-01T00:00:00",
          "2007-07-01T00:00:00",
          "2007-08-01T00:00:00",
          "2007-09-01T00:00:00",
          "2007-09-01T00:00:00",
          "2007-11-01T00:00:00",
          "2007-11-01T00:00:00",
          "2008-01-01T00:00:00",
          "2008-01-01T00:00:00",
          "2008-02-01T00:00:00",
          "2008-04-01T00:00:00",
          "2008-04-01T00:00:00",
          "2008-05-01T00:00:00",
          "2008-06-01T00:00:00",
          "2008-07-01T00:00:00",
          "2008-08-01T00:00:00",
          "2008-09-01T00:00:00",
          "2008-10-01T00:00:00",
          "2008-11-01T00:00:00",
          "2008-12-01T00:00:00",
          "2009-01-01T00:00:00",
          "2009-02-01T00:00:00",
          "2009-03-01T00:00:00",
          "2009-04-01T00:00:00",
          "2009-05-01T00:00:00",
          "2009-06-01T00:00:00",
          "2009-07-01T00:00:00",
          "2009-08-01T00:00:00",
          "2009-09-01T00:00:00",
          "2009-10-01T00:00:00",
          "2009-11-01T00:00:00",
          "2009-12-01T00:00:00",
          "2010-01-01T00:00:00",
          "2010-02-01T00:00:00",
          "2010-03-01T00:00:00",
          "2010-04-01T00:00:00",
          "2010-05-01T00:00:00",
          "2010-06-01T00:00:00",
          "2010-07-01T00:00:00",
          "2010-08-01T00:00:00",
          "2010-09-01T00:00:00",
          "2010-10-01T00:00:00",
          "2010-11-01T00:00:00",
          "2010-12-01T00:00:00",
          "2011-01-01T00:00:00",
          "2011-02-01T00:00:00",
          "2011-03-01T00:00:00",
          "2011-04-01T00:00:00",
          "2011-05-01T00:00:00",
          "2011-06-01T00:00:00",
          "2011-07-01T00:00:00",
          "2011-08-01T00:00:00",
          "2011-09-01T00:00:00",
          "2011-10-01T00:00:00",
          "2011-11-01T00:00:00",
          "2011-12-01T00:00:00",
          "2012-01-01T00:00:00",
          "2012-02-01T00:00:00",
          "2012-03-01T00:00:00",
          "2012-04-01T00:00:00",
          "2012-05-01T00:00:00",
          "2012-06-01T00:00:00",
          "2012-07-01T00:00:00",
          "2012-08-01T00:00:00",
          "2012-09-01T00:00:00",
          "2012-10-01T00:00:00",
          "2012-11-01T00:00:00",
          "2012-12-01T00:00:00",
          "2013-01-01T00:00:00",
          "2013-02-01T00:00:00",
          "2013-03-01T00:00:00",
          "2013-04-01T00:00:00",
          "2013-05-01T00:00:00",
          "2013-06-01T00:00:00",
          "2013-07-01T00:00:00",
          "2013-08-01T00:00:00",
          "2013-09-01T00:00:00",
          "2013-10-01T00:00:00",
          "2013-11-01T00:00:00",
          "2013-12-01T00:00:00",
          "2014-01-01T00:00:00",
          "2014-02-01T00:00:00",
          "2014-03-01T00:00:00",
          "2014-04-01T00:00:00",
          "2014-05-01T00:00:00",
          "2014-06-01T00:00:00",
          "2014-07-01T00:00:00",
          "2014-08-01T00:00:00",
          "2014-09-01T00:00:00",
          "2014-10-01T00:00:00",
          "2014-11-01T00:00:00",
          "2014-12-01T00:00:00",
          "2015-01-01T00:00:00",
          "2015-02-01T00:00:00",
          "2015-03-01T00:00:00",
          "2015-04-01T00:00:00",
          "2015-05-01T00:00:00",
          "2015-06-01T00:00:00",
          "2015-07-01T00:00:00",
          "2015-08-01T00:00:00",
          "2015-09-01T00:00:00",
          "2015-10-01T00:00:00",
          "2015-11-01T00:00:00",
          "2015-12-01T00:00:00",
          "2016-01-01T00:00:00",
          "2016-02-01T00:00:00",
          "2016-03-01T00:00:00",
          "2016-04-01T00:00:00",
          "2016-05-01T00:00:00",
          "2016-06-01T00:00:00",
          "2016-07-01T00:00:00",
          "2016-08-01T00:00:00",
          "2016-09-01T00:00:00",
          "2016-10-01T00:00:00",
          "2016-11-01T00:00:00",
          "2016-12-01T00:00:00",
          "2017-01-01T00:00:00",
          "2017-02-01T00:00:00",
          "2017-03-01T00:00:00",
          "2017-04-01T00:00:00",
          "2017-05-01T00:00:00",
          "2017-06-01T00:00:00",
          "2017-07-01T00:00:00",
          "2017-08-01T00:00:00",
          "2017-09-01T00:00:00",
          "2017-10-01T00:00:00",
          "2017-11-01T00:00:00",
          "2017-12-01T00:00:00",
          "2018-01-01T00:00:00",
          "2018-02-01T00:00:00",
          "2018-03-01T00:00:00",
          "2018-04-01T00:00:00",
          "2018-05-01T00:00:00",
          "2018-06-01T00:00:00",
          "2018-07-01T00:00:00",
          "2018-08-01T00:00:00",
          "2018-09-01T00:00:00",
          "2018-10-01T00:00:00",
          "2018-11-01T00:00:00",
          "2018-12-01T00:00:00",
          "2019-01-01T00:00:00",
          "2019-02-01T00:00:00",
          "2019-03-01T00:00:00",
          "2019-04-01T00:00:00",
          "2019-05-01T00:00:00",
          "2019-06-01T00:00:00",
          "2019-07-01T00:00:00",
          "2019-08-01T00:00:00",
          "2019-09-01T00:00:00",
          "2019-10-01T00:00:00",
          "2019-11-01T00:00:00",
          "2019-12-01T00:00:00",
          "2020-01-01T00:00:00",
          "2020-02-01T00:00:00",
          "2020-03-01T00:00:00",
          "2020-04-01T00:00:00",
          "2020-05-01T00:00:00",
          "2020-06-01T00:00:00",
          "2020-07-01T00:00:00",
          "2020-08-01T00:00:00",
          "2020-09-01T00:00:00",
          "2020-10-01T00:00:00",
          "2020-11-01T00:00:00",
          "2020-12-01T00:00:00",
          "2021-01-01T00:00:00",
          "2021-02-01T00:00:00",
          "2021-03-01T00:00:00",
          "2021-04-01T00:00:00",
          "2021-05-01T00:00:00",
          "2021-06-01T00:00:00",
          "2021-07-01T00:00:00",
          "2021-08-01T00:00:00",
          "2021-09-01T00:00:00",
          "2021-10-01T00:00:00",
          "2021-11-01T00:00:00",
          "2021-12-01T00:00:00",
          "2022-01-01T00:00:00",
          "2022-02-01T00:00:00",
          "2022-03-01T00:00:00",
          "2022-04-01T00:00:00",
          "2022-05-01T00:00:00",
          "2022-06-01T00:00:00",
          "2022-07-01T00:00:00",
          "2022-08-01T00:00:00",
          "2022-09-01T00:00:00",
          "2022-10-01T00:00:00",
          "2022-11-01T00:00:00",
          "2022-12-01T00:00:00",
          "2023-01-01T00:00:00",
          "2023-02-01T00:00:00",
          "2023-03-01T00:00:00",
          "2023-04-01T00:00:00",
          "2023-05-01T00:00:00",
          "2023-06-01T00:00:00",
          "2023-07-01T00:00:00",
          "2023-08-01T00:00:00",
          "2023-09-01T00:00:00",
          "2023-10-01T00:00:00",
          "2023-11-01T00:00:00",
          "2023-12-01T00:00:00",
          "2024-01-01T00:00:00",
          "2024-02-01T00:00:00",
          "2024-03-01T00:00:00",
          "2024-04-01T00:00:00",
          "2024-05-01T00:00:00",
          "2024-06-01T00:00:00",
          "2024-07-01T00:00:00",
          "2024-08-01T00:00:00",
          "2024-09-01T00:00:00",
          "2024-10-01T00:00:00",
          "2024-11-01T00:00:00",
          "2024-12-01T00:00:00",
          "2025-01-01T00:00:00"
         ],
         "xaxis": "x",
         "y": [
          228.34558823529,
          229.21323529412,
          226.17647058824,
          266.08823529412,
          290.38235294118,
          316.41176470588,
          306.43382352941,
          292.55147058824,
          246.13235294118,
          170.64705882353,
          206.22058823529,
          251.77205882353,
          252.63970588235,
          261.75,
          222.70588235294,
          141.58088235294,
          154.16176470588,
          127.69852941176495,
          123.79411764705901,
          125.095588235294,
          167.17647058824,
          182.36029411765,
          171.94852941176,
          154.59558823529,
          161.10294117646998,
          141.58088235294,
          147.65441176471,
          113.38235294117601,
          148.52205882353,
          158.93382352941,
          259.14705882352996,
          211.86029411765,
          219.66911764706,
          217.93382352941,
          213.16176470588,
          220.10294117646998,
          238.32352941176,
          201.01470588235,
          162.83823529412,
          183.66176470588,
          171.94852941176,
          167.61029411765,
          149.82352941176,
          140.71323529412,
          131.169117647059,
          122.92647058823505,
          135.507352941176,
          120.75735294117601,
          144.18382352941,
          176.28676470588,
          195.375,
          211.42647058824,
          219.23529411765,
          238.32352941176,
          234.85294117646998,
          203.61764705882,
          227.91176470588,
          247.43382352941,
          244.39705882353002,
          277.36764705882,
          247.86764705882,
          278.66911764706,
          268.25735294118,
          265.65441176471,
          274.33088235293997,
          222.27205882353002,
          249.16911764706,
          263.48529411765,
          234.41911764706,
          245.69852941176,
          224.875,
          247,
          226.17647058824,
          201.88235294118,
          206.65441176471,
          200.58088235294,
          188,
          170.21323529412,
          150.69117647059,
          193.63970588235,
          220.53676470588,
          199.27941176471,
          205.35294117647,
          187.13235294118,
          207.95588235294,
          185.83088235294,
          179.75735294118,
          171.51470588235,
          158.06617647059,
          174.11764705882,
          164.57352941176,
          169.77941176471,
          191.47058823529,
          159.36764705882,
          162.83823529412,
          143.75,
          110.779411764706,
          163.27205882353002,
          154.59558823529,
          162.83823529412,
          204.05147058824,
          221.83823529412,
          246.56617647059,
          240.92647058824,
          248.73529411765,
          252.63970588235,
          255.24264705882,
          238.75735294118,
          257.41176470588,
          263.91911764706003,
          262.61764705882,
          248.30147058824,
          261.31617647059,
          236.58823529412,
          224.00735294118,
          194.07352941176,
          147.65441176471,
          174.98529411765,
          179.75735294118,
          230.51470588235,
          241.79411764706,
          185.83088235294,
          184.52941176471,
          183.66176470588,
          156.76470588235,
          171.51470588235,
          156.33088235294,
          199.27941176471,
          177.15441176471,
          175.41911764706,
          167.17647058824,
          164.13970588235,
          162.83823529412,
          169.34558823529,
          197.54411764706,
          251.77205882353,
          239.19117647059,
          235.72058823529,
          237.88970588235,
          230.94852941176,
          259.58088235293997,
          254.375,
          240.49264705882,
          276.5,
          215.76470588235,
          226.17647058824,
          218.80147058824,
          206.65441176471,
          190.60294117647,
          185.83088235294,
          188.86764705882,
          187.56617647059,
          188,
          190.60294117647,
          208.82352941176,
          217.06617647059,
          222.27205882353002,
          220.10294117646998,
          207.52205882353002,
          220.97058823529,
          248.30147058824,
          226.61029411765,
          218.80147058824,
          227.04411764706,
          217.5,
          235.72058823529,
          234.41911764706,
          212.29411764706,
          224.00735294118,
          226.17647058824,
          225.74264705882,
          233.98529411765,
          217.93382352941,
          238.75735294118,
          261.31617647059,
          253.07352941176,
          232.68382352941,
          213.59558823529,
          221.40441176471,
          237.45588235294,
          228.34558823529,
          232.25,
          256.11029411765,
          217.5,
          219.23529411765,
          207.08823529412,
          203.61764705882,
          201.01470588235,
          233.98529411765,
          227.04411764706,
          226.61029411765,
          230.94852941176,
          246.56617647059,
          244.83088235294,
          237.02205882353002,
          237.02205882353002,
          186.69852941176,
          200.58088235294,
          202.31617647059,
          189.30147058824,
          197.54411764706,
          181.92647058824,
          161.10294117646998,
          169.77941176471,
          158.5,
          153.72794117647,
          154.59558823529,
          159.36764705882,
          164.57352941176,
          182.79411764706,
          191.03676470588,
          198.41176470588,
          227.04411764706,
          200.14705882353,
          205.35294117647,
          215.76470588235,
          218.80147058824,
          203.61764705882,
          199.71323529412,
          237.88970588235,
          201.88235294118,
          193.63970588235,
          194.50735294118,
          191.47058823529,
          198.41176470588,
          211.86029411765,
          224.00735294118,
          204.05147058824,
          194.07352941176,
          209.25735294118,
          215.33088235294,
          194.07352941176,
          207.95588235294,
          186.69852941176,
          174.11764705882,
          181.49264705882,
          176.72058823529,
          183.22794117647,
          177.58823529412,
          166.30882352941,
          156.76470588235,
          156.76470588235,
          154.16176470588,
          156.33088235294,
          154.59558823529,
          188.86764705882,
          185.83088235294,
          182.79411764706,
          149.82352941176,
          151.99264705882,
          145.91911764706,
          180.19117647059,
          198.41176470588,
          230.51470588235,
          201.88235294118,
          216.63235294118,
          205.35294117647,
          209.25735294118,
          208.82352941176,
          211.42647058824,
          222.70588235294,
          224.44117647059,
          198.41176470588,
          233.55147058824,
          239.19117647059,
          244.39705882353002,
          238.32352941176,
          231.38235294118,
          248.30147058824,
          227.47794117646998,
          238.75735294118,
          240.49264705882,
          258.71323529412,
          265.22058823529,
          274.76470588235,
          269.99264705882,
          278.23529411765,
          257.41176470588,
          256.54411764706003,
          243.96323529412,
          233.55147058824,
          222.70588235294,
          171.51470588235,
          214.46323529412,
          218.36764705882,
          241.79411764706,
          240.92647058824,
          214.02941176471,
          199.71323529412,
          201.01470588235,
          209.69117647059,
          202.75,
          181.92647058824,
          183.22794117647,
          186.26470588235,
          175.85294117647,
          136.808823529412,
          116.41911764705901,
          101.66911764705901,
          79.11029411764702,
          100.36764705882399,
          131.602941176471,
          118.588235294118,
          142.88235294118,
          162.83823529412,
          196.24264705882,
          211.42647058824,
          219.66911764706,
          220.10294117646998,
          236.58823529412,
          227.91176470588,
          231.81617647059,
          234.85294117646998,
          256.11029411765,
          225.30882352941,
          240.92647058824,
          228.34558823529,
          220.97058823529,
          209.69117647059,
          208.38970588235,
          197.97794117647,
          205.35294117647,
          199.71323529412,
          213.59558823529,
          206.22058823529,
          204.48529411765,
          233.55147058824,
          219.66911764706,
          237.88970588235,
          210.125,
          213.59558823529,
          213.16176470588,
          205.35294117647,
          205.78676470588,
          214.89705882353002,
          221.40441176471,
          220.97058823529,
          201.88235294118,
          203.61764705882,
          219.23529411765,
          235.28676470588,
          233.98529411765,
          238.75735294118,
          224.00735294118,
          224.00735294118,
          213.16176470588,
          226.61029411765,
          217.93382352941,
          206.65441176471,
          212.29411764706,
          204.05147058824,
          197.11029411765,
          184.09558823529,
          172.38235294118,
          174.11764705882,
          161.53676470588,
          169.34558823529,
          163.27205882353002,
          159.80147058824,
          150.25735294118,
          162.40441176471,
          181.92647058824,
          148.08823529412,
          96.897058823529,
          69.13235294117601,
          63.058823529411995,
          114.683823529412,
          192.77205882353,
          191.90441176471,
          234.41911764706,
          241.36029411765,
          180.19117647059,
          169.34558823529,
          179.75735294118,
          175.85294117647,
          188.43382352941,
          199.71323529412,
          179.32352941176,
          164.57352941176,
          162.83823529412,
          141.14705882353,
          132.470588235294,
          100.36764705882399,
          127.69852941176495,
          131.169117647059,
          125.529411764706,
          133.338235294118,
          135.507352941176,
          123.36029411764704,
          140.279411764706,
          134.63970588235296,
          132.036764705882,
          133.338235294118,
          139.845588235294,
          138.11029411764704,
          157.63235294118,
          176.28676470588,
          220.97058823529,
          221.83823529412,
          215.76470588235,
          226.17647058824,
          228.34558823529,
          263.05147058824,
          253.50735294118,
          248.30147058824,
          259.58088235293997,
          258.27941176471,
          282.57352941176,
          234.41911764706,
          239.625,
          222.27205882353002,
          232.25,
          214.89705882353002,
          220.53676470588,
          192.77205882353,
          192.33823529412,
          162.83823529412,
          187.56617647059,
          183.66176470588,
          187.13235294118,
          182.79411764706,
          182.79411764706,
          171.08088235294,
          180.625,
          172.81617647059,
          178.02205882353,
          185.83088235294,
          182.79411764706,
          194.94117647059,
          189.73529411765,
          206.22058823529,
          195.80882352941,
          204.05147058824,
          205.78676470588,
          194.50735294118,
          194.07352941176,
          223.13970588235,
          197.97794117647,
          180.19117647059,
          211.42647058824,
          206.65441176471,
          194.50735294118,
          205.35294117647,
          198.41176470588,
          217.5,
          198.41176470588,
          225.30882352941,
          217.5,
          233.11764705882,
          223.57352941176,
          235.72058823529,
          230.08088235294,
          227.47794117646998,
          241.36029411765,
          215.33088235294,
          224.875,
          219.66911764706,
          205.35294117647,
          209.25735294118,
          207.95588235294,
          208.38970588235,
          233.98529411765,
          220.97058823529,
          214.89705882353002,
          212.29411764706,
          206.22058823529,
          211.42647058824,
          214.02941176471,
          206.65441176471,
          206.65441176471,
          183.66176470588,
          188.43382352941,
          178.02205882353,
          155.89705882353002,
          156.76470588235,
          154.16176470588,
          157.63235294118,
          171.94852941176,
          171.94852941176,
          176.72058823529,
          171.08088235294,
          185.83088235294,
          184.96323529412,
          191.03676470588,
          182.36029411765,
          183.66176470588,
          160.66911764706,
          155.46323529412,
          152.86029411765,
          145.05147058824,
          133.338235294118,
          125.095588235294,
          123.36029411764704,
          128.132352941176,
          142.01470588235,
          158.06617647059,
          170.21323529412,
          211.42647058824,
          199.27941176471,
          218.80147058824,
          221.40441176471,
          209.69117647059,
          190.16911764706,
          172.81617647059,
          173.25,
          210.99264705882,
          232.68382352941,
          214.46323529412,
          222.27205882353002,
          217.5,
          216.19852941176,
          213.16176470588,
          179.75735294118,
          191.47058823529,
          213.16176470588,
          222.70588235294,
          231.38235294118,
          217.06617647059,
          210.125,
          188,
          197.54411764706,
          181.92647058824,
          191.47058823529,
          197.97794117647,
          186.26470588235,
          213.59558823529,
          220.10294117646998,
          228.77941176471,
          233.55147058824,
          227.91176470588,
          230.51470588235,
          230.08088235294,
          225.30882352941,
          240.05882352941,
          236.58823529412,
          231.38235294118,
          230.08088235294,
          231.38235294118,
          224.875,
          213.59558823529,
          217.06617647059,
          203.61764705882,
          183.22794117647,
          184.52941176471,
          148.95588235294,
          146.78676470588,
          186.69852941176,
          159.80147058824,
          172.38235294118,
          164.13970588235,
          168.91176470588,
          157.19852941176,
          149.38970588235,
          158.06617647059,
          171.08088235294,
          184.96323529412,
          182.36029411765,
          215.76470588235,
          183.22794117647,
          194.94117647059,
          194.94117647059,
          187.56617647059,
          204.91911764706,
          225.74264705882,
          205.35294117647,
          207.95588235294,
          212.29411764706,
          203.61764705882,
          228.34558823529,
          215.76470588235,
          224.00735294118,
          219.66911764706,
          198.41176470588,
          222.27205882353002,
          207.08823529412,
          206.22058823529,
          205.78676470588,
          194.94117647059,
          196.24264705882,
          197.97794117647,
          181.49264705882,
          175.85294117647,
          182.79411764706,
          178.88970588235,
          172.38235294118,
          166.30882352941,
          167.61029411765,
          173.68382352941,
          185.39705882353,
          196.67647058824,
          200.58088235294,
          192.33823529412,
          208.82352941176,
          215.76470588235,
          194.94117647059,
          207.52205882353002,
          233.55147058824,
          224.00735294118,
          231.81617647059,
          219.66911764706,
          220.10294117646998,
          212.72794117646998,
          201.88235294118,
          198.41176470588,
          181.49264705882,
          174.98529411765,
          183.66176470588,
          174.98529411765,
          170.21323529412,
          168.04411764706,
          171.08088235294,
          140.71323529412,
          124.661764705882,
          131.169117647059,
          138.11029411764704,
          155.46323529412,
          152.86029411765,
          165.44117647059,
          171.51470588235,
          193.63970588235,
          180.625,
          126.83088235294099,
          171.08088235294,
          181.05882352941,
          197.54411764706,
          221.40441176471,
          234.85294117646998,
          217.93382352941,
          226.17647058824,
          223.57352941176,
          183.22794117647,
          177.58823529412,
          187.56617647059,
          184.09558823529,
          174.55147058824,
          212.72794117646998,
          210.55882352941,
          183.22794117647,
          162.83823529412,
          162.83823529412,
          189.73529411765,
          190.60294117647,
          204.48529411765,
          223.13970588235,
          221.83823529412,
          237.45588235294,
          257.84558823529,
          267.38970588235,
          264.35294117647004,
          246.56617647059,
          238.32352941176,
          249.16911764706,
          237.88970588235,
          222.27205882353002,
          230.51470588235,
          227.47794117646998,
          208.38970588235,
          211.42647058824,
          218.80147058824,
          245.69852941176,
          209.25735294118,
          200.58088235294,
          208.38970588235,
          189.73529411765,
          182.79411764706,
          199.71323529412,
          206.22058823529,
          208.82352941176,
          222.27205882353002,
          224.44117647059,
          223.57352941176,
          218.80147058824,
          213.59558823529,
          222.70588235294,
          205.35294117647,
          199.71323529412,
          196.24264705882,
          196.67647058824,
          200.14705882353,
          197.97794117647,
          195.80882352941,
          192.77205882353,
          178.45588235294,
          181.05882352941,
          198.84558823529,
          214.46323529412,
          201.01470588235,
          205.78676470588,
          205.35294117647,
          211.42647058824,
          207.52205882353002,
          201.44852941176,
          215.76470588235,
          200.14705882353,
          188.43382352941,
          174.55147058824,
          172.81617647059,
          177.15441176471,
          171.51470588235,
          158.5,
          165.875,
          172.81617647059,
          168.04411764706,
          168.91176470588,
          153.72794117647,
          96.897058823529,
          107.74264705882399,
          70.433823529412,
          99.066176470588,
          99.933823529412,
          137.242647058824,
          157.63235294118,
          179.32352941176,
          170.64705882353,
          203.61764705882,
          236.15441176471,
          238.75735294118,
          208.38970588235,
          236.58823529412,
          234.85294117646998,
          217.93382352941,
          208.38970588235,
          218.80147058824,
          235.72058823529,
          224.00735294118,
          212.29411764706,
          195.375,
          192.33823529412,
          183.22794117647,
          208.82352941176,
          210.99264705882,
          216.63235294118,
          237.88970588235,
          236.58823529412,
          224.00735294118,
          223.13970588235,
          194.94117647059,
          194.94117647059,
          204.91911764706,
          187.56617647059,
          182.79411764706,
          183.66176470588,
          196.24264705882,
          198.41176470588,
          218.36764705882,
          210.99264705882,
          205.35294117647,
          214.89705882353002,
          210.55882352941,
          163.27205882353002,
          165.44117647059,
          153.72794117647,
          184.52941176471,
          182.79411764706,
          165.875,
          167.61029411765,
          196.24264705882,
          213.59558823529,
          184.96323529412,
          188,
          184.09558823529,
          183.66176470588,
          202.75,
          209.69117647059,
          219.23529411765,
          207.08823529412,
          216.19852941176,
          235.28676470588,
          194.94117647059,
          212.29411764706,
          213.16176470588,
          206.65441176471,
          209.25735294118,
          204.48529411765,
          207.08823529412,
          218.80147058824,
          213.59558823529,
          217.5,
          225.30882352941,
          210.55882352941,
          195.375,
          193.63970588235,
          188.43382352941,
          191.03676470588,
          187.13235294118,
          191.47058823529,
          186.26470588235,
          180.19117647059,
          175.85294117647,
          182.36029411765,
          177.58823529412,
          172.81617647059,
          173.25,
          185.39705882353,
          198.41176470588,
          195.80882352941,
          198.41176470588,
          204.91911764706,
          197.97794117647,
          178.88970588235,
          189.73529411765,
          193.63970588235,
          198.41176470588,
          212.29411764706,
          218.36764705882,
          236.15441176471,
          227.04411764706,
          207.08823529412,
          225.30882352941,
          219.66911764706,
          225.30882352941,
          222.27205882353002,
          236.58823529412,
          235.72058823529,
          235.72058823529,
          243.09558823529,
          245.26470588235,
          236.15441176471,
          225.74264705882,
          232.25,
          232.25,
          233.55147058824,
          217.5,
          233.98529411765,
          226.61029411765,
          215.33088235294,
          221.40441176471,
          185.39705882353,
          204.05147058824,
          196.24264705882,
          203.18382352941,
          190.16911764706,
          185.83088235294,
          178.02205882353,
          180.19117647059,
          158.93382352941,
          169.34558823529,
          168.47794117646998,
          161.97058823529,
          164.13970588235,
          182.79411764706,
          172.81617647059,
          145.48529411765,
          76.50735294117601,
          96.463235294118,
          204.05147058824,
          222.27205882353002,
          245.26470588235,
          222.27205882353002,
          248.30147058824,
          243.09558823529,
          250.90441176471,
          223.13970588235,
          239.19117647059,
          253.07352941176,
          237.02205882353002,
          248.73529411765,
          244.39705882353002,
          239.625,
          247.43382352941,
          247.43382352941,
          217.5,
          224.875,
          222.70588235294,
          209.25735294118,
          225.74264705882,
          191.47058823529,
          190.16911764706,
          197.11029411765,
          197.11029411765,
          171.51470588235,
          166.30882352941,
          180.625,
          162.40441176471,
          171.51470588235,
          162.83823529412,
          153.72794117647,
          142.44852941176,
          161.97058823529,
          150.25735294118,
          156.33088235294,
          142.88235294118,
          142.88235294118,
          155.89705882353002,
          163.27205882353002,
          161.10294117646998,
          171.51470588235,
          155.46323529412,
          165.44117647059,
          161.97058823529,
          185.83088235294,
          171.51470588235,
          181.05882352941,
          171.08088235294,
          155.02941176471,
          171.94852941176,
          163.70588235294,
          151.55882352941,
          158.06617647059,
          165.875,
          176.28676470588,
          184.09558823529,
          197.11029411765
         ],
         "yaxis": "y"
        }
       ],
       "layout": {
        "annotations": [
         {
          "align": "left",
          "bgcolor": "rgba(255, 255, 255, 0.8)",
          "bordercolor": "black",
          "borderwidth": 1,
          "font": {
           "size": 10
          },
          "showarrow": false,
          "text": "Source: Trading Economics<br>Original Source: Institute for Supply Management<br>Frequency: MS",
          "x": 0,
          "xanchor": "left",
          "xref": "paper",
          "y": -0.23,
          "yanchor": "bottom",
          "yref": "paper"
         }
        ],
        "legend": {
         "orientation": "h",
         "title": {
          "text": ""
         },
         "tracegroupgap": 0,
         "x": 0.5,
         "xanchor": "center",
         "y": -0.2,
         "yanchor": "bottom"
        },
        "margin": {
         "t": 60
        },
        "template": {
         "data": {
          "bar": [
           {
            "error_x": {
             "color": "#2a3f5f"
            },
            "error_y": {
             "color": "#2a3f5f"
            },
            "marker": {
             "line": {
              "color": "#E5ECF6",
              "width": 0.5
             },
             "pattern": {
              "fillmode": "overlay",
              "size": 10,
              "solidity": 0.2
             }
            },
            "type": "bar"
           }
          ],
          "barpolar": [
           {
            "marker": {
             "line": {
              "color": "#E5ECF6",
              "width": 0.5
             },
             "pattern": {
              "fillmode": "overlay",
              "size": 10,
              "solidity": 0.2
             }
            },
            "type": "barpolar"
           }
          ],
          "carpet": [
           {
            "aaxis": {
             "endlinecolor": "#2a3f5f",
             "gridcolor": "white",
             "linecolor": "white",
             "minorgridcolor": "white",
             "startlinecolor": "#2a3f5f"
            },
            "baxis": {
             "endlinecolor": "#2a3f5f",
             "gridcolor": "white",
             "linecolor": "white",
             "minorgridcolor": "white",
             "startlinecolor": "#2a3f5f"
            },
            "type": "carpet"
           }
          ],
          "choropleth": [
           {
            "colorbar": {
             "outlinewidth": 0,
             "ticks": ""
            },
            "type": "choropleth"
           }
          ],
          "contour": [
           {
            "colorbar": {
             "outlinewidth": 0,
             "ticks": ""
            },
            "colorscale": [
             [
              0,
              "#0d0887"
             ],
             [
              0.1111111111111111,
              "#46039f"
             ],
             [
              0.2222222222222222,
              "#7201a8"
             ],
             [
              0.3333333333333333,
              "#9c179e"
             ],
             [
              0.4444444444444444,
              "#bd3786"
             ],
             [
              0.5555555555555556,
              "#d8576b"
             ],
             [
              0.6666666666666666,
              "#ed7953"
             ],
             [
              0.7777777777777778,
              "#fb9f3a"
             ],
             [
              0.8888888888888888,
              "#fdca26"
             ],
             [
              1,
              "#f0f921"
             ]
            ],
            "type": "contour"
           }
          ],
          "contourcarpet": [
           {
            "colorbar": {
             "outlinewidth": 0,
             "ticks": ""
            },
            "type": "contourcarpet"
           }
          ],
          "heatmap": [
           {
            "colorbar": {
             "outlinewidth": 0,
             "ticks": ""
            },
            "colorscale": [
             [
              0,
              "#0d0887"
             ],
             [
              0.1111111111111111,
              "#46039f"
             ],
             [
              0.2222222222222222,
              "#7201a8"
             ],
             [
              0.3333333333333333,
              "#9c179e"
             ],
             [
              0.4444444444444444,
              "#bd3786"
             ],
             [
              0.5555555555555556,
              "#d8576b"
             ],
             [
              0.6666666666666666,
              "#ed7953"
             ],
             [
              0.7777777777777778,
              "#fb9f3a"
             ],
             [
              0.8888888888888888,
              "#fdca26"
             ],
             [
              1,
              "#f0f921"
             ]
            ],
            "type": "heatmap"
           }
          ],
          "heatmapgl": [
           {
            "colorbar": {
             "outlinewidth": 0,
             "ticks": ""
            },
            "colorscale": [
             [
              0,
              "#0d0887"
             ],
             [
              0.1111111111111111,
              "#46039f"
             ],
             [
              0.2222222222222222,
              "#7201a8"
             ],
             [
              0.3333333333333333,
              "#9c179e"
             ],
             [
              0.4444444444444444,
              "#bd3786"
             ],
             [
              0.5555555555555556,
              "#d8576b"
             ],
             [
              0.6666666666666666,
              "#ed7953"
             ],
             [
              0.7777777777777778,
              "#fb9f3a"
             ],
             [
              0.8888888888888888,
              "#fdca26"
             ],
             [
              1,
              "#f0f921"
             ]
            ],
            "type": "heatmapgl"
           }
          ],
          "histogram": [
           {
            "marker": {
             "pattern": {
              "fillmode": "overlay",
              "size": 10,
              "solidity": 0.2
             }
            },
            "type": "histogram"
           }
          ],
          "histogram2d": [
           {
            "colorbar": {
             "outlinewidth": 0,
             "ticks": ""
            },
            "colorscale": [
             [
              0,
              "#0d0887"
             ],
             [
              0.1111111111111111,
              "#46039f"
             ],
             [
              0.2222222222222222,
              "#7201a8"
             ],
             [
              0.3333333333333333,
              "#9c179e"
             ],
             [
              0.4444444444444444,
              "#bd3786"
             ],
             [
              0.5555555555555556,
              "#d8576b"
             ],
             [
              0.6666666666666666,
              "#ed7953"
             ],
             [
              0.7777777777777778,
              "#fb9f3a"
             ],
             [
              0.8888888888888888,
              "#fdca26"
             ],
             [
              1,
              "#f0f921"
             ]
            ],
            "type": "histogram2d"
           }
          ],
          "histogram2dcontour": [
           {
            "colorbar": {
             "outlinewidth": 0,
             "ticks": ""
            },
            "colorscale": [
             [
              0,
              "#0d0887"
             ],
             [
              0.1111111111111111,
              "#46039f"
             ],
             [
              0.2222222222222222,
              "#7201a8"
             ],
             [
              0.3333333333333333,
              "#9c179e"
             ],
             [
              0.4444444444444444,
              "#bd3786"
             ],
             [
              0.5555555555555556,
              "#d8576b"
             ],
             [
              0.6666666666666666,
              "#ed7953"
             ],
             [
              0.7777777777777778,
              "#fb9f3a"
             ],
             [
              0.8888888888888888,
              "#fdca26"
             ],
             [
              1,
              "#f0f921"
             ]
            ],
            "type": "histogram2dcontour"
           }
          ],
          "mesh3d": [
           {
            "colorbar": {
             "outlinewidth": 0,
             "ticks": ""
            },
            "type": "mesh3d"
           }
          ],
          "parcoords": [
           {
            "line": {
             "colorbar": {
              "outlinewidth": 0,
              "ticks": ""
             }
            },
            "type": "parcoords"
           }
          ],
          "pie": [
           {
            "automargin": true,
            "type": "pie"
           }
          ],
          "scatter": [
           {
            "fillpattern": {
             "fillmode": "overlay",
             "size": 10,
             "solidity": 0.2
            },
            "type": "scatter"
           }
          ],
          "scatter3d": [
           {
            "line": {
             "colorbar": {
              "outlinewidth": 0,
              "ticks": ""
             }
            },
            "marker": {
             "colorbar": {
              "outlinewidth": 0,
              "ticks": ""
             }
            },
            "type": "scatter3d"
           }
          ],
          "scattercarpet": [
           {
            "marker": {
             "colorbar": {
              "outlinewidth": 0,
              "ticks": ""
             }
            },
            "type": "scattercarpet"
           }
          ],
          "scattergeo": [
           {
            "marker": {
             "colorbar": {
              "outlinewidth": 0,
              "ticks": ""
             }
            },
            "type": "scattergeo"
           }
          ],
          "scattergl": [
           {
            "marker": {
             "colorbar": {
              "outlinewidth": 0,
              "ticks": ""
             }
            },
            "type": "scattergl"
           }
          ],
          "scattermapbox": [
           {
            "marker": {
             "colorbar": {
              "outlinewidth": 0,
              "ticks": ""
             }
            },
            "type": "scattermapbox"
           }
          ],
          "scatterpolar": [
           {
            "marker": {
             "colorbar": {
              "outlinewidth": 0,
              "ticks": ""
             }
            },
            "type": "scatterpolar"
           }
          ],
          "scatterpolargl": [
           {
            "marker": {
             "colorbar": {
              "outlinewidth": 0,
              "ticks": ""
             }
            },
            "type": "scatterpolargl"
           }
          ],
          "scatterternary": [
           {
            "marker": {
             "colorbar": {
              "outlinewidth": 0,
              "ticks": ""
             }
            },
            "type": "scatterternary"
           }
          ],
          "surface": [
           {
            "colorbar": {
             "outlinewidth": 0,
             "ticks": ""
            },
            "colorscale": [
             [
              0,
              "#0d0887"
             ],
             [
              0.1111111111111111,
              "#46039f"
             ],
             [
              0.2222222222222222,
              "#7201a8"
             ],
             [
              0.3333333333333333,
              "#9c179e"
             ],
             [
              0.4444444444444444,
              "#bd3786"
             ],
             [
              0.5555555555555556,
              "#d8576b"
             ],
             [
              0.6666666666666666,
              "#ed7953"
             ],
             [
              0.7777777777777778,
              "#fb9f3a"
             ],
             [
              0.8888888888888888,
              "#fdca26"
             ],
             [
              1,
              "#f0f921"
             ]
            ],
            "type": "surface"
           }
          ],
          "table": [
           {
            "cells": {
             "fill": {
              "color": "#EBF0F8"
             },
             "line": {
              "color": "white"
             }
            },
            "header": {
             "fill": {
              "color": "#C8D4E3"
             },
             "line": {
              "color": "white"
             }
            },
            "type": "table"
           }
          ]
         },
         "layout": {
          "annotationdefaults": {
           "arrowcolor": "#2a3f5f",
           "arrowhead": 0,
           "arrowwidth": 1
          },
          "autotypenumbers": "strict",
          "coloraxis": {
           "colorbar": {
            "outlinewidth": 0,
            "ticks": ""
           }
          },
          "colorscale": {
           "diverging": [
            [
             0,
             "#8e0152"
            ],
            [
             0.1,
             "#c51b7d"
            ],
            [
             0.2,
             "#de77ae"
            ],
            [
             0.3,
             "#f1b6da"
            ],
            [
             0.4,
             "#fde0ef"
            ],
            [
             0.5,
             "#f7f7f7"
            ],
            [
             0.6,
             "#e6f5d0"
            ],
            [
             0.7,
             "#b8e186"
            ],
            [
             0.8,
             "#7fbc41"
            ],
            [
             0.9,
             "#4d9221"
            ],
            [
             1,
             "#276419"
            ]
           ],
           "sequential": [
            [
             0,
             "#0d0887"
            ],
            [
             0.1111111111111111,
             "#46039f"
            ],
            [
             0.2222222222222222,
             "#7201a8"
            ],
            [
             0.3333333333333333,
             "#9c179e"
            ],
            [
             0.4444444444444444,
             "#bd3786"
            ],
            [
             0.5555555555555556,
             "#d8576b"
            ],
            [
             0.6666666666666666,
             "#ed7953"
            ],
            [
             0.7777777777777778,
             "#fb9f3a"
            ],
            [
             0.8888888888888888,
             "#fdca26"
            ],
            [
             1,
             "#f0f921"
            ]
           ],
           "sequentialminus": [
            [
             0,
             "#0d0887"
            ],
            [
             0.1111111111111111,
             "#46039f"
            ],
            [
             0.2222222222222222,
             "#7201a8"
            ],
            [
             0.3333333333333333,
             "#9c179e"
            ],
            [
             0.4444444444444444,
             "#bd3786"
            ],
            [
             0.5555555555555556,
             "#d8576b"
            ],
            [
             0.6666666666666666,
             "#ed7953"
            ],
            [
             0.7777777777777778,
             "#fb9f3a"
            ],
            [
             0.8888888888888888,
             "#fdca26"
            ],
            [
             1,
             "#f0f921"
            ]
           ]
          },
          "colorway": [
           "#636efa",
           "#EF553B",
           "#00cc96",
           "#ab63fa",
           "#FFA15A",
           "#19d3f3",
           "#FF6692",
           "#B6E880",
           "#FF97FF",
           "#FECB52"
          ],
          "font": {
           "color": "#2a3f5f"
          },
          "geo": {
           "bgcolor": "white",
           "lakecolor": "white",
           "landcolor": "#E5ECF6",
           "showlakes": true,
           "showland": true,
           "subunitcolor": "white"
          },
          "hoverlabel": {
           "align": "left"
          },
          "hovermode": "closest",
          "mapbox": {
           "style": "light"
          },
          "paper_bgcolor": "white",
          "plot_bgcolor": "#E5ECF6",
          "polar": {
           "angularaxis": {
            "gridcolor": "white",
            "linecolor": "white",
            "ticks": ""
           },
           "bgcolor": "#E5ECF6",
           "radialaxis": {
            "gridcolor": "white",
            "linecolor": "white",
            "ticks": ""
           }
          },
          "scene": {
           "xaxis": {
            "backgroundcolor": "#E5ECF6",
            "gridcolor": "white",
            "gridwidth": 2,
            "linecolor": "white",
            "showbackground": true,
            "ticks": "",
            "zerolinecolor": "white"
           },
           "yaxis": {
            "backgroundcolor": "#E5ECF6",
            "gridcolor": "white",
            "gridwidth": 2,
            "linecolor": "white",
            "showbackground": true,
            "ticks": "",
            "zerolinecolor": "white"
           },
           "zaxis": {
            "backgroundcolor": "#E5ECF6",
            "gridcolor": "white",
            "gridwidth": 2,
            "linecolor": "white",
            "showbackground": true,
            "ticks": "",
            "zerolinecolor": "white"
           }
          },
          "shapedefaults": {
           "line": {
            "color": "#2a3f5f"
           }
          },
          "ternary": {
           "aaxis": {
            "gridcolor": "white",
            "linecolor": "white",
            "ticks": ""
           },
           "baxis": {
            "gridcolor": "white",
            "linecolor": "white",
            "ticks": ""
           },
           "bgcolor": "#E5ECF6",
           "caxis": {
            "gridcolor": "white",
            "linecolor": "white",
            "ticks": ""
           }
          },
          "title": {
           "x": 0.05
          },
          "xaxis": {
           "automargin": true,
           "gridcolor": "white",
           "linecolor": "white",
           "ticks": "",
           "title": {
            "standoff": 15
           },
           "zerolinecolor": "white",
           "zerolinewidth": 2
          },
          "yaxis": {
           "automargin": true,
           "gridcolor": "white",
           "linecolor": "white",
           "ticks": "",
           "title": {
            "standoff": 15
           },
           "zerolinecolor": "white",
           "zerolinewidth": 2
          }
         }
        },
        "title": {
         "text": "United states: United states ism manufacturing new orders"
        },
        "xaxis": {
         "anchor": "y",
         "domain": [
          0,
          1
         ],
         "title": {
          "text": ""
         }
        },
        "yaxis": {
         "anchor": "x",
         "domain": [
          0,
          1
         ],
         "title": {
          "text": "Points"
         }
        }
       }
      }
     },
     "metadata": {},
     "output_type": "display_data"
    }
   ],
   "source": [
    "scr.plot_series()  ## Plot the series."
   ]
  },
  {
   "cell_type": "code",
   "execution_count": 237,
   "metadata": {},
   "outputs": [
    {
     "name": "stderr",
     "output_type": "stream",
     "text": [
      "INFO - scale_series method: Start value, end value: 62.3, 55.1, 228.34558823529, 197.11029411765, 228.34558823529, 197.11029411765\n",
      "INFO - Start value, end value: 62.3, 55.1, pix0, pix1: 228.34558823529, 197.11029411765, data units per chart pixel from start & end points: 0.23050847457632317, unit_per_pix calculated from the y axis ticks: 0.2297589422424877, inverse of that: 4.352387725325613, unit_per_pix from axis limits and self.y_axis (probably best way): 0.2305084745762712\n"
     ]
    },
    {
     "data": {
      "text/plain": [
       "1950-01-01    62.3\n",
       "1950-02-01    62.5\n",
       "1950-03-01    61.8\n",
       "1950-04-01    71.0\n",
       "1950-05-01    76.6\n",
       "              ... \n",
       "2024-09-01    46.1\n",
       "2024-10-01    47.9\n",
       "2024-11-01    50.3\n",
       "2024-12-01    52.1\n",
       "2025-01-01    55.1\n",
       "Name: ism manufacturing new orders, Length: 903, dtype: float64"
      ]
     },
     "execution_count": 237,
     "metadata": {},
     "output_type": "execute_result"
    }
   ],
   "source": [
    "scr.scale_series() ## Scale the series to the y-axis values to convert the pixel co-ordinates to actual data values."
   ]
  },
  {
   "cell_type": "code",
   "execution_count": 238,
   "metadata": {},
   "outputs": [
    {
     "name": "stdout",
     "output_type": "stream",
     "text": [
      "Series metadata:  {'units': 'points', 'original_source': 'Institute for Supply Management', 'title': 'United States ISM Manufacturing New Orders', 'indicator': 'ism manufacturing new orders', 'country': 'united states', 'length': 903, 'frequency': 'MS', 'source': 'Trading Economics', 'id': 'united-states/ism-manufacturing-new-orders', 'start_date': '1950-01-01', 'end_date': '2025-01-01', 'min_value': 24.200000000000998, 'max_value': 82.6000000000004}\n"
     ]
    }
   ],
   "source": [
    "scr.scrape_metadata() ## Scrape the metadata for the data series from the page."
   ]
  },
  {
   "cell_type": "code",
   "execution_count": 239,
   "metadata": {},
   "outputs": [
    {
     "data": {
      "text/plain": [
       "1950-01-01    62.3\n",
       "1950-02-01    62.5\n",
       "1950-03-01    61.8\n",
       "1950-04-01    71.0\n",
       "1950-05-01    76.6\n",
       "              ... \n",
       "2024-09-01    46.1\n",
       "2024-10-01    47.9\n",
       "2024-11-01    50.3\n",
       "2024-12-01    52.1\n",
       "2025-01-01    55.1\n",
       "Name: ism manufacturing new orders, Length: 903, dtype: float64"
      ]
     },
     "execution_count": 239,
     "metadata": {},
     "output_type": "execute_result"
    }
   ],
   "source": [
    "scr.series # View the series data obtained."
   ]
  },
  {
   "cell_type": "code",
   "execution_count": 241,
   "metadata": {},
   "outputs": [
    {
     "data": {
      "application/vnd.plotly.v1+json": {
       "config": {
        "plotlyServerURL": "https://plot.ly"
       },
       "data": [
        {
         "hovertemplate": "variable=ism manufacturing new orders<br>index=%{x}<br>value=%{y}<extra></extra>",
         "legendgroup": "ism manufacturing new orders",
         "line": {
          "color": "#636efa",
          "dash": "solid"
         },
         "marker": {
          "symbol": "circle"
         },
         "mode": "lines",
         "name": "ism manufacturing new orders",
         "orientation": "v",
         "showlegend": true,
         "type": "scatter",
         "x": [
          "1950-01-01T00:00:00",
          "1950-02-01T00:00:00",
          "1950-03-01T00:00:00",
          "1950-04-01T00:00:00",
          "1950-05-01T00:00:00",
          "1950-06-01T00:00:00",
          "1950-07-01T00:00:00",
          "1950-08-01T00:00:00",
          "1950-09-01T00:00:00",
          "1950-10-01T00:00:00",
          "1950-11-01T00:00:00",
          "1950-12-01T00:00:00",
          "1951-01-01T00:00:00",
          "1951-02-01T00:00:00",
          "1951-03-01T00:00:00",
          "1951-04-01T00:00:00",
          "1951-05-01T00:00:00",
          "1951-06-01T00:00:00",
          "1951-07-01T00:00:00",
          "1951-08-01T00:00:00",
          "1951-09-01T00:00:00",
          "1951-10-01T00:00:00",
          "1951-11-01T00:00:00",
          "1951-12-01T00:00:00",
          "1952-01-01T00:00:00",
          "1952-02-01T00:00:00",
          "1952-03-01T00:00:00",
          "1952-04-01T00:00:00",
          "1952-05-01T00:00:00",
          "1952-06-01T00:00:00",
          "1952-07-01T00:00:00",
          "1952-08-01T00:00:00",
          "1952-09-01T00:00:00",
          "1952-10-01T00:00:00",
          "1952-11-01T00:00:00",
          "1952-12-01T00:00:00",
          "1953-01-01T00:00:00",
          "1953-02-01T00:00:00",
          "1953-03-01T00:00:00",
          "1953-04-01T00:00:00",
          "1953-05-01T00:00:00",
          "1953-06-01T00:00:00",
          "1953-07-01T00:00:00",
          "1953-08-01T00:00:00",
          "1953-09-01T00:00:00",
          "1953-10-01T00:00:00",
          "1953-11-01T00:00:00",
          "1953-12-01T00:00:00",
          "1954-01-01T00:00:00",
          "1954-02-01T00:00:00",
          "1954-03-01T00:00:00",
          "1954-04-01T00:00:00",
          "1954-05-01T00:00:00",
          "1954-06-01T00:00:00",
          "1954-07-01T00:00:00",
          "1954-08-01T00:00:00",
          "1954-09-01T00:00:00",
          "1954-10-01T00:00:00",
          "1954-11-01T00:00:00",
          "1954-12-01T00:00:00",
          "1955-01-01T00:00:00",
          "1955-02-01T00:00:00",
          "1955-03-01T00:00:00",
          "1955-04-01T00:00:00",
          "1955-05-01T00:00:00",
          "1955-06-01T00:00:00",
          "1955-07-01T00:00:00",
          "1955-08-01T00:00:00",
          "1955-09-01T00:00:00",
          "1955-10-01T00:00:00",
          "1955-11-01T00:00:00",
          "1955-12-01T00:00:00",
          "1956-01-01T00:00:00",
          "1956-02-01T00:00:00",
          "1956-03-01T00:00:00",
          "1956-04-01T00:00:00",
          "1956-05-01T00:00:00",
          "1956-06-01T00:00:00",
          "1956-07-01T00:00:00",
          "1956-08-01T00:00:00",
          "1956-09-01T00:00:00",
          "1956-10-01T00:00:00",
          "1956-11-01T00:00:00",
          "1956-12-01T00:00:00",
          "1957-01-01T00:00:00",
          "1957-02-01T00:00:00",
          "1957-03-01T00:00:00",
          "1957-04-01T00:00:00",
          "1957-05-01T00:00:00",
          "1957-06-01T00:00:00",
          "1957-07-01T00:00:00",
          "1957-08-01T00:00:00",
          "1957-09-01T00:00:00",
          "1957-10-01T00:00:00",
          "1957-11-01T00:00:00",
          "1957-12-01T00:00:00",
          "1958-01-01T00:00:00",
          "1958-02-01T00:00:00",
          "1958-03-01T00:00:00",
          "1958-04-01T00:00:00",
          "1958-05-01T00:00:00",
          "1958-06-01T00:00:00",
          "1958-07-01T00:00:00",
          "1958-08-01T00:00:00",
          "1958-09-01T00:00:00",
          "1958-10-01T00:00:00",
          "1958-11-01T00:00:00",
          "1958-12-01T00:00:00",
          "1959-01-01T00:00:00",
          "1959-02-01T00:00:00",
          "1959-03-01T00:00:00",
          "1959-04-01T00:00:00",
          "1959-05-01T00:00:00",
          "1959-06-01T00:00:00",
          "1959-07-01T00:00:00",
          "1959-08-01T00:00:00",
          "1959-09-01T00:00:00",
          "1959-10-01T00:00:00",
          "1959-11-01T00:00:00",
          "1959-12-01T00:00:00",
          "1960-01-01T00:00:00",
          "1960-02-01T00:00:00",
          "1960-03-01T00:00:00",
          "1960-04-01T00:00:00",
          "1960-05-01T00:00:00",
          "1960-06-01T00:00:00",
          "1960-07-01T00:00:00",
          "1960-08-01T00:00:00",
          "1960-09-01T00:00:00",
          "1960-10-01T00:00:00",
          "1960-11-01T00:00:00",
          "1960-12-01T00:00:00",
          "1961-01-01T00:00:00",
          "1961-02-01T00:00:00",
          "1961-03-01T00:00:00",
          "1961-04-01T00:00:00",
          "1961-05-01T00:00:00",
          "1961-06-01T00:00:00",
          "1961-07-01T00:00:00",
          "1961-08-01T00:00:00",
          "1961-09-01T00:00:00",
          "1961-10-01T00:00:00",
          "1961-11-01T00:00:00",
          "1961-12-01T00:00:00",
          "1962-01-01T00:00:00",
          "1962-02-01T00:00:00",
          "1962-03-01T00:00:00",
          "1962-04-01T00:00:00",
          "1962-05-01T00:00:00",
          "1962-06-01T00:00:00",
          "1962-07-01T00:00:00",
          "1962-08-01T00:00:00",
          "1962-09-01T00:00:00",
          "1962-10-01T00:00:00",
          "1962-11-01T00:00:00",
          "1962-12-01T00:00:00",
          "1963-01-01T00:00:00",
          "1963-02-01T00:00:00",
          "1963-03-01T00:00:00",
          "1963-04-01T00:00:00",
          "1963-05-01T00:00:00",
          "1963-06-01T00:00:00",
          "1963-07-01T00:00:00",
          "1963-08-01T00:00:00",
          "1963-09-01T00:00:00",
          "1963-10-01T00:00:00",
          "1963-11-01T00:00:00",
          "1963-12-01T00:00:00",
          "1964-01-01T00:00:00",
          "1964-02-01T00:00:00",
          "1964-03-01T00:00:00",
          "1964-04-01T00:00:00",
          "1964-05-01T00:00:00",
          "1964-06-01T00:00:00",
          "1964-07-01T00:00:00",
          "1964-08-01T00:00:00",
          "1964-09-01T00:00:00",
          "1964-10-01T00:00:00",
          "1964-11-01T00:00:00",
          "1964-12-01T00:00:00",
          "1965-01-01T00:00:00",
          "1965-02-01T00:00:00",
          "1965-03-01T00:00:00",
          "1965-04-01T00:00:00",
          "1965-05-01T00:00:00",
          "1965-06-01T00:00:00",
          "1965-07-01T00:00:00",
          "1965-08-01T00:00:00",
          "1965-09-01T00:00:00",
          "1965-10-01T00:00:00",
          "1965-11-01T00:00:00",
          "1965-12-01T00:00:00",
          "1966-01-01T00:00:00",
          "1966-02-01T00:00:00",
          "1966-03-01T00:00:00",
          "1966-04-01T00:00:00",
          "1966-05-01T00:00:00",
          "1966-06-01T00:00:00",
          "1966-07-01T00:00:00",
          "1966-08-01T00:00:00",
          "1966-09-01T00:00:00",
          "1966-10-01T00:00:00",
          "1966-11-01T00:00:00",
          "1966-12-01T00:00:00",
          "1967-01-01T00:00:00",
          "1967-02-01T00:00:00",
          "1967-03-01T00:00:00",
          "1967-04-01T00:00:00",
          "1967-05-01T00:00:00",
          "1967-06-01T00:00:00",
          "1967-07-01T00:00:00",
          "1967-08-01T00:00:00",
          "1967-09-01T00:00:00",
          "1967-10-01T00:00:00",
          "1967-11-01T00:00:00",
          "1967-12-01T00:00:00",
          "1968-01-01T00:00:00",
          "1968-02-01T00:00:00",
          "1968-03-01T00:00:00",
          "1968-04-01T00:00:00",
          "1968-05-01T00:00:00",
          "1968-06-01T00:00:00",
          "1968-07-01T00:00:00",
          "1968-08-01T00:00:00",
          "1968-09-01T00:00:00",
          "1968-10-01T00:00:00",
          "1968-11-01T00:00:00",
          "1968-12-01T00:00:00",
          "1969-01-01T00:00:00",
          "1969-01-01T00:00:00",
          "1969-02-01T00:00:00",
          "1969-04-01T00:00:00",
          "1969-05-01T00:00:00",
          "1969-06-01T00:00:00",
          "1969-07-01T00:00:00",
          "1969-08-01T00:00:00",
          "1969-09-01T00:00:00",
          "1969-09-01T00:00:00",
          "1969-11-01T00:00:00",
          "1969-11-01T00:00:00",
          "1969-12-01T00:00:00",
          "1970-01-01T00:00:00",
          "1970-02-01T00:00:00",
          "1970-04-01T00:00:00",
          "1970-05-01T00:00:00",
          "1970-06-01T00:00:00",
          "1970-07-01T00:00:00",
          "1970-08-01T00:00:00",
          "1970-08-01T00:00:00",
          "1970-09-01T00:00:00",
          "1970-10-01T00:00:00",
          "1970-11-01T00:00:00",
          "1970-12-01T00:00:00",
          "1971-01-01T00:00:00",
          "1971-02-01T00:00:00",
          "1971-04-01T00:00:00",
          "1971-04-01T00:00:00",
          "1971-06-01T00:00:00",
          "1971-06-01T00:00:00",
          "1971-07-01T00:00:00",
          "1971-08-01T00:00:00",
          "1971-09-01T00:00:00",
          "1971-10-01T00:00:00",
          "1971-11-01T00:00:00",
          "1971-12-01T00:00:00",
          "1972-01-01T00:00:00",
          "1972-02-01T00:00:00",
          "1972-03-01T00:00:00",
          "1972-04-01T00:00:00",
          "1972-05-01T00:00:00",
          "1972-06-01T00:00:00",
          "1972-07-01T00:00:00",
          "1972-08-01T00:00:00",
          "1972-09-01T00:00:00",
          "1972-10-01T00:00:00",
          "1972-11-01T00:00:00",
          "1972-12-01T00:00:00",
          "1973-01-01T00:00:00",
          "1973-02-01T00:00:00",
          "1973-03-01T00:00:00",
          "1973-04-01T00:00:00",
          "1973-05-01T00:00:00",
          "1973-06-01T00:00:00",
          "1973-07-01T00:00:00",
          "1973-08-01T00:00:00",
          "1973-09-01T00:00:00",
          "1973-10-01T00:00:00",
          "1973-11-01T00:00:00",
          "1973-12-01T00:00:00",
          "1974-01-01T00:00:00",
          "1974-02-01T00:00:00",
          "1974-03-01T00:00:00",
          "1974-04-01T00:00:00",
          "1974-05-01T00:00:00",
          "1974-06-01T00:00:00",
          "1974-07-01T00:00:00",
          "1974-08-01T00:00:00",
          "1974-09-01T00:00:00",
          "1974-10-01T00:00:00",
          "1974-11-01T00:00:00",
          "1974-12-01T00:00:00",
          "1975-01-01T00:00:00",
          "1975-02-01T00:00:00",
          "1975-03-01T00:00:00",
          "1975-04-01T00:00:00",
          "1975-05-01T00:00:00",
          "1975-06-01T00:00:00",
          "1975-07-01T00:00:00",
          "1975-08-01T00:00:00",
          "1975-09-01T00:00:00",
          "1975-10-01T00:00:00",
          "1975-11-01T00:00:00",
          "1975-12-01T00:00:00",
          "1976-01-01T00:00:00",
          "1976-02-01T00:00:00",
          "1976-03-01T00:00:00",
          "1976-04-01T00:00:00",
          "1976-05-01T00:00:00",
          "1976-06-01T00:00:00",
          "1976-07-01T00:00:00",
          "1976-08-01T00:00:00",
          "1976-09-01T00:00:00",
          "1976-10-01T00:00:00",
          "1976-11-01T00:00:00",
          "1976-12-01T00:00:00",
          "1977-01-01T00:00:00",
          "1977-02-01T00:00:00",
          "1977-03-01T00:00:00",
          "1977-04-01T00:00:00",
          "1977-05-01T00:00:00",
          "1977-06-01T00:00:00",
          "1977-07-01T00:00:00",
          "1977-08-01T00:00:00",
          "1977-09-01T00:00:00",
          "1977-10-01T00:00:00",
          "1977-11-01T00:00:00",
          "1977-12-01T00:00:00",
          "1978-01-01T00:00:00",
          "1978-02-01T00:00:00",
          "1978-03-01T00:00:00",
          "1978-04-01T00:00:00",
          "1978-05-01T00:00:00",
          "1978-06-01T00:00:00",
          "1978-07-01T00:00:00",
          "1978-08-01T00:00:00",
          "1978-09-01T00:00:00",
          "1978-10-01T00:00:00",
          "1978-11-01T00:00:00",
          "1978-12-01T00:00:00",
          "1979-01-01T00:00:00",
          "1979-02-01T00:00:00",
          "1979-03-01T00:00:00",
          "1979-04-01T00:00:00",
          "1979-05-01T00:00:00",
          "1979-06-01T00:00:00",
          "1979-07-01T00:00:00",
          "1979-08-01T00:00:00",
          "1979-09-01T00:00:00",
          "1979-10-01T00:00:00",
          "1979-11-01T00:00:00",
          "1979-12-01T00:00:00",
          "1980-01-01T00:00:00",
          "1980-02-01T00:00:00",
          "1980-03-01T00:00:00",
          "1980-04-01T00:00:00",
          "1980-05-01T00:00:00",
          "1980-06-01T00:00:00",
          "1980-07-01T00:00:00",
          "1980-08-01T00:00:00",
          "1980-09-01T00:00:00",
          "1980-10-01T00:00:00",
          "1980-11-01T00:00:00",
          "1980-12-01T00:00:00",
          "1981-01-01T00:00:00",
          "1981-02-01T00:00:00",
          "1981-03-01T00:00:00",
          "1981-04-01T00:00:00",
          "1981-05-01T00:00:00",
          "1981-06-01T00:00:00",
          "1981-07-01T00:00:00",
          "1981-08-01T00:00:00",
          "1981-09-01T00:00:00",
          "1981-10-01T00:00:00",
          "1981-11-01T00:00:00",
          "1981-12-01T00:00:00",
          "1982-01-01T00:00:00",
          "1982-02-01T00:00:00",
          "1982-03-01T00:00:00",
          "1982-04-01T00:00:00",
          "1982-05-01T00:00:00",
          "1982-06-01T00:00:00",
          "1982-07-01T00:00:00",
          "1982-08-01T00:00:00",
          "1982-09-01T00:00:00",
          "1982-10-01T00:00:00",
          "1982-11-01T00:00:00",
          "1982-12-01T00:00:00",
          "1983-01-01T00:00:00",
          "1983-02-01T00:00:00",
          "1983-03-01T00:00:00",
          "1983-04-01T00:00:00",
          "1983-05-01T00:00:00",
          "1983-06-01T00:00:00",
          "1983-07-01T00:00:00",
          "1983-08-01T00:00:00",
          "1983-09-01T00:00:00",
          "1983-10-01T00:00:00",
          "1983-11-01T00:00:00",
          "1983-12-01T00:00:00",
          "1984-01-01T00:00:00",
          "1984-02-01T00:00:00",
          "1984-03-01T00:00:00",
          "1984-04-01T00:00:00",
          "1984-05-01T00:00:00",
          "1984-06-01T00:00:00",
          "1984-07-01T00:00:00",
          "1984-08-01T00:00:00",
          "1984-09-01T00:00:00",
          "1984-10-01T00:00:00",
          "1984-11-01T00:00:00",
          "1984-12-01T00:00:00",
          "1985-01-01T00:00:00",
          "1985-02-01T00:00:00",
          "1985-03-01T00:00:00",
          "1985-04-01T00:00:00",
          "1985-05-01T00:00:00",
          "1985-06-01T00:00:00",
          "1985-07-01T00:00:00",
          "1985-08-01T00:00:00",
          "1985-09-01T00:00:00",
          "1985-10-01T00:00:00",
          "1985-11-01T00:00:00",
          "1985-12-01T00:00:00",
          "1986-01-01T00:00:00",
          "1986-02-01T00:00:00",
          "1986-03-01T00:00:00",
          "1986-04-01T00:00:00",
          "1986-05-01T00:00:00",
          "1986-06-01T00:00:00",
          "1986-07-01T00:00:00",
          "1986-08-01T00:00:00",
          "1986-09-01T00:00:00",
          "1986-10-01T00:00:00",
          "1986-11-01T00:00:00",
          "1986-12-01T00:00:00",
          "1987-01-01T00:00:00",
          "1987-02-01T00:00:00",
          "1987-03-01T00:00:00",
          "1987-04-01T00:00:00",
          "1987-05-01T00:00:00",
          "1987-06-01T00:00:00",
          "1987-07-01T00:00:00",
          "1987-08-01T00:00:00",
          "1987-09-01T00:00:00",
          "1987-10-01T00:00:00",
          "1987-11-01T00:00:00",
          "1987-12-01T00:00:00",
          "1988-01-01T00:00:00",
          "1988-02-01T00:00:00",
          "1988-03-01T00:00:00",
          "1988-04-01T00:00:00",
          "1988-05-01T00:00:00",
          "1988-06-01T00:00:00",
          "1988-07-01T00:00:00",
          "1988-08-01T00:00:00",
          "1988-09-01T00:00:00",
          "1988-10-01T00:00:00",
          "1988-11-01T00:00:00",
          "1988-12-01T00:00:00",
          "1989-01-01T00:00:00",
          "1989-02-01T00:00:00",
          "1989-03-01T00:00:00",
          "1989-04-01T00:00:00",
          "1989-05-01T00:00:00",
          "1989-06-01T00:00:00",
          "1989-07-01T00:00:00",
          "1989-08-01T00:00:00",
          "1989-09-01T00:00:00",
          "1989-10-01T00:00:00",
          "1989-11-01T00:00:00",
          "1989-12-01T00:00:00",
          "1990-01-01T00:00:00",
          "1990-02-01T00:00:00",
          "1990-03-01T00:00:00",
          "1990-04-01T00:00:00",
          "1990-05-01T00:00:00",
          "1990-06-01T00:00:00",
          "1990-07-01T00:00:00",
          "1990-08-01T00:00:00",
          "1990-09-01T00:00:00",
          "1990-10-01T00:00:00",
          "1990-11-01T00:00:00",
          "1990-12-01T00:00:00",
          "1991-01-01T00:00:00",
          "1991-02-01T00:00:00",
          "1991-03-01T00:00:00",
          "1991-04-01T00:00:00",
          "1991-05-01T00:00:00",
          "1991-06-01T00:00:00",
          "1991-07-01T00:00:00",
          "1991-08-01T00:00:00",
          "1991-09-01T00:00:00",
          "1991-10-01T00:00:00",
          "1991-11-01T00:00:00",
          "1991-12-01T00:00:00",
          "1992-01-01T00:00:00",
          "1992-02-01T00:00:00",
          "1992-03-01T00:00:00",
          "1992-04-01T00:00:00",
          "1992-05-01T00:00:00",
          "1992-06-01T00:00:00",
          "1992-07-01T00:00:00",
          "1992-08-01T00:00:00",
          "1992-09-01T00:00:00",
          "1992-10-01T00:00:00",
          "1992-11-01T00:00:00",
          "1992-12-01T00:00:00",
          "1993-01-01T00:00:00",
          "1993-02-01T00:00:00",
          "1993-03-01T00:00:00",
          "1993-04-01T00:00:00",
          "1993-05-01T00:00:00",
          "1993-06-01T00:00:00",
          "1993-07-01T00:00:00",
          "1993-08-01T00:00:00",
          "1993-09-01T00:00:00",
          "1993-10-01T00:00:00",
          "1993-11-01T00:00:00",
          "1993-12-01T00:00:00",
          "1994-01-01T00:00:00",
          "1994-02-01T00:00:00",
          "1994-03-01T00:00:00",
          "1994-04-01T00:00:00",
          "1994-05-01T00:00:00",
          "1994-06-01T00:00:00",
          "1994-07-01T00:00:00",
          "1994-08-01T00:00:00",
          "1994-09-01T00:00:00",
          "1994-10-01T00:00:00",
          "1994-11-01T00:00:00",
          "1994-12-01T00:00:00",
          "1995-01-01T00:00:00",
          "1995-02-01T00:00:00",
          "1995-03-01T00:00:00",
          "1995-04-01T00:00:00",
          "1995-05-01T00:00:00",
          "1995-06-01T00:00:00",
          "1995-07-01T00:00:00",
          "1995-08-01T00:00:00",
          "1995-09-01T00:00:00",
          "1995-10-01T00:00:00",
          "1995-11-01T00:00:00",
          "1995-12-01T00:00:00",
          "1996-01-01T00:00:00",
          "1996-02-01T00:00:00",
          "1996-03-01T00:00:00",
          "1996-04-01T00:00:00",
          "1996-05-01T00:00:00",
          "1996-06-01T00:00:00",
          "1996-07-01T00:00:00",
          "1996-08-01T00:00:00",
          "1996-09-01T00:00:00",
          "1996-10-01T00:00:00",
          "1996-11-01T00:00:00",
          "1996-12-01T00:00:00",
          "1997-01-01T00:00:00",
          "1997-02-01T00:00:00",
          "1997-03-01T00:00:00",
          "1997-04-01T00:00:00",
          "1997-05-01T00:00:00",
          "1997-06-01T00:00:00",
          "1997-07-01T00:00:00",
          "1997-08-01T00:00:00",
          "1997-09-01T00:00:00",
          "1997-10-01T00:00:00",
          "1997-11-01T00:00:00",
          "1997-12-01T00:00:00",
          "1998-01-01T00:00:00",
          "1998-02-01T00:00:00",
          "1998-03-01T00:00:00",
          "1998-04-01T00:00:00",
          "1998-05-01T00:00:00",
          "1998-06-01T00:00:00",
          "1998-07-01T00:00:00",
          "1998-08-01T00:00:00",
          "1998-09-01T00:00:00",
          "1998-10-01T00:00:00",
          "1998-11-01T00:00:00",
          "1998-12-01T00:00:00",
          "1999-01-01T00:00:00",
          "1999-02-01T00:00:00",
          "1999-03-01T00:00:00",
          "1999-04-01T00:00:00",
          "1999-05-01T00:00:00",
          "1999-06-01T00:00:00",
          "1999-07-01T00:00:00",
          "1999-08-01T00:00:00",
          "1999-09-01T00:00:00",
          "1999-10-01T00:00:00",
          "1999-11-01T00:00:00",
          "1999-12-01T00:00:00",
          "2000-01-01T00:00:00",
          "2000-02-01T00:00:00",
          "2000-03-01T00:00:00",
          "2000-04-01T00:00:00",
          "2000-05-01T00:00:00",
          "2000-06-01T00:00:00",
          "2000-07-01T00:00:00",
          "2000-08-01T00:00:00",
          "2000-09-01T00:00:00",
          "2000-10-01T00:00:00",
          "2000-11-01T00:00:00",
          "2000-12-01T00:00:00",
          "2001-01-01T00:00:00",
          "2001-02-01T00:00:00",
          "2001-03-01T00:00:00",
          "2001-04-01T00:00:00",
          "2001-05-01T00:00:00",
          "2001-06-01T00:00:00",
          "2001-07-01T00:00:00",
          "2001-08-01T00:00:00",
          "2001-09-01T00:00:00",
          "2001-10-01T00:00:00",
          "2001-11-01T00:00:00",
          "2001-12-01T00:00:00",
          "2002-01-01T00:00:00",
          "2002-02-01T00:00:00",
          "2002-03-01T00:00:00",
          "2002-04-01T00:00:00",
          "2002-05-01T00:00:00",
          "2002-06-01T00:00:00",
          "2002-07-01T00:00:00",
          "2002-08-01T00:00:00",
          "2002-09-01T00:00:00",
          "2002-10-01T00:00:00",
          "2002-11-01T00:00:00",
          "2002-12-01T00:00:00",
          "2003-01-01T00:00:00",
          "2003-02-01T00:00:00",
          "2003-03-01T00:00:00",
          "2003-04-01T00:00:00",
          "2003-05-01T00:00:00",
          "2003-06-01T00:00:00",
          "2003-07-01T00:00:00",
          "2003-08-01T00:00:00",
          "2003-09-01T00:00:00",
          "2003-10-01T00:00:00",
          "2003-11-01T00:00:00",
          "2003-12-01T00:00:00",
          "2004-01-01T00:00:00",
          "2004-02-01T00:00:00",
          "2004-03-01T00:00:00",
          "2004-04-01T00:00:00",
          "2004-05-01T00:00:00",
          "2004-06-01T00:00:00",
          "2004-07-01T00:00:00",
          "2004-08-01T00:00:00",
          "2004-09-01T00:00:00",
          "2004-10-01T00:00:00",
          "2004-11-01T00:00:00",
          "2004-12-01T00:00:00",
          "2005-01-01T00:00:00",
          "2005-02-01T00:00:00",
          "2005-03-01T00:00:00",
          "2005-04-01T00:00:00",
          "2005-05-01T00:00:00",
          "2005-06-01T00:00:00",
          "2005-07-01T00:00:00",
          "2005-08-01T00:00:00",
          "2005-09-01T00:00:00",
          "2005-10-01T00:00:00",
          "2005-11-01T00:00:00",
          "2005-12-01T00:00:00",
          "2006-01-01T00:00:00",
          "2006-02-01T00:00:00",
          "2006-02-01T00:00:00",
          "2006-04-01T00:00:00",
          "2006-05-01T00:00:00",
          "2006-06-01T00:00:00",
          "2006-07-01T00:00:00",
          "2006-08-01T00:00:00",
          "2006-09-01T00:00:00",
          "2006-10-01T00:00:00",
          "2006-11-01T00:00:00",
          "2006-12-01T00:00:00",
          "2007-01-01T00:00:00",
          "2007-02-01T00:00:00",
          "2007-02-01T00:00:00",
          "2007-04-01T00:00:00",
          "2007-05-01T00:00:00",
          "2007-06-01T00:00:00",
          "2007-07-01T00:00:00",
          "2007-08-01T00:00:00",
          "2007-09-01T00:00:00",
          "2007-09-01T00:00:00",
          "2007-11-01T00:00:00",
          "2007-11-01T00:00:00",
          "2008-01-01T00:00:00",
          "2008-01-01T00:00:00",
          "2008-02-01T00:00:00",
          "2008-04-01T00:00:00",
          "2008-04-01T00:00:00",
          "2008-05-01T00:00:00",
          "2008-06-01T00:00:00",
          "2008-07-01T00:00:00",
          "2008-08-01T00:00:00",
          "2008-09-01T00:00:00",
          "2008-10-01T00:00:00",
          "2008-11-01T00:00:00",
          "2008-12-01T00:00:00",
          "2009-01-01T00:00:00",
          "2009-02-01T00:00:00",
          "2009-03-01T00:00:00",
          "2009-04-01T00:00:00",
          "2009-05-01T00:00:00",
          "2009-06-01T00:00:00",
          "2009-07-01T00:00:00",
          "2009-08-01T00:00:00",
          "2009-09-01T00:00:00",
          "2009-10-01T00:00:00",
          "2009-11-01T00:00:00",
          "2009-12-01T00:00:00",
          "2010-01-01T00:00:00",
          "2010-02-01T00:00:00",
          "2010-03-01T00:00:00",
          "2010-04-01T00:00:00",
          "2010-05-01T00:00:00",
          "2010-06-01T00:00:00",
          "2010-07-01T00:00:00",
          "2010-08-01T00:00:00",
          "2010-09-01T00:00:00",
          "2010-10-01T00:00:00",
          "2010-11-01T00:00:00",
          "2010-12-01T00:00:00",
          "2011-01-01T00:00:00",
          "2011-02-01T00:00:00",
          "2011-03-01T00:00:00",
          "2011-04-01T00:00:00",
          "2011-05-01T00:00:00",
          "2011-06-01T00:00:00",
          "2011-07-01T00:00:00",
          "2011-08-01T00:00:00",
          "2011-09-01T00:00:00",
          "2011-10-01T00:00:00",
          "2011-11-01T00:00:00",
          "2011-12-01T00:00:00",
          "2012-01-01T00:00:00",
          "2012-02-01T00:00:00",
          "2012-03-01T00:00:00",
          "2012-04-01T00:00:00",
          "2012-05-01T00:00:00",
          "2012-06-01T00:00:00",
          "2012-07-01T00:00:00",
          "2012-08-01T00:00:00",
          "2012-09-01T00:00:00",
          "2012-10-01T00:00:00",
          "2012-11-01T00:00:00",
          "2012-12-01T00:00:00",
          "2013-01-01T00:00:00",
          "2013-02-01T00:00:00",
          "2013-03-01T00:00:00",
          "2013-04-01T00:00:00",
          "2013-05-01T00:00:00",
          "2013-06-01T00:00:00",
          "2013-07-01T00:00:00",
          "2013-08-01T00:00:00",
          "2013-09-01T00:00:00",
          "2013-10-01T00:00:00",
          "2013-11-01T00:00:00",
          "2013-12-01T00:00:00",
          "2014-01-01T00:00:00",
          "2014-02-01T00:00:00",
          "2014-03-01T00:00:00",
          "2014-04-01T00:00:00",
          "2014-05-01T00:00:00",
          "2014-06-01T00:00:00",
          "2014-07-01T00:00:00",
          "2014-08-01T00:00:00",
          "2014-09-01T00:00:00",
          "2014-10-01T00:00:00",
          "2014-11-01T00:00:00",
          "2014-12-01T00:00:00",
          "2015-01-01T00:00:00",
          "2015-02-01T00:00:00",
          "2015-03-01T00:00:00",
          "2015-04-01T00:00:00",
          "2015-05-01T00:00:00",
          "2015-06-01T00:00:00",
          "2015-07-01T00:00:00",
          "2015-08-01T00:00:00",
          "2015-09-01T00:00:00",
          "2015-10-01T00:00:00",
          "2015-11-01T00:00:00",
          "2015-12-01T00:00:00",
          "2016-01-01T00:00:00",
          "2016-02-01T00:00:00",
          "2016-03-01T00:00:00",
          "2016-04-01T00:00:00",
          "2016-05-01T00:00:00",
          "2016-06-01T00:00:00",
          "2016-07-01T00:00:00",
          "2016-08-01T00:00:00",
          "2016-09-01T00:00:00",
          "2016-10-01T00:00:00",
          "2016-11-01T00:00:00",
          "2016-12-01T00:00:00",
          "2017-01-01T00:00:00",
          "2017-02-01T00:00:00",
          "2017-03-01T00:00:00",
          "2017-04-01T00:00:00",
          "2017-05-01T00:00:00",
          "2017-06-01T00:00:00",
          "2017-07-01T00:00:00",
          "2017-08-01T00:00:00",
          "2017-09-01T00:00:00",
          "2017-10-01T00:00:00",
          "2017-11-01T00:00:00",
          "2017-12-01T00:00:00",
          "2018-01-01T00:00:00",
          "2018-02-01T00:00:00",
          "2018-03-01T00:00:00",
          "2018-04-01T00:00:00",
          "2018-05-01T00:00:00",
          "2018-06-01T00:00:00",
          "2018-07-01T00:00:00",
          "2018-08-01T00:00:00",
          "2018-09-01T00:00:00",
          "2018-10-01T00:00:00",
          "2018-11-01T00:00:00",
          "2018-12-01T00:00:00",
          "2019-01-01T00:00:00",
          "2019-02-01T00:00:00",
          "2019-03-01T00:00:00",
          "2019-04-01T00:00:00",
          "2019-05-01T00:00:00",
          "2019-06-01T00:00:00",
          "2019-07-01T00:00:00",
          "2019-08-01T00:00:00",
          "2019-09-01T00:00:00",
          "2019-10-01T00:00:00",
          "2019-11-01T00:00:00",
          "2019-12-01T00:00:00",
          "2020-01-01T00:00:00",
          "2020-02-01T00:00:00",
          "2020-03-01T00:00:00",
          "2020-04-01T00:00:00",
          "2020-05-01T00:00:00",
          "2020-06-01T00:00:00",
          "2020-07-01T00:00:00",
          "2020-08-01T00:00:00",
          "2020-09-01T00:00:00",
          "2020-10-01T00:00:00",
          "2020-11-01T00:00:00",
          "2020-12-01T00:00:00",
          "2021-01-01T00:00:00",
          "2021-02-01T00:00:00",
          "2021-03-01T00:00:00",
          "2021-04-01T00:00:00",
          "2021-05-01T00:00:00",
          "2021-06-01T00:00:00",
          "2021-07-01T00:00:00",
          "2021-08-01T00:00:00",
          "2021-09-01T00:00:00",
          "2021-10-01T00:00:00",
          "2021-11-01T00:00:00",
          "2021-12-01T00:00:00",
          "2022-01-01T00:00:00",
          "2022-02-01T00:00:00",
          "2022-03-01T00:00:00",
          "2022-04-01T00:00:00",
          "2022-05-01T00:00:00",
          "2022-06-01T00:00:00",
          "2022-07-01T00:00:00",
          "2022-08-01T00:00:00",
          "2022-09-01T00:00:00",
          "2022-10-01T00:00:00",
          "2022-11-01T00:00:00",
          "2022-12-01T00:00:00",
          "2023-01-01T00:00:00",
          "2023-02-01T00:00:00",
          "2023-03-01T00:00:00",
          "2023-04-01T00:00:00",
          "2023-05-01T00:00:00",
          "2023-06-01T00:00:00",
          "2023-07-01T00:00:00",
          "2023-08-01T00:00:00",
          "2023-09-01T00:00:00",
          "2023-10-01T00:00:00",
          "2023-11-01T00:00:00",
          "2023-12-01T00:00:00",
          "2024-01-01T00:00:00",
          "2024-02-01T00:00:00",
          "2024-03-01T00:00:00",
          "2024-04-01T00:00:00",
          "2024-05-01T00:00:00",
          "2024-06-01T00:00:00",
          "2024-07-01T00:00:00",
          "2024-08-01T00:00:00",
          "2024-09-01T00:00:00",
          "2024-10-01T00:00:00",
          "2024-11-01T00:00:00",
          "2024-12-01T00:00:00",
          "2025-01-01T00:00:00"
         ],
         "xaxis": "x",
         "y": [
          62.3,
          62.50000000000149,
          61.80000000000203,
          71.00000000000149,
          76.60000000000176,
          82.6000000000004,
          80.30000000000054,
          77.10000000000204,
          66.40000000000175,
          49.00000000000108,
          57.199999999999996,
          67.70000000000108,
          67.90000000000028,
          70.00000000000095,
          61.000000000000675,
          42.30000000000068,
          45.2000000000004,
          39.100000000001,
          38.20000000000099,
          38.500000000000924,
          48.200000000002035,
          51.70000000000162,
          49.29999999999986,
          45.3,
          46.80000000000081,
          42.30000000000068,
          43.70000000000189,
          35.800000000000836,
          43.90000000000108,
          46.300000000000544,
          69.40000000000107,
          58.50000000000163,
          60.30000000000122,
          59.900000000000546,
          58.8000000000004,
          60.40000000000081,
          64.59999999999987,
          56.00000000000027,
          47.200000000001495,
          52.000000000000405,
          49.29999999999986,
          48.300000000001624,
          44.19999999999986,
          42.100000000001494,
          39.900000000000986,
          38.000000000000895,
          40.900000000000844,
          37.50000000000084,
          42.900000000000546,
          50.3000000000004,
          54.70000000000095,
          58.40000000000203,
          60.20000000000162,
          64.59999999999987,
          63.80000000000081,
          56.600000000000136,
          62.2000000000004,
          66.70000000000054,
          66.00000000000108,
          73.60000000000014,
          66.80000000000014,
          73.90000000000121,
          71.50000000000176,
          70.9000000000019,
          72.90000000000067,
          60.900000000001086,
          67.10000000000122,
          70.40000000000163,
          63.70000000000122,
          66.29999999999987,
          61.500000000000945,
          66.60000000000095,
          61.80000000000203,
          56.20000000000176,
          57.3000000000019,
          55.900000000000674,
          53.000000000000945,
          48.90000000000149,
          44.400000000001356,
          54.30000000000027,
          60.500000000000405,
          55.6000000000019,
          57.00000000000082,
          52.80000000000176,
          57.600000000000676,
          52.500000000000675,
          51.10000000000176,
          49.20000000000027,
          46.10000000000135,
          49.80000000000014,
          47.599999999999866,
          48.8000000000019,
          53.8,
          46.400000000000134,
          47.200000000001495,
          42.80000000000095,
          35.20000000000097,
          47.300000000001084,
          45.3,
          47.200000000001495,
          56.70000000000203,
          60.80000000000149,
          66.50000000000135,
          65.20000000000203,
          67.00000000000162,
          67.90000000000028,
          68.50000000000014,
          64.70000000000176,
          69.0000000000004,
          70.50000000000122,
          70.20000000000013,
          66.90000000000202,
          69.90000000000136,
          64.2000000000015,
          61.30000000000176,
          54.399999999999864,
          43.70000000000189,
          50.00000000000163,
          51.10000000000176,
          62.80000000000027,
          65.40000000000121,
          52.500000000000675,
          52.2000000000019,
          52.000000000000405,
          45.80000000000027,
          49.20000000000027,
          45.70000000000067,
          55.6000000000019,
          50.5000000000019,
          50.10000000000122,
          48.200000000002035,
          47.50000000000027,
          47.200000000001495,
          48.699999999999996,
          55.20000000000122,
          67.70000000000108,
          64.80000000000135,
          64,
          64.50000000000027,
          62.899999999999864,
          69.50000000000067,
          68.30000000000095,
          65.10000000000014,
          73.40000000000094,
          59.40000000000027,
          61.80000000000203,
          60.100000000002034,
          57.3000000000019,
          53.60000000000082,
          52.500000000000675,
          53.20000000000014,
          52.900000000001356,
          53.000000000000945,
          53.60000000000082,
          57.79999999999986,
          59.70000000000135,
          60.900000000001086,
          60.40000000000081,
          57.50000000000109,
          60.599999999999994,
          66.90000000000202,
          61.900000000001626,
          60.100000000002034,
          62.00000000000122,
          59.80000000000095,
          64,
          63.70000000000122,
          58.60000000000122,
          61.30000000000176,
          61.80000000000203,
          61.70000000000014,
          63.60000000000163,
          59.900000000000546,
          64.70000000000176,
          69.90000000000136,
          67.99999999999986,
          63.300000000000544,
          58.9,
          60.7000000000019,
          64.40000000000067,
          62.3,
          63.20000000000095,
          68.70000000000164,
          59.80000000000095,
          60.20000000000162,
          57.40000000000149,
          56.600000000000136,
          56.00000000000027,
          63.60000000000163,
          62.00000000000122,
          61.900000000001626,
          62.899999999999864,
          66.50000000000135,
          66.10000000000068,
          64.30000000000109,
          64.30000000000109,
          52.69999999999986,
          55.900000000000674,
          56.300000000001354,
          53.30000000000203,
          55.20000000000122,
          51.60000000000203,
          46.80000000000081,
          48.8000000000019,
          46.20000000000095,
          45.10000000000082,
          45.3,
          46.400000000000134,
          47.599999999999866,
          51.80000000000122,
          53.7000000000004,
          55.400000000000404,
          62.00000000000122,
          55.80000000000108,
          57.00000000000082,
          59.40000000000027,
          60.100000000002034,
          56.600000000000136,
          55.700000000001495,
          64.50000000000027,
          56.20000000000176,
          54.30000000000027,
          54.50000000000176,
          53.8,
          55.400000000000404,
          58.50000000000163,
          61.30000000000176,
          56.70000000000203,
          54.399999999999864,
          57.90000000000176,
          59.30000000000067,
          54.399999999999864,
          57.600000000000676,
          52.69999999999986,
          49.80000000000014,
          51.500000000000135,
          50.4,
          51.900000000000816,
          50.600000000001494,
          48.00000000000054,
          45.80000000000027,
          45.80000000000027,
          45.2000000000004,
          45.70000000000067,
          45.3,
          53.20000000000014,
          52.500000000000675,
          51.80000000000122,
          44.19999999999986,
          44.70000000000014,
          43.30000000000122,
          51.20000000000135,
          55.400000000000404,
          62.80000000000027,
          56.20000000000176,
          59.60000000000176,
          57.00000000000082,
          57.90000000000176,
          57.79999999999986,
          58.40000000000203,
          61.000000000000675,
          61.400000000001356,
          55.400000000000404,
          63.50000000000203,
          64.80000000000135,
          66.00000000000108,
          64.59999999999987,
          63.000000000001755,
          66.90000000000202,
          62.10000000000081,
          64.70000000000176,
          65.10000000000014,
          69.30000000000149,
          70.8,
          73.00000000000026,
          71.90000000000013,
          73.80000000000163,
          69.0000000000004,
          68.80000000000123,
          65.9000000000015,
          63.50000000000203,
          61.000000000000675,
          49.20000000000027,
          59.100000000001494,
          60.000000000000135,
          65.40000000000121,
          65.20000000000203,
          59.0000000000019,
          55.700000000001495,
          56.00000000000027,
          58.00000000000135,
          56.400000000000944,
          51.60000000000203,
          51.900000000000816,
          52.60000000000027,
          50.20000000000081,
          41.200000000001,
          36.500000000000995,
          33.10000000000099,
          27.900000000000936,
          32.80000000000105,
          40.000000000001044,
          37.00000000000102,
          42.60000000000176,
          47.200000000001495,
          54.900000000000134,
          58.40000000000203,
          60.30000000000122,
          60.40000000000081,
          64.2000000000015,
          62.2000000000004,
          63.10000000000135,
          63.80000000000081,
          68.70000000000164,
          61.60000000000054,
          65.20000000000203,
          62.3,
          60.599999999999994,
          58.00000000000135,
          57.70000000000027,
          55.300000000000814,
          57.00000000000082,
          55.700000000001495,
          58.9,
          57.199999999999996,
          56.800000000001624,
          63.50000000000203,
          60.30000000000122,
          64.50000000000027,
          58.100000000000946,
          58.9,
          58.8000000000004,
          57.00000000000082,
          57.100000000000406,
          59.20000000000109,
          60.7000000000019,
          60.599999999999994,
          56.20000000000176,
          56.600000000000136,
          60.20000000000162,
          63.900000000000404,
          63.60000000000163,
          64.70000000000176,
          61.30000000000176,
          61.30000000000176,
          58.8000000000004,
          61.900000000001626,
          59.900000000000546,
          57.3000000000019,
          58.60000000000122,
          56.70000000000203,
          55.10000000000163,
          52.099999999999994,
          49.40000000000176,
          49.80000000000014,
          46.900000000000404,
          48.699999999999996,
          47.300000000001084,
          46.50000000000203,
          44.30000000000176,
          47.1000000000019,
          51.60000000000203,
          43.80000000000149,
          32.00000000000085,
          25.60000000000084,
          24.200000000000998,
          36.100000000001,
          54.10000000000108,
          53.900000000001896,
          63.70000000000122,
          65.30000000000163,
          51.20000000000135,
          48.699999999999996,
          51.10000000000176,
          50.20000000000081,
          53.10000000000054,
          55.700000000001495,
          50.999999999999865,
          47.599999999999866,
          47.200000000001495,
          42.20000000000108,
          40.20000000000092,
          32.80000000000105,
          39.100000000001,
          39.900000000000986,
          38.600000000000975,
          40.40000000000103,
          40.900000000000844,
          38.100000000000946,
          42.00000000000097,
          40.700000000000955,
          40.10000000000087,
          40.40000000000103,
          41.90000000000092,
          41.500000000000945,
          46.00000000000176,
          50.3000000000004,
          60.599999999999994,
          60.80000000000149,
          59.40000000000027,
          61.80000000000203,
          62.3,
          70.30000000000204,
          68.10000000000176,
          66.90000000000202,
          69.50000000000067,
          69.20000000000189,
          74.79999999999986,
          63.70000000000122,
          64.90000000000094,
          60.900000000001086,
          63.20000000000095,
          59.20000000000109,
          60.500000000000405,
          54.10000000000108,
          54.00000000000149,
          47.200000000001495,
          52.900000000001356,
          52.000000000000405,
          52.80000000000176,
          51.80000000000122,
          51.80000000000122,
          49.100000000000676,
          51.30000000000095,
          49.50000000000135,
          50.70000000000108,
          52.500000000000675,
          51.80000000000122,
          54.60000000000135,
          53.400000000001626,
          57.199999999999996,
          54.800000000000544,
          56.70000000000203,
          57.100000000000406,
          54.50000000000176,
          54.399999999999864,
          61.10000000000027,
          55.300000000000814,
          51.20000000000135,
          58.40000000000203,
          57.3000000000019,
          54.50000000000176,
          57.00000000000082,
          55.400000000000404,
          59.80000000000095,
          55.400000000000404,
          61.60000000000054,
          59.80000000000095,
          63.400000000000134,
          61.19999999999986,
          64,
          62.70000000000068,
          62.10000000000081,
          65.30000000000163,
          59.30000000000067,
          61.500000000000945,
          60.30000000000122,
          57.00000000000082,
          57.90000000000176,
          57.600000000000676,
          57.70000000000027,
          63.60000000000163,
          60.599999999999994,
          59.20000000000109,
          58.60000000000122,
          57.199999999999996,
          58.40000000000203,
          59.0000000000019,
          57.3000000000019,
          57.3000000000019,
          52.000000000000405,
          53.10000000000054,
          50.70000000000108,
          45.60000000000109,
          45.80000000000027,
          45.2000000000004,
          46.00000000000176,
          49.29999999999986,
          49.29999999999986,
          50.4,
          49.100000000000676,
          52.500000000000675,
          52.30000000000149,
          53.7000000000004,
          51.70000000000162,
          52.000000000000405,
          46.70000000000122,
          45.50000000000149,
          44.900000000001626,
          43.10000000000203,
          40.40000000000103,
          38.500000000000924,
          38.100000000000946,
          39.20000000000084,
          42.40000000000027,
          46.10000000000135,
          48.90000000000149,
          58.40000000000203,
          55.6000000000019,
          60.100000000002034,
          60.7000000000019,
          58.00000000000135,
          53.50000000000122,
          49.50000000000135,
          49.600000000000946,
          58.30000000000014,
          63.300000000000544,
          59.100000000001494,
          60.900000000001086,
          59.80000000000095,
          59.499999999999865,
          58.8000000000004,
          51.10000000000176,
          53.8,
          58.8000000000004,
          61.000000000000675,
          63.000000000001755,
          59.70000000000135,
          58.100000000000946,
          53.000000000000945,
          55.20000000000122,
          51.60000000000203,
          53.8,
          55.300000000000814,
          52.60000000000027,
          58.9,
          60.40000000000081,
          62.400000000001896,
          63.50000000000203,
          62.2000000000004,
          62.80000000000027,
          62.70000000000068,
          61.60000000000054,
          65.00000000000054,
          64.2000000000015,
          63.000000000001755,
          62.70000000000068,
          63.000000000001755,
          61.500000000000945,
          58.9,
          59.70000000000135,
          56.600000000000136,
          51.900000000000816,
          52.2000000000019,
          44.000000000000675,
          43.5000000000004,
          52.69999999999986,
          46.50000000000203,
          49.40000000000176,
          47.50000000000027,
          48.600000000000406,
          45.899999999999864,
          44.100000000000264,
          46.10000000000135,
          49.100000000000676,
          52.30000000000149,
          51.70000000000162,
          59.40000000000027,
          51.900000000000816,
          54.60000000000135,
          54.60000000000135,
          52.900000000001356,
          56.90000000000122,
          61.70000000000014,
          57.00000000000082,
          57.600000000000676,
          58.60000000000122,
          56.600000000000136,
          62.3,
          59.40000000000027,
          61.30000000000176,
          60.30000000000122,
          55.400000000000404,
          60.900000000001086,
          57.40000000000149,
          57.199999999999996,
          57.100000000000406,
          54.60000000000135,
          54.900000000000134,
          55.300000000000814,
          51.500000000000135,
          50.20000000000081,
          51.80000000000122,
          50.90000000000027,
          49.40000000000176,
          48.00000000000054,
          48.300000000001624,
          49.70000000000054,
          52.40000000000108,
          55.00000000000203,
          55.900000000000674,
          54.00000000000149,
          57.79999999999986,
          59.40000000000027,
          54.60000000000135,
          57.50000000000109,
          63.50000000000203,
          61.30000000000176,
          63.10000000000135,
          60.30000000000122,
          60.40000000000081,
          58.700000000000806,
          56.20000000000176,
          55.400000000000404,
          51.500000000000135,
          50.00000000000163,
          52.000000000000405,
          50.00000000000163,
          48.90000000000149,
          48.40000000000122,
          49.100000000000676,
          42.100000000001494,
          38.40000000000087,
          39.900000000000986,
          41.500000000000945,
          45.50000000000149,
          44.900000000001626,
          47.800000000001354,
          49.20000000000027,
          54.30000000000027,
          51.30000000000095,
          38.9000000000009,
          49.100000000000676,
          51.400000000000546,
          55.20000000000122,
          60.7000000000019,
          63.80000000000081,
          59.900000000000546,
          61.80000000000203,
          61.19999999999986,
          51.900000000000816,
          50.600000000001494,
          52.900000000001356,
          52.099999999999994,
          49.90000000000203,
          58.700000000000806,
          58.20000000000054,
          51.900000000000816,
          47.200000000001495,
          47.200000000001495,
          53.400000000001626,
          53.60000000000082,
          56.800000000001624,
          61.10000000000027,
          60.80000000000149,
          64.40000000000067,
          69.1,
          71.30000000000027,
          70.60000000000082,
          66.50000000000135,
          64.59999999999987,
          67.10000000000122,
          64.50000000000027,
          60.900000000001086,
          62.80000000000027,
          62.10000000000081,
          57.70000000000027,
          58.40000000000203,
          60.100000000002034,
          66.29999999999987,
          57.90000000000176,
          55.900000000000674,
          57.70000000000027,
          53.400000000001626,
          51.80000000000122,
          55.700000000001495,
          57.199999999999996,
          57.79999999999986,
          60.900000000001086,
          61.400000000001356,
          61.19999999999986,
          60.100000000002034,
          58.9,
          61.000000000000675,
          57.00000000000082,
          55.700000000001495,
          54.900000000000134,
          55.00000000000203,
          55.80000000000108,
          55.300000000000814,
          54.800000000000544,
          54.10000000000108,
          50.80000000000068,
          51.400000000000546,
          55.5,
          59.100000000001494,
          56.00000000000027,
          57.100000000000406,
          57.00000000000082,
          58.40000000000203,
          57.50000000000109,
          56.099999999999866,
          59.40000000000027,
          55.80000000000108,
          53.10000000000054,
          49.90000000000203,
          49.50000000000135,
          50.5000000000019,
          49.20000000000027,
          46.20000000000095,
          47.900000000000944,
          49.50000000000135,
          48.40000000000122,
          48.600000000000406,
          45.10000000000082,
          32.00000000000085,
          34.50000000000105,
          25.900000000001,
          32.500000000000895,
          32.700000000001,
          41.30000000000105,
          46.00000000000176,
          50.999999999999865,
          49.00000000000108,
          56.600000000000136,
          64.1000000000019,
          64.70000000000176,
          57.70000000000027,
          64.2000000000015,
          63.80000000000081,
          59.900000000000546,
          57.70000000000027,
          60.100000000002034,
          64,
          61.30000000000176,
          58.60000000000122,
          54.70000000000095,
          54.00000000000149,
          51.900000000000816,
          57.79999999999986,
          58.30000000000014,
          59.60000000000176,
          64.50000000000027,
          64.2000000000015,
          61.30000000000176,
          61.10000000000027,
          54.60000000000135,
          54.60000000000135,
          56.90000000000122,
          52.900000000001356,
          51.80000000000122,
          52.000000000000405,
          54.900000000000134,
          55.400000000000404,
          60.000000000000135,
          58.30000000000014,
          57.00000000000082,
          59.20000000000109,
          58.20000000000054,
          47.300000000001084,
          47.800000000001354,
          45.10000000000082,
          52.2000000000019,
          51.80000000000122,
          47.900000000000944,
          48.300000000001624,
          54.900000000000134,
          58.9,
          52.30000000000149,
          53.000000000000945,
          52.099999999999994,
          52.000000000000405,
          56.400000000000944,
          58.00000000000135,
          60.20000000000162,
          57.40000000000149,
          59.499999999999865,
          63.900000000000404,
          54.60000000000135,
          58.60000000000122,
          58.8000000000004,
          57.3000000000019,
          57.90000000000176,
          56.800000000001624,
          57.40000000000149,
          60.100000000002034,
          58.9,
          59.80000000000095,
          61.60000000000054,
          58.20000000000054,
          54.70000000000095,
          54.30000000000027,
          53.10000000000054,
          53.7000000000004,
          52.80000000000176,
          53.8,
          52.60000000000027,
          51.20000000000135,
          50.20000000000081,
          51.70000000000162,
          50.600000000001494,
          49.50000000000135,
          49.600000000000946,
          52.40000000000108,
          55.400000000000404,
          54.800000000000544,
          55.400000000000404,
          56.90000000000122,
          55.300000000000814,
          50.90000000000027,
          53.400000000001626,
          54.30000000000027,
          55.400000000000404,
          58.60000000000122,
          60.000000000000135,
          64.1000000000019,
          62.00000000000122,
          57.40000000000149,
          61.60000000000054,
          60.30000000000122,
          61.60000000000054,
          60.900000000001086,
          64.2000000000015,
          64,
          64,
          65.7,
          66.20000000000027,
          64.1000000000019,
          61.70000000000014,
          63.20000000000095,
          63.20000000000095,
          63.50000000000203,
          59.80000000000095,
          63.60000000000163,
          61.900000000001626,
          59.30000000000067,
          60.7000000000019,
          52.40000000000108,
          56.70000000000203,
          54.900000000000134,
          56.50000000000054,
          53.50000000000122,
          52.500000000000675,
          50.70000000000108,
          51.20000000000135,
          46.300000000000544,
          48.699999999999996,
          48.50000000000081,
          47,
          47.50000000000027,
          51.80000000000122,
          49.50000000000135,
          43.20000000000162,
          27.300000000000843,
          31.900000000001025,
          56.70000000000203,
          60.900000000001086,
          66.20000000000027,
          60.900000000001086,
          66.90000000000202,
          65.7,
          67.5000000000019,
          61.10000000000027,
          64.80000000000135,
          67.99999999999986,
          64.30000000000109,
          67.00000000000162,
          66.00000000000108,
          64.90000000000094,
          66.70000000000054,
          66.70000000000054,
          59.80000000000095,
          61.500000000000945,
          61.000000000000675,
          57.90000000000176,
          61.70000000000014,
          53.8,
          53.50000000000122,
          55.10000000000163,
          55.10000000000163,
          49.20000000000027,
          48.00000000000054,
          51.30000000000095,
          47.1000000000019,
          49.20000000000027,
          47.200000000001495,
          45.10000000000082,
          42.499999999999865,
          47,
          44.30000000000176,
          45.70000000000067,
          42.60000000000176,
          42.60000000000176,
          45.60000000000109,
          47.300000000001084,
          46.80000000000081,
          49.20000000000027,
          45.50000000000149,
          47.800000000001354,
          47,
          52.500000000000675,
          49.20000000000027,
          51.400000000000546,
          49.100000000000676,
          45.400000000001896,
          49.29999999999986,
          47.400000000000674,
          44.60000000000054,
          46.10000000000135,
          47.900000000000944,
          50.3000000000004,
          52.099999999999994,
          55.10000000000163
         ],
         "yaxis": "y"
        }
       ],
       "layout": {
        "annotations": [
         {
          "align": "left",
          "bgcolor": "rgba(255, 255, 255, 0.8)",
          "bordercolor": "black",
          "borderwidth": 1,
          "font": {
           "size": 10
          },
          "showarrow": false,
          "text": "Source: Trading Economics<br>Original Source: Institute for Supply Management<br>Frequency: MS",
          "x": 0,
          "xanchor": "left",
          "xref": "paper",
          "y": -0.23,
          "yanchor": "bottom",
          "yref": "paper"
         }
        ],
        "legend": {
         "orientation": "h",
         "title": {
          "text": ""
         },
         "tracegroupgap": 0,
         "x": 0.5,
         "xanchor": "center",
         "y": -0.2,
         "yanchor": "bottom"
        },
        "margin": {
         "t": 60
        },
        "template": {
         "data": {
          "bar": [
           {
            "error_x": {
             "color": "#2a3f5f"
            },
            "error_y": {
             "color": "#2a3f5f"
            },
            "marker": {
             "line": {
              "color": "#E5ECF6",
              "width": 0.5
             },
             "pattern": {
              "fillmode": "overlay",
              "size": 10,
              "solidity": 0.2
             }
            },
            "type": "bar"
           }
          ],
          "barpolar": [
           {
            "marker": {
             "line": {
              "color": "#E5ECF6",
              "width": 0.5
             },
             "pattern": {
              "fillmode": "overlay",
              "size": 10,
              "solidity": 0.2
             }
            },
            "type": "barpolar"
           }
          ],
          "carpet": [
           {
            "aaxis": {
             "endlinecolor": "#2a3f5f",
             "gridcolor": "white",
             "linecolor": "white",
             "minorgridcolor": "white",
             "startlinecolor": "#2a3f5f"
            },
            "baxis": {
             "endlinecolor": "#2a3f5f",
             "gridcolor": "white",
             "linecolor": "white",
             "minorgridcolor": "white",
             "startlinecolor": "#2a3f5f"
            },
            "type": "carpet"
           }
          ],
          "choropleth": [
           {
            "colorbar": {
             "outlinewidth": 0,
             "ticks": ""
            },
            "type": "choropleth"
           }
          ],
          "contour": [
           {
            "colorbar": {
             "outlinewidth": 0,
             "ticks": ""
            },
            "colorscale": [
             [
              0,
              "#0d0887"
             ],
             [
              0.1111111111111111,
              "#46039f"
             ],
             [
              0.2222222222222222,
              "#7201a8"
             ],
             [
              0.3333333333333333,
              "#9c179e"
             ],
             [
              0.4444444444444444,
              "#bd3786"
             ],
             [
              0.5555555555555556,
              "#d8576b"
             ],
             [
              0.6666666666666666,
              "#ed7953"
             ],
             [
              0.7777777777777778,
              "#fb9f3a"
             ],
             [
              0.8888888888888888,
              "#fdca26"
             ],
             [
              1,
              "#f0f921"
             ]
            ],
            "type": "contour"
           }
          ],
          "contourcarpet": [
           {
            "colorbar": {
             "outlinewidth": 0,
             "ticks": ""
            },
            "type": "contourcarpet"
           }
          ],
          "heatmap": [
           {
            "colorbar": {
             "outlinewidth": 0,
             "ticks": ""
            },
            "colorscale": [
             [
              0,
              "#0d0887"
             ],
             [
              0.1111111111111111,
              "#46039f"
             ],
             [
              0.2222222222222222,
              "#7201a8"
             ],
             [
              0.3333333333333333,
              "#9c179e"
             ],
             [
              0.4444444444444444,
              "#bd3786"
             ],
             [
              0.5555555555555556,
              "#d8576b"
             ],
             [
              0.6666666666666666,
              "#ed7953"
             ],
             [
              0.7777777777777778,
              "#fb9f3a"
             ],
             [
              0.8888888888888888,
              "#fdca26"
             ],
             [
              1,
              "#f0f921"
             ]
            ],
            "type": "heatmap"
           }
          ],
          "heatmapgl": [
           {
            "colorbar": {
             "outlinewidth": 0,
             "ticks": ""
            },
            "colorscale": [
             [
              0,
              "#0d0887"
             ],
             [
              0.1111111111111111,
              "#46039f"
             ],
             [
              0.2222222222222222,
              "#7201a8"
             ],
             [
              0.3333333333333333,
              "#9c179e"
             ],
             [
              0.4444444444444444,
              "#bd3786"
             ],
             [
              0.5555555555555556,
              "#d8576b"
             ],
             [
              0.6666666666666666,
              "#ed7953"
             ],
             [
              0.7777777777777778,
              "#fb9f3a"
             ],
             [
              0.8888888888888888,
              "#fdca26"
             ],
             [
              1,
              "#f0f921"
             ]
            ],
            "type": "heatmapgl"
           }
          ],
          "histogram": [
           {
            "marker": {
             "pattern": {
              "fillmode": "overlay",
              "size": 10,
              "solidity": 0.2
             }
            },
            "type": "histogram"
           }
          ],
          "histogram2d": [
           {
            "colorbar": {
             "outlinewidth": 0,
             "ticks": ""
            },
            "colorscale": [
             [
              0,
              "#0d0887"
             ],
             [
              0.1111111111111111,
              "#46039f"
             ],
             [
              0.2222222222222222,
              "#7201a8"
             ],
             [
              0.3333333333333333,
              "#9c179e"
             ],
             [
              0.4444444444444444,
              "#bd3786"
             ],
             [
              0.5555555555555556,
              "#d8576b"
             ],
             [
              0.6666666666666666,
              "#ed7953"
             ],
             [
              0.7777777777777778,
              "#fb9f3a"
             ],
             [
              0.8888888888888888,
              "#fdca26"
             ],
             [
              1,
              "#f0f921"
             ]
            ],
            "type": "histogram2d"
           }
          ],
          "histogram2dcontour": [
           {
            "colorbar": {
             "outlinewidth": 0,
             "ticks": ""
            },
            "colorscale": [
             [
              0,
              "#0d0887"
             ],
             [
              0.1111111111111111,
              "#46039f"
             ],
             [
              0.2222222222222222,
              "#7201a8"
             ],
             [
              0.3333333333333333,
              "#9c179e"
             ],
             [
              0.4444444444444444,
              "#bd3786"
             ],
             [
              0.5555555555555556,
              "#d8576b"
             ],
             [
              0.6666666666666666,
              "#ed7953"
             ],
             [
              0.7777777777777778,
              "#fb9f3a"
             ],
             [
              0.8888888888888888,
              "#fdca26"
             ],
             [
              1,
              "#f0f921"
             ]
            ],
            "type": "histogram2dcontour"
           }
          ],
          "mesh3d": [
           {
            "colorbar": {
             "outlinewidth": 0,
             "ticks": ""
            },
            "type": "mesh3d"
           }
          ],
          "parcoords": [
           {
            "line": {
             "colorbar": {
              "outlinewidth": 0,
              "ticks": ""
             }
            },
            "type": "parcoords"
           }
          ],
          "pie": [
           {
            "automargin": true,
            "type": "pie"
           }
          ],
          "scatter": [
           {
            "fillpattern": {
             "fillmode": "overlay",
             "size": 10,
             "solidity": 0.2
            },
            "type": "scatter"
           }
          ],
          "scatter3d": [
           {
            "line": {
             "colorbar": {
              "outlinewidth": 0,
              "ticks": ""
             }
            },
            "marker": {
             "colorbar": {
              "outlinewidth": 0,
              "ticks": ""
             }
            },
            "type": "scatter3d"
           }
          ],
          "scattercarpet": [
           {
            "marker": {
             "colorbar": {
              "outlinewidth": 0,
              "ticks": ""
             }
            },
            "type": "scattercarpet"
           }
          ],
          "scattergeo": [
           {
            "marker": {
             "colorbar": {
              "outlinewidth": 0,
              "ticks": ""
             }
            },
            "type": "scattergeo"
           }
          ],
          "scattergl": [
           {
            "marker": {
             "colorbar": {
              "outlinewidth": 0,
              "ticks": ""
             }
            },
            "type": "scattergl"
           }
          ],
          "scattermapbox": [
           {
            "marker": {
             "colorbar": {
              "outlinewidth": 0,
              "ticks": ""
             }
            },
            "type": "scattermapbox"
           }
          ],
          "scatterpolar": [
           {
            "marker": {
             "colorbar": {
              "outlinewidth": 0,
              "ticks": ""
             }
            },
            "type": "scatterpolar"
           }
          ],
          "scatterpolargl": [
           {
            "marker": {
             "colorbar": {
              "outlinewidth": 0,
              "ticks": ""
             }
            },
            "type": "scatterpolargl"
           }
          ],
          "scatterternary": [
           {
            "marker": {
             "colorbar": {
              "outlinewidth": 0,
              "ticks": ""
             }
            },
            "type": "scatterternary"
           }
          ],
          "surface": [
           {
            "colorbar": {
             "outlinewidth": 0,
             "ticks": ""
            },
            "colorscale": [
             [
              0,
              "#0d0887"
             ],
             [
              0.1111111111111111,
              "#46039f"
             ],
             [
              0.2222222222222222,
              "#7201a8"
             ],
             [
              0.3333333333333333,
              "#9c179e"
             ],
             [
              0.4444444444444444,
              "#bd3786"
             ],
             [
              0.5555555555555556,
              "#d8576b"
             ],
             [
              0.6666666666666666,
              "#ed7953"
             ],
             [
              0.7777777777777778,
              "#fb9f3a"
             ],
             [
              0.8888888888888888,
              "#fdca26"
             ],
             [
              1,
              "#f0f921"
             ]
            ],
            "type": "surface"
           }
          ],
          "table": [
           {
            "cells": {
             "fill": {
              "color": "#EBF0F8"
             },
             "line": {
              "color": "white"
             }
            },
            "header": {
             "fill": {
              "color": "#C8D4E3"
             },
             "line": {
              "color": "white"
             }
            },
            "type": "table"
           }
          ]
         },
         "layout": {
          "annotationdefaults": {
           "arrowcolor": "#2a3f5f",
           "arrowhead": 0,
           "arrowwidth": 1
          },
          "autotypenumbers": "strict",
          "coloraxis": {
           "colorbar": {
            "outlinewidth": 0,
            "ticks": ""
           }
          },
          "colorscale": {
           "diverging": [
            [
             0,
             "#8e0152"
            ],
            [
             0.1,
             "#c51b7d"
            ],
            [
             0.2,
             "#de77ae"
            ],
            [
             0.3,
             "#f1b6da"
            ],
            [
             0.4,
             "#fde0ef"
            ],
            [
             0.5,
             "#f7f7f7"
            ],
            [
             0.6,
             "#e6f5d0"
            ],
            [
             0.7,
             "#b8e186"
            ],
            [
             0.8,
             "#7fbc41"
            ],
            [
             0.9,
             "#4d9221"
            ],
            [
             1,
             "#276419"
            ]
           ],
           "sequential": [
            [
             0,
             "#0d0887"
            ],
            [
             0.1111111111111111,
             "#46039f"
            ],
            [
             0.2222222222222222,
             "#7201a8"
            ],
            [
             0.3333333333333333,
             "#9c179e"
            ],
            [
             0.4444444444444444,
             "#bd3786"
            ],
            [
             0.5555555555555556,
             "#d8576b"
            ],
            [
             0.6666666666666666,
             "#ed7953"
            ],
            [
             0.7777777777777778,
             "#fb9f3a"
            ],
            [
             0.8888888888888888,
             "#fdca26"
            ],
            [
             1,
             "#f0f921"
            ]
           ],
           "sequentialminus": [
            [
             0,
             "#0d0887"
            ],
            [
             0.1111111111111111,
             "#46039f"
            ],
            [
             0.2222222222222222,
             "#7201a8"
            ],
            [
             0.3333333333333333,
             "#9c179e"
            ],
            [
             0.4444444444444444,
             "#bd3786"
            ],
            [
             0.5555555555555556,
             "#d8576b"
            ],
            [
             0.6666666666666666,
             "#ed7953"
            ],
            [
             0.7777777777777778,
             "#fb9f3a"
            ],
            [
             0.8888888888888888,
             "#fdca26"
            ],
            [
             1,
             "#f0f921"
            ]
           ]
          },
          "colorway": [
           "#636efa",
           "#EF553B",
           "#00cc96",
           "#ab63fa",
           "#FFA15A",
           "#19d3f3",
           "#FF6692",
           "#B6E880",
           "#FF97FF",
           "#FECB52"
          ],
          "font": {
           "color": "#2a3f5f"
          },
          "geo": {
           "bgcolor": "white",
           "lakecolor": "white",
           "landcolor": "#E5ECF6",
           "showlakes": true,
           "showland": true,
           "subunitcolor": "white"
          },
          "hoverlabel": {
           "align": "left"
          },
          "hovermode": "closest",
          "mapbox": {
           "style": "light"
          },
          "paper_bgcolor": "white",
          "plot_bgcolor": "#E5ECF6",
          "polar": {
           "angularaxis": {
            "gridcolor": "white",
            "linecolor": "white",
            "ticks": ""
           },
           "bgcolor": "#E5ECF6",
           "radialaxis": {
            "gridcolor": "white",
            "linecolor": "white",
            "ticks": ""
           }
          },
          "scene": {
           "xaxis": {
            "backgroundcolor": "#E5ECF6",
            "gridcolor": "white",
            "gridwidth": 2,
            "linecolor": "white",
            "showbackground": true,
            "ticks": "",
            "zerolinecolor": "white"
           },
           "yaxis": {
            "backgroundcolor": "#E5ECF6",
            "gridcolor": "white",
            "gridwidth": 2,
            "linecolor": "white",
            "showbackground": true,
            "ticks": "",
            "zerolinecolor": "white"
           },
           "zaxis": {
            "backgroundcolor": "#E5ECF6",
            "gridcolor": "white",
            "gridwidth": 2,
            "linecolor": "white",
            "showbackground": true,
            "ticks": "",
            "zerolinecolor": "white"
           }
          },
          "shapedefaults": {
           "line": {
            "color": "#2a3f5f"
           }
          },
          "ternary": {
           "aaxis": {
            "gridcolor": "white",
            "linecolor": "white",
            "ticks": ""
           },
           "baxis": {
            "gridcolor": "white",
            "linecolor": "white",
            "ticks": ""
           },
           "bgcolor": "#E5ECF6",
           "caxis": {
            "gridcolor": "white",
            "linecolor": "white",
            "ticks": ""
           }
          },
          "title": {
           "x": 0.05
          },
          "xaxis": {
           "automargin": true,
           "gridcolor": "white",
           "linecolor": "white",
           "ticks": "",
           "title": {
            "standoff": 15
           },
           "zerolinecolor": "white",
           "zerolinewidth": 2
          },
          "yaxis": {
           "automargin": true,
           "gridcolor": "white",
           "linecolor": "white",
           "ticks": "",
           "title": {
            "standoff": 15
           },
           "zerolinecolor": "white",
           "zerolinewidth": 2
          }
         }
        },
        "title": {
         "text": "United states: United states ism manufacturing new orders"
        },
        "xaxis": {
         "anchor": "y",
         "domain": [
          0,
          1
         ],
         "title": {
          "text": ""
         }
        },
        "yaxis": {
         "anchor": "x",
         "domain": [
          0,
          1
         ],
         "title": {
          "text": "Points"
         }
        }
       }
      }
     },
     "metadata": {},
     "output_type": "display_data"
    }
   ],
   "source": [
    "scr.plot_series()  ## Plot the series."
   ]
  }
 ],
 "metadata": {
  "kernelspec": {
   "display_name": "bm",
   "language": "python",
   "name": "python3"
  },
  "language_info": {
   "codemirror_mode": {
    "name": "ipython",
    "version": 3
   },
   "file_extension": ".py",
   "mimetype": "text/x-python",
   "name": "python",
   "nbconvert_exporter": "python",
   "pygments_lexer": "ipython3",
   "version": "3.11.11"
  }
 },
 "nbformat": 4,
 "nbformat_minor": 2
}
