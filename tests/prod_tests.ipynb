{
 "cells": [
  {
   "cell_type": "code",
   "execution_count": 1,
   "metadata": {},
   "outputs": [
    {
     "name": "stdout",
     "output_type": "stream",
     "text": [
      "The autoreload extension is already loaded. To reload it, use:\n",
      "  %reload_ext autoreload\n"
     ]
    }
   ],
   "source": [
    "%load_ext autoreload\n",
    "%autoreload 2"
   ]
  },
  {
   "cell_type": "code",
   "execution_count": 2,
   "metadata": {},
   "outputs": [
    {
     "name": "stderr",
     "output_type": "stream",
     "text": [
      "INFO - tedata package initialized successfully!\n"
     ]
    }
   ],
   "source": [
    "import sys\n",
    "import os\n",
    "import pandas as pd\n",
    "wd = %pwd\n",
    "parent = os.path.dirname(wd)\n",
    "fdel = os.path.sep\n",
    "sys.path.append(parent+fdel+\"src\")\n",
    "import tedata as ted"
   ]
  },
  {
   "cell_type": "markdown",
   "metadata": {},
   "source": [
    "# tedata package\n",
    "Download data from Trading Economics. There are several ways to use this package. \n",
    "# Method #1: search for indicators and then download the data for a given search result.\n",
    "## Initialise new search_TE object. \n",
    "Object will use an existing webdriver if there are already more than two active in the namespace. This will save you some time and be more memory efficient."
   ]
  },
  {
   "cell_type": "code",
   "execution_count": 3,
   "metadata": {},
   "outputs": [
    {
     "name": "stderr",
     "output_type": "stream",
     "text": [
      "INFO - New webdriver object initialized: <tedata.utils.TimestampedFirefox (session=\"674c0e96-e0b3-47d7-a0a8-7859b09581b5\")>\n",
      "INFO - Loading home page at https://tradingeconomics.com/ ...\n",
      "INFO - Home page at https://tradingeconomics.com loaded successfully! Search box element found.\n"
     ]
    }
   ],
   "source": [
    "search = ted.search_TE(use_existing_driver=True)"
   ]
  },
  {
   "cell_type": "markdown",
   "metadata": {},
   "source": [
    "### Use the search_trading_economics method to use the search bar on the homepage to search."
   ]
  },
  {
   "cell_type": "code",
   "execution_count": 4,
   "metadata": {},
   "outputs": [
    {
     "name": "stderr",
     "output_type": "stream",
     "text": [
      "INFO - Clicking search box...\n",
      "INFO - Entering search term: ISM Manufacturing\n",
      "INFO - Submitting search...\n"
     ]
    },
    {
     "data": {
      "text/html": [
       "<div>\n",
       "<style scoped>\n",
       "    .dataframe tbody tr th:only-of-type {\n",
       "        vertical-align: middle;\n",
       "    }\n",
       "\n",
       "    .dataframe tbody tr th {\n",
       "        vertical-align: top;\n",
       "    }\n",
       "\n",
       "    .dataframe thead th {\n",
       "        text-align: right;\n",
       "    }\n",
       "</style>\n",
       "<table border=\"1\" class=\"dataframe\">\n",
       "  <thead>\n",
       "    <tr style=\"text-align: right;\">\n",
       "      <th></th>\n",
       "      <th>country</th>\n",
       "      <th>metric</th>\n",
       "      <th>url</th>\n",
       "    </tr>\n",
       "    <tr>\n",
       "      <th>result</th>\n",
       "      <th></th>\n",
       "      <th></th>\n",
       "      <th></th>\n",
       "    </tr>\n",
       "  </thead>\n",
       "  <tbody>\n",
       "    <tr>\n",
       "      <th>0</th>\n",
       "      <td>united states</td>\n",
       "      <td>business confidence</td>\n",
       "      <td>https://tradingeconomics.com/united-states/bus...</td>\n",
       "    </tr>\n",
       "    <tr>\n",
       "      <th>1</th>\n",
       "      <td>united states</td>\n",
       "      <td>ism manufacturing new orders</td>\n",
       "      <td>https://tradingeconomics.com/united-states/ism...</td>\n",
       "    </tr>\n",
       "    <tr>\n",
       "      <th>2</th>\n",
       "      <td>united states</td>\n",
       "      <td>ism manufacturing employment</td>\n",
       "      <td>https://tradingeconomics.com/united-states/ism...</td>\n",
       "    </tr>\n",
       "    <tr>\n",
       "      <th>3</th>\n",
       "      <td>united states</td>\n",
       "      <td>ism manufacturing prices</td>\n",
       "      <td>https://tradingeconomics.com/united-states/ism...</td>\n",
       "    </tr>\n",
       "    <tr>\n",
       "      <th>4</th>\n",
       "      <td>united states</td>\n",
       "      <td>ism manufacturing production</td>\n",
       "      <td>https://tradingeconomics.com/united-states/ism...</td>\n",
       "    </tr>\n",
       "    <tr>\n",
       "      <th>5</th>\n",
       "      <td>united states</td>\n",
       "      <td>ism non manufacturing prices</td>\n",
       "      <td>https://tradingeconomics.com/united-states/ism...</td>\n",
       "    </tr>\n",
       "    <tr>\n",
       "      <th>6</th>\n",
       "      <td>united states</td>\n",
       "      <td>ism manufacturing inventories</td>\n",
       "      <td>https://tradingeconomics.com/united-states/ism...</td>\n",
       "    </tr>\n",
       "    <tr>\n",
       "      <th>7</th>\n",
       "      <td>united states</td>\n",
       "      <td>ism manufacturing backlog of orders</td>\n",
       "      <td>https://tradingeconomics.com/united-states/ism...</td>\n",
       "    </tr>\n",
       "    <tr>\n",
       "      <th>8</th>\n",
       "      <td>united states</td>\n",
       "      <td>ism manufacturing supplier deliveries</td>\n",
       "      <td>https://tradingeconomics.com/united-states/ism...</td>\n",
       "    </tr>\n",
       "    <tr>\n",
       "      <th>9</th>\n",
       "      <td>united states</td>\n",
       "      <td>ism non manufacturing business activity</td>\n",
       "      <td>https://tradingeconomics.com/united-states/ism...</td>\n",
       "    </tr>\n",
       "    <tr>\n",
       "      <th>10</th>\n",
       "      <td>united states</td>\n",
       "      <td>ism non manufacturing employment</td>\n",
       "      <td>https://tradingeconomics.com/united-states/ism...</td>\n",
       "    </tr>\n",
       "    <tr>\n",
       "      <th>11</th>\n",
       "      <td>united states</td>\n",
       "      <td>ism non manufacturing new orders</td>\n",
       "      <td>https://tradingeconomics.com/united-states/ism...</td>\n",
       "    </tr>\n",
       "  </tbody>\n",
       "</table>\n",
       "</div>"
      ],
      "text/plain": [
       "              country                                   metric  \\\n",
       "result                                                           \n",
       "0       united states                      business confidence   \n",
       "1       united states             ism manufacturing new orders   \n",
       "2       united states             ism manufacturing employment   \n",
       "3       united states                 ism manufacturing prices   \n",
       "4       united states             ism manufacturing production   \n",
       "5       united states             ism non manufacturing prices   \n",
       "6       united states            ism manufacturing inventories   \n",
       "7       united states      ism manufacturing backlog of orders   \n",
       "8       united states    ism manufacturing supplier deliveries   \n",
       "9       united states  ism non manufacturing business activity   \n",
       "10      united states         ism non manufacturing employment   \n",
       "11      united states         ism non manufacturing new orders   \n",
       "\n",
       "                                                      url  \n",
       "result                                                     \n",
       "0       https://tradingeconomics.com/united-states/bus...  \n",
       "1       https://tradingeconomics.com/united-states/ism...  \n",
       "2       https://tradingeconomics.com/united-states/ism...  \n",
       "3       https://tradingeconomics.com/united-states/ism...  \n",
       "4       https://tradingeconomics.com/united-states/ism...  \n",
       "5       https://tradingeconomics.com/united-states/ism...  \n",
       "6       https://tradingeconomics.com/united-states/ism...  \n",
       "7       https://tradingeconomics.com/united-states/ism...  \n",
       "8       https://tradingeconomics.com/united-states/ism...  \n",
       "9       https://tradingeconomics.com/united-states/ism...  \n",
       "10      https://tradingeconomics.com/united-states/ism...  \n",
       "11      https://tradingeconomics.com/united-states/ism...  "
      ]
     },
     "execution_count": 4,
     "metadata": {},
     "output_type": "execute_result"
    }
   ],
   "source": [
    "search.search_trading_economics(\"ISM Manufacturing\")\n",
    "search.result_table"
   ]
  },
  {
   "cell_type": "code",
   "execution_count": 6,
   "metadata": {},
   "outputs": [
    {
     "data": {
      "text/plain": [
       "'|   result | country       | metric                                  | url                                                                                |\\n|---------:|:--------------|:----------------------------------------|:-----------------------------------------------------------------------------------|\\n|        0 | united states | business confidence                     | https://tradingeconomics.com/united-states/business-confidence                     |\\n|        1 | united states | ism manufacturing new orders            | https://tradingeconomics.com/united-states/ism-manufacturing-new-orders            |\\n|        2 | united states | ism manufacturing employment            | https://tradingeconomics.com/united-states/ism-manufacturing-employment            |\\n|        3 | united states | ism manufacturing prices                | https://tradingeconomics.com/united-states/ism-manufacturing-prices                |\\n|        4 | united states | ism manufacturing production            | https://tradingeconomics.com/united-states/ism-manufacturing-production            |\\n|        5 | united states | ism non manufacturing prices            | https://tradingeconomics.com/united-states/ism-non-manufacturing-prices            |\\n|        6 | united states | ism manufacturing inventories           | https://tradingeconomics.com/united-states/ism-manufacturing-inventories           |\\n|        7 | united states | ism manufacturing backlog of orders     | https://tradingeconomics.com/united-states/ism-manufacturing-backlog-of-orders     |\\n|        8 | united states | ism manufacturing supplier deliveries   | https://tradingeconomics.com/united-states/ism-manufacturing-supplier-deliveries   |\\n|        9 | united states | ism non manufacturing business activity | https://tradingeconomics.com/united-states/ism-non-manufacturing-business-activity |\\n|       10 | united states | ism non manufacturing employment        | https://tradingeconomics.com/united-states/ism-non-manufacturing-employment        |\\n|       11 | united states | ism non manufacturing new orders        | https://tradingeconomics.com/united-states/ism-non-manufacturing-new-orders        |'"
      ]
     },
     "execution_count": 6,
     "metadata": {},
     "output_type": "execute_result"
    }
   ],
   "source": [
    "search.result_table.to_markdown()"
   ]
  },
  {
   "cell_type": "code",
   "execution_count": 7,
   "metadata": {},
   "outputs": [
    {
     "ename": "ImportError",
     "evalue": "Missing optional dependency 'tabulate'.  Use pip or conda to install tabulate.",
     "output_type": "error",
     "traceback": [
      "\u001b[0;31m---------------------------------------------------------------------------\u001b[0m",
      "\u001b[0;31mModuleNotFoundError\u001b[0m                       Traceback (most recent call last)",
      "File \u001b[0;32m~/Documents/miniconda3/envs/bm/lib/python3.11/site-packages/pandas/compat/_optional.py:135\u001b[0m, in \u001b[0;36mimport_optional_dependency\u001b[0;34m(name, extra, errors, min_version)\u001b[0m\n\u001b[1;32m    134\u001b[0m \u001b[38;5;28;01mtry\u001b[39;00m:\n\u001b[0;32m--> 135\u001b[0m     module \u001b[38;5;241m=\u001b[39m \u001b[43mimportlib\u001b[49m\u001b[38;5;241;43m.\u001b[39;49m\u001b[43mimport_module\u001b[49m\u001b[43m(\u001b[49m\u001b[43mname\u001b[49m\u001b[43m)\u001b[49m\n\u001b[1;32m    136\u001b[0m \u001b[38;5;28;01mexcept\u001b[39;00m \u001b[38;5;167;01mImportError\u001b[39;00m:\n",
      "File \u001b[0;32m~/Documents/miniconda3/envs/bm/lib/python3.11/importlib/__init__.py:126\u001b[0m, in \u001b[0;36mimport_module\u001b[0;34m(name, package)\u001b[0m\n\u001b[1;32m    125\u001b[0m         level \u001b[38;5;241m+\u001b[39m\u001b[38;5;241m=\u001b[39m \u001b[38;5;241m1\u001b[39m\n\u001b[0;32m--> 126\u001b[0m \u001b[38;5;28;01mreturn\u001b[39;00m \u001b[43m_bootstrap\u001b[49m\u001b[38;5;241;43m.\u001b[39;49m\u001b[43m_gcd_import\u001b[49m\u001b[43m(\u001b[49m\u001b[43mname\u001b[49m\u001b[43m[\u001b[49m\u001b[43mlevel\u001b[49m\u001b[43m:\u001b[49m\u001b[43m]\u001b[49m\u001b[43m,\u001b[49m\u001b[43m \u001b[49m\u001b[43mpackage\u001b[49m\u001b[43m,\u001b[49m\u001b[43m \u001b[49m\u001b[43mlevel\u001b[49m\u001b[43m)\u001b[49m\n",
      "File \u001b[0;32m<frozen importlib._bootstrap>:1204\u001b[0m, in \u001b[0;36m_gcd_import\u001b[0;34m(name, package, level)\u001b[0m\n",
      "File \u001b[0;32m<frozen importlib._bootstrap>:1176\u001b[0m, in \u001b[0;36m_find_and_load\u001b[0;34m(name, import_)\u001b[0m\n",
      "File \u001b[0;32m<frozen importlib._bootstrap>:1140\u001b[0m, in \u001b[0;36m_find_and_load_unlocked\u001b[0;34m(name, import_)\u001b[0m\n",
      "\u001b[0;31mModuleNotFoundError\u001b[0m: No module named 'tabulate'",
      "\nDuring handling of the above exception, another exception occurred:\n",
      "\u001b[0;31mImportError\u001b[0m                               Traceback (most recent call last)",
      "Cell \u001b[0;32mIn[7], line 1\u001b[0m\n\u001b[0;32m----> 1\u001b[0m \u001b[43mpd\u001b[49m\u001b[38;5;241;43m.\u001b[39;49m\u001b[43mDataFrame\u001b[49m\u001b[43m(\u001b[49m\u001b[43msearch\u001b[49m\u001b[38;5;241;43m.\u001b[39;49m\u001b[43mresult_table\u001b[49m\u001b[43m)\u001b[49m\u001b[38;5;241;43m.\u001b[39;49m\u001b[43mto_markdown\u001b[49m\u001b[43m(\u001b[49m\u001b[43m)\u001b[49m\n",
      "File \u001b[0;32m~/Documents/miniconda3/envs/bm/lib/python3.11/site-packages/pandas/util/_decorators.py:333\u001b[0m, in \u001b[0;36mdeprecate_nonkeyword_arguments.<locals>.decorate.<locals>.wrapper\u001b[0;34m(*args, **kwargs)\u001b[0m\n\u001b[1;32m    327\u001b[0m \u001b[38;5;28;01mif\u001b[39;00m \u001b[38;5;28mlen\u001b[39m(args) \u001b[38;5;241m>\u001b[39m num_allow_args:\n\u001b[1;32m    328\u001b[0m     warnings\u001b[38;5;241m.\u001b[39mwarn(\n\u001b[1;32m    329\u001b[0m         msg\u001b[38;5;241m.\u001b[39mformat(arguments\u001b[38;5;241m=\u001b[39m_format_argument_list(allow_args)),\n\u001b[1;32m    330\u001b[0m         \u001b[38;5;167;01mFutureWarning\u001b[39;00m,\n\u001b[1;32m    331\u001b[0m         stacklevel\u001b[38;5;241m=\u001b[39mfind_stack_level(),\n\u001b[1;32m    332\u001b[0m     )\n\u001b[0;32m--> 333\u001b[0m \u001b[38;5;28;01mreturn\u001b[39;00m \u001b[43mfunc\u001b[49m\u001b[43m(\u001b[49m\u001b[38;5;241;43m*\u001b[39;49m\u001b[43margs\u001b[49m\u001b[43m,\u001b[49m\u001b[43m \u001b[49m\u001b[38;5;241;43m*\u001b[39;49m\u001b[38;5;241;43m*\u001b[39;49m\u001b[43mkwargs\u001b[49m\u001b[43m)\u001b[49m\n",
      "File \u001b[0;32m~/Documents/miniconda3/envs/bm/lib/python3.11/site-packages/pandas/core/frame.py:2983\u001b[0m, in \u001b[0;36mDataFrame.to_markdown\u001b[0;34m(self, buf, mode, index, storage_options, **kwargs)\u001b[0m\n\u001b[1;32m   2981\u001b[0m kwargs\u001b[38;5;241m.\u001b[39msetdefault(\u001b[38;5;124m\"\u001b[39m\u001b[38;5;124mtablefmt\u001b[39m\u001b[38;5;124m\"\u001b[39m, \u001b[38;5;124m\"\u001b[39m\u001b[38;5;124mpipe\u001b[39m\u001b[38;5;124m\"\u001b[39m)\n\u001b[1;32m   2982\u001b[0m kwargs\u001b[38;5;241m.\u001b[39msetdefault(\u001b[38;5;124m\"\u001b[39m\u001b[38;5;124mshowindex\u001b[39m\u001b[38;5;124m\"\u001b[39m, index)\n\u001b[0;32m-> 2983\u001b[0m tabulate \u001b[38;5;241m=\u001b[39m \u001b[43mimport_optional_dependency\u001b[49m\u001b[43m(\u001b[49m\u001b[38;5;124;43m\"\u001b[39;49m\u001b[38;5;124;43mtabulate\u001b[39;49m\u001b[38;5;124;43m\"\u001b[39;49m\u001b[43m)\u001b[49m\n\u001b[1;32m   2984\u001b[0m result \u001b[38;5;241m=\u001b[39m tabulate\u001b[38;5;241m.\u001b[39mtabulate(\u001b[38;5;28mself\u001b[39m, \u001b[38;5;241m*\u001b[39m\u001b[38;5;241m*\u001b[39mkwargs)\n\u001b[1;32m   2985\u001b[0m \u001b[38;5;28;01mif\u001b[39;00m buf \u001b[38;5;129;01mis\u001b[39;00m \u001b[38;5;28;01mNone\u001b[39;00m:\n",
      "File \u001b[0;32m~/Documents/miniconda3/envs/bm/lib/python3.11/site-packages/pandas/compat/_optional.py:138\u001b[0m, in \u001b[0;36mimport_optional_dependency\u001b[0;34m(name, extra, errors, min_version)\u001b[0m\n\u001b[1;32m    136\u001b[0m \u001b[38;5;28;01mexcept\u001b[39;00m \u001b[38;5;167;01mImportError\u001b[39;00m:\n\u001b[1;32m    137\u001b[0m     \u001b[38;5;28;01mif\u001b[39;00m errors \u001b[38;5;241m==\u001b[39m \u001b[38;5;124m\"\u001b[39m\u001b[38;5;124mraise\u001b[39m\u001b[38;5;124m\"\u001b[39m:\n\u001b[0;32m--> 138\u001b[0m         \u001b[38;5;28;01mraise\u001b[39;00m \u001b[38;5;167;01mImportError\u001b[39;00m(msg)\n\u001b[1;32m    139\u001b[0m     \u001b[38;5;28;01mreturn\u001b[39;00m \u001b[38;5;28;01mNone\u001b[39;00m\n\u001b[1;32m    141\u001b[0m \u001b[38;5;66;03m# Handle submodules: if we have submodule, grab parent module from sys.modules\u001b[39;00m\n",
      "\u001b[0;31mImportError\u001b[0m: Missing optional dependency 'tabulate'.  Use pip or conda to install tabulate."
     ]
    }
   ],
   "source": [
    "pd.DataFrame(search.result_table).to_markdown()"
   ]
  },
  {
   "cell_type": "markdown",
   "metadata": {},
   "source": [
    "### Download the time-series for a particular indicator using a search result displayed in yur search results table."
   ]
  },
  {
   "cell_type": "code",
   "execution_count": null,
   "metadata": {},
   "outputs": [
    {
     "name": "stdout",
     "output_type": "stream",
     "text": [
      "Attempting to scrape data for result  5 ,  australia consumer confidence financial expectations\n",
      "Scraping data from: https://tradingeconomics.com/australia/consumer-confidence-financial-expectations\n"
     ]
    },
    {
     "name": "stderr",
     "output_type": "stream",
     "text": [
      "INFO - Page at https://tradingeconomics.com/australia/consumer-confidence-financial-expectations loaded successfully.\n",
      "INFO - Button clicked successfully, waiting 2s for response...\n"
     ]
    },
    {
     "name": "stdout",
     "output_type": "stream",
     "text": [
      "Clicked the MAX button successfully.\n",
      "yax:  [40.0, 335.0]\n",
      "xax:  [25.0, 690.0]\n",
      "Successfully scraped y-axis values from the chart:  \n",
      " pixheight\n",
      "39.5      75\n",
      "85.5      84\n",
      "135.5     93\n",
      "185.5    102\n",
      "235.5    111\n",
      "285.5    120\n",
      "335.5    128\n",
      "Name: ytick_label, dtype: int64\n",
      "Successfully scraped raw pixel co-ordinate series from the path element in chart:  \n",
      " 0.000000      170.774783\n",
      "0.000000      170.774783\n",
      "0.765150      173.390492\n",
      "1.275249      174.713311\n",
      "1.802352      176.080224\n",
      "                 ...    \n",
      "663.197648    195.053840\n",
      "663.724751    195.053840\n",
      "664.234850    195.053840\n",
      "665.000000    170.775340\n",
      "665.000000    170.775340\n",
      "Name: Extracted Series, Length: 1543, dtype: float64\n",
      "Using selenium and toltip scraping to construct the date time index for the time-series, this'll take a bit...\n",
      "Viewport dimensions: 1366 x 683\n",
      "Chart position in viewport: x=144.0, y=354.0\n",
      "Error scraping tooltip at (144.0, 501.5), error: object of type 'NoneType' has no len(), moving to next point..\n"
     ]
    },
    {
     "name": "stderr",
     "output_type": "stream",
     "text": [
      "INFO - Points scraped successfully, scraping the last point now at x =  809.0\n",
      "INFO - Scraped 10 data points from the chart, num_points target was 8\n",
      "INFO - Start and end values scraped from tooltips: {'start_date': Timestamp('1974-09-01 00:00:00'), 'end_date': Timestamp('2017-07-01 00:00:00'), 'start_value': 98.4053, 'end_value': 98.4054}\n"
     ]
    },
    {
     "name": "stdout",
     "output_type": "stream",
     "text": [
      "Here's the data points scraped from the chart: \n",
      " [{'viewport_x': 144.0, 'viewport_y': 501.5, 'tooltip_data': '<div class=\"highcharts-tooltip\" style=\"position: absolute; left: 0px; top: 0px; opacity: 1; visibility: inherit;\"><div class=\"highcharts-label highcharts-tooltip-box highcharts-color-none\" style=\"position: absolute; left: 41px; top: 174px; opacity: 1; visibility: inherit;\"><span style=\"position: absolute; font-family: &quot;Lucida Grande&quot;, &quot;Lucida Sans Unicode&quot;, Arial, Helvetica, sans-serif; font-size: 12px; white-space: nowrap; margin-left: 0px; margin-top: 0px; left: 0px; top: 0px; color: rgb(51, 51, 51);\" data-z-index=\"1\"><div class=\"tooltip-box\"><span class=\"tooltip-date\">Sep 1974</span><hr class=\"tooltip-divider\"><span class=\"hawk-tt tooltip-value\" style=\"color: rgb(51, 51, 51);\"> 98.4053</span></div></span></div></div>', 'date': Timestamp('1974-09-01 00:00:00'), 'value': 98.4053}, {'viewport_x': 145.0, 'viewport_y': 501.5, 'tooltip_data': '<div class=\"highcharts-tooltip\" style=\"position: absolute; left: 0px; top: 0px; opacity: 1; visibility: inherit;\"><div class=\"highcharts-label highcharts-tooltip-box highcharts-color-none\" style=\"position: absolute; left: 42px; top: 170px; opacity: 1; visibility: inherit;\"><span style=\"position: absolute; font-family: &quot;Lucida Grande&quot;, &quot;Lucida Sans Unicode&quot;, Arial, Helvetica, sans-serif; font-size: 12px; white-space: nowrap; margin-left: 0px; margin-top: 0px; left: 0px; top: 0px; color: rgb(51, 51, 51);\" data-z-index=\"1\"><div class=\"tooltip-box\"><span class=\"tooltip-date\">Oct 1974</span><hr class=\"tooltip-divider\"><span class=\"hawk-tt tooltip-value\" style=\"color: rgb(51, 51, 51);\"> 99.1129</span></div></span></div></div>', 'date': Timestamp('1974-10-01 00:00:00'), 'value': 99.1129}, {'viewport_x': 146.0, 'viewport_y': 501.5, 'tooltip_data': '<div class=\"highcharts-tooltip\" style=\"position: absolute; left: 0px; top: 0px; opacity: 1; visibility: inherit;\"><div class=\"highcharts-label highcharts-tooltip-box highcharts-color-none\" style=\"position: absolute; left: 44px; top: 167px; opacity: 1; visibility: inherit;\"><span style=\"position: absolute; font-family: &quot;Lucida Grande&quot;, &quot;Lucida Sans Unicode&quot;, Arial, Helvetica, sans-serif; font-size: 12px; white-space: nowrap; margin-left: 0px; margin-top: 0px; left: 0px; top: 0px; color: rgb(51, 51, 51);\" data-z-index=\"1\"><div class=\"tooltip-box\"><span class=\"tooltip-date\">Nov 1974</span><hr class=\"tooltip-divider\"><span class=\"hawk-tt tooltip-value\" style=\"color: rgb(51, 51, 51);\"> 99.6134</span></div></span></div></div>', 'date': Timestamp('1974-11-01 00:00:00'), 'value': 99.6134}, {'viewport_x': 148.0, 'viewport_y': 501.5, 'tooltip_data': '<div class=\"highcharts-tooltip\" style=\"position: absolute; left: 0px; top: 0px; opacity: 1; visibility: inherit;\"><div class=\"highcharts-label highcharts-tooltip-box highcharts-color-none\" style=\"position: absolute; left: 45px; top: 163px; opacity: 1; visibility: inherit;\"><span style=\"position: absolute; font-family: &quot;Lucida Grande&quot;, &quot;Lucida Sans Unicode&quot;, Arial, Helvetica, sans-serif; font-size: 12px; white-space: nowrap; margin-left: 0px; margin-top: 0px; left: 0px; top: 0px; color: rgb(51, 51, 51);\" data-z-index=\"1\"><div class=\"tooltip-box\"><span class=\"tooltip-date\">Dec 1974</span><hr class=\"tooltip-divider\"><span class=\"hawk-tt tooltip-value\" style=\"color: rgb(51, 51, 51);\"> 100.3993</span></div></span></div></div>', 'date': Timestamp('1974-12-01 00:00:00'), 'value': 100.3993}, {'viewport_x': 149.0, 'viewport_y': 501.5, 'tooltip_data': '<div class=\"highcharts-tooltip\" style=\"position: absolute; left: 0px; top: 0px; opacity: 1; visibility: inherit;\"><div class=\"highcharts-label highcharts-tooltip-box highcharts-color-none\" style=\"position: absolute; left: 46px; top: 146px; opacity: 1; visibility: inherit;\"><span style=\"position: absolute; font-family: &quot;Lucida Grande&quot;, &quot;Lucida Sans Unicode&quot;, Arial, Helvetica, sans-serif; font-size: 12px; white-space: nowrap; margin-left: 0px; margin-top: 0px; left: 0px; top: 0px; color: rgb(51, 51, 51);\" data-z-index=\"1\"><div class=\"tooltip-box\"><span class=\"tooltip-date\">Jan 1975</span><hr class=\"tooltip-divider\"><span class=\"hawk-tt tooltip-value\" style=\"color: rgb(51, 51, 51);\"> 103.4748</span></div></span></div></div>', 'date': Timestamp('1975-01-01 00:00:00'), 'value': 103.4748}, {'viewport_x': 150.0, 'viewport_y': 501.5, 'tooltip_data': '<div class=\"highcharts-tooltip\" style=\"position: absolute; left: 0px; top: 0px; opacity: 1; visibility: inherit;\"><div class=\"highcharts-label highcharts-tooltip-box highcharts-color-none\" style=\"position: absolute; left: 48px; top: 99px; opacity: 1; visibility: inherit;\"><span style=\"position: absolute; font-family: &quot;Lucida Grande&quot;, &quot;Lucida Sans Unicode&quot;, Arial, Helvetica, sans-serif; font-size: 12px; white-space: nowrap; margin-left: 0px; margin-top: 0px; left: 0px; top: 0px; color: rgb(51, 51, 51);\" data-z-index=\"1\"><div class=\"tooltip-box\"><span class=\"tooltip-date\">Feb 1975</span><hr class=\"tooltip-divider\"><span class=\"hawk-tt tooltip-value\" style=\"color: rgb(51, 51, 51);\"> 111.8786</span></div></span></div></div>', 'date': Timestamp('1975-02-01 00:00:00'), 'value': 111.8786}, {'viewport_x': 152.0, 'viewport_y': 501.5, 'tooltip_data': '<div class=\"highcharts-tooltip\" style=\"position: absolute; left: 0px; top: 0px; opacity: 1; visibility: inherit;\"><div class=\"highcharts-label highcharts-tooltip-box highcharts-color-none\" style=\"position: absolute; left: 49px; top: 64px; opacity: 1; visibility: inherit;\"><span style=\"position: absolute; font-family: &quot;Lucida Grande&quot;, &quot;Lucida Sans Unicode&quot;, Arial, Helvetica, sans-serif; font-size: 12px; white-space: nowrap; margin-left: 0px; margin-top: 0px; left: 0px; top: 0px; color: rgb(51, 51, 51);\" data-z-index=\"1\"><div class=\"tooltip-box\"><span class=\"tooltip-date\">Mar 1975</span><hr class=\"tooltip-divider\"><span class=\"hawk-tt tooltip-value\" style=\"color: rgb(51, 51, 51);\"> 118.1603</span></div></span></div></div>', 'date': Timestamp('1975-03-01 00:00:00'), 'value': 118.1603}, {'viewport_x': 153.0, 'viewport_y': 501.5, 'tooltip_data': '<div class=\"highcharts-tooltip\" style=\"position: absolute; left: 0px; top: 0px; opacity: 1; visibility: inherit;\"><div class=\"highcharts-label highcharts-tooltip-box highcharts-color-none\" style=\"position: absolute; left: 50px; top: 83px; opacity: 1; visibility: inherit;\"><span style=\"position: absolute; font-family: &quot;Lucida Grande&quot;, &quot;Lucida Sans Unicode&quot;, Arial, Helvetica, sans-serif; font-size: 12px; white-space: nowrap; margin-left: 0px; margin-top: 0px; left: 0px; top: 0px; color: rgb(51, 51, 51);\" data-z-index=\"1\"><div class=\"tooltip-box\"><span class=\"tooltip-date\">Apr 1975</span><hr class=\"tooltip-divider\"><span class=\"hawk-tt tooltip-value\" style=\"color: rgb(51, 51, 51);\"> 114.6531</span></div></span></div></div>', 'date': Timestamp('1975-04-01 00:00:00'), 'value': 114.6531}, {'viewport_x': 154.0, 'viewport_y': 501.5, 'tooltip_data': '<div class=\"highcharts-tooltip\" style=\"position: absolute; left: 0px; top: 0px; opacity: 1; visibility: inherit;\"><div class=\"highcharts-label highcharts-tooltip-box highcharts-color-none\" style=\"position: absolute; left: 51px; top: 102px; opacity: 1; visibility: inherit;\"><span style=\"position: absolute; font-family: &quot;Lucida Grande&quot;, &quot;Lucida Sans Unicode&quot;, Arial, Helvetica, sans-serif; font-size: 12px; white-space: nowrap; margin-left: 0px; margin-top: 0px; left: 0px; top: 0px; color: rgb(51, 51, 51);\" data-z-index=\"1\"><div class=\"tooltip-box\"><span class=\"tooltip-date\">May 1975</span><hr class=\"tooltip-divider\"><span class=\"hawk-tt tooltip-value\" style=\"color: rgb(51, 51, 51);\"> 111.2346</span></div></span></div></div>', 'date': Timestamp('1975-05-01 00:00:00'), 'value': 111.2346}, {'viewport_x': 809.0, 'viewport_y': 501.5, 'tooltip_data': '<div class=\"highcharts-tooltip\" style=\"position: absolute; left: 0px; top: 0px; opacity: 1; visibility: inherit;\"><div class=\"highcharts-label highcharts-tooltip-box highcharts-color-none\" style=\"position: absolute; left: 597px; top: 174px; opacity: 1; visibility: inherit;\"><span style=\"position: absolute; font-family: &quot;Lucida Grande&quot;, &quot;Lucida Sans Unicode&quot;, Arial, Helvetica, sans-serif; font-size: 12px; white-space: nowrap; margin-left: 0px; margin-top: 0px; left: 0px; top: 0px; color: rgb(51, 51, 51);\" data-z-index=\"1\"><div class=\"tooltip-box\"><span class=\"tooltip-date\">Jul 2017</span><hr class=\"tooltip-divider\"><span class=\"hawk-tt tooltip-value\" style=\"color: rgb(51, 51, 51);\"> 98.4054</span></div></span></div></div>', 'date': Timestamp('2017-07-01 00:00:00'), 'value': 98.4054}]\n",
      "\n",
      "Time series frequency appears to be: 31, MS\n",
      "\n",
      "Creating date index for self.series, using start and end dates from tooltips stored in self.start_end.\n",
      "Date index created successfully. Take a look at the final series: \n",
      "\n",
      " 1974-09-01    170.774783\n",
      "1974-10-01    174.713311\n",
      "1974-11-01    178.907667\n",
      "1974-12-01    181.873462\n",
      "1975-01-01    211.770655\n",
      "                 ...    \n",
      "2017-03-01    200.329330\n",
      "2017-04-01    214.390811\n",
      "2017-05-01    177.958311\n",
      "2017-06-01    195.053840\n",
      "2017-07-01    170.775340\n",
      "Freq: MS, Name: consumer confidence financial expectations, Length: 515, dtype: float64\n"
     ]
    },
    {
     "name": "stderr",
     "output_type": "stream",
     "text": [
      "INFO - Successfully scaled series.\n"
     ]
    },
    {
     "name": "stdout",
     "output_type": "stream",
     "text": [
      "Successfully scraped time-series from chart at:  https://tradingeconomics.com/australia/consumer-confidence-financial-expectations  \n",
      " 1974-09-01     98.405300\n",
      "1974-10-01     99.112900\n",
      "1974-11-01     99.866462\n",
      "1974-12-01    100.399300\n",
      "1975-01-01    105.770660\n",
      "                 ...    \n",
      "2017-03-01    103.715100\n",
      "2017-04-01    106.241400\n",
      "2017-05-01     99.695900\n",
      "2017-06-01    102.767300\n",
      "2017-07-01     98.405400\n",
      "Freq: MS, Name: consumer confidence financial expectations, Length: 515, dtype: float64 now getting some metadata...\n",
      "original_source label not found:  {\"'NoneType' object has no attribute 'text'\"}\n",
      "Series metadata:  {'units': '', 'original_source': 'unknown', 'title': 'Australia Consumer Confidence Financial Expectations', 'indicator': 'consumer confidence financial expectations', 'country': 'australia', 'length': 515, 'frequency': 'MS', 'source': 'Trading Economics', 'id': 'australia/consumer-confidence-financial-expectations', 'start_date': '1974-09-01', 'end_date': '2017-07-01', 'min_value': 78.99649999999966, 'max_value': 124.39599999999962}\n",
      "Description card not found:  {\"'NoneType' object has no attribute 'text'\"}\n",
      "Check the metadata:  {'units': '', 'original_source': 'unknown', 'title': 'Australia Consumer Confidence Financial Expectations', 'indicator': 'consumer confidence financial expectations', 'country': 'australia', 'length': 515, 'frequency': 'MS', 'source': 'Trading Economics', 'id': 'australia/consumer-confidence-financial-expectations', 'start_date': '1974-09-01', 'end_date': '2017-07-01', 'min_value': 78.99649999999966, 'max_value': 124.39599999999962} \n",
      "Scraping complete! Happy pirating yo!\n",
      "Data scraped successfully from: https://tradingeconomics.com/australia/consumer-confidence-financial-expectations\n"
     ]
    },
    {
     "data": {
      "text/plain": [
       "<tedata.scraper.TE_Scraper at 0x11caba8d0>"
      ]
     },
     "execution_count": 15,
     "metadata": {},
     "output_type": "execute_result"
    }
   ],
   "source": [
    "search.get_data(5)  ## Using result number 5 in result_table attribute."
   ]
  },
  {
   "cell_type": "markdown",
   "metadata": {},
   "source": [
    "### Plot your downloaded series using plotly to create an interactive chart with tooltips."
   ]
  },
  {
   "cell_type": "code",
   "execution_count": 7,
   "metadata": {},
   "outputs": [
    {
     "data": {
      "application/vnd.plotly.v1+json": {
       "config": {
        "plotlyServerURL": "https://plot.ly"
       },
       "data": [
        {
         "hovertemplate": "variable=consumer confidence<br>index=%{x}<br>value=%{y}<extra></extra>",
         "legendgroup": "consumer confidence",
         "line": {
          "color": "#636efa",
          "dash": "solid"
         },
         "marker": {
          "symbol": "circle"
         },
         "mode": "lines",
         "name": "consumer confidence",
         "orientation": "v",
         "showlegend": true,
         "type": "scatter",
         "x": [
          "1974-09-01T00:00:00",
          "1974-10-01T00:00:00",
          "1974-11-01T00:00:00",
          "1974-12-01T00:00:00",
          "1975-01-01T00:00:00",
          "1975-02-01T00:00:00",
          "1975-03-01T00:00:00",
          "1975-04-01T00:00:00",
          "1975-05-01T00:00:00",
          "1975-06-01T00:00:00",
          "1975-07-01T00:00:00",
          "1975-08-01T00:00:00",
          "1975-09-01T00:00:00",
          "1975-10-01T00:00:00",
          "1975-11-01T00:00:00",
          "1975-12-01T00:00:00",
          "1976-01-01T00:00:00",
          "1976-02-01T00:00:00",
          "1976-03-01T00:00:00",
          "1976-04-01T00:00:00",
          "1976-05-01T00:00:00",
          "1976-06-01T00:00:00",
          "1976-07-01T00:00:00",
          "1976-08-01T00:00:00",
          "1976-09-01T00:00:00",
          "1976-10-01T00:00:00",
          "1976-11-01T00:00:00",
          "1976-12-01T00:00:00",
          "1977-01-01T00:00:00",
          "1977-02-01T00:00:00",
          "1977-03-01T00:00:00",
          "1977-04-01T00:00:00",
          "1977-05-01T00:00:00",
          "1977-06-01T00:00:00",
          "1977-07-01T00:00:00",
          "1977-08-01T00:00:00",
          "1977-09-01T00:00:00",
          "1977-10-01T00:00:00",
          "1977-11-01T00:00:00",
          "1977-12-01T00:00:00",
          "1978-01-01T00:00:00",
          "1978-02-01T00:00:00",
          "1978-03-01T00:00:00",
          "1978-04-01T00:00:00",
          "1978-05-01T00:00:00",
          "1978-06-01T00:00:00",
          "1978-07-01T00:00:00",
          "1978-08-01T00:00:00",
          "1978-09-01T00:00:00",
          "1978-10-01T00:00:00",
          "1978-11-01T00:00:00",
          "1978-12-01T00:00:00",
          "1979-01-01T00:00:00",
          "1979-02-01T00:00:00",
          "1979-03-01T00:00:00",
          "1979-04-01T00:00:00",
          "1979-05-01T00:00:00",
          "1979-06-01T00:00:00",
          "1979-07-01T00:00:00",
          "1979-08-01T00:00:00",
          "1979-09-01T00:00:00",
          "1979-10-01T00:00:00",
          "1979-11-01T00:00:00",
          "1979-12-01T00:00:00",
          "1980-01-01T00:00:00",
          "1980-02-01T00:00:00",
          "1980-03-01T00:00:00",
          "1980-04-01T00:00:00",
          "1980-05-01T00:00:00",
          "1980-06-01T00:00:00",
          "1980-07-01T00:00:00",
          "1980-08-01T00:00:00",
          "1980-09-01T00:00:00",
          "1980-10-01T00:00:00",
          "1980-11-01T00:00:00",
          "1980-12-01T00:00:00",
          "1981-01-01T00:00:00",
          "1981-02-01T00:00:00",
          "1981-03-01T00:00:00",
          "1981-04-01T00:00:00",
          "1981-05-01T00:00:00",
          "1981-06-01T00:00:00",
          "1981-07-01T00:00:00",
          "1981-08-01T00:00:00",
          "1981-09-01T00:00:00",
          "1981-10-01T00:00:00",
          "1981-11-01T00:00:00",
          "1981-12-01T00:00:00",
          "1982-01-01T00:00:00",
          "1982-02-01T00:00:00",
          "1982-03-01T00:00:00",
          "1982-04-01T00:00:00",
          "1982-05-01T00:00:00",
          "1982-06-01T00:00:00",
          "1982-07-01T00:00:00",
          "1982-08-01T00:00:00",
          "1982-09-01T00:00:00",
          "1982-10-01T00:00:00",
          "1982-11-01T00:00:00",
          "1982-12-01T00:00:00",
          "1983-01-01T00:00:00",
          "1983-02-01T00:00:00",
          "1983-03-01T00:00:00",
          "1983-04-01T00:00:00",
          "1983-05-01T00:00:00",
          "1983-06-01T00:00:00",
          "1983-07-01T00:00:00",
          "1983-08-01T00:00:00",
          "1983-09-01T00:00:00",
          "1983-10-01T00:00:00",
          "1983-11-01T00:00:00",
          "1983-12-01T00:00:00",
          "1984-01-01T00:00:00",
          "1984-02-01T00:00:00",
          "1984-03-01T00:00:00",
          "1984-04-01T00:00:00",
          "1984-05-01T00:00:00",
          "1984-06-01T00:00:00",
          "1984-07-01T00:00:00",
          "1984-08-01T00:00:00",
          "1984-09-01T00:00:00",
          "1984-10-01T00:00:00",
          "1984-11-01T00:00:00",
          "1984-12-01T00:00:00",
          "1985-01-01T00:00:00",
          "1985-02-01T00:00:00",
          "1985-03-01T00:00:00",
          "1985-04-01T00:00:00",
          "1985-05-01T00:00:00",
          "1985-06-01T00:00:00",
          "1985-07-01T00:00:00",
          "1985-08-01T00:00:00",
          "1985-09-01T00:00:00",
          "1985-10-01T00:00:00",
          "1985-11-01T00:00:00",
          "1985-12-01T00:00:00",
          "1986-01-01T00:00:00",
          "1986-02-01T00:00:00",
          "1986-03-01T00:00:00",
          "1986-04-01T00:00:00",
          "1986-05-01T00:00:00",
          "1986-06-01T00:00:00",
          "1986-07-01T00:00:00",
          "1986-08-01T00:00:00",
          "1986-09-01T00:00:00",
          "1986-10-01T00:00:00",
          "1986-11-01T00:00:00",
          "1986-12-01T00:00:00",
          "1987-01-01T00:00:00",
          "1987-02-01T00:00:00",
          "1987-03-01T00:00:00",
          "1987-04-01T00:00:00",
          "1987-05-01T00:00:00",
          "1987-06-01T00:00:00",
          "1987-07-01T00:00:00",
          "1987-08-01T00:00:00",
          "1987-09-01T00:00:00",
          "1987-10-01T00:00:00",
          "1987-11-01T00:00:00",
          "1987-12-01T00:00:00",
          "1988-01-01T00:00:00",
          "1988-02-01T00:00:00",
          "1988-03-01T00:00:00",
          "1988-04-01T00:00:00",
          "1988-05-01T00:00:00",
          "1988-06-01T00:00:00",
          "1988-07-01T00:00:00",
          "1988-08-01T00:00:00",
          "1988-09-01T00:00:00",
          "1988-10-01T00:00:00",
          "1988-11-01T00:00:00",
          "1988-12-01T00:00:00",
          "1989-01-01T00:00:00",
          "1989-02-01T00:00:00",
          "1989-03-01T00:00:00",
          "1989-04-01T00:00:00",
          "1989-05-01T00:00:00",
          "1989-06-01T00:00:00",
          "1989-07-01T00:00:00",
          "1989-08-01T00:00:00",
          "1989-09-01T00:00:00",
          "1989-10-01T00:00:00",
          "1989-11-01T00:00:00",
          "1989-12-01T00:00:00",
          "1990-01-01T00:00:00",
          "1990-02-01T00:00:00",
          "1990-03-01T00:00:00",
          "1990-04-01T00:00:00",
          "1990-05-01T00:00:00",
          "1990-06-01T00:00:00",
          "1990-07-01T00:00:00",
          "1990-08-01T00:00:00",
          "1990-09-01T00:00:00",
          "1990-10-01T00:00:00",
          "1990-11-01T00:00:00",
          "1990-12-01T00:00:00",
          "1991-01-01T00:00:00",
          "1991-02-01T00:00:00",
          "1991-03-01T00:00:00",
          "1991-04-01T00:00:00",
          "1991-05-01T00:00:00",
          "1991-06-01T00:00:00",
          "1991-07-01T00:00:00",
          "1991-08-01T00:00:00",
          "1991-09-01T00:00:00",
          "1991-10-01T00:00:00",
          "1991-11-01T00:00:00",
          "1991-12-01T00:00:00",
          "1992-01-01T00:00:00",
          "1992-02-01T00:00:00",
          "1992-03-01T00:00:00",
          "1992-04-01T00:00:00",
          "1992-05-01T00:00:00",
          "1992-06-01T00:00:00",
          "1992-07-01T00:00:00",
          "1992-08-01T00:00:00",
          "1992-09-01T00:00:00",
          "1992-10-01T00:00:00",
          "1992-11-01T00:00:00",
          "1992-12-01T00:00:00",
          "1993-01-01T00:00:00",
          "1993-02-01T00:00:00",
          "1993-03-01T00:00:00",
          "1993-04-01T00:00:00",
          "1993-05-01T00:00:00",
          "1993-06-01T00:00:00",
          "1993-07-01T00:00:00",
          "1993-08-01T00:00:00",
          "1993-09-01T00:00:00",
          "1993-10-01T00:00:00",
          "1993-11-01T00:00:00",
          "1993-12-01T00:00:00",
          "1994-01-01T00:00:00",
          "1994-02-01T00:00:00",
          "1994-03-01T00:00:00",
          "1994-04-01T00:00:00",
          "1994-05-01T00:00:00",
          "1994-06-01T00:00:00",
          "1994-07-01T00:00:00",
          "1994-08-01T00:00:00",
          "1994-09-01T00:00:00",
          "1994-10-01T00:00:00",
          "1994-11-01T00:00:00",
          "1994-12-01T00:00:00",
          "1995-01-01T00:00:00",
          "1995-02-01T00:00:00",
          "1995-03-01T00:00:00",
          "1995-04-01T00:00:00",
          "1995-05-01T00:00:00",
          "1995-06-01T00:00:00",
          "1995-07-01T00:00:00",
          "1995-08-01T00:00:00",
          "1995-09-01T00:00:00",
          "1995-10-01T00:00:00",
          "1995-11-01T00:00:00",
          "1995-12-01T00:00:00",
          "1996-01-01T00:00:00",
          "1996-02-01T00:00:00",
          "1996-03-01T00:00:00",
          "1996-04-01T00:00:00",
          "1996-05-01T00:00:00",
          "1996-06-01T00:00:00",
          "1996-07-01T00:00:00",
          "1996-08-01T00:00:00",
          "1996-09-01T00:00:00",
          "1996-10-01T00:00:00",
          "1996-11-01T00:00:00",
          "1996-12-01T00:00:00",
          "1997-01-01T00:00:00",
          "1997-02-01T00:00:00",
          "1997-03-01T00:00:00",
          "1997-04-01T00:00:00",
          "1997-05-01T00:00:00",
          "1997-06-01T00:00:00",
          "1997-07-01T00:00:00",
          "1997-08-01T00:00:00",
          "1997-09-01T00:00:00",
          "1997-10-01T00:00:00",
          "1997-11-01T00:00:00",
          "1997-12-01T00:00:00",
          "1998-01-01T00:00:00",
          "1998-02-01T00:00:00",
          "1998-03-01T00:00:00",
          "1998-04-01T00:00:00",
          "1998-05-01T00:00:00",
          "1998-06-01T00:00:00",
          "1998-07-01T00:00:00",
          "1998-08-01T00:00:00",
          "1998-09-01T00:00:00",
          "1998-10-01T00:00:00",
          "1998-11-01T00:00:00",
          "1998-12-01T00:00:00",
          "1999-01-01T00:00:00",
          "1999-02-01T00:00:00",
          "1999-03-01T00:00:00",
          "1999-04-01T00:00:00",
          "1999-05-01T00:00:00",
          "1999-06-01T00:00:00",
          "1999-07-01T00:00:00",
          "1999-08-01T00:00:00",
          "1999-09-01T00:00:00",
          "1999-10-01T00:00:00",
          "1999-11-01T00:00:00",
          "1999-12-01T00:00:00",
          "2000-01-01T00:00:00",
          "2000-02-01T00:00:00",
          "2000-03-01T00:00:00",
          "2000-04-01T00:00:00",
          "2000-05-01T00:00:00",
          "2000-06-01T00:00:00",
          "2000-07-01T00:00:00",
          "2000-08-01T00:00:00",
          "2000-09-01T00:00:00",
          "2000-10-01T00:00:00",
          "2000-11-01T00:00:00",
          "2000-12-01T00:00:00",
          "2001-01-01T00:00:00",
          "2001-02-01T00:00:00",
          "2001-03-01T00:00:00",
          "2001-04-01T00:00:00",
          "2001-05-01T00:00:00",
          "2001-06-01T00:00:00",
          "2001-07-01T00:00:00",
          "2001-08-01T00:00:00",
          "2001-09-01T00:00:00",
          "2001-10-01T00:00:00",
          "2001-11-01T00:00:00",
          "2001-12-01T00:00:00",
          "2002-01-01T00:00:00",
          "2002-02-01T00:00:00",
          "2002-03-01T00:00:00",
          "2002-04-01T00:00:00",
          "2002-05-01T00:00:00",
          "2002-06-01T00:00:00",
          "2002-07-01T00:00:00",
          "2002-08-01T00:00:00",
          "2002-09-01T00:00:00",
          "2002-10-01T00:00:00",
          "2002-11-01T00:00:00",
          "2002-12-01T00:00:00",
          "2003-01-01T00:00:00",
          "2003-02-01T00:00:00",
          "2003-03-01T00:00:00",
          "2003-04-01T00:00:00",
          "2003-05-01T00:00:00",
          "2003-06-01T00:00:00",
          "2003-07-01T00:00:00",
          "2003-08-01T00:00:00",
          "2003-09-01T00:00:00",
          "2003-10-01T00:00:00",
          "2003-11-01T00:00:00",
          "2003-12-01T00:00:00",
          "2004-01-01T00:00:00",
          "2004-02-01T00:00:00",
          "2004-03-01T00:00:00",
          "2004-04-01T00:00:00",
          "2004-05-01T00:00:00",
          "2004-06-01T00:00:00",
          "2004-07-01T00:00:00",
          "2004-08-01T00:00:00",
          "2004-09-01T00:00:00",
          "2004-10-01T00:00:00",
          "2004-11-01T00:00:00",
          "2004-12-01T00:00:00",
          "2005-01-01T00:00:00",
          "2005-02-01T00:00:00",
          "2005-03-01T00:00:00",
          "2005-04-01T00:00:00",
          "2005-05-01T00:00:00",
          "2005-06-01T00:00:00",
          "2005-07-01T00:00:00",
          "2005-08-01T00:00:00",
          "2005-09-01T00:00:00",
          "2005-10-01T00:00:00",
          "2005-11-01T00:00:00",
          "2005-12-01T00:00:00",
          "2006-01-01T00:00:00",
          "2006-02-01T00:00:00",
          "2006-03-01T00:00:00",
          "2006-04-01T00:00:00",
          "2006-05-01T00:00:00",
          "2006-06-01T00:00:00",
          "2006-07-01T00:00:00",
          "2006-08-01T00:00:00",
          "2006-09-01T00:00:00",
          "2006-10-01T00:00:00",
          "2006-11-01T00:00:00",
          "2006-12-01T00:00:00",
          "2007-01-01T00:00:00",
          "2007-02-01T00:00:00",
          "2007-03-01T00:00:00",
          "2007-04-01T00:00:00",
          "2007-05-01T00:00:00",
          "2007-06-01T00:00:00",
          "2007-07-01T00:00:00",
          "2007-08-01T00:00:00",
          "2007-09-01T00:00:00",
          "2007-10-01T00:00:00",
          "2007-11-01T00:00:00",
          "2007-12-01T00:00:00",
          "2008-01-01T00:00:00",
          "2008-02-01T00:00:00",
          "2008-03-01T00:00:00",
          "2008-04-01T00:00:00",
          "2008-05-01T00:00:00",
          "2008-06-01T00:00:00",
          "2008-07-01T00:00:00",
          "2008-08-01T00:00:00",
          "2008-09-01T00:00:00",
          "2008-10-01T00:00:00",
          "2008-11-01T00:00:00",
          "2008-12-01T00:00:00",
          "2009-01-01T00:00:00",
          "2009-02-01T00:00:00",
          "2009-03-01T00:00:00",
          "2009-04-01T00:00:00",
          "2009-05-01T00:00:00",
          "2009-06-01T00:00:00",
          "2009-07-01T00:00:00",
          "2009-08-01T00:00:00",
          "2009-09-01T00:00:00",
          "2009-10-01T00:00:00",
          "2009-11-01T00:00:00",
          "2009-12-01T00:00:00",
          "2010-01-01T00:00:00",
          "2010-02-01T00:00:00",
          "2010-03-01T00:00:00",
          "2010-04-01T00:00:00",
          "2010-05-01T00:00:00",
          "2010-06-01T00:00:00",
          "2010-07-01T00:00:00",
          "2010-08-01T00:00:00",
          "2010-09-01T00:00:00",
          "2010-10-01T00:00:00",
          "2010-11-01T00:00:00",
          "2010-12-01T00:00:00",
          "2011-01-01T00:00:00",
          "2011-02-01T00:00:00",
          "2011-03-01T00:00:00",
          "2011-04-01T00:00:00",
          "2011-05-01T00:00:00",
          "2011-06-01T00:00:00",
          "2011-07-01T00:00:00",
          "2011-08-01T00:00:00",
          "2011-09-01T00:00:00",
          "2011-10-01T00:00:00",
          "2011-11-01T00:00:00",
          "2011-12-01T00:00:00",
          "2012-01-01T00:00:00",
          "2012-02-01T00:00:00",
          "2012-03-01T00:00:00",
          "2012-04-01T00:00:00",
          "2012-05-01T00:00:00",
          "2012-06-01T00:00:00",
          "2012-07-01T00:00:00",
          "2012-08-01T00:00:00",
          "2012-09-01T00:00:00",
          "2012-10-01T00:00:00",
          "2012-11-01T00:00:00",
          "2012-12-01T00:00:00",
          "2013-01-01T00:00:00",
          "2013-02-01T00:00:00",
          "2013-03-01T00:00:00",
          "2013-04-01T00:00:00",
          "2013-05-01T00:00:00",
          "2013-06-01T00:00:00",
          "2013-07-01T00:00:00",
          "2013-08-01T00:00:00",
          "2013-09-01T00:00:00",
          "2013-10-01T00:00:00",
          "2013-11-01T00:00:00",
          "2013-12-01T00:00:00",
          "2014-01-01T00:00:00",
          "2014-02-01T00:00:00",
          "2014-03-01T00:00:00",
          "2014-04-01T00:00:00",
          "2014-05-01T00:00:00",
          "2014-06-01T00:00:00",
          "2014-07-01T00:00:00",
          "2014-08-01T00:00:00",
          "2014-09-01T00:00:00",
          "2014-10-01T00:00:00",
          "2014-11-01T00:00:00",
          "2014-12-01T00:00:00",
          "2015-01-01T00:00:00",
          "2015-02-01T00:00:00",
          "2015-03-01T00:00:00",
          "2015-04-01T00:00:00",
          "2015-05-01T00:00:00",
          "2015-06-01T00:00:00",
          "2015-07-01T00:00:00",
          "2015-08-01T00:00:00",
          "2015-09-01T00:00:00",
          "2015-10-01T00:00:00",
          "2015-11-01T00:00:00",
          "2015-12-01T00:00:00",
          "2016-01-01T00:00:00",
          "2016-02-01T00:00:00",
          "2016-03-01T00:00:00",
          "2016-04-01T00:00:00",
          "2016-05-01T00:00:00",
          "2016-06-01T00:00:00",
          "2016-07-01T00:00:00",
          "2016-08-01T00:00:00",
          "2016-09-01T00:00:00",
          "2016-10-01T00:00:00",
          "2016-11-01T00:00:00",
          "2016-12-01T00:00:00",
          "2017-01-01T00:00:00",
          "2017-02-01T00:00:00",
          "2017-03-01T00:00:00",
          "2017-04-01T00:00:00",
          "2017-05-01T00:00:00",
          "2017-06-01T00:00:00",
          "2017-07-01T00:00:00",
          "2017-08-01T00:00:00",
          "2017-09-01T00:00:00",
          "2017-10-01T00:00:00",
          "2017-11-01T00:00:00",
          "2017-12-01T00:00:00",
          "2018-01-01T00:00:00",
          "2018-02-01T00:00:00",
          "2018-03-01T00:00:00",
          "2018-04-01T00:00:00",
          "2018-05-01T00:00:00",
          "2018-06-01T00:00:00",
          "2018-07-01T00:00:00",
          "2018-08-01T00:00:00",
          "2018-09-01T00:00:00",
          "2018-10-01T00:00:00",
          "2018-11-01T00:00:00",
          "2018-12-01T00:00:00",
          "2019-01-01T00:00:00",
          "2019-02-01T00:00:00",
          "2019-03-01T00:00:00",
          "2019-04-01T00:00:00",
          "2019-05-01T00:00:00",
          "2019-06-01T00:00:00",
          "2019-07-01T00:00:00",
          "2019-08-01T00:00:00",
          "2019-09-01T00:00:00",
          "2019-10-01T00:00:00",
          "2019-11-01T00:00:00",
          "2019-12-01T00:00:00",
          "2020-01-01T00:00:00",
          "2020-02-01T00:00:00",
          "2020-03-01T00:00:00",
          "2020-04-01T00:00:00",
          "2020-05-01T00:00:00",
          "2020-06-01T00:00:00",
          "2020-07-01T00:00:00",
          "2020-08-01T00:00:00",
          "2020-09-01T00:00:00",
          "2020-10-01T00:00:00",
          "2020-11-01T00:00:00",
          "2020-12-01T00:00:00",
          "2021-01-01T00:00:00",
          "2021-02-01T00:00:00",
          "2021-03-01T00:00:00",
          "2021-04-01T00:00:00",
          "2021-05-01T00:00:00",
          "2021-06-01T00:00:00",
          "2021-07-01T00:00:00",
          "2021-08-01T00:00:00",
          "2021-09-01T00:00:00",
          "2021-10-01T00:00:00",
          "2021-11-01T00:00:00",
          "2021-12-01T00:00:00",
          "2022-01-01T00:00:00",
          "2022-02-01T00:00:00",
          "2022-03-01T00:00:00",
          "2022-04-01T00:00:00",
          "2022-05-01T00:00:00",
          "2022-06-01T00:00:00",
          "2022-07-01T00:00:00",
          "2022-08-01T00:00:00",
          "2022-09-01T00:00:00",
          "2022-10-01T00:00:00",
          "2022-11-01T00:00:00",
          "2022-12-01T00:00:00",
          "2023-01-01T00:00:00",
          "2023-02-01T00:00:00",
          "2023-03-01T00:00:00",
          "2023-04-01T00:00:00",
          "2023-05-01T00:00:00",
          "2023-06-01T00:00:00",
          "2023-07-01T00:00:00",
          "2023-08-01T00:00:00",
          "2023-09-01T00:00:00",
          "2023-10-01T00:00:00",
          "2023-11-01T00:00:00",
          "2023-12-01T00:00:00",
          "2024-01-01T00:00:00",
          "2024-02-01T00:00:00",
          "2024-03-01T00:00:00",
          "2024-04-01T00:00:00",
          "2024-05-01T00:00:00",
          "2024-06-01T00:00:00",
          "2024-07-01T00:00:00",
          "2024-08-01T00:00:00",
          "2024-09-01T00:00:00",
          "2024-10-01T00:00:00",
          "2024-11-01T00:00:00",
          "2024-12-01T00:00:00",
          "2025-01-01T00:00:00"
         ],
         "xaxis": "x",
         "y": [
          90.7,
          91.29999999999899,
          91.99672131147429,
          92.29999999999885,
          100.81999999999924,
          109.99423728813397,
          114.19999999999915,
          110.90000000000006,
          107.59999999999864,
          104.19999999999817,
          103.09999999999926,
          101.999999999998,
          100.80000000000004,
          101.89999999999895,
          103.0000000000002,
          108.29999999999902,
          111.69999999999949,
          109.41066666666478,
          107.09999999999872,
          110.1999999999997,
          107.29999999999916,
          106.49999999999973,
          105.79999999999936,
          106.79999999999922,
          108.17377049180269,
          108.6999999999999,
          101.39999999999901,
          102.79999999999976,
          102.11999999999874,
          100.67864406779577,
          98.59999999999987,
          101.999999999998,
          104.09999999999913,
          103.89999999999868,
          99.49999999999834,
          104.89999999999854,
          104.62131147540822,
          104.5,
          110.9934426229519,
          112.6000000000003,
          115.3999999999999,
          119.09999999999943,
          114.89999999999952,
          110.90000000000006,
          109.49999999999932,
          105.7000000000003,
          101.7999999999999,
          91.49999999999943,
          97.99999999999855,
          104.5,
          103.79999999999963,
          105.79999999999936,
          106.39999999999834,
          109.9000000000002,
          105.9999999999998,
          109.59999999999836,
          101.09999999999953,
          92.49999999999929,
          90.39999999999817,
          94.7999999999985,
          99.30000000000024,
          97.69999999999905,
          98.80000000000031,
          98.99999999999841,
          97.39999999999957,
          100.67666666666486,
          100.89999999999908,
          97.19999999999912,
          99.49999999999834,
          101.69999999999851,
          97.99999999999855,
          101.19999999999857,
          106.15245901639342,
          109.59999999999836,
          106.49999999999973,
          111.03672131147432,
          112.09999999999803,
          112.4999999999989,
          111.5999999999981,
          106.70000000000017,
          101.7999999999999,
          100.69999999999864,
          94.99999999999895,
          92.40000000000023,
          96.42131147540826,
          98.09999999999992,
          98.29999999999804,
          95.39999999999984,
          90.59999999999862,
          92.1999999999998,
          91.79999999999892,
          93.5999999999982,
          92.99999999999922,
          92.40000000000023,
          80.19999999999908,
          84.59999999999943,
          82.69999999999874,
          80.89999999999922,
          75.49999999999925,
          81.69999999999912,
          87.99999999999986,
          94.92101694913868,
          97.49999999999861,
          99.30000000000024,
          97.29999999999818,
          95.19999999999939,
          98.29999999999804,
          100.69999999999864,
          103.59999999999918,
          106.39999999999834,
          113.19999999999929,
          118.79999999999994,
          122.19999999999807,
          120.79999999999966,
          120.79999999999966,
          120.59999999999921,
          118.09999999999957,
          115.49999999999852,
          116.69999999999882,
          118.19999999999861,
          117.80163934426162,
          117.69999999999868,
          115.350819672128,
          113.6478688524573,
          112.29999999999848,
          112.39999999999986,
          109.99999999999925,
          99.3999999999993,
          98.69999999999892,
          97.99999999999855,
          100.5999999999996,
          106.89999999999827,
          107.45737704917954,
          107.70000000000003,
          94.69999999999946,
          102.79999999999976,
          102.79999999999976,
          104.5,
          103.59999999999918,
          94.59999999999806,
          95.099999999998,
          91.79999999999892,
          79.79999999999914,
          79.59999999999917,
          78.69999999999905,
          89.89999999999824,
          85.79999999999973,
          88.89999999999837,
          87.75999999999985,
          87.453220338981,
          86.6999999999982,
          90.49999999999956,
          91.59999999999847,
          93.29999999999872,
          98.69999999999892,
          96.19999999999925,
          94.89999999999989,
          103.89999999999868,
          87.49999999999997,
          93.29999999999872,
          97.60000000000001,
          99.79999999999782,
          103.50000000000014,
          105.9999999999998,
          104.00000000000006,
          104.09999999999913,
          107.4999999999996,
          108.29999999999902,
          112.19999999999942,
          108.79999999999895,
          104.19999999999817,
          105.9999999999998,
          99.53999999998966,
          92.13728813559474,
          88.29999999999939,
          88.49999999999983,
          87.19999999999814,
          72.79999999999916,
          72.89999999999914,
          78.79999999999905,
          82.09999999999906,
          78.99999999999925,
          80.69999999999926,
          80.0999999999991,
          81.2999999999994,
          87.79999999999946,
          86.89999999999864,
          73.99999999999922,
          69.79999999999909,
          71.39999999999912,
          74.49999999999915,
          69.79999999999909,
          67.39999999999918,
          65.99999999999915,
          64.5999999999991,
          68.09999999999908,
          72.59999999999917,
          70.99999999999916,
          79.79999999999914,
          80.29999999999907,
          79.29999999999922,
          83.59999999999957,
          85.39999999999885,
          84.49999999999804,
          85.79999999999973,
          88.39999999999844,
          82.4999999999983,
          80.69999999999926,
          78.09999999999914,
          90.74200000000158,
          92.79999999999878,
          93.90000000000003,
          91.49999999999943,
          82.5999999999997,
          79.89999999999912,
          89.09999999999881,
          85.89999999999878,
          94.89999999999989,
          84.19999999999854,
          84.19999999999854,
          92.99999999999922,
          90.99999999999949,
          98.80000000000031,
          97.60000000000001,
          97.19999999999912,
          85.69999999999834,
          90.29999999999912,
          95.39999999999984,
          88.29999999999939,
          98.69999999999892,
          105.49999999999987,
          105.49999999999987,
          113.699999999989,
          118.68305084746461,
          122.99999999999983,
          120.50000000000017,
          121.39999999999866,
          122.59999999999896,
          119.59999999999935,
          116.49999999999837,
          113.39999999999972,
          107.4999999999996,
          107.59999999999864,
          106.39999999999834,
          96.69999999999918,
          94.29999999999858,
          102.79999999999976,
          110.59999999999823,
          102.79999999999976,
          104.09999999999913,
          101.49999999999807,
          101.999999999998,
          101.19999999999857,
          101.49999999999807,
          103.50000000000014,
          103.09999999999926,
          105.09999999999899,
          109.9140000000015,
          114.99999999999858,
          111.89999999999995,
          111.79999999999855,
          109.19999999999983,
          103.09999999999926,
          104.09999999999913,
          103.69999999999824,
          102.59999999999931,
          107.59999999999864,
          102.09999999999938,
          105.59999999999891,
          104.19999999999817,
          107.4999999999996,
          103.59999999999918,
          100.99999999999814,
          100.19999999999871,
          98.80000000000031,
          101.69999999999851,
          102.69999999999838,
          102.79999999999976,
          106.09999999999884,
          100.89999999999908,
          102.49999999999794,
          108.6999999999999,
          101.999999999998,
          104.39999999999861,
          103.69999999999824,
          93.99999999999909,
          99.99999999999827,
          101.19999999999857,
          100.3000000000001,
          99.89999999999922,
          103.69999999999824,
          102.39999999999888,
          111.5999999999981,
          116.80000000000021,
          113.49999999999879,
          115.19999999999902,
          115.5999999999999,
          111.19999999999956,
          112.09999999999803,
          109.29999999999887,
          111.69999999999949,
          112.99999999999885,
          112.89999999999979,
          105.79999999999936,
          109.69999999999976,
          102.19999999999844,
          102.89999999999881,
          98.49999999999848,
          94.7999999999985,
          97.8999999999995,
          108.99999999999939,
          113.60000000000016,
          99.76557377049704,
          99.69999999999878,
          96.19999999999925,
          99.19999999999885,
          100.4000000000015,
          102.69999999999838,
          89.09999999999881,
          90.20000000000006,
          94.99999999999895,
          105.9999999999998,
          108.19999999999996,
          105.19999999999803,
          107.59999999999864,
          99.49999999999834,
          101.999999999998,
          106.79999999999922,
          111.4799999999983,
          115.1616949152451,
          117.80000000000007,
          111.5999999999981,
          110.29999999999875,
          110.79999999999868,
          109.40000000000026,
          105.59999999999891,
          106.59999999999879,
          102.19999999999844,
          105.59999999999891,
          105.49999999999987,
          106.39999999999834,
          99.89999999999922,
          99.89999999999922,
          109.59999999999836,
          110.29999999999875,
          114.2999999999982,
          115.99999999999844,
          112.69999999999936,
          114.3999999999996,
          117.39999999999918,
          113.39999999999972,
          111.19999999999956,
          114.1000000000001,
          118.99999999999802,
          115.8999999999994,
          116.80000000000021,
          115.799999999998,
          112.89999999999979,
          119.39999999999891,
          119.50000000000031,
          119.89999999999884,
          118.39999999999907,
          119.69999999999841,
          116.30000000000028,
          123.09999999999889,
          123.09999999999889,
          104.00000000000006,
          105.79999999999936,
          114.3999999999996,
          111.89999999999995,
          107.4999999999996,
          115.799999999998,
          98.89999999999935,
          98.19999999999898,
          105.79999999999936,
          102.50000000000027,
          107.27999999999982,
          108.90610169491231,
          111.49999999999906,
          111.4,
          104.29999999999956,
          103.79999999999963,
          107.3999999999982,
          89.99999999999963,
          101.19999999999857,
          105.19999999999803,
          94.99999999999895,
          106.20000000000024,
          109.59999999999836,
          112.51999999999916,
          115.49999999999852,
          115.29999999999806,
          123.8999999999983,
          121.50000000000003,
          120.79999999999966,
          111.09999999999818,
          115.69999999999894,
          115.29999999999806,
          110.49999999999918,
          112.4999999999989,
          103.09999999999926,
          94.5966666666503,
          88.59999999999889,
          87.39999999999857,
          89.79999999999919,
          84.69999999999848,
          78.99999999999925,
          86.19999999999827,
          92.1999999999998,
          81.99999999999908,
          87.46721311475075,
          91.99999999999936,
          88.66000000000389,
          85.59999999999928,
          85.59999999999928,
          92.69999999999973,
          88.79999999999932,
          100.09999999999967,
          109.40000000000026,
          113.39999999999972,
          119.29999999999987,
          121.39999999999866,
          118.30000000000001,
          113.79999999999828,
          120.09999999999928,
          116.9999999999983,
          117.30000000000013,
          116.09999999999982,
          107.99999999999952,
          101.89999999999895,
          113.10000000000025,
          119.19999999999847,
          113.19999999999929,
          116.9999999999983,
          110.69999999999962,
          110.99999999999912,
          104.6999999999981,
          106.59999999999879,
          104.09999999999913,
          105.29999999999943,
          103.89999999999868,
          101.19999999999857,
          92.90000000000018,
          89.59999999999874,
          96.89999999999962,
          97.29999999999818,
          103.39999999999874,
          94.7999999999985,
          97.10000000000007,
          101.09999999999953,
          96.10000000000021,
          94.49999999999902,
          95.29999999999843,
          95.60000000000026,
          99.0999999999998,
          96.60000000000014,
          98.19999999999898,
          99.19999999999885,
          104.29999999999956,
          99.99999999999827,
          101.20000000000091,
          110.17932203390427,
          110.49999999999918,
          104.89999999999854,
          97.60000000000001,
          102.19999999999844,
          102.09999999999938,
          105.7000000000003,
          110.59999999999823,
          108.29999999999902,
          110.40000000000012,
          104.99999999999993,
          103.2999999999997,
          99.49999999999834,
          99.49999999999834,
          99.69999999999878,
          92.90000000000018,
          93.19999999999966,
          94.89999999999989,
          98.49999999999848,
          93.99999999999909,
          94.7999999999985,
          96.60000000000014,
          91.09999999999854,
          93.19999999999966,
          100.69999999999864,
          99.49999999999834,
          96.2999999999983,
          102.39999999999888,
          95.29999999999843,
          92.29999999999885,
          99.49999999999834,
          93.90000000000003,
          97.79999999999811,
          101.69999999999851,
          100.80000000000004,
          97.29999999999818,
          101.29999999999997,
          99.0999999999998,
          95.099999999998,
          103.1999999999983,
          102.19999999999844,
          99.0999999999998,
          100.99999999999814,
          101.39999999999901,
          102.39999999999888,
          101.29999999999997,
          97.29999999999818,
          97.50000000000095,
          99.69999999999878,
          99.69999999999878,
          98.99999999999841,
          97.99999999999855,
          96.19999999999925,
          96.60000000000014,
          95.49999999999888,
          97.8999999999995,
          101.39999999999901,
          99.69999999999878,
          103.2999999999997,
          105.09999999999899,
          102.79999999999976,
          103.0000000000002,
          102.39999999999888,
          101.7999999999999,
          102.09999999999938,
          106.09999999999884,
          103.59999999999918,
          100.49999999999821,
          101.49999999999807,
          104.29999999999956,
          104.39999999999861,
          99.59999999999972,
          103.79999999999963,
          98.80000000000031,
          100.69999999999864,
          101.29999999999997,
          100.69999999999864,
          96.49999999999875,
          99.99999999999827,
          98.19999999999898,
          92.79999999999878,
          96.99999999999868,
          95.099999999998,
          93.4000000000001,
          95.49999999999888,
          91.9000000000003,
          75.59999999999924,
          88.09999999999894,
          93.69999999999959,
          87.8999999999985,
          79.49999999999918,
          93.90000000000003,
          104.99999999999993,
          107.70000000000003,
          111.99999999999898,
          106.99999999999966,
          110.0111864406754,
          111.79999999999855,
          118.79999999999994,
          113.10000000000025,
          107.2000000000001,
          108.899999999998,
          104.09999999999913,
          106.20000000000024,
          104.59999999999904,
          105.29999999999943,
          104.29999999999956,
          102.19999999999844,
          99.73694915254349,
          96.60000000000014,
          95.79999999999836,
          90.39999999999817,
          86.39999999999871,
          83.8,
          81.19999999999918,
          84.49999999999804,
          83.69999999999861,
          77.99999999999915,
          80.29999999999907,
          84.29999999999994,
          78.49999999999908,
          78.49999999999908,
          85.79999999999973,
          78.99999999999925,
          79.19999999999922,
          81.29999999999917,
          80.9999999999992,
          79.69999999999915,
          81.99999999999908,
          79.89999999999912,
          82.09999999999906,
          80.9999999999992,
          86.00000000000017,
          84.39999999999898,
          82.39999999999925,
          82.19999999999904,
          83.59999999999957,
          82.69999999999874,
          85.00000000000031,
          84.59999999999943,
          89.79999999999919,
          94.59999999999806,
          92.79999999999878,
          92.0999999999984
         ],
         "yaxis": "y"
        }
       ],
       "layout": {
        "legend": {
         "orientation": "h",
         "title": {
          "text": ""
         },
         "tracegroupgap": 0,
         "x": 0.5,
         "xanchor": "center",
         "y": -0.2,
         "yanchor": "bottom"
        },
        "margin": {
         "t": 60
        },
        "template": {
         "data": {
          "bar": [
           {
            "error_x": {
             "color": "#2a3f5f"
            },
            "error_y": {
             "color": "#2a3f5f"
            },
            "marker": {
             "line": {
              "color": "#E5ECF6",
              "width": 0.5
             },
             "pattern": {
              "fillmode": "overlay",
              "size": 10,
              "solidity": 0.2
             }
            },
            "type": "bar"
           }
          ],
          "barpolar": [
           {
            "marker": {
             "line": {
              "color": "#E5ECF6",
              "width": 0.5
             },
             "pattern": {
              "fillmode": "overlay",
              "size": 10,
              "solidity": 0.2
             }
            },
            "type": "barpolar"
           }
          ],
          "carpet": [
           {
            "aaxis": {
             "endlinecolor": "#2a3f5f",
             "gridcolor": "white",
             "linecolor": "white",
             "minorgridcolor": "white",
             "startlinecolor": "#2a3f5f"
            },
            "baxis": {
             "endlinecolor": "#2a3f5f",
             "gridcolor": "white",
             "linecolor": "white",
             "minorgridcolor": "white",
             "startlinecolor": "#2a3f5f"
            },
            "type": "carpet"
           }
          ],
          "choropleth": [
           {
            "colorbar": {
             "outlinewidth": 0,
             "ticks": ""
            },
            "type": "choropleth"
           }
          ],
          "contour": [
           {
            "colorbar": {
             "outlinewidth": 0,
             "ticks": ""
            },
            "colorscale": [
             [
              0,
              "#0d0887"
             ],
             [
              0.1111111111111111,
              "#46039f"
             ],
             [
              0.2222222222222222,
              "#7201a8"
             ],
             [
              0.3333333333333333,
              "#9c179e"
             ],
             [
              0.4444444444444444,
              "#bd3786"
             ],
             [
              0.5555555555555556,
              "#d8576b"
             ],
             [
              0.6666666666666666,
              "#ed7953"
             ],
             [
              0.7777777777777778,
              "#fb9f3a"
             ],
             [
              0.8888888888888888,
              "#fdca26"
             ],
             [
              1,
              "#f0f921"
             ]
            ],
            "type": "contour"
           }
          ],
          "contourcarpet": [
           {
            "colorbar": {
             "outlinewidth": 0,
             "ticks": ""
            },
            "type": "contourcarpet"
           }
          ],
          "heatmap": [
           {
            "colorbar": {
             "outlinewidth": 0,
             "ticks": ""
            },
            "colorscale": [
             [
              0,
              "#0d0887"
             ],
             [
              0.1111111111111111,
              "#46039f"
             ],
             [
              0.2222222222222222,
              "#7201a8"
             ],
             [
              0.3333333333333333,
              "#9c179e"
             ],
             [
              0.4444444444444444,
              "#bd3786"
             ],
             [
              0.5555555555555556,
              "#d8576b"
             ],
             [
              0.6666666666666666,
              "#ed7953"
             ],
             [
              0.7777777777777778,
              "#fb9f3a"
             ],
             [
              0.8888888888888888,
              "#fdca26"
             ],
             [
              1,
              "#f0f921"
             ]
            ],
            "type": "heatmap"
           }
          ],
          "heatmapgl": [
           {
            "colorbar": {
             "outlinewidth": 0,
             "ticks": ""
            },
            "colorscale": [
             [
              0,
              "#0d0887"
             ],
             [
              0.1111111111111111,
              "#46039f"
             ],
             [
              0.2222222222222222,
              "#7201a8"
             ],
             [
              0.3333333333333333,
              "#9c179e"
             ],
             [
              0.4444444444444444,
              "#bd3786"
             ],
             [
              0.5555555555555556,
              "#d8576b"
             ],
             [
              0.6666666666666666,
              "#ed7953"
             ],
             [
              0.7777777777777778,
              "#fb9f3a"
             ],
             [
              0.8888888888888888,
              "#fdca26"
             ],
             [
              1,
              "#f0f921"
             ]
            ],
            "type": "heatmapgl"
           }
          ],
          "histogram": [
           {
            "marker": {
             "pattern": {
              "fillmode": "overlay",
              "size": 10,
              "solidity": 0.2
             }
            },
            "type": "histogram"
           }
          ],
          "histogram2d": [
           {
            "colorbar": {
             "outlinewidth": 0,
             "ticks": ""
            },
            "colorscale": [
             [
              0,
              "#0d0887"
             ],
             [
              0.1111111111111111,
              "#46039f"
             ],
             [
              0.2222222222222222,
              "#7201a8"
             ],
             [
              0.3333333333333333,
              "#9c179e"
             ],
             [
              0.4444444444444444,
              "#bd3786"
             ],
             [
              0.5555555555555556,
              "#d8576b"
             ],
             [
              0.6666666666666666,
              "#ed7953"
             ],
             [
              0.7777777777777778,
              "#fb9f3a"
             ],
             [
              0.8888888888888888,
              "#fdca26"
             ],
             [
              1,
              "#f0f921"
             ]
            ],
            "type": "histogram2d"
           }
          ],
          "histogram2dcontour": [
           {
            "colorbar": {
             "outlinewidth": 0,
             "ticks": ""
            },
            "colorscale": [
             [
              0,
              "#0d0887"
             ],
             [
              0.1111111111111111,
              "#46039f"
             ],
             [
              0.2222222222222222,
              "#7201a8"
             ],
             [
              0.3333333333333333,
              "#9c179e"
             ],
             [
              0.4444444444444444,
              "#bd3786"
             ],
             [
              0.5555555555555556,
              "#d8576b"
             ],
             [
              0.6666666666666666,
              "#ed7953"
             ],
             [
              0.7777777777777778,
              "#fb9f3a"
             ],
             [
              0.8888888888888888,
              "#fdca26"
             ],
             [
              1,
              "#f0f921"
             ]
            ],
            "type": "histogram2dcontour"
           }
          ],
          "mesh3d": [
           {
            "colorbar": {
             "outlinewidth": 0,
             "ticks": ""
            },
            "type": "mesh3d"
           }
          ],
          "parcoords": [
           {
            "line": {
             "colorbar": {
              "outlinewidth": 0,
              "ticks": ""
             }
            },
            "type": "parcoords"
           }
          ],
          "pie": [
           {
            "automargin": true,
            "type": "pie"
           }
          ],
          "scatter": [
           {
            "fillpattern": {
             "fillmode": "overlay",
             "size": 10,
             "solidity": 0.2
            },
            "type": "scatter"
           }
          ],
          "scatter3d": [
           {
            "line": {
             "colorbar": {
              "outlinewidth": 0,
              "ticks": ""
             }
            },
            "marker": {
             "colorbar": {
              "outlinewidth": 0,
              "ticks": ""
             }
            },
            "type": "scatter3d"
           }
          ],
          "scattercarpet": [
           {
            "marker": {
             "colorbar": {
              "outlinewidth": 0,
              "ticks": ""
             }
            },
            "type": "scattercarpet"
           }
          ],
          "scattergeo": [
           {
            "marker": {
             "colorbar": {
              "outlinewidth": 0,
              "ticks": ""
             }
            },
            "type": "scattergeo"
           }
          ],
          "scattergl": [
           {
            "marker": {
             "colorbar": {
              "outlinewidth": 0,
              "ticks": ""
             }
            },
            "type": "scattergl"
           }
          ],
          "scattermapbox": [
           {
            "marker": {
             "colorbar": {
              "outlinewidth": 0,
              "ticks": ""
             }
            },
            "type": "scattermapbox"
           }
          ],
          "scatterpolar": [
           {
            "marker": {
             "colorbar": {
              "outlinewidth": 0,
              "ticks": ""
             }
            },
            "type": "scatterpolar"
           }
          ],
          "scatterpolargl": [
           {
            "marker": {
             "colorbar": {
              "outlinewidth": 0,
              "ticks": ""
             }
            },
            "type": "scatterpolargl"
           }
          ],
          "scatterternary": [
           {
            "marker": {
             "colorbar": {
              "outlinewidth": 0,
              "ticks": ""
             }
            },
            "type": "scatterternary"
           }
          ],
          "surface": [
           {
            "colorbar": {
             "outlinewidth": 0,
             "ticks": ""
            },
            "colorscale": [
             [
              0,
              "#0d0887"
             ],
             [
              0.1111111111111111,
              "#46039f"
             ],
             [
              0.2222222222222222,
              "#7201a8"
             ],
             [
              0.3333333333333333,
              "#9c179e"
             ],
             [
              0.4444444444444444,
              "#bd3786"
             ],
             [
              0.5555555555555556,
              "#d8576b"
             ],
             [
              0.6666666666666666,
              "#ed7953"
             ],
             [
              0.7777777777777778,
              "#fb9f3a"
             ],
             [
              0.8888888888888888,
              "#fdca26"
             ],
             [
              1,
              "#f0f921"
             ]
            ],
            "type": "surface"
           }
          ],
          "table": [
           {
            "cells": {
             "fill": {
              "color": "#EBF0F8"
             },
             "line": {
              "color": "white"
             }
            },
            "header": {
             "fill": {
              "color": "#C8D4E3"
             },
             "line": {
              "color": "white"
             }
            },
            "type": "table"
           }
          ]
         },
         "layout": {
          "annotationdefaults": {
           "arrowcolor": "#2a3f5f",
           "arrowhead": 0,
           "arrowwidth": 1
          },
          "autotypenumbers": "strict",
          "coloraxis": {
           "colorbar": {
            "outlinewidth": 0,
            "ticks": ""
           }
          },
          "colorscale": {
           "diverging": [
            [
             0,
             "#8e0152"
            ],
            [
             0.1,
             "#c51b7d"
            ],
            [
             0.2,
             "#de77ae"
            ],
            [
             0.3,
             "#f1b6da"
            ],
            [
             0.4,
             "#fde0ef"
            ],
            [
             0.5,
             "#f7f7f7"
            ],
            [
             0.6,
             "#e6f5d0"
            ],
            [
             0.7,
             "#b8e186"
            ],
            [
             0.8,
             "#7fbc41"
            ],
            [
             0.9,
             "#4d9221"
            ],
            [
             1,
             "#276419"
            ]
           ],
           "sequential": [
            [
             0,
             "#0d0887"
            ],
            [
             0.1111111111111111,
             "#46039f"
            ],
            [
             0.2222222222222222,
             "#7201a8"
            ],
            [
             0.3333333333333333,
             "#9c179e"
            ],
            [
             0.4444444444444444,
             "#bd3786"
            ],
            [
             0.5555555555555556,
             "#d8576b"
            ],
            [
             0.6666666666666666,
             "#ed7953"
            ],
            [
             0.7777777777777778,
             "#fb9f3a"
            ],
            [
             0.8888888888888888,
             "#fdca26"
            ],
            [
             1,
             "#f0f921"
            ]
           ],
           "sequentialminus": [
            [
             0,
             "#0d0887"
            ],
            [
             0.1111111111111111,
             "#46039f"
            ],
            [
             0.2222222222222222,
             "#7201a8"
            ],
            [
             0.3333333333333333,
             "#9c179e"
            ],
            [
             0.4444444444444444,
             "#bd3786"
            ],
            [
             0.5555555555555556,
             "#d8576b"
            ],
            [
             0.6666666666666666,
             "#ed7953"
            ],
            [
             0.7777777777777778,
             "#fb9f3a"
            ],
            [
             0.8888888888888888,
             "#fdca26"
            ],
            [
             1,
             "#f0f921"
            ]
           ]
          },
          "colorway": [
           "#636efa",
           "#EF553B",
           "#00cc96",
           "#ab63fa",
           "#FFA15A",
           "#19d3f3",
           "#FF6692",
           "#B6E880",
           "#FF97FF",
           "#FECB52"
          ],
          "font": {
           "color": "#2a3f5f"
          },
          "geo": {
           "bgcolor": "white",
           "lakecolor": "white",
           "landcolor": "#E5ECF6",
           "showlakes": true,
           "showland": true,
           "subunitcolor": "white"
          },
          "hoverlabel": {
           "align": "left"
          },
          "hovermode": "closest",
          "mapbox": {
           "style": "light"
          },
          "paper_bgcolor": "white",
          "plot_bgcolor": "#E5ECF6",
          "polar": {
           "angularaxis": {
            "gridcolor": "white",
            "linecolor": "white",
            "ticks": ""
           },
           "bgcolor": "#E5ECF6",
           "radialaxis": {
            "gridcolor": "white",
            "linecolor": "white",
            "ticks": ""
           }
          },
          "scene": {
           "xaxis": {
            "backgroundcolor": "#E5ECF6",
            "gridcolor": "white",
            "gridwidth": 2,
            "linecolor": "white",
            "showbackground": true,
            "ticks": "",
            "zerolinecolor": "white"
           },
           "yaxis": {
            "backgroundcolor": "#E5ECF6",
            "gridcolor": "white",
            "gridwidth": 2,
            "linecolor": "white",
            "showbackground": true,
            "ticks": "",
            "zerolinecolor": "white"
           },
           "zaxis": {
            "backgroundcolor": "#E5ECF6",
            "gridcolor": "white",
            "gridwidth": 2,
            "linecolor": "white",
            "showbackground": true,
            "ticks": "",
            "zerolinecolor": "white"
           }
          },
          "shapedefaults": {
           "line": {
            "color": "#2a3f5f"
           }
          },
          "ternary": {
           "aaxis": {
            "gridcolor": "white",
            "linecolor": "white",
            "ticks": ""
           },
           "baxis": {
            "gridcolor": "white",
            "linecolor": "white",
            "ticks": ""
           },
           "bgcolor": "#E5ECF6",
           "caxis": {
            "gridcolor": "white",
            "linecolor": "white",
            "ticks": ""
           }
          },
          "title": {
           "x": 0.05
          },
          "xaxis": {
           "automargin": true,
           "gridcolor": "white",
           "linecolor": "white",
           "ticks": "",
           "title": {
            "standoff": 15
           },
           "zerolinecolor": "white",
           "zerolinewidth": 2
          },
          "yaxis": {
           "automargin": true,
           "gridcolor": "white",
           "linecolor": "white",
           "ticks": "",
           "title": {
            "standoff": 15
           },
           "zerolinecolor": "white",
           "zerolinewidth": 2
          }
         }
        },
        "title": {
         "text": "Australia: Australia consumer confidence"
        },
        "xaxis": {
         "anchor": "y",
         "domain": [
          0,
          1
         ],
         "title": {
          "text": ""
         }
        },
        "yaxis": {
         "anchor": "x",
         "domain": [
          0,
          1
         ],
         "title": {
          "text": "Points"
         }
        }
       }
      }
     },
     "metadata": {},
     "output_type": "display_data"
    }
   ],
   "source": [
    "scraped = search.scraped_data\n",
    "scraped.plot_series()"
   ]
  },
  {
   "cell_type": "markdown",
   "metadata": {},
   "source": [
    "# Method #2: Download data for a given Indicator + Country combination or a given URL with a single line."
   ]
  },
  {
   "cell_type": "code",
   "execution_count": 2,
   "metadata": {},
   "outputs": [
    {
     "name": "stdout",
     "output_type": "stream",
     "text": [
      "Page at  https://tradingeconomics.com/united-states/corporate-profits , loaded successfully.\n",
      "a.hawk-chartOptions-datePicker-cnt-btn:nth-child(4)\n",
      "Button clicked successfully, waiting 2s for response...\n",
      "Clicked the MAX button successfully.\n",
      "yax:  [40.0, 335.0]\n",
      "xax:  [25.0, 684.0]\n",
      "y-axis labels:  [-200.0, 0.0, 600.0, 1200.0, 1800.0, 2400.0, 3000.0, 3400.0]\n",
      "Average px per unit for y-axis:  13.123134968273023\n",
      "Successfully scraped y-axis values from the chart:  \n",
      " pixheight\n",
      "39.5     -200\n",
      "73.5        0\n",
      "122.5     600\n",
      "171.5    1200\n",
      "220.5    1800\n",
      "269.5    2400\n",
      "319.5    3000\n",
      "335.5    3400\n",
      "Name: ytick_label, dtype: int64\n",
      "Successfully scraped raw pixel co-ordinate seruies from the path element in chart:  \n",
      " 0.000000       57.704974\n",
      "0.000000       57.704974\n",
      "1.284991       57.981864\n",
      "2.141651       58.003579\n",
      "2.998311       58.025294\n",
      "                 ...    \n",
      "656.001689    314.322032\n",
      "656.858349    314.322032\n",
      "657.715009    314.322032\n",
      "659.000000    313.252083\n",
      "659.000000    313.252083\n",
      "Name: Extracted Series, Length: 931, dtype: float64\n",
      "Using selenium and toltip scraping to construct the date time index for the time-series, this'll take a bit...\n",
      "Viewport dimensions: 1366 x 683\n",
      "Chart position in viewport: x=144.0, y=399.0\n",
      "Tooltip not found\n",
      "Error scraping tooltip at (144.0, 546.5), error: object of type 'NoneType' has no len()\n",
      "Scraping the last point now at x =  803.0\n",
      "\n",
      "\n",
      "Time series frequency appears to be: 91, QS\n",
      "\n",
      "\n",
      "Start and end values scraped from tooltips:  {'start_date': Timestamp('1947-01-01 00:00:00'), 'end_date': Timestamp('2024-07-01 00:00:00'), 'start_value': 9.959, 'end_value': 3130.0}\n",
      "Creating date index for self.series, using start and end dates from tooltips stored in self.start_end.\n",
      "Date index created successfully. Take a look at the final series: \n",
      "\n",
      " 1947-01-01     57.704974\n",
      "1947-04-01     58.003579\n",
      "1947-07-01     58.025294\n",
      "1947-10-01     58.073396\n",
      "1948-01-01     58.361513\n",
      "                 ...    \n",
      "2023-07-01    298.874029\n",
      "2023-10-01    311.066953\n",
      "2024-01-01    305.729747\n",
      "2024-04-01    314.322032\n",
      "2024-07-01    313.252083\n",
      "Freq: QS-JAN, Name: corporate profits, Length: 311, dtype: float64\n",
      "Start value, end value 9.959 3130.0 pix0, pix1 57.70497361111097 313.25208333333\n",
      "Start value, end value 9.959 3130.0  pix0, pix1 57.70497361111097 313.25208333333 data units perchar pixel from start & end points:  12.209259589715181 \n",
      " unit_per_pix calculated from the y axis ticks:  13.123134968273023 \n",
      " inverse of that:  0.07620130421714301 \n",
      " unit_per_pix from axis limits and self.y_axis (probably best way):  12.203389830508474\n",
      "Successfully scraped time-series from chart at:  https://tradingeconomics.com/united-states/corporate-profits  \n",
      " 1947-01-01       9.959\n",
      "1947-04-01      13.603\n",
      "1947-07-01      13.868\n",
      "1947-10-01      14.455\n",
      "1948-01-01      17.971\n",
      "                ...   \n",
      "2023-07-01    2953.039\n",
      "2023-10-01    3101.834\n",
      "2024-01-01    3036.702\n",
      "2024-04-01    3141.557\n",
      "2024-07-01    3128.500\n",
      "Freq: QS-JAN, Name: corporate profits, Length: 311, dtype: float64 now getting some metadata...\n",
      "Series metadata:  {'units': 'USD Billion', 'original_source': 'U.S. Bureau of Economics Analysis', 'title': 'United States Corporate Profits', 'country': 'united states', 'length': 311, 'frequency': 'QS', 'source': 'Trading Economics', 'id': 'united-states/corporate-profits', 'start_date': '1947-01-01', 'end_date': '2024-07-01', 'min_value': 9.959, 'max_value': 3141.5569999999475}\n",
      "Check the metadata:  {'units': 'USD Billion', 'original_source': 'U.S. Bureau of Economics Analysis', 'title': 'United States Corporate Profits', 'country': 'united states', 'length': 311, 'frequency': 'QS', 'source': 'Trading Economics', 'id': 'united-states/corporate-profits', 'start_date': '1947-01-01', 'end_date': '2024-07-01', 'min_value': 9.959, 'max_value': 3141.5569999999475, 'description': 'Corporate profits represents the portion of the total income earned from current production that is accounted for by U.S. corporations. It is one of the most closely watched U.S. economic indicators, as it provides a summary measure of corporate financial health and thus serves as an essential indicator of economic performance.'} \n",
      "Scraping complete! Happy pirating yo!\n"
     ]
    }
   ],
   "source": [
    "scraped = ted.scrape_chart(id = \"corporate-profits\")"
   ]
  },
  {
   "cell_type": "code",
   "execution_count": 3,
   "metadata": {},
   "outputs": [
    {
     "data": {
      "application/vnd.plotly.v1+json": {
       "config": {
        "plotlyServerURL": "https://plot.ly"
       },
       "data": [
        {
         "hovertemplate": "variable=corporate profits<br>index=%{x}<br>value=%{y}<extra></extra>",
         "legendgroup": "corporate profits",
         "line": {
          "color": "#636efa",
          "dash": "solid"
         },
         "marker": {
          "symbol": "circle"
         },
         "mode": "lines",
         "name": "corporate profits",
         "orientation": "v",
         "showlegend": true,
         "type": "scatter",
         "x": [
          "1947-01-01T00:00:00",
          "1947-04-01T00:00:00",
          "1947-07-01T00:00:00",
          "1947-10-01T00:00:00",
          "1948-01-01T00:00:00",
          "1948-04-01T00:00:00",
          "1948-07-01T00:00:00",
          "1948-10-01T00:00:00",
          "1949-01-01T00:00:00",
          "1949-04-01T00:00:00",
          "1949-07-01T00:00:00",
          "1949-10-01T00:00:00",
          "1950-01-01T00:00:00",
          "1950-04-01T00:00:00",
          "1950-07-01T00:00:00",
          "1950-10-01T00:00:00",
          "1951-01-01T00:00:00",
          "1951-04-01T00:00:00",
          "1951-07-01T00:00:00",
          "1951-10-01T00:00:00",
          "1952-01-01T00:00:00",
          "1952-04-01T00:00:00",
          "1952-07-01T00:00:00",
          "1952-10-01T00:00:00",
          "1953-01-01T00:00:00",
          "1953-04-01T00:00:00",
          "1953-07-01T00:00:00",
          "1953-10-01T00:00:00",
          "1954-01-01T00:00:00",
          "1954-04-01T00:00:00",
          "1954-07-01T00:00:00",
          "1954-10-01T00:00:00",
          "1955-01-01T00:00:00",
          "1955-04-01T00:00:00",
          "1955-07-01T00:00:00",
          "1955-10-01T00:00:00",
          "1956-01-01T00:00:00",
          "1956-04-01T00:00:00",
          "1956-07-01T00:00:00",
          "1956-10-01T00:00:00",
          "1957-01-01T00:00:00",
          "1957-04-01T00:00:00",
          "1957-07-01T00:00:00",
          "1957-10-01T00:00:00",
          "1958-01-01T00:00:00",
          "1958-04-01T00:00:00",
          "1958-07-01T00:00:00",
          "1958-10-01T00:00:00",
          "1959-01-01T00:00:00",
          "1959-04-01T00:00:00",
          "1959-07-01T00:00:00",
          "1959-10-01T00:00:00",
          "1960-01-01T00:00:00",
          "1960-04-01T00:00:00",
          "1960-07-01T00:00:00",
          "1960-10-01T00:00:00",
          "1961-01-01T00:00:00",
          "1961-04-01T00:00:00",
          "1961-07-01T00:00:00",
          "1961-10-01T00:00:00",
          "1962-01-01T00:00:00",
          "1962-04-01T00:00:00",
          "1962-07-01T00:00:00",
          "1962-10-01T00:00:00",
          "1963-01-01T00:00:00",
          "1963-04-01T00:00:00",
          "1963-07-01T00:00:00",
          "1963-10-01T00:00:00",
          "1964-01-01T00:00:00",
          "1964-04-01T00:00:00",
          "1964-07-01T00:00:00",
          "1964-10-01T00:00:00",
          "1965-01-01T00:00:00",
          "1965-04-01T00:00:00",
          "1965-07-01T00:00:00",
          "1965-10-01T00:00:00",
          "1966-01-01T00:00:00",
          "1966-04-01T00:00:00",
          "1966-07-01T00:00:00",
          "1966-10-01T00:00:00",
          "1967-01-01T00:00:00",
          "1967-04-01T00:00:00",
          "1967-07-01T00:00:00",
          "1967-10-01T00:00:00",
          "1968-01-01T00:00:00",
          "1968-04-01T00:00:00",
          "1968-07-01T00:00:00",
          "1968-10-01T00:00:00",
          "1969-01-01T00:00:00",
          "1969-04-01T00:00:00",
          "1969-07-01T00:00:00",
          "1969-10-01T00:00:00",
          "1970-01-01T00:00:00",
          "1970-04-01T00:00:00",
          "1970-07-01T00:00:00",
          "1970-10-01T00:00:00",
          "1971-01-01T00:00:00",
          "1971-04-01T00:00:00",
          "1971-07-01T00:00:00",
          "1971-10-01T00:00:00",
          "1972-01-01T00:00:00",
          "1972-04-01T00:00:00",
          "1972-07-01T00:00:00",
          "1972-10-01T00:00:00",
          "1973-01-01T00:00:00",
          "1973-04-01T00:00:00",
          "1973-07-01T00:00:00",
          "1973-10-01T00:00:00",
          "1974-01-01T00:00:00",
          "1974-04-01T00:00:00",
          "1974-07-01T00:00:00",
          "1974-10-01T00:00:00",
          "1975-01-01T00:00:00",
          "1975-04-01T00:00:00",
          "1975-07-01T00:00:00",
          "1975-10-01T00:00:00",
          "1976-01-01T00:00:00",
          "1976-04-01T00:00:00",
          "1976-07-01T00:00:00",
          "1976-10-01T00:00:00",
          "1977-01-01T00:00:00",
          "1977-04-01T00:00:00",
          "1977-07-01T00:00:00",
          "1977-10-01T00:00:00",
          "1978-01-01T00:00:00",
          "1978-04-01T00:00:00",
          "1978-07-01T00:00:00",
          "1978-10-01T00:00:00",
          "1979-01-01T00:00:00",
          "1979-04-01T00:00:00",
          "1979-07-01T00:00:00",
          "1979-10-01T00:00:00",
          "1980-01-01T00:00:00",
          "1980-04-01T00:00:00",
          "1980-07-01T00:00:00",
          "1980-10-01T00:00:00",
          "1981-01-01T00:00:00",
          "1981-04-01T00:00:00",
          "1981-07-01T00:00:00",
          "1981-10-01T00:00:00",
          "1982-01-01T00:00:00",
          "1982-04-01T00:00:00",
          "1982-07-01T00:00:00",
          "1982-10-01T00:00:00",
          "1983-01-01T00:00:00",
          "1983-04-01T00:00:00",
          "1983-07-01T00:00:00",
          "1983-10-01T00:00:00",
          "1984-01-01T00:00:00",
          "1984-04-01T00:00:00",
          "1984-07-01T00:00:00",
          "1984-10-01T00:00:00",
          "1985-01-01T00:00:00",
          "1985-04-01T00:00:00",
          "1985-07-01T00:00:00",
          "1985-10-01T00:00:00",
          "1986-01-01T00:00:00",
          "1986-04-01T00:00:00",
          "1986-07-01T00:00:00",
          "1986-10-01T00:00:00",
          "1987-01-01T00:00:00",
          "1987-04-01T00:00:00",
          "1987-07-01T00:00:00",
          "1987-10-01T00:00:00",
          "1988-01-01T00:00:00",
          "1988-04-01T00:00:00",
          "1988-07-01T00:00:00",
          "1988-10-01T00:00:00",
          "1989-01-01T00:00:00",
          "1989-04-01T00:00:00",
          "1989-07-01T00:00:00",
          "1989-10-01T00:00:00",
          "1990-01-01T00:00:00",
          "1990-04-01T00:00:00",
          "1990-07-01T00:00:00",
          "1990-10-01T00:00:00",
          "1991-01-01T00:00:00",
          "1991-04-01T00:00:00",
          "1991-07-01T00:00:00",
          "1991-10-01T00:00:00",
          "1992-01-01T00:00:00",
          "1992-04-01T00:00:00",
          "1992-07-01T00:00:00",
          "1992-10-01T00:00:00",
          "1993-01-01T00:00:00",
          "1993-04-01T00:00:00",
          "1993-07-01T00:00:00",
          "1993-10-01T00:00:00",
          "1994-01-01T00:00:00",
          "1994-04-01T00:00:00",
          "1994-07-01T00:00:00",
          "1994-10-01T00:00:00",
          "1995-01-01T00:00:00",
          "1995-04-01T00:00:00",
          "1995-07-01T00:00:00",
          "1995-10-01T00:00:00",
          "1996-01-01T00:00:00",
          "1996-04-01T00:00:00",
          "1996-07-01T00:00:00",
          "1996-10-01T00:00:00",
          "1997-01-01T00:00:00",
          "1997-04-01T00:00:00",
          "1997-07-01T00:00:00",
          "1997-10-01T00:00:00",
          "1998-01-01T00:00:00",
          "1998-04-01T00:00:00",
          "1998-07-01T00:00:00",
          "1998-10-01T00:00:00",
          "1999-01-01T00:00:00",
          "1999-04-01T00:00:00",
          "1999-07-01T00:00:00",
          "1999-10-01T00:00:00",
          "2000-01-01T00:00:00",
          "2000-04-01T00:00:00",
          "2000-07-01T00:00:00",
          "2000-10-01T00:00:00",
          "2001-01-01T00:00:00",
          "2001-04-01T00:00:00",
          "2001-07-01T00:00:00",
          "2001-10-01T00:00:00",
          "2002-01-01T00:00:00",
          "2002-04-01T00:00:00",
          "2002-07-01T00:00:00",
          "2002-10-01T00:00:00",
          "2003-01-01T00:00:00",
          "2003-04-01T00:00:00",
          "2003-07-01T00:00:00",
          "2003-10-01T00:00:00",
          "2004-01-01T00:00:00",
          "2004-04-01T00:00:00",
          "2004-07-01T00:00:00",
          "2004-10-01T00:00:00",
          "2005-01-01T00:00:00",
          "2005-04-01T00:00:00",
          "2005-07-01T00:00:00",
          "2005-10-01T00:00:00",
          "2006-01-01T00:00:00",
          "2006-04-01T00:00:00",
          "2006-07-01T00:00:00",
          "2006-10-01T00:00:00",
          "2007-01-01T00:00:00",
          "2007-04-01T00:00:00",
          "2007-07-01T00:00:00",
          "2007-10-01T00:00:00",
          "2008-01-01T00:00:00",
          "2008-04-01T00:00:00",
          "2008-07-01T00:00:00",
          "2008-10-01T00:00:00",
          "2009-01-01T00:00:00",
          "2009-04-01T00:00:00",
          "2009-07-01T00:00:00",
          "2009-10-01T00:00:00",
          "2010-01-01T00:00:00",
          "2010-04-01T00:00:00",
          "2010-07-01T00:00:00",
          "2010-10-01T00:00:00",
          "2011-01-01T00:00:00",
          "2011-04-01T00:00:00",
          "2011-07-01T00:00:00",
          "2011-10-01T00:00:00",
          "2012-01-01T00:00:00",
          "2012-04-01T00:00:00",
          "2012-07-01T00:00:00",
          "2012-10-01T00:00:00",
          "2013-01-01T00:00:00",
          "2013-04-01T00:00:00",
          "2013-07-01T00:00:00",
          "2013-10-01T00:00:00",
          "2014-01-01T00:00:00",
          "2014-04-01T00:00:00",
          "2014-07-01T00:00:00",
          "2014-10-01T00:00:00",
          "2015-01-01T00:00:00",
          "2015-04-01T00:00:00",
          "2015-07-01T00:00:00",
          "2015-10-01T00:00:00",
          "2016-01-01T00:00:00",
          "2016-04-01T00:00:00",
          "2016-07-01T00:00:00",
          "2016-10-01T00:00:00",
          "2017-01-01T00:00:00",
          "2017-04-01T00:00:00",
          "2017-07-01T00:00:00",
          "2017-10-01T00:00:00",
          "2018-01-01T00:00:00",
          "2018-04-01T00:00:00",
          "2018-07-01T00:00:00",
          "2018-10-01T00:00:00",
          "2019-01-01T00:00:00",
          "2019-04-01T00:00:00",
          "2019-07-01T00:00:00",
          "2019-10-01T00:00:00",
          "2020-01-01T00:00:00",
          "2020-04-01T00:00:00",
          "2020-07-01T00:00:00",
          "2020-10-01T00:00:00",
          "2021-01-01T00:00:00",
          "2021-04-01T00:00:00",
          "2021-07-01T00:00:00",
          "2021-10-01T00:00:00",
          "2022-01-01T00:00:00",
          "2022-04-01T00:00:00",
          "2022-07-01T00:00:00",
          "2022-10-01T00:00:00",
          "2023-01-01T00:00:00",
          "2023-04-01T00:00:00",
          "2023-07-01T00:00:00",
          "2023-10-01T00:00:00",
          "2024-01-01T00:00:00",
          "2024-04-01T00:00:00",
          "2024-07-01T00:00:00"
         ],
         "xaxis": "x",
         "y": [
          9.959,
          13.603000000005874,
          13.867999999996275,
          14.454999999997565,
          17.971000000001737,
          19.109000000004336,
          18.76200000000685,
          20.713000000005962,
          19.85075164834636,
          19.143999999997362,
          19.987000000001373,
          16.891999999996077,
          16.61600000000408,
          17.78100000000719,
          18.717000000007395,
          20.207999999999274,
          14.668000000001559,
          18.5640000000073,
          21.22900000000176,
          21.114000000003074,
          20.498000000000545,
          19.75700000000469,
          19.764000000002742,
          22.212000000002845,
          21.90000000001087,
          21.13299999999788,
          20.43400000000559,
          17.777000000004342,
          21.111200000003436,
          21.235000000006035,
          22.235000000000504,
          24.565000000006023,
          28.51354725275256,
          28.726999999995943,
          28.289000000004382,
          28.825999999996412,
          27.736000000001646,
          27.5460000000071,
          28.58100000000708,
          28.35799999999596,
          29.31500000000419,
          28.933000000001886,
          28.47600000000303,
          26.314999999996513,
          23.137999999995927,
          23.93199999999763,
          25.850999999998916,
          28.74499999999628,
          32.55480219780296,
          34.11500000000052,
          32.0820000000068,
          33.127000000001416,
          34.445000000004626,
          32.6799999999979,
          32.67500000000058,
          31.378000000006097,
          30.28599999999742,
          33.05700000000289,
          34.52699999999922,
          37.10000000000444,
          39.66100000000181,
          39.66100000000181,
          40.69199999999894,
          43.22900000000418,
          43.72499999999961,
          44.8170000000069,
          45.54099999999757,
          46.235000000004334,
          50.65700000000052,
          50.92000000000198,
          51.45900000000722,
          51.546999999993616,
          58.81300000000148,
          58.81300000000148,
          59.501000000004666,
          62.26900000000175,
          64.66799999999886,
          63.74300000000025,
          62.672000000000295,
          64.47600000000288,
          62.154738461541854,
          61.809000000007,
          62.60800000000603,
          64.38400000000186,
          61.66699999999602,
          65.05000000000186,
          65.52700000000178,
          66.08999999999915,
          64.12270989011523,
          62.86399999999625,
          61.35000000000741,
          56.84400000000272,
          53.58699999999787,
          57.3140000000046,
          56.23999999999626,
          52.78200000000706,
          63.42300000000327,
          63.42300000000327,
          66.88400000000016,
          70.81000000000161,
          75.41061748633444,
          75.949999999996,
          79.40300000000038,
          84.28347513812687,
          87.48000000000333,
          85.21299999999759,
          89.04499999999659,
          89.29199999999913,
          84.2713472527561,
          82.26099999999775,
          72.77200000000163,
          73.15299999999766,
          82.34297582418472,
          87.52000000000545,
          97.73899999999654,
          105.682000000006,
          114.26699999999906,
          113.77100000000432,
          115.7670000000029,
          115.98300000000278,
          125.37050989010861,
          136.49100000000706,
          148.8020000000006,
          142.62300000000337,
          144.8689999999997,
          159.7160000000047,
          165.99699999999757,
          173.40900000000678,
          168.10400000000445,
          170.32599999999755,
          169.2520000000017,
          166.2329999999992,
          147.1071377049125,
          141.83700000000738,
          141.93000000000288,
          159.3739171270661,
          168.11838241758946,
          170.24900000000028,
          184.44600000000278,
          182.63000000000412,
          169.2270000000033,
          181.39300000000176,
          178.32300000000734,
          176.9049999999974,
          198.29738681318813,
          207.29300000000026,
          215.45700000000693,
          231.03200000000407,
          250.5319999999964,
          250.5319999999964,
          258.38500000000556,
          266.9420000000043,
          266.44500000000335,
          271.4609999999989,
          282.53700000000356,
          265.4289999999975,
          244.82105054946575,
          236.42300000000455,
          224.95500000000322,
          214.71199999999644,
          235.91584835165776,
          253.0449999999977,
          272.0419999999959,
          279.1879999999963,
          286.37145573772176,
          290.0360000000044,
          287.316000000003,
          306.366000000007,
          290.03900000000027,
          297.39800000000434,
          302.62200000000723,
          287.124000000007,
          306.6660659340537,
          314.9089999999961,
          283.57299999999765,
          290.5250000000004,
          331.81499999999915,
          331.81499999999915,
          329.42500000000183,
          331.458000000007,
          351.06900000000695,
          351.06900000000695,
          342.8039999999991,
          354.6500000000002,
          347.58799999999616,
          363.51700000000164,
          386.0520000000072,
          415.5956464088526,
          446.1613494505268,
          452.3659999999964,
          470.97999999999774,
          485.6450000000004,
          482.9580000000031,
          511.4850000000072,
          538.9240000000057,
          555.5480000000003,
          584.750999999999,
          584.750999999999,
          590.9620000000051,
          619.6343259668384,
          648.20138241759,
          658.4110000000018,
          683.3990000000043,
          676.9129999999882,
          615.1140000000031,
          616.6609999999961,
          619.6869999999969,
          601.9850000000043,
          650.0030000000002,
          647.3819999999989,
          628.607999999999,
          631.4969999999988,
          595.9359999999974,
          595.9359999999974,
          599.2859999999988,
          573.9669999999977,
          603.8423934065978,
          625.3790000000002,
          610.3750000000063,
          661.3152596685914,
          744.7370945054541,
          747.8489999999988,
          772.1579999999988,
          836.0390000000044,
          807.2719999999962,
          847.5919999999962,
          879.9660000000031,
          918.3870000000036,
          1029.6430000000018,
          1040.481799999966,
          1071.3769999999477,
          1049.9240000000289,
          1121.222501098958,
          1133.0530000000017,
          1155.5710000000017,
          1227.8101491713103,
          1258.593000000056,
          1258.593000000056,
          1288.0789999999474,
          1262.7169999999476,
          1168.767999999961,
          1241.9230000000425,
          1213.2250000000017,
          1192.1710000000423,
          1146.3278863387734,
          1142.8400000000288,
          1160.6020000000017,
          899.1169999999961,
          1126.5649999999473,
          1126.5649999999473,
          1286.1340000000014,
          1376.9171160221617,
          1428.2950000000424,
          1422.987000000056,
          1571.136000000056,
          1586.412000000015,
          1435.0309999999474,
          1557.7260000000558,
          1615.8710000000287,
          1718.0289999999611,
          1758.696000000056,
          1718.7357999999704,
          1705.3049999999746,
          1699.1629999999473,
          1700.1050000001105,
          1703.3249999999746,
          1720.4400000000153,
          1751.4900000000152,
          1652.6419999999475,
          1801.7719999999474,
          1889.0230000000422,
          1871.653000000043,
          1810.3059538461143,
          1799.5999999999883,
          1780.2889999999475,
          1701.4930000000018,
          1777.4759999999744,
          1733.1289999999476,
          1754.7840000000153,
          1838.8623867402978,
          1911.3610000000424,
          1896.912999999961,
          1927.0010000000289,
          1997.2319558011584,
          2047.3853516482648,
          2070.9540000000147,
          2071.996999999947,
          2111.8254143646154,
          2145.7003186813063,
          2160.738999999961,
          2204.8729999999473,
          2197.5500000000284,
          1918.1302797815335,
          1821.9240000000152,
          2407.4019999999605,
          2175.003999999961,
          2578.8398989011775,
          2679.3709999999473,
          2660.598000000015,
          2617.8074419888453,
          2566.2589999999477,
          2728.055999999974,
          2845.6960000000417,
          2800.1349999999748,
          2796.8260000000423,
          2835.5460000000558,
          2953.0390000000425,
          3101.8340000000285,
          3036.7019999999743,
          3141.5569999999475,
          3128.499999999961
         ],
         "yaxis": "y"
        }
       ],
       "layout": {
        "legend": {
         "orientation": "h",
         "title": {
          "text": ""
         },
         "tracegroupgap": 0,
         "x": 0.5,
         "xanchor": "center",
         "y": -0.2,
         "yanchor": "bottom"
        },
        "margin": {
         "t": 60
        },
        "template": {
         "data": {
          "bar": [
           {
            "error_x": {
             "color": "#2a3f5f"
            },
            "error_y": {
             "color": "#2a3f5f"
            },
            "marker": {
             "line": {
              "color": "#E5ECF6",
              "width": 0.5
             },
             "pattern": {
              "fillmode": "overlay",
              "size": 10,
              "solidity": 0.2
             }
            },
            "type": "bar"
           }
          ],
          "barpolar": [
           {
            "marker": {
             "line": {
              "color": "#E5ECF6",
              "width": 0.5
             },
             "pattern": {
              "fillmode": "overlay",
              "size": 10,
              "solidity": 0.2
             }
            },
            "type": "barpolar"
           }
          ],
          "carpet": [
           {
            "aaxis": {
             "endlinecolor": "#2a3f5f",
             "gridcolor": "white",
             "linecolor": "white",
             "minorgridcolor": "white",
             "startlinecolor": "#2a3f5f"
            },
            "baxis": {
             "endlinecolor": "#2a3f5f",
             "gridcolor": "white",
             "linecolor": "white",
             "minorgridcolor": "white",
             "startlinecolor": "#2a3f5f"
            },
            "type": "carpet"
           }
          ],
          "choropleth": [
           {
            "colorbar": {
             "outlinewidth": 0,
             "ticks": ""
            },
            "type": "choropleth"
           }
          ],
          "contour": [
           {
            "colorbar": {
             "outlinewidth": 0,
             "ticks": ""
            },
            "colorscale": [
             [
              0,
              "#0d0887"
             ],
             [
              0.1111111111111111,
              "#46039f"
             ],
             [
              0.2222222222222222,
              "#7201a8"
             ],
             [
              0.3333333333333333,
              "#9c179e"
             ],
             [
              0.4444444444444444,
              "#bd3786"
             ],
             [
              0.5555555555555556,
              "#d8576b"
             ],
             [
              0.6666666666666666,
              "#ed7953"
             ],
             [
              0.7777777777777778,
              "#fb9f3a"
             ],
             [
              0.8888888888888888,
              "#fdca26"
             ],
             [
              1,
              "#f0f921"
             ]
            ],
            "type": "contour"
           }
          ],
          "contourcarpet": [
           {
            "colorbar": {
             "outlinewidth": 0,
             "ticks": ""
            },
            "type": "contourcarpet"
           }
          ],
          "heatmap": [
           {
            "colorbar": {
             "outlinewidth": 0,
             "ticks": ""
            },
            "colorscale": [
             [
              0,
              "#0d0887"
             ],
             [
              0.1111111111111111,
              "#46039f"
             ],
             [
              0.2222222222222222,
              "#7201a8"
             ],
             [
              0.3333333333333333,
              "#9c179e"
             ],
             [
              0.4444444444444444,
              "#bd3786"
             ],
             [
              0.5555555555555556,
              "#d8576b"
             ],
             [
              0.6666666666666666,
              "#ed7953"
             ],
             [
              0.7777777777777778,
              "#fb9f3a"
             ],
             [
              0.8888888888888888,
              "#fdca26"
             ],
             [
              1,
              "#f0f921"
             ]
            ],
            "type": "heatmap"
           }
          ],
          "heatmapgl": [
           {
            "colorbar": {
             "outlinewidth": 0,
             "ticks": ""
            },
            "colorscale": [
             [
              0,
              "#0d0887"
             ],
             [
              0.1111111111111111,
              "#46039f"
             ],
             [
              0.2222222222222222,
              "#7201a8"
             ],
             [
              0.3333333333333333,
              "#9c179e"
             ],
             [
              0.4444444444444444,
              "#bd3786"
             ],
             [
              0.5555555555555556,
              "#d8576b"
             ],
             [
              0.6666666666666666,
              "#ed7953"
             ],
             [
              0.7777777777777778,
              "#fb9f3a"
             ],
             [
              0.8888888888888888,
              "#fdca26"
             ],
             [
              1,
              "#f0f921"
             ]
            ],
            "type": "heatmapgl"
           }
          ],
          "histogram": [
           {
            "marker": {
             "pattern": {
              "fillmode": "overlay",
              "size": 10,
              "solidity": 0.2
             }
            },
            "type": "histogram"
           }
          ],
          "histogram2d": [
           {
            "colorbar": {
             "outlinewidth": 0,
             "ticks": ""
            },
            "colorscale": [
             [
              0,
              "#0d0887"
             ],
             [
              0.1111111111111111,
              "#46039f"
             ],
             [
              0.2222222222222222,
              "#7201a8"
             ],
             [
              0.3333333333333333,
              "#9c179e"
             ],
             [
              0.4444444444444444,
              "#bd3786"
             ],
             [
              0.5555555555555556,
              "#d8576b"
             ],
             [
              0.6666666666666666,
              "#ed7953"
             ],
             [
              0.7777777777777778,
              "#fb9f3a"
             ],
             [
              0.8888888888888888,
              "#fdca26"
             ],
             [
              1,
              "#f0f921"
             ]
            ],
            "type": "histogram2d"
           }
          ],
          "histogram2dcontour": [
           {
            "colorbar": {
             "outlinewidth": 0,
             "ticks": ""
            },
            "colorscale": [
             [
              0,
              "#0d0887"
             ],
             [
              0.1111111111111111,
              "#46039f"
             ],
             [
              0.2222222222222222,
              "#7201a8"
             ],
             [
              0.3333333333333333,
              "#9c179e"
             ],
             [
              0.4444444444444444,
              "#bd3786"
             ],
             [
              0.5555555555555556,
              "#d8576b"
             ],
             [
              0.6666666666666666,
              "#ed7953"
             ],
             [
              0.7777777777777778,
              "#fb9f3a"
             ],
             [
              0.8888888888888888,
              "#fdca26"
             ],
             [
              1,
              "#f0f921"
             ]
            ],
            "type": "histogram2dcontour"
           }
          ],
          "mesh3d": [
           {
            "colorbar": {
             "outlinewidth": 0,
             "ticks": ""
            },
            "type": "mesh3d"
           }
          ],
          "parcoords": [
           {
            "line": {
             "colorbar": {
              "outlinewidth": 0,
              "ticks": ""
             }
            },
            "type": "parcoords"
           }
          ],
          "pie": [
           {
            "automargin": true,
            "type": "pie"
           }
          ],
          "scatter": [
           {
            "fillpattern": {
             "fillmode": "overlay",
             "size": 10,
             "solidity": 0.2
            },
            "type": "scatter"
           }
          ],
          "scatter3d": [
           {
            "line": {
             "colorbar": {
              "outlinewidth": 0,
              "ticks": ""
             }
            },
            "marker": {
             "colorbar": {
              "outlinewidth": 0,
              "ticks": ""
             }
            },
            "type": "scatter3d"
           }
          ],
          "scattercarpet": [
           {
            "marker": {
             "colorbar": {
              "outlinewidth": 0,
              "ticks": ""
             }
            },
            "type": "scattercarpet"
           }
          ],
          "scattergeo": [
           {
            "marker": {
             "colorbar": {
              "outlinewidth": 0,
              "ticks": ""
             }
            },
            "type": "scattergeo"
           }
          ],
          "scattergl": [
           {
            "marker": {
             "colorbar": {
              "outlinewidth": 0,
              "ticks": ""
             }
            },
            "type": "scattergl"
           }
          ],
          "scattermapbox": [
           {
            "marker": {
             "colorbar": {
              "outlinewidth": 0,
              "ticks": ""
             }
            },
            "type": "scattermapbox"
           }
          ],
          "scatterpolar": [
           {
            "marker": {
             "colorbar": {
              "outlinewidth": 0,
              "ticks": ""
             }
            },
            "type": "scatterpolar"
           }
          ],
          "scatterpolargl": [
           {
            "marker": {
             "colorbar": {
              "outlinewidth": 0,
              "ticks": ""
             }
            },
            "type": "scatterpolargl"
           }
          ],
          "scatterternary": [
           {
            "marker": {
             "colorbar": {
              "outlinewidth": 0,
              "ticks": ""
             }
            },
            "type": "scatterternary"
           }
          ],
          "surface": [
           {
            "colorbar": {
             "outlinewidth": 0,
             "ticks": ""
            },
            "colorscale": [
             [
              0,
              "#0d0887"
             ],
             [
              0.1111111111111111,
              "#46039f"
             ],
             [
              0.2222222222222222,
              "#7201a8"
             ],
             [
              0.3333333333333333,
              "#9c179e"
             ],
             [
              0.4444444444444444,
              "#bd3786"
             ],
             [
              0.5555555555555556,
              "#d8576b"
             ],
             [
              0.6666666666666666,
              "#ed7953"
             ],
             [
              0.7777777777777778,
              "#fb9f3a"
             ],
             [
              0.8888888888888888,
              "#fdca26"
             ],
             [
              1,
              "#f0f921"
             ]
            ],
            "type": "surface"
           }
          ],
          "table": [
           {
            "cells": {
             "fill": {
              "color": "#EBF0F8"
             },
             "line": {
              "color": "white"
             }
            },
            "header": {
             "fill": {
              "color": "#C8D4E3"
             },
             "line": {
              "color": "white"
             }
            },
            "type": "table"
           }
          ]
         },
         "layout": {
          "annotationdefaults": {
           "arrowcolor": "#2a3f5f",
           "arrowhead": 0,
           "arrowwidth": 1
          },
          "autotypenumbers": "strict",
          "coloraxis": {
           "colorbar": {
            "outlinewidth": 0,
            "ticks": ""
           }
          },
          "colorscale": {
           "diverging": [
            [
             0,
             "#8e0152"
            ],
            [
             0.1,
             "#c51b7d"
            ],
            [
             0.2,
             "#de77ae"
            ],
            [
             0.3,
             "#f1b6da"
            ],
            [
             0.4,
             "#fde0ef"
            ],
            [
             0.5,
             "#f7f7f7"
            ],
            [
             0.6,
             "#e6f5d0"
            ],
            [
             0.7,
             "#b8e186"
            ],
            [
             0.8,
             "#7fbc41"
            ],
            [
             0.9,
             "#4d9221"
            ],
            [
             1,
             "#276419"
            ]
           ],
           "sequential": [
            [
             0,
             "#0d0887"
            ],
            [
             0.1111111111111111,
             "#46039f"
            ],
            [
             0.2222222222222222,
             "#7201a8"
            ],
            [
             0.3333333333333333,
             "#9c179e"
            ],
            [
             0.4444444444444444,
             "#bd3786"
            ],
            [
             0.5555555555555556,
             "#d8576b"
            ],
            [
             0.6666666666666666,
             "#ed7953"
            ],
            [
             0.7777777777777778,
             "#fb9f3a"
            ],
            [
             0.8888888888888888,
             "#fdca26"
            ],
            [
             1,
             "#f0f921"
            ]
           ],
           "sequentialminus": [
            [
             0,
             "#0d0887"
            ],
            [
             0.1111111111111111,
             "#46039f"
            ],
            [
             0.2222222222222222,
             "#7201a8"
            ],
            [
             0.3333333333333333,
             "#9c179e"
            ],
            [
             0.4444444444444444,
             "#bd3786"
            ],
            [
             0.5555555555555556,
             "#d8576b"
            ],
            [
             0.6666666666666666,
             "#ed7953"
            ],
            [
             0.7777777777777778,
             "#fb9f3a"
            ],
            [
             0.8888888888888888,
             "#fdca26"
            ],
            [
             1,
             "#f0f921"
            ]
           ]
          },
          "colorway": [
           "#636efa",
           "#EF553B",
           "#00cc96",
           "#ab63fa",
           "#FFA15A",
           "#19d3f3",
           "#FF6692",
           "#B6E880",
           "#FF97FF",
           "#FECB52"
          ],
          "font": {
           "color": "#2a3f5f"
          },
          "geo": {
           "bgcolor": "white",
           "lakecolor": "white",
           "landcolor": "#E5ECF6",
           "showlakes": true,
           "showland": true,
           "subunitcolor": "white"
          },
          "hoverlabel": {
           "align": "left"
          },
          "hovermode": "closest",
          "mapbox": {
           "style": "light"
          },
          "paper_bgcolor": "white",
          "plot_bgcolor": "#E5ECF6",
          "polar": {
           "angularaxis": {
            "gridcolor": "white",
            "linecolor": "white",
            "ticks": ""
           },
           "bgcolor": "#E5ECF6",
           "radialaxis": {
            "gridcolor": "white",
            "linecolor": "white",
            "ticks": ""
           }
          },
          "scene": {
           "xaxis": {
            "backgroundcolor": "#E5ECF6",
            "gridcolor": "white",
            "gridwidth": 2,
            "linecolor": "white",
            "showbackground": true,
            "ticks": "",
            "zerolinecolor": "white"
           },
           "yaxis": {
            "backgroundcolor": "#E5ECF6",
            "gridcolor": "white",
            "gridwidth": 2,
            "linecolor": "white",
            "showbackground": true,
            "ticks": "",
            "zerolinecolor": "white"
           },
           "zaxis": {
            "backgroundcolor": "#E5ECF6",
            "gridcolor": "white",
            "gridwidth": 2,
            "linecolor": "white",
            "showbackground": true,
            "ticks": "",
            "zerolinecolor": "white"
           }
          },
          "shapedefaults": {
           "line": {
            "color": "#2a3f5f"
           }
          },
          "ternary": {
           "aaxis": {
            "gridcolor": "white",
            "linecolor": "white",
            "ticks": ""
           },
           "baxis": {
            "gridcolor": "white",
            "linecolor": "white",
            "ticks": ""
           },
           "bgcolor": "#E5ECF6",
           "caxis": {
            "gridcolor": "white",
            "linecolor": "white",
            "ticks": ""
           }
          },
          "title": {
           "x": 0.05
          },
          "xaxis": {
           "automargin": true,
           "gridcolor": "white",
           "linecolor": "white",
           "ticks": "",
           "title": {
            "standoff": 15
           },
           "zerolinecolor": "white",
           "zerolinewidth": 2
          },
          "yaxis": {
           "automargin": true,
           "gridcolor": "white",
           "linecolor": "white",
           "ticks": "",
           "title": {
            "standoff": 15
           },
           "zerolinecolor": "white",
           "zerolinewidth": 2
          }
         }
        },
        "title": {
         "text": "United states: United states corporate profits"
        },
        "xaxis": {
         "anchor": "y",
         "domain": [
          0,
          1
         ],
         "title": {
          "text": ""
         }
        },
        "yaxis": {
         "anchor": "x",
         "domain": [
          0,
          1
         ],
         "title": {
          "text": "Usd billion"
         }
        }
       }
      }
     },
     "metadata": {},
     "output_type": "display_data"
    }
   ],
   "source": [
    "scraped.plot_series()"
   ]
  },
  {
   "cell_type": "markdown",
   "metadata": {},
   "source": [
    "# Method #3: Debug method - manually run through the steps."
   ]
  },
  {
   "cell_type": "code",
   "execution_count": 39,
   "metadata": {},
   "outputs": [],
   "source": [
    "scr = ted.TE_Scraper(use_existing_driver=True)  ## Initialize a new TE_scraper object."
   ]
  },
  {
   "cell_type": "code",
   "execution_count": 40,
   "metadata": {},
   "outputs": [
    {
     "name": "stderr",
     "output_type": "stream",
     "text": [
      "INFO - WebPage at https://tradingeconomics.com/united-states/corporate-profits loaded successfully.\n",
      "INFO - Button clicked successfully, waiting 2s for response...\n",
      "INFO - Y-axis values scraped successfully.\n",
      "INFO - Raw data series extracted successfully.\n"
     ]
    }
   ],
   "source": [
    "scr.load_page(\"https://tradingeconomics.com/united-states/corporate-profits\")\n",
    "scr.click_button(scr.find_max_button())  ## Click the button on chart to set date range to max.\n",
    "scr.get_y_axis()   ## Get the y-axis tick positions (pixel co-ordinates) and values.\n",
    "scr.get_element() ## Get the element containing the chart.\n",
    "scr.series_from_element() ## Get the series from the element, this is the data trace on the chart from the path attribute of the svg chart."
   ]
  },
  {
   "cell_type": "code",
   "execution_count": 41,
   "metadata": {},
   "outputs": [
    {
     "name": "stdout",
     "output_type": "stream",
     "text": [
      "Using selenium and toltip scraping to construct the date time index for the time-series, this'll take a bit...\n",
      "Viewport dimensions: 1366 x 683\n",
      "Chart position in viewport: x=144.0, y=399.0\n"
     ]
    },
    {
     "name": "stderr",
     "output_type": "stream",
     "text": [
      "INFO - Later points scraped successfully, scraping the oldest point now at x =  144.0\n",
      "INFO - Scraped 9 data points from the chart, num_points target was 7\n",
      "INFO - Start and end values scraped from tooltips: {'start_date': Timestamp('1947-01-01 00:00:00'), 'end_date': Timestamp('2024-07-01 00:00:00'), 'start_value': 9.959, 'end_value': 3130.0}\n",
      "INFO - Date index created successfully.\n"
     ]
    },
    {
     "name": "stdout",
     "output_type": "stream",
     "text": [
      "Time delta between data points in the series appears to be approxiately: 91 days, will use QS frequency.\n"
     ]
    }
   ],
   "source": [
    "scr.make_x_index(force_rerun=True)  ## Make the x-axis index from the chart. This scrapes some points from tooltips using selenium."
   ]
  },
  {
   "cell_type": "code",
   "execution_count": 42,
   "metadata": {},
   "outputs": [
    {
     "data": {
      "text/plain": [
       "1947-01-01       9.959\n",
       "1947-04-01      13.603\n",
       "1947-07-01      13.868\n",
       "1947-10-01      14.455\n",
       "1948-01-01      17.971\n",
       "                ...   \n",
       "2023-07-01    2953.039\n",
       "2023-10-01    3101.834\n",
       "2024-01-01    3036.702\n",
       "2024-04-01    3141.557\n",
       "2024-07-01    3128.500\n",
       "Freq: QS-JAN, Name: corporate profits, Length: 311, dtype: float64"
      ]
     },
     "execution_count": 42,
     "metadata": {},
     "output_type": "execute_result"
    }
   ],
   "source": [
    "scr.scale_series() ## Scale the series to the y-axis values to convert the pixel co-ordinates to actual data values."
   ]
  },
  {
   "cell_type": "code",
   "execution_count": 43,
   "metadata": {},
   "outputs": [
    {
     "name": "stdout",
     "output_type": "stream",
     "text": [
      "Series metadata:  {'units': 'USD Billion', 'original_source': 'U.S. Bureau of Economics Analysis', 'title': 'United States Corporate Profits', 'indicator': 'corporate profits', 'country': 'united states', 'length': 311, 'frequency': 'QS', 'source': 'Trading Economics', 'id': 'united-states/corporate-profits', 'start_date': '1947-01-01', 'end_date': '2024-07-01', 'min_value': 9.959, 'max_value': 3141.5569999999475}\n"
     ]
    }
   ],
   "source": [
    "scr.scrape_metadata() ## Scrape the metadata for the data series from the page."
   ]
  },
  {
   "cell_type": "code",
   "execution_count": 44,
   "metadata": {},
   "outputs": [
    {
     "data": {
      "application/vnd.plotly.v1+json": {
       "config": {
        "plotlyServerURL": "https://plot.ly"
       },
       "data": [
        {
         "hovertemplate": "variable=corporate profits<br>index=%{x}<br>value=%{y}<extra></extra>",
         "legendgroup": "corporate profits",
         "line": {
          "color": "#636efa",
          "dash": "solid"
         },
         "marker": {
          "symbol": "circle"
         },
         "mode": "lines",
         "name": "corporate profits",
         "orientation": "v",
         "showlegend": true,
         "type": "scatter",
         "x": [
          "1947-01-01T00:00:00",
          "1947-04-01T00:00:00",
          "1947-07-01T00:00:00",
          "1947-10-01T00:00:00",
          "1948-01-01T00:00:00",
          "1948-04-01T00:00:00",
          "1948-07-01T00:00:00",
          "1948-10-01T00:00:00",
          "1949-01-01T00:00:00",
          "1949-04-01T00:00:00",
          "1949-07-01T00:00:00",
          "1949-10-01T00:00:00",
          "1950-01-01T00:00:00",
          "1950-04-01T00:00:00",
          "1950-07-01T00:00:00",
          "1950-10-01T00:00:00",
          "1951-01-01T00:00:00",
          "1951-04-01T00:00:00",
          "1951-07-01T00:00:00",
          "1951-10-01T00:00:00",
          "1952-01-01T00:00:00",
          "1952-04-01T00:00:00",
          "1952-07-01T00:00:00",
          "1952-10-01T00:00:00",
          "1953-01-01T00:00:00",
          "1953-04-01T00:00:00",
          "1953-07-01T00:00:00",
          "1953-10-01T00:00:00",
          "1954-01-01T00:00:00",
          "1954-04-01T00:00:00",
          "1954-07-01T00:00:00",
          "1954-10-01T00:00:00",
          "1955-01-01T00:00:00",
          "1955-04-01T00:00:00",
          "1955-07-01T00:00:00",
          "1955-10-01T00:00:00",
          "1956-01-01T00:00:00",
          "1956-04-01T00:00:00",
          "1956-07-01T00:00:00",
          "1956-10-01T00:00:00",
          "1957-01-01T00:00:00",
          "1957-04-01T00:00:00",
          "1957-07-01T00:00:00",
          "1957-10-01T00:00:00",
          "1958-01-01T00:00:00",
          "1958-04-01T00:00:00",
          "1958-07-01T00:00:00",
          "1958-10-01T00:00:00",
          "1959-01-01T00:00:00",
          "1959-04-01T00:00:00",
          "1959-07-01T00:00:00",
          "1959-10-01T00:00:00",
          "1960-01-01T00:00:00",
          "1960-04-01T00:00:00",
          "1960-07-01T00:00:00",
          "1960-10-01T00:00:00",
          "1961-01-01T00:00:00",
          "1961-04-01T00:00:00",
          "1961-07-01T00:00:00",
          "1961-10-01T00:00:00",
          "1962-01-01T00:00:00",
          "1962-04-01T00:00:00",
          "1962-07-01T00:00:00",
          "1962-10-01T00:00:00",
          "1963-01-01T00:00:00",
          "1963-04-01T00:00:00",
          "1963-07-01T00:00:00",
          "1963-10-01T00:00:00",
          "1964-01-01T00:00:00",
          "1964-04-01T00:00:00",
          "1964-07-01T00:00:00",
          "1964-10-01T00:00:00",
          "1965-01-01T00:00:00",
          "1965-04-01T00:00:00",
          "1965-07-01T00:00:00",
          "1965-10-01T00:00:00",
          "1966-01-01T00:00:00",
          "1966-04-01T00:00:00",
          "1966-07-01T00:00:00",
          "1966-10-01T00:00:00",
          "1967-01-01T00:00:00",
          "1967-04-01T00:00:00",
          "1967-07-01T00:00:00",
          "1967-10-01T00:00:00",
          "1968-01-01T00:00:00",
          "1968-04-01T00:00:00",
          "1968-07-01T00:00:00",
          "1968-10-01T00:00:00",
          "1969-01-01T00:00:00",
          "1969-04-01T00:00:00",
          "1969-07-01T00:00:00",
          "1969-10-01T00:00:00",
          "1970-01-01T00:00:00",
          "1970-04-01T00:00:00",
          "1970-07-01T00:00:00",
          "1970-10-01T00:00:00",
          "1971-01-01T00:00:00",
          "1971-04-01T00:00:00",
          "1971-07-01T00:00:00",
          "1971-10-01T00:00:00",
          "1972-01-01T00:00:00",
          "1972-04-01T00:00:00",
          "1972-07-01T00:00:00",
          "1972-10-01T00:00:00",
          "1973-01-01T00:00:00",
          "1973-04-01T00:00:00",
          "1973-07-01T00:00:00",
          "1973-10-01T00:00:00",
          "1974-01-01T00:00:00",
          "1974-04-01T00:00:00",
          "1974-07-01T00:00:00",
          "1974-10-01T00:00:00",
          "1975-01-01T00:00:00",
          "1975-04-01T00:00:00",
          "1975-07-01T00:00:00",
          "1975-10-01T00:00:00",
          "1976-01-01T00:00:00",
          "1976-04-01T00:00:00",
          "1976-07-01T00:00:00",
          "1976-10-01T00:00:00",
          "1977-01-01T00:00:00",
          "1977-04-01T00:00:00",
          "1977-07-01T00:00:00",
          "1977-10-01T00:00:00",
          "1978-01-01T00:00:00",
          "1978-04-01T00:00:00",
          "1978-07-01T00:00:00",
          "1978-10-01T00:00:00",
          "1979-01-01T00:00:00",
          "1979-04-01T00:00:00",
          "1979-07-01T00:00:00",
          "1979-10-01T00:00:00",
          "1980-01-01T00:00:00",
          "1980-04-01T00:00:00",
          "1980-07-01T00:00:00",
          "1980-10-01T00:00:00",
          "1981-01-01T00:00:00",
          "1981-04-01T00:00:00",
          "1981-07-01T00:00:00",
          "1981-10-01T00:00:00",
          "1982-01-01T00:00:00",
          "1982-04-01T00:00:00",
          "1982-07-01T00:00:00",
          "1982-10-01T00:00:00",
          "1983-01-01T00:00:00",
          "1983-04-01T00:00:00",
          "1983-07-01T00:00:00",
          "1983-10-01T00:00:00",
          "1984-01-01T00:00:00",
          "1984-04-01T00:00:00",
          "1984-07-01T00:00:00",
          "1984-10-01T00:00:00",
          "1985-01-01T00:00:00",
          "1985-04-01T00:00:00",
          "1985-07-01T00:00:00",
          "1985-10-01T00:00:00",
          "1986-01-01T00:00:00",
          "1986-04-01T00:00:00",
          "1986-07-01T00:00:00",
          "1986-10-01T00:00:00",
          "1987-01-01T00:00:00",
          "1987-04-01T00:00:00",
          "1987-07-01T00:00:00",
          "1987-10-01T00:00:00",
          "1988-01-01T00:00:00",
          "1988-04-01T00:00:00",
          "1988-07-01T00:00:00",
          "1988-10-01T00:00:00",
          "1989-01-01T00:00:00",
          "1989-04-01T00:00:00",
          "1989-07-01T00:00:00",
          "1989-10-01T00:00:00",
          "1990-01-01T00:00:00",
          "1990-04-01T00:00:00",
          "1990-07-01T00:00:00",
          "1990-10-01T00:00:00",
          "1991-01-01T00:00:00",
          "1991-04-01T00:00:00",
          "1991-07-01T00:00:00",
          "1991-10-01T00:00:00",
          "1992-01-01T00:00:00",
          "1992-04-01T00:00:00",
          "1992-07-01T00:00:00",
          "1992-10-01T00:00:00",
          "1993-01-01T00:00:00",
          "1993-04-01T00:00:00",
          "1993-07-01T00:00:00",
          "1993-10-01T00:00:00",
          "1994-01-01T00:00:00",
          "1994-04-01T00:00:00",
          "1994-07-01T00:00:00",
          "1994-10-01T00:00:00",
          "1995-01-01T00:00:00",
          "1995-04-01T00:00:00",
          "1995-07-01T00:00:00",
          "1995-10-01T00:00:00",
          "1996-01-01T00:00:00",
          "1996-04-01T00:00:00",
          "1996-07-01T00:00:00",
          "1996-10-01T00:00:00",
          "1997-01-01T00:00:00",
          "1997-04-01T00:00:00",
          "1997-07-01T00:00:00",
          "1997-10-01T00:00:00",
          "1998-01-01T00:00:00",
          "1998-04-01T00:00:00",
          "1998-07-01T00:00:00",
          "1998-10-01T00:00:00",
          "1999-01-01T00:00:00",
          "1999-04-01T00:00:00",
          "1999-07-01T00:00:00",
          "1999-10-01T00:00:00",
          "2000-01-01T00:00:00",
          "2000-04-01T00:00:00",
          "2000-07-01T00:00:00",
          "2000-10-01T00:00:00",
          "2001-01-01T00:00:00",
          "2001-04-01T00:00:00",
          "2001-07-01T00:00:00",
          "2001-10-01T00:00:00",
          "2002-01-01T00:00:00",
          "2002-04-01T00:00:00",
          "2002-07-01T00:00:00",
          "2002-10-01T00:00:00",
          "2003-01-01T00:00:00",
          "2003-04-01T00:00:00",
          "2003-07-01T00:00:00",
          "2003-10-01T00:00:00",
          "2004-01-01T00:00:00",
          "2004-04-01T00:00:00",
          "2004-07-01T00:00:00",
          "2004-10-01T00:00:00",
          "2005-01-01T00:00:00",
          "2005-04-01T00:00:00",
          "2005-07-01T00:00:00",
          "2005-10-01T00:00:00",
          "2006-01-01T00:00:00",
          "2006-04-01T00:00:00",
          "2006-07-01T00:00:00",
          "2006-10-01T00:00:00",
          "2007-01-01T00:00:00",
          "2007-04-01T00:00:00",
          "2007-07-01T00:00:00",
          "2007-10-01T00:00:00",
          "2008-01-01T00:00:00",
          "2008-04-01T00:00:00",
          "2008-07-01T00:00:00",
          "2008-10-01T00:00:00",
          "2009-01-01T00:00:00",
          "2009-04-01T00:00:00",
          "2009-07-01T00:00:00",
          "2009-10-01T00:00:00",
          "2010-01-01T00:00:00",
          "2010-04-01T00:00:00",
          "2010-07-01T00:00:00",
          "2010-10-01T00:00:00",
          "2011-01-01T00:00:00",
          "2011-04-01T00:00:00",
          "2011-07-01T00:00:00",
          "2011-10-01T00:00:00",
          "2012-01-01T00:00:00",
          "2012-04-01T00:00:00",
          "2012-07-01T00:00:00",
          "2012-10-01T00:00:00",
          "2013-01-01T00:00:00",
          "2013-04-01T00:00:00",
          "2013-07-01T00:00:00",
          "2013-10-01T00:00:00",
          "2014-01-01T00:00:00",
          "2014-04-01T00:00:00",
          "2014-07-01T00:00:00",
          "2014-10-01T00:00:00",
          "2015-01-01T00:00:00",
          "2015-04-01T00:00:00",
          "2015-07-01T00:00:00",
          "2015-10-01T00:00:00",
          "2016-01-01T00:00:00",
          "2016-04-01T00:00:00",
          "2016-07-01T00:00:00",
          "2016-10-01T00:00:00",
          "2017-01-01T00:00:00",
          "2017-04-01T00:00:00",
          "2017-07-01T00:00:00",
          "2017-10-01T00:00:00",
          "2018-01-01T00:00:00",
          "2018-04-01T00:00:00",
          "2018-07-01T00:00:00",
          "2018-10-01T00:00:00",
          "2019-01-01T00:00:00",
          "2019-04-01T00:00:00",
          "2019-07-01T00:00:00",
          "2019-10-01T00:00:00",
          "2020-01-01T00:00:00",
          "2020-04-01T00:00:00",
          "2020-07-01T00:00:00",
          "2020-10-01T00:00:00",
          "2021-01-01T00:00:00",
          "2021-04-01T00:00:00",
          "2021-07-01T00:00:00",
          "2021-10-01T00:00:00",
          "2022-01-01T00:00:00",
          "2022-04-01T00:00:00",
          "2022-07-01T00:00:00",
          "2022-10-01T00:00:00",
          "2023-01-01T00:00:00",
          "2023-04-01T00:00:00",
          "2023-07-01T00:00:00",
          "2023-10-01T00:00:00",
          "2024-01-01T00:00:00",
          "2024-04-01T00:00:00",
          "2024-07-01T00:00:00"
         ],
         "xaxis": "x",
         "y": [
          9.959,
          13.603000000005874,
          13.867999999996275,
          14.454999999997565,
          17.971000000001737,
          19.109000000004336,
          18.76200000000685,
          20.713000000005962,
          19.85075164834636,
          19.143999999997362,
          19.987000000001373,
          16.891999999996077,
          16.61600000000408,
          17.78100000000719,
          18.717000000007395,
          20.207999999999274,
          14.668000000001559,
          18.5640000000073,
          21.22900000000176,
          21.114000000003074,
          20.498000000000545,
          19.75700000000469,
          19.764000000002742,
          22.212000000002845,
          21.90000000001087,
          21.13299999999788,
          20.43400000000559,
          17.777000000004342,
          21.111200000003436,
          21.235000000006035,
          22.235000000000504,
          24.565000000006023,
          28.51354725275256,
          28.726999999995943,
          28.289000000004382,
          28.825999999996412,
          27.736000000001646,
          27.5460000000071,
          28.58100000000708,
          28.35799999999596,
          29.31500000000419,
          28.933000000001886,
          28.47600000000303,
          26.314999999996513,
          23.137999999995927,
          23.93199999999763,
          25.850999999998916,
          28.74499999999628,
          32.55480219780296,
          34.11500000000052,
          32.0820000000068,
          33.127000000001416,
          34.445000000004626,
          32.6799999999979,
          32.67500000000058,
          31.378000000006097,
          30.28599999999742,
          33.05700000000289,
          34.52699999999922,
          37.10000000000444,
          39.66100000000181,
          39.66100000000181,
          40.69199999999894,
          43.22900000000418,
          43.72499999999961,
          44.8170000000069,
          45.54099999999757,
          46.235000000004334,
          50.65700000000052,
          50.92000000000198,
          51.45900000000722,
          51.546999999993616,
          58.81300000000148,
          58.81300000000148,
          59.501000000004666,
          62.26900000000175,
          64.66799999999886,
          63.74300000000025,
          62.672000000000295,
          64.47600000000288,
          62.154738461541854,
          61.809000000007,
          62.60800000000603,
          64.38400000000186,
          61.66699999999602,
          65.05000000000186,
          65.52700000000178,
          66.08999999999915,
          64.12270989011523,
          62.86399999999625,
          61.35000000000741,
          56.84400000000272,
          53.58699999999787,
          57.3140000000046,
          56.23999999999626,
          52.78200000000706,
          63.42300000000327,
          63.42300000000327,
          66.88400000000016,
          70.81000000000161,
          75.41061748633444,
          75.949999999996,
          79.40300000000038,
          84.28347513812687,
          87.48000000000333,
          85.21299999999759,
          89.04499999999659,
          89.29199999999913,
          84.2713472527561,
          82.26099999999775,
          72.77200000000163,
          73.15299999999766,
          82.34297582418472,
          87.52000000000545,
          97.73899999999654,
          105.682000000006,
          114.26699999999906,
          113.77100000000432,
          115.7670000000029,
          115.98300000000278,
          125.37050989010861,
          136.49100000000706,
          148.8020000000006,
          142.62300000000337,
          144.8689999999997,
          159.7160000000047,
          165.99699999999757,
          173.40900000000678,
          168.10400000000445,
          170.32599999999755,
          169.2520000000017,
          166.2329999999992,
          147.1071377049125,
          141.83700000000738,
          141.93000000000288,
          159.3739171270661,
          168.11838241758946,
          170.24900000000028,
          184.44600000000278,
          182.63000000000412,
          169.2270000000033,
          181.39300000000176,
          178.32300000000734,
          176.9049999999974,
          198.29738681318813,
          207.29300000000026,
          215.45700000000693,
          231.03200000000407,
          250.5319999999964,
          250.5319999999964,
          258.38500000000556,
          266.9420000000043,
          266.44500000000335,
          271.4609999999989,
          282.53700000000356,
          265.4289999999975,
          244.82105054946575,
          236.42300000000455,
          224.95500000000322,
          214.71199999999644,
          235.91584835165776,
          253.0449999999977,
          272.0419999999959,
          279.1879999999963,
          286.37145573772176,
          290.0360000000044,
          287.316000000003,
          306.366000000007,
          290.03900000000027,
          297.39800000000434,
          302.62200000000723,
          287.124000000007,
          306.6660659340537,
          314.9089999999961,
          283.57299999999765,
          290.5250000000004,
          331.81499999999915,
          331.81499999999915,
          329.42500000000183,
          331.458000000007,
          351.06900000000695,
          351.06900000000695,
          342.8039999999991,
          354.6500000000002,
          347.58799999999616,
          363.51700000000164,
          386.0520000000072,
          415.5956464088526,
          446.1613494505268,
          452.3659999999964,
          470.97999999999774,
          485.6450000000004,
          482.9580000000031,
          511.4850000000072,
          538.9240000000057,
          555.5480000000003,
          584.750999999999,
          584.750999999999,
          590.9620000000051,
          619.6343259668384,
          648.20138241759,
          658.4110000000018,
          683.3990000000043,
          676.9129999999882,
          615.1140000000031,
          616.6609999999961,
          619.6869999999969,
          601.9850000000043,
          650.0030000000002,
          647.3819999999989,
          628.607999999999,
          631.4969999999988,
          595.9359999999974,
          595.9359999999974,
          599.2859999999988,
          573.9669999999977,
          603.8423934065978,
          625.3790000000002,
          610.3750000000063,
          661.3152596685914,
          744.7370945054541,
          747.8489999999988,
          772.1579999999988,
          836.0390000000044,
          807.2719999999962,
          847.5919999999962,
          879.9660000000031,
          918.3870000000036,
          1029.6430000000018,
          1040.481799999966,
          1071.3769999999477,
          1049.9240000000289,
          1121.222501098958,
          1133.0530000000017,
          1155.5710000000017,
          1227.8101491713103,
          1258.593000000056,
          1258.593000000056,
          1288.0789999999474,
          1262.7169999999476,
          1168.767999999961,
          1241.9230000000425,
          1213.2250000000017,
          1192.1710000000423,
          1146.3278863387734,
          1142.8400000000288,
          1160.6020000000017,
          899.1169999999961,
          1126.5649999999473,
          1126.5649999999473,
          1286.1340000000014,
          1376.9171160221617,
          1428.2950000000424,
          1422.987000000056,
          1571.136000000056,
          1586.412000000015,
          1435.0309999999474,
          1557.7260000000558,
          1615.8710000000287,
          1718.0289999999611,
          1758.696000000056,
          1718.7357999999704,
          1705.3049999999746,
          1699.1629999999473,
          1700.1050000001105,
          1703.3249999999746,
          1720.4400000000153,
          1751.4900000000152,
          1652.6419999999475,
          1801.7719999999474,
          1889.0230000000422,
          1871.653000000043,
          1810.3059538461143,
          1799.5999999999883,
          1780.2889999999475,
          1701.4930000000018,
          1777.4759999999744,
          1733.1289999999476,
          1754.7840000000153,
          1838.8623867402978,
          1911.3610000000424,
          1896.912999999961,
          1927.0010000000289,
          1997.2319558011584,
          2047.3853516482648,
          2070.9540000000147,
          2071.996999999947,
          2111.8254143646154,
          2145.7003186813063,
          2160.738999999961,
          2204.8729999999473,
          2197.5500000000284,
          1918.1302797815335,
          1821.9240000000152,
          2407.4019999999605,
          2175.003999999961,
          2578.8398989011775,
          2679.3709999999473,
          2660.598000000015,
          2617.8074419888453,
          2566.2589999999477,
          2728.055999999974,
          2845.6960000000417,
          2800.1349999999748,
          2796.8260000000423,
          2835.5460000000558,
          2953.0390000000425,
          3101.8340000000285,
          3036.7019999999743,
          3141.5569999999475,
          3128.499999999961
         ],
         "yaxis": "y"
        }
       ],
       "layout": {
        "legend": {
         "orientation": "h",
         "title": {
          "text": ""
         },
         "tracegroupgap": 0,
         "x": 0.5,
         "xanchor": "center",
         "y": -0.2,
         "yanchor": "bottom"
        },
        "margin": {
         "t": 60
        },
        "template": {
         "data": {
          "bar": [
           {
            "error_x": {
             "color": "#2a3f5f"
            },
            "error_y": {
             "color": "#2a3f5f"
            },
            "marker": {
             "line": {
              "color": "#E5ECF6",
              "width": 0.5
             },
             "pattern": {
              "fillmode": "overlay",
              "size": 10,
              "solidity": 0.2
             }
            },
            "type": "bar"
           }
          ],
          "barpolar": [
           {
            "marker": {
             "line": {
              "color": "#E5ECF6",
              "width": 0.5
             },
             "pattern": {
              "fillmode": "overlay",
              "size": 10,
              "solidity": 0.2
             }
            },
            "type": "barpolar"
           }
          ],
          "carpet": [
           {
            "aaxis": {
             "endlinecolor": "#2a3f5f",
             "gridcolor": "white",
             "linecolor": "white",
             "minorgridcolor": "white",
             "startlinecolor": "#2a3f5f"
            },
            "baxis": {
             "endlinecolor": "#2a3f5f",
             "gridcolor": "white",
             "linecolor": "white",
             "minorgridcolor": "white",
             "startlinecolor": "#2a3f5f"
            },
            "type": "carpet"
           }
          ],
          "choropleth": [
           {
            "colorbar": {
             "outlinewidth": 0,
             "ticks": ""
            },
            "type": "choropleth"
           }
          ],
          "contour": [
           {
            "colorbar": {
             "outlinewidth": 0,
             "ticks": ""
            },
            "colorscale": [
             [
              0,
              "#0d0887"
             ],
             [
              0.1111111111111111,
              "#46039f"
             ],
             [
              0.2222222222222222,
              "#7201a8"
             ],
             [
              0.3333333333333333,
              "#9c179e"
             ],
             [
              0.4444444444444444,
              "#bd3786"
             ],
             [
              0.5555555555555556,
              "#d8576b"
             ],
             [
              0.6666666666666666,
              "#ed7953"
             ],
             [
              0.7777777777777778,
              "#fb9f3a"
             ],
             [
              0.8888888888888888,
              "#fdca26"
             ],
             [
              1,
              "#f0f921"
             ]
            ],
            "type": "contour"
           }
          ],
          "contourcarpet": [
           {
            "colorbar": {
             "outlinewidth": 0,
             "ticks": ""
            },
            "type": "contourcarpet"
           }
          ],
          "heatmap": [
           {
            "colorbar": {
             "outlinewidth": 0,
             "ticks": ""
            },
            "colorscale": [
             [
              0,
              "#0d0887"
             ],
             [
              0.1111111111111111,
              "#46039f"
             ],
             [
              0.2222222222222222,
              "#7201a8"
             ],
             [
              0.3333333333333333,
              "#9c179e"
             ],
             [
              0.4444444444444444,
              "#bd3786"
             ],
             [
              0.5555555555555556,
              "#d8576b"
             ],
             [
              0.6666666666666666,
              "#ed7953"
             ],
             [
              0.7777777777777778,
              "#fb9f3a"
             ],
             [
              0.8888888888888888,
              "#fdca26"
             ],
             [
              1,
              "#f0f921"
             ]
            ],
            "type": "heatmap"
           }
          ],
          "heatmapgl": [
           {
            "colorbar": {
             "outlinewidth": 0,
             "ticks": ""
            },
            "colorscale": [
             [
              0,
              "#0d0887"
             ],
             [
              0.1111111111111111,
              "#46039f"
             ],
             [
              0.2222222222222222,
              "#7201a8"
             ],
             [
              0.3333333333333333,
              "#9c179e"
             ],
             [
              0.4444444444444444,
              "#bd3786"
             ],
             [
              0.5555555555555556,
              "#d8576b"
             ],
             [
              0.6666666666666666,
              "#ed7953"
             ],
             [
              0.7777777777777778,
              "#fb9f3a"
             ],
             [
              0.8888888888888888,
              "#fdca26"
             ],
             [
              1,
              "#f0f921"
             ]
            ],
            "type": "heatmapgl"
           }
          ],
          "histogram": [
           {
            "marker": {
             "pattern": {
              "fillmode": "overlay",
              "size": 10,
              "solidity": 0.2
             }
            },
            "type": "histogram"
           }
          ],
          "histogram2d": [
           {
            "colorbar": {
             "outlinewidth": 0,
             "ticks": ""
            },
            "colorscale": [
             [
              0,
              "#0d0887"
             ],
             [
              0.1111111111111111,
              "#46039f"
             ],
             [
              0.2222222222222222,
              "#7201a8"
             ],
             [
              0.3333333333333333,
              "#9c179e"
             ],
             [
              0.4444444444444444,
              "#bd3786"
             ],
             [
              0.5555555555555556,
              "#d8576b"
             ],
             [
              0.6666666666666666,
              "#ed7953"
             ],
             [
              0.7777777777777778,
              "#fb9f3a"
             ],
             [
              0.8888888888888888,
              "#fdca26"
             ],
             [
              1,
              "#f0f921"
             ]
            ],
            "type": "histogram2d"
           }
          ],
          "histogram2dcontour": [
           {
            "colorbar": {
             "outlinewidth": 0,
             "ticks": ""
            },
            "colorscale": [
             [
              0,
              "#0d0887"
             ],
             [
              0.1111111111111111,
              "#46039f"
             ],
             [
              0.2222222222222222,
              "#7201a8"
             ],
             [
              0.3333333333333333,
              "#9c179e"
             ],
             [
              0.4444444444444444,
              "#bd3786"
             ],
             [
              0.5555555555555556,
              "#d8576b"
             ],
             [
              0.6666666666666666,
              "#ed7953"
             ],
             [
              0.7777777777777778,
              "#fb9f3a"
             ],
             [
              0.8888888888888888,
              "#fdca26"
             ],
             [
              1,
              "#f0f921"
             ]
            ],
            "type": "histogram2dcontour"
           }
          ],
          "mesh3d": [
           {
            "colorbar": {
             "outlinewidth": 0,
             "ticks": ""
            },
            "type": "mesh3d"
           }
          ],
          "parcoords": [
           {
            "line": {
             "colorbar": {
              "outlinewidth": 0,
              "ticks": ""
             }
            },
            "type": "parcoords"
           }
          ],
          "pie": [
           {
            "automargin": true,
            "type": "pie"
           }
          ],
          "scatter": [
           {
            "fillpattern": {
             "fillmode": "overlay",
             "size": 10,
             "solidity": 0.2
            },
            "type": "scatter"
           }
          ],
          "scatter3d": [
           {
            "line": {
             "colorbar": {
              "outlinewidth": 0,
              "ticks": ""
             }
            },
            "marker": {
             "colorbar": {
              "outlinewidth": 0,
              "ticks": ""
             }
            },
            "type": "scatter3d"
           }
          ],
          "scattercarpet": [
           {
            "marker": {
             "colorbar": {
              "outlinewidth": 0,
              "ticks": ""
             }
            },
            "type": "scattercarpet"
           }
          ],
          "scattergeo": [
           {
            "marker": {
             "colorbar": {
              "outlinewidth": 0,
              "ticks": ""
             }
            },
            "type": "scattergeo"
           }
          ],
          "scattergl": [
           {
            "marker": {
             "colorbar": {
              "outlinewidth": 0,
              "ticks": ""
             }
            },
            "type": "scattergl"
           }
          ],
          "scattermapbox": [
           {
            "marker": {
             "colorbar": {
              "outlinewidth": 0,
              "ticks": ""
             }
            },
            "type": "scattermapbox"
           }
          ],
          "scatterpolar": [
           {
            "marker": {
             "colorbar": {
              "outlinewidth": 0,
              "ticks": ""
             }
            },
            "type": "scatterpolar"
           }
          ],
          "scatterpolargl": [
           {
            "marker": {
             "colorbar": {
              "outlinewidth": 0,
              "ticks": ""
             }
            },
            "type": "scatterpolargl"
           }
          ],
          "scatterternary": [
           {
            "marker": {
             "colorbar": {
              "outlinewidth": 0,
              "ticks": ""
             }
            },
            "type": "scatterternary"
           }
          ],
          "surface": [
           {
            "colorbar": {
             "outlinewidth": 0,
             "ticks": ""
            },
            "colorscale": [
             [
              0,
              "#0d0887"
             ],
             [
              0.1111111111111111,
              "#46039f"
             ],
             [
              0.2222222222222222,
              "#7201a8"
             ],
             [
              0.3333333333333333,
              "#9c179e"
             ],
             [
              0.4444444444444444,
              "#bd3786"
             ],
             [
              0.5555555555555556,
              "#d8576b"
             ],
             [
              0.6666666666666666,
              "#ed7953"
             ],
             [
              0.7777777777777778,
              "#fb9f3a"
             ],
             [
              0.8888888888888888,
              "#fdca26"
             ],
             [
              1,
              "#f0f921"
             ]
            ],
            "type": "surface"
           }
          ],
          "table": [
           {
            "cells": {
             "fill": {
              "color": "#EBF0F8"
             },
             "line": {
              "color": "white"
             }
            },
            "header": {
             "fill": {
              "color": "#C8D4E3"
             },
             "line": {
              "color": "white"
             }
            },
            "type": "table"
           }
          ]
         },
         "layout": {
          "annotationdefaults": {
           "arrowcolor": "#2a3f5f",
           "arrowhead": 0,
           "arrowwidth": 1
          },
          "autotypenumbers": "strict",
          "coloraxis": {
           "colorbar": {
            "outlinewidth": 0,
            "ticks": ""
           }
          },
          "colorscale": {
           "diverging": [
            [
             0,
             "#8e0152"
            ],
            [
             0.1,
             "#c51b7d"
            ],
            [
             0.2,
             "#de77ae"
            ],
            [
             0.3,
             "#f1b6da"
            ],
            [
             0.4,
             "#fde0ef"
            ],
            [
             0.5,
             "#f7f7f7"
            ],
            [
             0.6,
             "#e6f5d0"
            ],
            [
             0.7,
             "#b8e186"
            ],
            [
             0.8,
             "#7fbc41"
            ],
            [
             0.9,
             "#4d9221"
            ],
            [
             1,
             "#276419"
            ]
           ],
           "sequential": [
            [
             0,
             "#0d0887"
            ],
            [
             0.1111111111111111,
             "#46039f"
            ],
            [
             0.2222222222222222,
             "#7201a8"
            ],
            [
             0.3333333333333333,
             "#9c179e"
            ],
            [
             0.4444444444444444,
             "#bd3786"
            ],
            [
             0.5555555555555556,
             "#d8576b"
            ],
            [
             0.6666666666666666,
             "#ed7953"
            ],
            [
             0.7777777777777778,
             "#fb9f3a"
            ],
            [
             0.8888888888888888,
             "#fdca26"
            ],
            [
             1,
             "#f0f921"
            ]
           ],
           "sequentialminus": [
            [
             0,
             "#0d0887"
            ],
            [
             0.1111111111111111,
             "#46039f"
            ],
            [
             0.2222222222222222,
             "#7201a8"
            ],
            [
             0.3333333333333333,
             "#9c179e"
            ],
            [
             0.4444444444444444,
             "#bd3786"
            ],
            [
             0.5555555555555556,
             "#d8576b"
            ],
            [
             0.6666666666666666,
             "#ed7953"
            ],
            [
             0.7777777777777778,
             "#fb9f3a"
            ],
            [
             0.8888888888888888,
             "#fdca26"
            ],
            [
             1,
             "#f0f921"
            ]
           ]
          },
          "colorway": [
           "#636efa",
           "#EF553B",
           "#00cc96",
           "#ab63fa",
           "#FFA15A",
           "#19d3f3",
           "#FF6692",
           "#B6E880",
           "#FF97FF",
           "#FECB52"
          ],
          "font": {
           "color": "#2a3f5f"
          },
          "geo": {
           "bgcolor": "white",
           "lakecolor": "white",
           "landcolor": "#E5ECF6",
           "showlakes": true,
           "showland": true,
           "subunitcolor": "white"
          },
          "hoverlabel": {
           "align": "left"
          },
          "hovermode": "closest",
          "mapbox": {
           "style": "light"
          },
          "paper_bgcolor": "white",
          "plot_bgcolor": "#E5ECF6",
          "polar": {
           "angularaxis": {
            "gridcolor": "white",
            "linecolor": "white",
            "ticks": ""
           },
           "bgcolor": "#E5ECF6",
           "radialaxis": {
            "gridcolor": "white",
            "linecolor": "white",
            "ticks": ""
           }
          },
          "scene": {
           "xaxis": {
            "backgroundcolor": "#E5ECF6",
            "gridcolor": "white",
            "gridwidth": 2,
            "linecolor": "white",
            "showbackground": true,
            "ticks": "",
            "zerolinecolor": "white"
           },
           "yaxis": {
            "backgroundcolor": "#E5ECF6",
            "gridcolor": "white",
            "gridwidth": 2,
            "linecolor": "white",
            "showbackground": true,
            "ticks": "",
            "zerolinecolor": "white"
           },
           "zaxis": {
            "backgroundcolor": "#E5ECF6",
            "gridcolor": "white",
            "gridwidth": 2,
            "linecolor": "white",
            "showbackground": true,
            "ticks": "",
            "zerolinecolor": "white"
           }
          },
          "shapedefaults": {
           "line": {
            "color": "#2a3f5f"
           }
          },
          "ternary": {
           "aaxis": {
            "gridcolor": "white",
            "linecolor": "white",
            "ticks": ""
           },
           "baxis": {
            "gridcolor": "white",
            "linecolor": "white",
            "ticks": ""
           },
           "bgcolor": "#E5ECF6",
           "caxis": {
            "gridcolor": "white",
            "linecolor": "white",
            "ticks": ""
           }
          },
          "title": {
           "x": 0.05
          },
          "xaxis": {
           "automargin": true,
           "gridcolor": "white",
           "linecolor": "white",
           "ticks": "",
           "title": {
            "standoff": 15
           },
           "zerolinecolor": "white",
           "zerolinewidth": 2
          },
          "yaxis": {
           "automargin": true,
           "gridcolor": "white",
           "linecolor": "white",
           "ticks": "",
           "title": {
            "standoff": 15
           },
           "zerolinecolor": "white",
           "zerolinewidth": 2
          }
         }
        },
        "title": {
         "text": "United states: United states corporate profits"
        },
        "xaxis": {
         "anchor": "y",
         "domain": [
          0,
          1
         ],
         "title": {
          "text": ""
         }
        },
        "yaxis": {
         "anchor": "x",
         "domain": [
          0,
          1
         ],
         "title": {
          "text": "Usd billion"
         }
        }
       }
      }
     },
     "metadata": {},
     "output_type": "display_data"
    }
   ],
   "source": [
    "scr.plot_series() ## Plot the series."
   ]
  }
 ],
 "metadata": {
  "kernelspec": {
   "display_name": "bm",
   "language": "python",
   "name": "python3"
  },
  "language_info": {
   "codemirror_mode": {
    "name": "ipython",
    "version": 3
   },
   "file_extension": ".py",
   "mimetype": "text/x-python",
   "name": "python",
   "nbconvert_exporter": "python",
   "pygments_lexer": "ipython3",
   "version": "3.11.11"
  }
 },
 "nbformat": 4,
 "nbformat_minor": 2
}
